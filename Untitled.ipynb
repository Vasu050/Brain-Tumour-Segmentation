{
  "cells": [
    {
      "cell_type": "markdown",
      "metadata": {
        "id": "view-in-github",
        "colab_type": "text"
      },
      "source": [
        "<a href=\"https://colab.research.google.com/github/Vasu050/Brain-Tumour-Segmentation/blob/main/Untitled.ipynb\" target=\"_parent\"><img src=\"https://colab.research.google.com/assets/colab-badge.svg\" alt=\"Open In Colab\"/></a>"
      ]
    },
    {
      "cell_type": "code",
      "execution_count": null,
      "metadata": {
        "colab": {
          "base_uri": "https://localhost:8080/",
          "height": 84,
          "referenced_widgets": [
            "9069b161b38a4d0f993febea44b1e788",
            "19010552d45b4b17b04d5b85ff4e580d",
            "152a1c7fd2074fb58fb1c53a0542e90d",
            "22a164d00902483a88d9799bdd880bec",
            "308438491b904a18933783ad5623e270"
          ]
        },
        "id": "aJiNVPlnIPQO",
        "outputId": "7e1c1790-add0-4f9b-b351-aa4a1dae039f"
      },
      "outputs": [
        {
          "data": {
            "application/vnd.jupyter.widget-view+json": {
              "model_id": "9069b161b38a4d0f993febea44b1e788",
              "version_major": 2,
              "version_minor": 0
            },
            "text/plain": [
              "VBox(children=(HTML(value='<center> <img\\nsrc=https://www.kaggle.com/static/images/site-logo.png\\nalt=\\'Kaggle…"
            ]
          },
          "metadata": {},
          "output_type": "display_data"
        },
        {
          "name": "stdout",
          "output_type": "stream",
          "text": [
            "Kaggle credentials set.\n",
            "Kaggle credentials successfully validated.\n"
          ]
        }
      ],
      "source": [
        "import kagglehub\n",
        "kagglehub.login()\n"
      ]
    },
    {
      "cell_type": "code",
      "execution_count": null,
      "metadata": {
        "colab": {
          "base_uri": "https://localhost:8080/"
        },
        "id": "OnzmoL4nH6Fe",
        "outputId": "fce98e3f-7463-4717-9c04-36ea38980fe0"
      },
      "outputs": [
        {
          "name": "stdout",
          "output_type": "stream",
          "text": [
            "Downloading from https://www.kaggle.com/api/v1/datasets/download/animelover72/monai-offline?dataset_version_number=1...\n"
          ]
        },
        {
          "name": "stderr",
          "output_type": "stream",
          "text": [
            "100%|██████████| 959M/959M [00:13<00:00, 73.6MB/s]"
          ]
        },
        {
          "name": "stdout",
          "output_type": "stream",
          "text": [
            "Extracting files...\n"
          ]
        },
        {
          "name": "stderr",
          "output_type": "stream",
          "text": [
            "\n"
          ]
        },
        {
          "name": "stdout",
          "output_type": "stream",
          "text": [
            "Data source import complete.\n"
          ]
        }
      ],
      "source": [
        "\n",
        " !pip install -q nibabel\n",
        "# If you were planning to use MONAI offline install:\n",
        "# !pip install -q /kaggle/input/monai-offline/monai-1.1.0-202212191849-py3-none-any.whl\n",
        "\n",
        "# --- Dataset Download (if using Kaggle Hub) ---\n",
        "# Make sure these paths match where Kaggle puts the data, usually /kaggle/input/\n",
        " import kagglehub\n",
        " awsaf49_brats20_dataset_training_validation_path = kagglehub.dataset_download('awsaf49/brats20-dataset-training-validation')\n",
        " animelover72_monai_offline_path = kagglehub.dataset_download('animelover72/monai-offline') # Still unused in this script\n",
        " print('Data source import complete.')\n"
      ]
    },
    {
      "cell_type": "code",
      "execution_count": null,
      "metadata": {
        "id": "6gUGKkh7H2ZX"
      },
      "outputs": [],
      "source": [
        "import os\n",
        "import gc\n",
        "import random\n",
        "import numpy as np\n",
        "import nibabel as nib\n",
        "from tqdm.notebook import tqdm # Use notebook tqdm for better display in Kaggle\n",
        "from pathlib import Path\n",
        "import matplotlib.pyplot as plt\n",
        "\n",
        "import torch\n",
        "import torch.nn as nn\n",
        "import torch.optim as optim\n",
        "from torch.utils.data import Dataset, DataLoader"
      ]
    },
    {
      "cell_type": "code",
      "execution_count": null,
      "metadata": {
        "colab": {
          "base_uri": "https://localhost:8080/"
        },
        "id": "SL3DTcpfIw8s",
        "outputId": "905696be-efdc-495f-87f2-c6babadbb337"
      },
      "outputs": [
        {
          "name": "stdout",
          "output_type": "stream",
          "text": [
            "Using device: cpu\n"
          ]
        }
      ],
      "source": [
        "\n",
        "# --- Configuration ---\n",
        "BASE_TRAIN_PATH = Path(\"/kaggle/input/brats20-dataset-training-validation/BraTS2020_TrainingData/MICCAI_BraTS2020_TrainingData\")\n",
        "BASE_VAL_PATH = Path(\"/kaggle/input/brats20-dataset-training-validation/BraTS2020_ValidationData/MICCAI_BraTS2020_ValidationData\") # Adjust if validation data is elsewhere\n",
        "\n",
        "PROCESSED_TRAIN_DIR = Path(\"/kaggle/working/processed_train_data\")\n",
        "PROCESSED_VAL_DIR = Path(\"/kaggle/working/processed_val_data\")\n",
        "MODEL_SAVE_PATH = Path(\"/kaggle/working/unet3d_brats.pth\")\n",
        "\n",
        "MODALITIES = ['flair', 't1', 't1ce', 't2']\n",
        "CROP_SIZE = (128, 128, 128) # Increased crop size for better context, adjust based on memory\n",
        "# CROP_SIZE = (64, 64, 64) # Original size if 128x128x128 causes memory issues\n",
        "BATCH_SIZE = 1 # Keep batch size 1 if full volumes/large crops are used\n",
        "CHUNK_SIZE = 20 # Process N patients before clearing memory\n",
        "TOTAL_EPOCHS = 1 # Number of full passes over the entire dataset\n",
        "LEARNING_RATE = 1e-4\n",
        "DEVICE = torch.device('cuda' if torch.cuda.is_available() else 'cpu')\n",
        "\n",
        "print(f\"Using device: {DEVICE}\")\n",
        "os.makedirs(\"/kaggle/working\", exist_ok=True)\n",
        "# Create output directories\n",
        "PROCESSED_TRAIN_DIR.mkdir(exist_ok=True)\n",
        "PROCESSED_VAL_DIR.mkdir(exist_ok=True)"
      ]
    },
    {
      "cell_type": "code",
      "execution_count": null,
      "metadata": {
        "id": "3_O1ZHDNJyBE"
      },
      "outputs": [],
      "source": [
        "\n",
        "\n",
        "# --- Helper Functions ---\n",
        "def normalize(volume):\n",
        "    \"\"\"Normalize the volume\"\"\"\n",
        "    mask = volume > 0 # Avoid normalizing background\n",
        "    if np.sum(mask) > 0:\n",
        "      mean = np.mean(volume[mask])\n",
        "      std = np.std(volume[mask])\n",
        "      if std > 1e-5: # Avoid division by zero or near-zero std\n",
        "          volume = (volume - mean) / std\n",
        "      # else: volume remains unchanged (or set to zero if preferred)\n",
        "    # Clip extreme values after normalization if desired\n",
        "    # volume = np.clip(volume, -5, 5)\n",
        "    return volume"
      ]
    },
    {
      "cell_type": "code",
      "execution_count": null,
      "metadata": {
        "id": "_we3BKspJ5Q-"
      },
      "outputs": [],
      "source": [
        "def preprocess_and_save(base_path, save_dir, modalities, is_train=True):\n",
        "    \"\"\"Loads NIfTI files, preprocesses, and saves as .npz\"\"\"\n",
        "    print(f\"Processing data from: {base_path}\")\n",
        "    patient_dirs = sorted([d for d in base_path.iterdir() if d.is_dir()])\n",
        "\n",
        "    for patient_dir in tqdm(patient_dirs, desc=f\"Preprocessing {'Train' if is_train else 'Validation'}\"):\n",
        "        patient_id = patient_dir.name\n",
        "        try:\n",
        "            volumes = []\n",
        "            # Load modalities\n",
        "            for mod in modalities:\n",
        "                nii_path = patient_dir / f\"{patient_id}_{mod}.nii\"\n",
        "                if not nii_path.exists():\n",
        "                     # Try .nii.gz extension as well\n",
        "                     nii_path = patient_dir / f\"{patient_id}_{mod}.nii.gz\"\n",
        "                     if not nii_path.exists():\n",
        "                       raise FileNotFoundError(f\"Missing modality {mod} for {patient_id}\")\n",
        "\n",
        "                img_nii = nib.load(str(nii_path))\n",
        "                img_data = img_nii.get_fdata().astype(np.float32)\n",
        "\n",
        "                # !! Crucial: Transpose to (Depth, Height, Width) !!\n",
        "                img_data = np.transpose(img_data, (2, 0, 1))\n",
        "                img_data = normalize(img_data)\n",
        "                volumes.append(img_data)\n",
        "\n",
        "            input_stack = np.stack(volumes) # Shape: (C, D, H, W)\n",
        "\n",
        "            # Load segmentation mask (handle missing seg for validation if needed)\n",
        "            seg_path = patient_dir / f\"{patient_id}_seg.nii\"\n",
        "            if not seg_path.exists():\n",
        "                 seg_path = patient_dir / f\"{patient_id}_seg.nii.gz\"\n",
        "\n",
        "            if seg_path.exists():\n",
        "                seg_nii = nib.load(str(seg_path))\n",
        "                seg_data = seg_nii.get_fdata().astype(np.uint8)\n",
        "                seg_data = np.transpose(seg_data, (2, 0, 1)) # (D, H, W)\n",
        "                # !! Convert to Binary Mask (Tumor=1, Background=0) !!\n",
        "                label = (seg_data > 0).astype(np.uint8)\n",
        "            elif is_train:\n",
        "                 # Training data MUST have segmentation\n",
        "                 raise FileNotFoundError(f\"Missing segmentation for training case {patient_id}\")\n",
        "            else:\n",
        "                 # For validation/test, if seg is missing, create dummy zeros\n",
        "                 print(f\"Segmentation not found for {patient_id}. Creating zero mask.\")\n",
        "                 label = np.zeros(input_stack.shape[1:], dtype=np.uint8) # (D, H, W)\n",
        "\n",
        "\n",
        "            # Save to .npz file\n",
        "            output_path = save_dir / f\"{patient_id}.npz\"\n",
        "            np.savez_compressed(output_path, input=input_stack, label=label)\n",
        "\n",
        "            # Free memory\n",
        "            del volumes, input_stack, label, img_nii, seg_nii, img_data, seg_data\n",
        "            gc.collect()\n",
        "\n",
        "        except Exception as e:\n",
        "            print(f\"Skipping {patient_id} due to error: {e}\")\n"
      ]
    },
    {
      "cell_type": "code",
      "execution_count": null,
      "metadata": {
        "colab": {
          "background_save": true,
          "base_uri": "https://localhost:8080/",
          "height": 1000,
          "referenced_widgets": [
            "f42de9a7a6f9471aa68045146dc17ba9",
            "e85b4bd9fc1e46bca0c2159f2cf1aa1b",
            "de3a30350e1048be8f80dd8660109f53",
            "8e5834d8d3d34ea6885dfaf0fe0d1dc3",
            "604fc7aed078436098085d69f2389a04",
            "e7fe3025956d4cd1b4145442ad530a12",
            "8e10f78dd19c4f03a58fe841ff5a4217",
            "d7bd7aa2cb6042dbbccbcd7b955712da",
            "63ac9cf9d1a94ffe8e6ea6edf6e571ae",
            "a005453794b14b15bc26abc9ed66fe8e",
            "cb5721bededa4f5da196a2c6c5d0dd35",
            "59141234047044879cd6495287185218",
            "e2c97d273205453db2f8b12b6f89eefa",
            "8beafe6c739a4a37b04dc3b99166e1c3",
            "4cd3e435bf914c5a93d2cac53f35a237",
            "0784fcde2de94e288afd3e8be1d956a3",
            "7f0db93f77ef47929a617f2826bc8171",
            "3ebf0fdeebb04bfb871e3ce64ffebcec",
            "8cf19717c6074796bdc7ee4e9425f108",
            "5719eb7a93bb41739ebe5a94a78625ef",
            "75cd1b520ca14470b616c4ba3820b9dd",
            "4d47df6d6b254f6bb0ed5e64c689cf76"
          ]
        },
        "id": "BhDmd0ynJ9d9",
        "outputId": "857b610d-03e6-4fb5-9f54-bc7fa13a2a07"
      },
      "outputs": [
        {
          "name": "stdout",
          "output_type": "stream",
          "text": [
            "Processing data from: /kaggle/input/brats20-dataset-training-validation/BraTS2020_TrainingData/MICCAI_BraTS2020_TrainingData\n"
          ]
        },
        {
          "data": {
            "application/vnd.jupyter.widget-view+json": {
              "model_id": "f42de9a7a6f9471aa68045146dc17ba9",
              "version_major": 2,
              "version_minor": 0
            },
            "text/plain": [
              "Preprocessing Train:   0%|          | 0/369 [00:00<?, ?it/s]"
            ]
          },
          "metadata": {},
          "output_type": "display_data"
        },
        {
          "name": "stdout",
          "output_type": "stream",
          "text": [
            "Skipping BraTS20_Training_355 due to error: Missing segmentation for training case BraTS20_Training_355\n",
            "Processing data from: /kaggle/input/brats20-dataset-training-validation/BraTS2020_ValidationData/MICCAI_BraTS2020_ValidationData\n"
          ]
        },
        {
          "data": {
            "application/vnd.jupyter.widget-view+json": {
              "model_id": "59141234047044879cd6495287185218",
              "version_major": 2,
              "version_minor": 0
            },
            "text/plain": [
              "Preprocessing Validation:   0%|          | 0/125 [00:00<?, ?it/s]"
            ]
          },
          "metadata": {},
          "output_type": "display_data"
        },
        {
          "name": "stdout",
          "output_type": "stream",
          "text": [
            "Segmentation not found for BraTS20_Validation_001. Creating zero mask.\n",
            "Skipping BraTS20_Validation_001 due to error: cannot access local variable 'seg_nii' where it is not associated with a value\n",
            "Segmentation not found for BraTS20_Validation_002. Creating zero mask.\n",
            "Skipping BraTS20_Validation_002 due to error: cannot access local variable 'seg_nii' where it is not associated with a value\n",
            "Segmentation not found for BraTS20_Validation_003. Creating zero mask.\n",
            "Skipping BraTS20_Validation_003 due to error: cannot access local variable 'seg_nii' where it is not associated with a value\n",
            "Segmentation not found for BraTS20_Validation_004. Creating zero mask.\n",
            "Skipping BraTS20_Validation_004 due to error: cannot access local variable 'seg_nii' where it is not associated with a value\n",
            "Segmentation not found for BraTS20_Validation_005. Creating zero mask.\n",
            "Skipping BraTS20_Validation_005 due to error: cannot access local variable 'seg_nii' where it is not associated with a value\n",
            "Segmentation not found for BraTS20_Validation_006. Creating zero mask.\n",
            "Skipping BraTS20_Validation_006 due to error: cannot access local variable 'seg_nii' where it is not associated with a value\n",
            "Segmentation not found for BraTS20_Validation_007. Creating zero mask.\n",
            "Skipping BraTS20_Validation_007 due to error: cannot access local variable 'seg_nii' where it is not associated with a value\n",
            "Segmentation not found for BraTS20_Validation_008. Creating zero mask.\n",
            "Skipping BraTS20_Validation_008 due to error: cannot access local variable 'seg_nii' where it is not associated with a value\n",
            "Segmentation not found for BraTS20_Validation_009. Creating zero mask.\n",
            "Skipping BraTS20_Validation_009 due to error: cannot access local variable 'seg_nii' where it is not associated with a value\n",
            "Segmentation not found for BraTS20_Validation_010. Creating zero mask.\n",
            "Skipping BraTS20_Validation_010 due to error: cannot access local variable 'seg_nii' where it is not associated with a value\n",
            "Segmentation not found for BraTS20_Validation_011. Creating zero mask.\n",
            "Skipping BraTS20_Validation_011 due to error: cannot access local variable 'seg_nii' where it is not associated with a value\n",
            "Segmentation not found for BraTS20_Validation_012. Creating zero mask.\n",
            "Skipping BraTS20_Validation_012 due to error: cannot access local variable 'seg_nii' where it is not associated with a value\n",
            "Segmentation not found for BraTS20_Validation_013. Creating zero mask.\n",
            "Skipping BraTS20_Validation_013 due to error: cannot access local variable 'seg_nii' where it is not associated with a value\n",
            "Segmentation not found for BraTS20_Validation_014. Creating zero mask.\n",
            "Skipping BraTS20_Validation_014 due to error: cannot access local variable 'seg_nii' where it is not associated with a value\n",
            "Segmentation not found for BraTS20_Validation_015. Creating zero mask.\n",
            "Skipping BraTS20_Validation_015 due to error: cannot access local variable 'seg_nii' where it is not associated with a value\n",
            "Segmentation not found for BraTS20_Validation_016. Creating zero mask.\n",
            "Skipping BraTS20_Validation_016 due to error: cannot access local variable 'seg_nii' where it is not associated with a value\n",
            "Segmentation not found for BraTS20_Validation_017. Creating zero mask.\n",
            "Skipping BraTS20_Validation_017 due to error: cannot access local variable 'seg_nii' where it is not associated with a value\n",
            "Segmentation not found for BraTS20_Validation_018. Creating zero mask.\n",
            "Skipping BraTS20_Validation_018 due to error: cannot access local variable 'seg_nii' where it is not associated with a value\n",
            "Segmentation not found for BraTS20_Validation_019. Creating zero mask.\n",
            "Skipping BraTS20_Validation_019 due to error: cannot access local variable 'seg_nii' where it is not associated with a value\n",
            "Segmentation not found for BraTS20_Validation_020. Creating zero mask.\n",
            "Skipping BraTS20_Validation_020 due to error: cannot access local variable 'seg_nii' where it is not associated with a value\n",
            "Segmentation not found for BraTS20_Validation_021. Creating zero mask.\n",
            "Skipping BraTS20_Validation_021 due to error: cannot access local variable 'seg_nii' where it is not associated with a value\n",
            "Segmentation not found for BraTS20_Validation_022. Creating zero mask.\n",
            "Skipping BraTS20_Validation_022 due to error: cannot access local variable 'seg_nii' where it is not associated with a value\n",
            "Segmentation not found for BraTS20_Validation_023. Creating zero mask.\n",
            "Skipping BraTS20_Validation_023 due to error: cannot access local variable 'seg_nii' where it is not associated with a value\n",
            "Segmentation not found for BraTS20_Validation_024. Creating zero mask.\n",
            "Skipping BraTS20_Validation_024 due to error: cannot access local variable 'seg_nii' where it is not associated with a value\n",
            "Segmentation not found for BraTS20_Validation_025. Creating zero mask.\n",
            "Skipping BraTS20_Validation_025 due to error: cannot access local variable 'seg_nii' where it is not associated with a value\n",
            "Segmentation not found for BraTS20_Validation_026. Creating zero mask.\n",
            "Skipping BraTS20_Validation_026 due to error: cannot access local variable 'seg_nii' where it is not associated with a value\n",
            "Segmentation not found for BraTS20_Validation_027. Creating zero mask.\n",
            "Skipping BraTS20_Validation_027 due to error: cannot access local variable 'seg_nii' where it is not associated with a value\n",
            "Segmentation not found for BraTS20_Validation_028. Creating zero mask.\n",
            "Skipping BraTS20_Validation_028 due to error: cannot access local variable 'seg_nii' where it is not associated with a value\n",
            "Segmentation not found for BraTS20_Validation_029. Creating zero mask.\n",
            "Skipping BraTS20_Validation_029 due to error: cannot access local variable 'seg_nii' where it is not associated with a value\n",
            "Segmentation not found for BraTS20_Validation_030. Creating zero mask.\n",
            "Skipping BraTS20_Validation_030 due to error: cannot access local variable 'seg_nii' where it is not associated with a value\n",
            "Segmentation not found for BraTS20_Validation_031. Creating zero mask.\n",
            "Skipping BraTS20_Validation_031 due to error: cannot access local variable 'seg_nii' where it is not associated with a value\n",
            "Segmentation not found for BraTS20_Validation_032. Creating zero mask.\n",
            "Skipping BraTS20_Validation_032 due to error: cannot access local variable 'seg_nii' where it is not associated with a value\n",
            "Segmentation not found for BraTS20_Validation_033. Creating zero mask.\n",
            "Skipping BraTS20_Validation_033 due to error: cannot access local variable 'seg_nii' where it is not associated with a value\n",
            "Segmentation not found for BraTS20_Validation_034. Creating zero mask.\n",
            "Skipping BraTS20_Validation_034 due to error: cannot access local variable 'seg_nii' where it is not associated with a value\n",
            "Segmentation not found for BraTS20_Validation_035. Creating zero mask.\n",
            "Skipping BraTS20_Validation_035 due to error: cannot access local variable 'seg_nii' where it is not associated with a value\n",
            "Segmentation not found for BraTS20_Validation_036. Creating zero mask.\n",
            "Skipping BraTS20_Validation_036 due to error: cannot access local variable 'seg_nii' where it is not associated with a value\n",
            "Segmentation not found for BraTS20_Validation_037. Creating zero mask.\n",
            "Skipping BraTS20_Validation_037 due to error: cannot access local variable 'seg_nii' where it is not associated with a value\n",
            "Segmentation not found for BraTS20_Validation_038. Creating zero mask.\n",
            "Skipping BraTS20_Validation_038 due to error: cannot access local variable 'seg_nii' where it is not associated with a value\n",
            "Segmentation not found for BraTS20_Validation_039. Creating zero mask.\n",
            "Skipping BraTS20_Validation_039 due to error: cannot access local variable 'seg_nii' where it is not associated with a value\n",
            "Segmentation not found for BraTS20_Validation_040. Creating zero mask.\n",
            "Skipping BraTS20_Validation_040 due to error: cannot access local variable 'seg_nii' where it is not associated with a value\n",
            "Segmentation not found for BraTS20_Validation_041. Creating zero mask.\n",
            "Skipping BraTS20_Validation_041 due to error: cannot access local variable 'seg_nii' where it is not associated with a value\n",
            "Segmentation not found for BraTS20_Validation_042. Creating zero mask.\n",
            "Skipping BraTS20_Validation_042 due to error: cannot access local variable 'seg_nii' where it is not associated with a value\n",
            "Segmentation not found for BraTS20_Validation_043. Creating zero mask.\n",
            "Skipping BraTS20_Validation_043 due to error: cannot access local variable 'seg_nii' where it is not associated with a value\n",
            "Segmentation not found for BraTS20_Validation_044. Creating zero mask.\n",
            "Skipping BraTS20_Validation_044 due to error: cannot access local variable 'seg_nii' where it is not associated with a value\n",
            "Segmentation not found for BraTS20_Validation_045. Creating zero mask.\n",
            "Skipping BraTS20_Validation_045 due to error: cannot access local variable 'seg_nii' where it is not associated with a value\n",
            "Segmentation not found for BraTS20_Validation_046. Creating zero mask.\n",
            "Skipping BraTS20_Validation_046 due to error: cannot access local variable 'seg_nii' where it is not associated with a value\n",
            "Segmentation not found for BraTS20_Validation_047. Creating zero mask.\n",
            "Skipping BraTS20_Validation_047 due to error: cannot access local variable 'seg_nii' where it is not associated with a value\n",
            "Segmentation not found for BraTS20_Validation_048. Creating zero mask.\n",
            "Skipping BraTS20_Validation_048 due to error: cannot access local variable 'seg_nii' where it is not associated with a value\n",
            "Segmentation not found for BraTS20_Validation_049. Creating zero mask.\n",
            "Skipping BraTS20_Validation_049 due to error: cannot access local variable 'seg_nii' where it is not associated with a value\n",
            "Segmentation not found for BraTS20_Validation_050. Creating zero mask.\n",
            "Skipping BraTS20_Validation_050 due to error: cannot access local variable 'seg_nii' where it is not associated with a value\n",
            "Segmentation not found for BraTS20_Validation_051. Creating zero mask.\n",
            "Skipping BraTS20_Validation_051 due to error: cannot access local variable 'seg_nii' where it is not associated with a value\n",
            "Segmentation not found for BraTS20_Validation_052. Creating zero mask.\n",
            "Skipping BraTS20_Validation_052 due to error: cannot access local variable 'seg_nii' where it is not associated with a value\n",
            "Segmentation not found for BraTS20_Validation_053. Creating zero mask.\n",
            "Skipping BraTS20_Validation_053 due to error: cannot access local variable 'seg_nii' where it is not associated with a value\n",
            "Segmentation not found for BraTS20_Validation_054. Creating zero mask.\n",
            "Skipping BraTS20_Validation_054 due to error: cannot access local variable 'seg_nii' where it is not associated with a value\n",
            "Segmentation not found for BraTS20_Validation_055. Creating zero mask.\n",
            "Skipping BraTS20_Validation_055 due to error: cannot access local variable 'seg_nii' where it is not associated with a value\n",
            "Segmentation not found for BraTS20_Validation_056. Creating zero mask.\n",
            "Skipping BraTS20_Validation_056 due to error: cannot access local variable 'seg_nii' where it is not associated with a value\n",
            "Segmentation not found for BraTS20_Validation_057. Creating zero mask.\n",
            "Skipping BraTS20_Validation_057 due to error: cannot access local variable 'seg_nii' where it is not associated with a value\n",
            "Segmentation not found for BraTS20_Validation_058. Creating zero mask.\n",
            "Skipping BraTS20_Validation_058 due to error: cannot access local variable 'seg_nii' where it is not associated with a value\n",
            "Segmentation not found for BraTS20_Validation_059. Creating zero mask.\n",
            "Skipping BraTS20_Validation_059 due to error: cannot access local variable 'seg_nii' where it is not associated with a value\n",
            "Segmentation not found for BraTS20_Validation_060. Creating zero mask.\n",
            "Skipping BraTS20_Validation_060 due to error: cannot access local variable 'seg_nii' where it is not associated with a value\n",
            "Segmentation not found for BraTS20_Validation_061. Creating zero mask.\n",
            "Skipping BraTS20_Validation_061 due to error: cannot access local variable 'seg_nii' where it is not associated with a value\n",
            "Segmentation not found for BraTS20_Validation_062. Creating zero mask.\n",
            "Skipping BraTS20_Validation_062 due to error: cannot access local variable 'seg_nii' where it is not associated with a value\n",
            "Segmentation not found for BraTS20_Validation_063. Creating zero mask.\n",
            "Skipping BraTS20_Validation_063 due to error: cannot access local variable 'seg_nii' where it is not associated with a value\n",
            "Segmentation not found for BraTS20_Validation_064. Creating zero mask.\n",
            "Skipping BraTS20_Validation_064 due to error: cannot access local variable 'seg_nii' where it is not associated with a value\n",
            "Segmentation not found for BraTS20_Validation_065. Creating zero mask.\n",
            "Skipping BraTS20_Validation_065 due to error: cannot access local variable 'seg_nii' where it is not associated with a value\n",
            "Segmentation not found for BraTS20_Validation_066. Creating zero mask.\n",
            "Skipping BraTS20_Validation_066 due to error: cannot access local variable 'seg_nii' where it is not associated with a value\n",
            "Segmentation not found for BraTS20_Validation_067. Creating zero mask.\n",
            "Skipping BraTS20_Validation_067 due to error: cannot access local variable 'seg_nii' where it is not associated with a value\n",
            "Segmentation not found for BraTS20_Validation_068. Creating zero mask.\n",
            "Skipping BraTS20_Validation_068 due to error: cannot access local variable 'seg_nii' where it is not associated with a value\n",
            "Segmentation not found for BraTS20_Validation_069. Creating zero mask.\n",
            "Skipping BraTS20_Validation_069 due to error: cannot access local variable 'seg_nii' where it is not associated with a value\n",
            "Segmentation not found for BraTS20_Validation_070. Creating zero mask.\n",
            "Skipping BraTS20_Validation_070 due to error: cannot access local variable 'seg_nii' where it is not associated with a value\n",
            "Segmentation not found for BraTS20_Validation_071. Creating zero mask.\n",
            "Skipping BraTS20_Validation_071 due to error: cannot access local variable 'seg_nii' where it is not associated with a value\n",
            "Segmentation not found for BraTS20_Validation_072. Creating zero mask.\n",
            "Skipping BraTS20_Validation_072 due to error: cannot access local variable 'seg_nii' where it is not associated with a value\n",
            "Segmentation not found for BraTS20_Validation_073. Creating zero mask.\n",
            "Skipping BraTS20_Validation_073 due to error: cannot access local variable 'seg_nii' where it is not associated with a value\n",
            "Segmentation not found for BraTS20_Validation_074. Creating zero mask.\n",
            "Skipping BraTS20_Validation_074 due to error: cannot access local variable 'seg_nii' where it is not associated with a value\n",
            "Segmentation not found for BraTS20_Validation_075. Creating zero mask.\n",
            "Skipping BraTS20_Validation_075 due to error: cannot access local variable 'seg_nii' where it is not associated with a value\n",
            "Segmentation not found for BraTS20_Validation_076. Creating zero mask.\n",
            "Skipping BraTS20_Validation_076 due to error: cannot access local variable 'seg_nii' where it is not associated with a value\n",
            "Segmentation not found for BraTS20_Validation_077. Creating zero mask.\n",
            "Skipping BraTS20_Validation_077 due to error: cannot access local variable 'seg_nii' where it is not associated with a value\n",
            "Segmentation not found for BraTS20_Validation_078. Creating zero mask.\n",
            "Skipping BraTS20_Validation_078 due to error: cannot access local variable 'seg_nii' where it is not associated with a value\n",
            "Segmentation not found for BraTS20_Validation_079. Creating zero mask.\n",
            "Skipping BraTS20_Validation_079 due to error: cannot access local variable 'seg_nii' where it is not associated with a value\n",
            "Segmentation not found for BraTS20_Validation_080. Creating zero mask.\n",
            "Skipping BraTS20_Validation_080 due to error: cannot access local variable 'seg_nii' where it is not associated with a value\n",
            "Segmentation not found for BraTS20_Validation_081. Creating zero mask.\n",
            "Skipping BraTS20_Validation_081 due to error: cannot access local variable 'seg_nii' where it is not associated with a value\n",
            "Segmentation not found for BraTS20_Validation_082. Creating zero mask.\n",
            "Skipping BraTS20_Validation_082 due to error: cannot access local variable 'seg_nii' where it is not associated with a value\n",
            "Segmentation not found for BraTS20_Validation_083. Creating zero mask.\n",
            "Skipping BraTS20_Validation_083 due to error: cannot access local variable 'seg_nii' where it is not associated with a value\n",
            "Segmentation not found for BraTS20_Validation_084. Creating zero mask.\n",
            "Skipping BraTS20_Validation_084 due to error: cannot access local variable 'seg_nii' where it is not associated with a value\n",
            "Segmentation not found for BraTS20_Validation_085. Creating zero mask.\n",
            "Skipping BraTS20_Validation_085 due to error: cannot access local variable 'seg_nii' where it is not associated with a value\n",
            "Segmentation not found for BraTS20_Validation_086. Creating zero mask.\n",
            "Skipping BraTS20_Validation_086 due to error: cannot access local variable 'seg_nii' where it is not associated with a value\n",
            "Segmentation not found for BraTS20_Validation_087. Creating zero mask.\n",
            "Skipping BraTS20_Validation_087 due to error: cannot access local variable 'seg_nii' where it is not associated with a value\n",
            "Segmentation not found for BraTS20_Validation_088. Creating zero mask.\n",
            "Skipping BraTS20_Validation_088 due to error: cannot access local variable 'seg_nii' where it is not associated with a value\n",
            "Segmentation not found for BraTS20_Validation_089. Creating zero mask.\n",
            "Skipping BraTS20_Validation_089 due to error: cannot access local variable 'seg_nii' where it is not associated with a value\n",
            "Segmentation not found for BraTS20_Validation_090. Creating zero mask.\n",
            "Skipping BraTS20_Validation_090 due to error: cannot access local variable 'seg_nii' where it is not associated with a value\n",
            "Segmentation not found for BraTS20_Validation_091. Creating zero mask.\n",
            "Skipping BraTS20_Validation_091 due to error: cannot access local variable 'seg_nii' where it is not associated with a value\n",
            "Segmentation not found for BraTS20_Validation_092. Creating zero mask.\n",
            "Skipping BraTS20_Validation_092 due to error: cannot access local variable 'seg_nii' where it is not associated with a value\n",
            "Segmentation not found for BraTS20_Validation_093. Creating zero mask.\n",
            "Skipping BraTS20_Validation_093 due to error: cannot access local variable 'seg_nii' where it is not associated with a value\n",
            "Segmentation not found for BraTS20_Validation_094. Creating zero mask.\n",
            "Skipping BraTS20_Validation_094 due to error: cannot access local variable 'seg_nii' where it is not associated with a value\n",
            "Segmentation not found for BraTS20_Validation_095. Creating zero mask.\n",
            "Skipping BraTS20_Validation_095 due to error: cannot access local variable 'seg_nii' where it is not associated with a value\n",
            "Segmentation not found for BraTS20_Validation_096. Creating zero mask.\n",
            "Skipping BraTS20_Validation_096 due to error: cannot access local variable 'seg_nii' where it is not associated with a value\n",
            "Segmentation not found for BraTS20_Validation_097. Creating zero mask.\n",
            "Skipping BraTS20_Validation_097 due to error: cannot access local variable 'seg_nii' where it is not associated with a value\n",
            "Segmentation not found for BraTS20_Validation_098. Creating zero mask.\n",
            "Skipping BraTS20_Validation_098 due to error: cannot access local variable 'seg_nii' where it is not associated with a value\n",
            "Segmentation not found for BraTS20_Validation_099. Creating zero mask.\n",
            "Skipping BraTS20_Validation_099 due to error: cannot access local variable 'seg_nii' where it is not associated with a value\n",
            "Segmentation not found for BraTS20_Validation_100. Creating zero mask.\n",
            "Skipping BraTS20_Validation_100 due to error: cannot access local variable 'seg_nii' where it is not associated with a value\n",
            "Segmentation not found for BraTS20_Validation_101. Creating zero mask.\n",
            "Skipping BraTS20_Validation_101 due to error: cannot access local variable 'seg_nii' where it is not associated with a value\n",
            "Segmentation not found for BraTS20_Validation_102. Creating zero mask.\n",
            "Skipping BraTS20_Validation_102 due to error: cannot access local variable 'seg_nii' where it is not associated with a value\n",
            "Segmentation not found for BraTS20_Validation_103. Creating zero mask.\n",
            "Skipping BraTS20_Validation_103 due to error: cannot access local variable 'seg_nii' where it is not associated with a value\n",
            "Segmentation not found for BraTS20_Validation_104. Creating zero mask.\n",
            "Skipping BraTS20_Validation_104 due to error: cannot access local variable 'seg_nii' where it is not associated with a value\n",
            "Segmentation not found for BraTS20_Validation_105. Creating zero mask.\n",
            "Skipping BraTS20_Validation_105 due to error: cannot access local variable 'seg_nii' where it is not associated with a value\n",
            "Segmentation not found for BraTS20_Validation_106. Creating zero mask.\n",
            "Skipping BraTS20_Validation_106 due to error: cannot access local variable 'seg_nii' where it is not associated with a value\n",
            "Segmentation not found for BraTS20_Validation_107. Creating zero mask.\n",
            "Skipping BraTS20_Validation_107 due to error: cannot access local variable 'seg_nii' where it is not associated with a value\n",
            "Segmentation not found for BraTS20_Validation_108. Creating zero mask.\n",
            "Skipping BraTS20_Validation_108 due to error: cannot access local variable 'seg_nii' where it is not associated with a value\n",
            "Segmentation not found for BraTS20_Validation_109. Creating zero mask.\n",
            "Skipping BraTS20_Validation_109 due to error: cannot access local variable 'seg_nii' where it is not associated with a value\n",
            "Segmentation not found for BraTS20_Validation_110. Creating zero mask.\n",
            "Skipping BraTS20_Validation_110 due to error: cannot access local variable 'seg_nii' where it is not associated with a value\n",
            "Segmentation not found for BraTS20_Validation_111. Creating zero mask.\n",
            "Skipping BraTS20_Validation_111 due to error: cannot access local variable 'seg_nii' where it is not associated with a value\n",
            "Segmentation not found for BraTS20_Validation_112. Creating zero mask.\n",
            "Skipping BraTS20_Validation_112 due to error: cannot access local variable 'seg_nii' where it is not associated with a value\n",
            "Segmentation not found for BraTS20_Validation_113. Creating zero mask.\n",
            "Skipping BraTS20_Validation_113 due to error: cannot access local variable 'seg_nii' where it is not associated with a value\n",
            "Segmentation not found for BraTS20_Validation_114. Creating zero mask.\n",
            "Skipping BraTS20_Validation_114 due to error: cannot access local variable 'seg_nii' where it is not associated with a value\n",
            "Segmentation not found for BraTS20_Validation_115. Creating zero mask.\n",
            "Skipping BraTS20_Validation_115 due to error: cannot access local variable 'seg_nii' where it is not associated with a value\n",
            "Segmentation not found for BraTS20_Validation_116. Creating zero mask.\n",
            "Skipping BraTS20_Validation_116 due to error: cannot access local variable 'seg_nii' where it is not associated with a value\n",
            "Segmentation not found for BraTS20_Validation_117. Creating zero mask.\n",
            "Skipping BraTS20_Validation_117 due to error: cannot access local variable 'seg_nii' where it is not associated with a value\n",
            "Segmentation not found for BraTS20_Validation_118. Creating zero mask.\n",
            "Skipping BraTS20_Validation_118 due to error: cannot access local variable 'seg_nii' where it is not associated with a value\n",
            "Segmentation not found for BraTS20_Validation_119. Creating zero mask.\n",
            "Skipping BraTS20_Validation_119 due to error: cannot access local variable 'seg_nii' where it is not associated with a value\n",
            "Segmentation not found for BraTS20_Validation_120. Creating zero mask.\n",
            "Skipping BraTS20_Validation_120 due to error: cannot access local variable 'seg_nii' where it is not associated with a value\n",
            "Segmentation not found for BraTS20_Validation_121. Creating zero mask.\n",
            "Skipping BraTS20_Validation_121 due to error: cannot access local variable 'seg_nii' where it is not associated with a value\n",
            "Segmentation not found for BraTS20_Validation_122. Creating zero mask.\n",
            "Skipping BraTS20_Validation_122 due to error: cannot access local variable 'seg_nii' where it is not associated with a value\n",
            "Segmentation not found for BraTS20_Validation_123. Creating zero mask.\n",
            "Skipping BraTS20_Validation_123 due to error: cannot access local variable 'seg_nii' where it is not associated with a value\n",
            "Segmentation not found for BraTS20_Validation_124. Creating zero mask.\n",
            "Skipping BraTS20_Validation_124 due to error: cannot access local variable 'seg_nii' where it is not associated with a value\n",
            "Segmentation not found for BraTS20_Validation_125. Creating zero mask.\n",
            "Skipping BraTS20_Validation_125 due to error: cannot access local variable 'seg_nii' where it is not associated with a value\n",
            "Preprocessing finished.\n"
          ]
        }
      ],
      "source": [
        "\n",
        "# --- Run Preprocessing ---\n",
        "preprocess_and_save(BASE_TRAIN_PATH, PROCESSED_TRAIN_DIR, MODALITIES, is_train=True)\n",
        "preprocess_and_save(BASE_VAL_PATH, PROCESSED_VAL_DIR, MODALITIES, is_train=False)\n",
        "print(\"Preprocessing finished.\")\n"
      ]
    },
    {
      "cell_type": "code",
      "execution_count": null,
      "metadata": {
        "colab": {
          "background_save": true
        },
        "id": "w9X_ke7FKneb"
      },
      "outputs": [],
      "source": [
        "# --- Dataset Class ---\n",
        "class BrainTumorDataset3D(Dataset):\n",
        "    def __init__(self, npz_files, crop_size, is_train=True):\n",
        "        self.npz_files = npz_files\n",
        "        self.crop_size = crop_size\n",
        "        self.is_train = is_train\n",
        "        self.cache = {} # Simple caching mechanism (optional)\n",
        "\n",
        "    def __len__(self):\n",
        "        return len(self.npz_files)\n",
        "\n",
        "    def _crop_3d(self, img, label):\n",
        "        # Assumes img shape: (C, D, H, W) and label shape: (D, H, W)\n",
        "        _, D, H, W = img.shape\n",
        "        cd, ch, cw = self.crop_size\n",
        "\n",
        "        # Ensure crop size is not larger than image dimensions\n",
        "        cd = min(cd, D)\n",
        "        ch = min(ch, H)\n",
        "        cw = min(cw, W)\n",
        "\n",
        "        if self.is_train:\n",
        "            # Random crop\n",
        "            d = random.randint(0, D - cd) if D > cd else 0\n",
        "            h = random.randint(0, H - ch) if H > ch else 0\n",
        "            w = random.randint(0, W - cw) if W > cw else 0\n",
        "        else:\n",
        "            # Center crop\n",
        "            d = (D - cd) // 2\n",
        "            h = (H - ch) // 2\n",
        "            w = (W - cw) // 2\n",
        "\n",
        "        img_cropped = img[:, d:d+cd, h:h+ch, w:w+cw]\n",
        "        label_cropped = label[d:d+cd, h:h+ch, w:w+cw]\n",
        "\n",
        "        return img_cropped, label_cropped\n",
        "\n",
        "    def __getitem__(self, idx):\n",
        "        filepath = self.npz_files[idx]\n",
        "\n",
        "        # Simple caching (load data only once per epoch if memory allows)\n",
        "        if filepath in self.cache:\n",
        "             data = self.cache[filepath]\n",
        "        else:\n",
        "            data = np.load(filepath)\n",
        "            if len(self.cache) < 50: # Limit cache size\n",
        "                 self.cache[filepath] = data\n",
        "\n",
        "       # data = np.load(filepath) # Load data directly if cache is not used or full\n",
        "\n",
        "        image, label = data['input'], data['label'] # shapes: (C,D,H,W), (D,H,W)\n",
        "\n",
        "        # Ensure data types are correct before cropping/conversion\n",
        "        image = image.astype(np.float32)\n",
        "        label = label.astype(np.uint8) # Dice loss usually expects Long, but we need Float for BCE/Dice intermediate steps\n",
        "\n",
        "        image_cropped, label_cropped = self._crop_3d(image, label)\n",
        "\n",
        "        # Add channel dimension to label: (D,H,W) -> (1,D,H,W)\n",
        "        label_cropped = np.expand_dims(label_cropped, axis=0)\n",
        "\n",
        "        # Convert to tensors\n",
        "        image_tensor = torch.tensor(image_cropped, dtype=torch.float32)\n",
        "        # Label needs to be float for Dice/BCE loss calculation, but ensure it's 0 or 1\n",
        "        label_tensor = torch.tensor(label_cropped, dtype=torch.float32)\n",
        "\n",
        "        return image_tensor, label_tensor"
      ]
    },
    {
      "cell_type": "code",
      "execution_count": null,
      "metadata": {
        "colab": {
          "background_save": true
        },
        "id": "c6cSoJzyLZw8"
      },
      "outputs": [],
      "source": [
        "# --- Define 3D U-Net Model ---\n",
        "class ConvBlock(nn.Module):\n",
        "    def __init__(self, in_channels, out_channels):\n",
        "        super().__init__()\n",
        "        self.conv1 = nn.Conv3d(in_channels, out_channels, kernel_size=3, padding=1, bias=False)\n",
        "        self.bn1 = nn.BatchNorm3d(out_channels)\n",
        "        self.relu1 = nn.ReLU()\n",
        "        self.conv2 = nn.Conv3d(out_channels, out_channels, kernel_size=3, padding=1, bias=False)\n",
        "        self.bn2 = nn.BatchNorm3d(out_channels)\n",
        "        self.relu2 = nn.ReLU()\n",
        "\n",
        "    def forward(self, x):\n",
        "        x = self.relu1(self.bn1(self.conv1(x)))\n",
        "        x = self.relu2(self.bn2(self.conv2(x)))\n",
        "        return x\n",
        "\n",
        "class EncoderBlock(nn.Module):\n",
        "    def __init__(self, in_channels, out_channels):\n",
        "        super().__init__()\n",
        "        self.conv = ConvBlock(in_channels, out_channels)\n",
        "        self.pool = nn.MaxPool3d(kernel_size=2, stride=2)\n",
        "\n",
        "    def forward(self, x):\n",
        "        s = self.conv(x) # Save skip connection\n",
        "        p = self.pool(s)\n",
        "        return s, p\n",
        "\n",
        "class DecoderBlock(nn.Module):\n",
        "    def __init__(self, in_channels, skip_channels, out_channels):\n",
        "        super().__init__()\n",
        "        # Use ConvTranspose3d for upsampling\n",
        "        self.upconv = nn.ConvTranspose3d(in_channels, skip_channels, kernel_size=2, stride=2)\n",
        "        self.conv = ConvBlock(skip_channels + skip_channels, out_channels) # Concatenated channels\n",
        "\n",
        "    def forward(self, x, skip):\n",
        "        x = self.upconv(x)\n",
        "        # Ensure spatial dimensions match for concatenation if needed (rarely for stride 2)\n",
        "        # Example: if x.shape != skip.shape: adjust padding or crop 'skip'\n",
        "        x = torch.cat([x, skip], dim=1) # Concatenate along channel dimension\n",
        "        x = self.conv(x)\n",
        "        return x\n",
        "\n",
        "class UNet3D(nn.Module):\n",
        "    def __init__(self, in_channels=4, out_channels=1, features=[32, 64, 128, 256]):\n",
        "        super().__init__()\n",
        "\n",
        "        # Encoder path\n",
        "        self.enc1 = EncoderBlock(in_channels, features[0])\n",
        "        self.enc2 = EncoderBlock(features[0], features[1])\n",
        "        self.enc3 = EncoderBlock(features[1], features[2])\n",
        "\n",
        "        # Bottleneck\n",
        "        self.bottleneck = ConvBlock(features[2], features[3])\n",
        "\n",
        "        # Decoder path\n",
        "        self.dec3 = DecoderBlock(features[3], features[2], features[1])\n",
        "        self.dec2 = DecoderBlock(features[1], features[1], features[0])\n",
        "        self.dec1 = DecoderBlock(features[0], features[0], features[0]) # Pass features[0] twice\n",
        "\n",
        "        # Final convolution\n",
        "        self.final_conv = nn.Conv3d(features[0], out_channels, kernel_size=1)\n",
        "\n",
        "    def forward(self, x):\n",
        "        s1, p1 = self.enc1(x)\n",
        "        s2, p2 = self.enc2(p1)\n",
        "        s3, p3 = self.enc3(p2)\n",
        "\n",
        "        b = self.bottleneck(p3)\n",
        "\n",
        "        d3 = self.dec3(b, s3)\n",
        "        d2 = self.dec2(d3, s2)\n",
        "        d1 = self.dec1(d2, s1)\n",
        "\n",
        "        output = self.final_conv(d1)\n",
        "        # No sigmoid here if using BCEWithLogitsLoss or calculating Dice from logits\n",
        "        return output\n"
      ]
    },
    {
      "cell_type": "code",
      "execution_count": null,
      "metadata": {
        "colab": {
          "background_save": true
        },
        "id": "V9PqUUZULc3F"
      },
      "outputs": [],
      "source": [
        "\n",
        "# --- Dice Loss ---\n",
        "class DiceLoss(nn.Module):\n",
        "    def __init__(self, smooth=1e-5):\n",
        "        super(DiceLoss, self).__init__()\n",
        "        self.smooth = smooth\n",
        "\n",
        "    def forward(self, logits, targets):\n",
        "        probs = torch.sigmoid(logits) # Convert logits to probabilities\n",
        "\n",
        "        # Flatten label and prediction tensors\n",
        "        probs = probs.view(-1)\n",
        "        targets = targets.view(-1)\n",
        "\n",
        "        intersection = (probs * targets).sum()\n",
        "        dice = (2. * intersection + self.smooth) / (probs.sum() + targets.sum() + self.smooth)\n",
        "\n",
        "        return 1 - dice # Return loss (1 - Dice score)\n"
      ]
    },
    {
      "cell_type": "code",
      "execution_count": null,
      "metadata": {
        "colab": {
          "background_save": true
        },
        "id": "AJQexja3LhuB",
        "outputId": "74c41617-e98f-49c9-fb7e-d516793a0979"
      },
      "outputs": [
        {
          "name": "stdout",
          "output_type": "stream",
          "text": [
            "Found 368 training files.\n"
          ]
        }
      ],
      "source": [
        "# --- Training Setup ---\n",
        "model = UNet3D(in_channels=4, out_channels=1).to(DEVICE)\n",
        "# Try loading checkpoint if it exists\n",
        "if MODEL_SAVE_PATH.exists():\n",
        "    print(f\"Loading model checkpoint from {MODEL_SAVE_PATH}\")\n",
        "    model.load_state_dict(torch.load(MODEL_SAVE_PATH, map_location=DEVICE))\n",
        "\n",
        "criterion = DiceLoss()\n",
        "optimizer = optim.Adam(model.parameters(), lr=LEARNING_RATE)\n",
        "# Optional: Add a learning rate scheduler\n",
        "# scheduler = optim.lr_scheduler.StepLR(optimizer, step_size=10, gamma=0.1)\n",
        "\n",
        "all_train_npz_files = sorted(list(PROCESSED_TRAIN_DIR.glob(\"*.npz\")))\n",
        "print(f\"Found {len(all_train_npz_files)} training files.\")\n"
      ]
    },
    {
      "cell_type": "code",
      "execution_count": null,
      "metadata": {
        "colab": {
          "background_save": true,
          "referenced_widgets": [
            "34426629e8f74d17bdb3bd4dbc9caa98",
            "64ad9bb69aae410dbbb9b10e8711a7f2",
            "ffa405513a7f4a74b117419d05e039ea",
            "bb8a8811408e43fba8d4c3ad2130bd9f",
            "bbbb1e5d60f94538bb899dee32cd7153",
            "61bbd6a72f9046aab5c7aa4efea5882e",
            "646e3c1e79144424950b11dd41a7cf8c",
            "a2b56557c20f4e3fa243878f8168cd7d",
            "6a140606482b43078052bc2b3ae35b91",
            "38036b5ef705456e8e08ecdb11ec4db4",
            "7189e7104a7542eeaedab36078dd2f8d",
            "83489ba8f286478ea411fa63ec6b11e5",
            "85e37b69dafc4317b13a4b1f9dae8fc0",
            "b45a7cd02d364a4187e03a3042ec1c29",
            "a232c6355c3e495fafc217b398ae50aa",
            "60c3e591e09b4a298de83269a1823f94",
            "bd04d55b6eb541b89e5115e786f703eb",
            "11e8e801b393488ea666dceaf9e3dec7",
            "5178f0ae791d44239c2190751920e8fc"
          ]
        },
        "id": "61t8SlZqLr-e",
        "outputId": "8a4ff8f4-77c7-45b6-d80c-dec3f47ac448"
      },
      "outputs": [
        {
          "name": "stdout",
          "output_type": "stream",
          "text": [
            "\n",
            "--- Epoch 1/1 ---\n",
            "  Loading chunk: 1 / 19\n"
          ]
        },
        {
          "data": {
            "application/vnd.jupyter.widget-view+json": {
              "model_id": "34426629e8f74d17bdb3bd4dbc9caa98",
              "version_major": 2,
              "version_minor": 0
            },
            "text/plain": [
              "  Chunk 1 Train:   0%|          | 0/20 [00:00<?, ?it/s]"
            ]
          },
          "metadata": {},
          "output_type": "display_data"
        },
        {
          "name": "stdout",
          "output_type": "stream",
          "text": [
            "  Chunk 1 Avg Loss: 0.8966\n",
            "  Loading chunk: 2 / 19\n"
          ]
        },
        {
          "data": {
            "application/vnd.jupyter.widget-view+json": {
              "model_id": "64ad9bb69aae410dbbb9b10e8711a7f2",
              "version_major": 2,
              "version_minor": 0
            },
            "text/plain": [
              "  Chunk 2 Train:   0%|          | 0/20 [00:00<?, ?it/s]"
            ]
          },
          "metadata": {},
          "output_type": "display_data"
        },
        {
          "name": "stdout",
          "output_type": "stream",
          "text": [
            "  Chunk 2 Avg Loss: 0.8844\n",
            "  Loading chunk: 3 / 19\n"
          ]
        },
        {
          "data": {
            "application/vnd.jupyter.widget-view+json": {
              "model_id": "ffa405513a7f4a74b117419d05e039ea",
              "version_major": 2,
              "version_minor": 0
            },
            "text/plain": [
              "  Chunk 3 Train:   0%|          | 0/20 [00:00<?, ?it/s]"
            ]
          },
          "metadata": {},
          "output_type": "display_data"
        },
        {
          "name": "stdout",
          "output_type": "stream",
          "text": [
            "  Chunk 3 Avg Loss: 0.8477\n",
            "  Loading chunk: 4 / 19\n"
          ]
        },
        {
          "data": {
            "application/vnd.jupyter.widget-view+json": {
              "model_id": "bb8a8811408e43fba8d4c3ad2130bd9f",
              "version_major": 2,
              "version_minor": 0
            },
            "text/plain": [
              "  Chunk 4 Train:   0%|          | 0/20 [00:00<?, ?it/s]"
            ]
          },
          "metadata": {},
          "output_type": "display_data"
        },
        {
          "name": "stdout",
          "output_type": "stream",
          "text": [
            "  Chunk 4 Avg Loss: 0.8549\n",
            "  Loading chunk: 5 / 19\n"
          ]
        },
        {
          "data": {
            "application/vnd.jupyter.widget-view+json": {
              "model_id": "bbbb1e5d60f94538bb899dee32cd7153",
              "version_major": 2,
              "version_minor": 0
            },
            "text/plain": [
              "  Chunk 5 Train:   0%|          | 0/20 [00:00<?, ?it/s]"
            ]
          },
          "metadata": {},
          "output_type": "display_data"
        },
        {
          "name": "stdout",
          "output_type": "stream",
          "text": [
            "  Chunk 5 Avg Loss: 0.8347\n",
            "  Loading chunk: 6 / 19\n"
          ]
        },
        {
          "data": {
            "application/vnd.jupyter.widget-view+json": {
              "model_id": "61bbd6a72f9046aab5c7aa4efea5882e",
              "version_major": 2,
              "version_minor": 0
            },
            "text/plain": [
              "  Chunk 6 Train:   0%|          | 0/20 [00:00<?, ?it/s]"
            ]
          },
          "metadata": {},
          "output_type": "display_data"
        },
        {
          "name": "stdout",
          "output_type": "stream",
          "text": [
            "  Chunk 6 Avg Loss: 0.8907\n",
            "  Loading chunk: 7 / 19\n"
          ]
        },
        {
          "data": {
            "application/vnd.jupyter.widget-view+json": {
              "model_id": "646e3c1e79144424950b11dd41a7cf8c",
              "version_major": 2,
              "version_minor": 0
            },
            "text/plain": [
              "  Chunk 7 Train:   0%|          | 0/20 [00:00<?, ?it/s]"
            ]
          },
          "metadata": {},
          "output_type": "display_data"
        },
        {
          "name": "stdout",
          "output_type": "stream",
          "text": [
            "  Chunk 7 Avg Loss: 0.8900\n",
            "  Loading chunk: 8 / 19\n"
          ]
        },
        {
          "data": {
            "application/vnd.jupyter.widget-view+json": {
              "model_id": "a2b56557c20f4e3fa243878f8168cd7d",
              "version_major": 2,
              "version_minor": 0
            },
            "text/plain": [
              "  Chunk 8 Train:   0%|          | 0/20 [00:00<?, ?it/s]"
            ]
          },
          "metadata": {},
          "output_type": "display_data"
        },
        {
          "name": "stdout",
          "output_type": "stream",
          "text": [
            "  Chunk 8 Avg Loss: 0.8728\n",
            "  Loading chunk: 9 / 19\n"
          ]
        },
        {
          "data": {
            "application/vnd.jupyter.widget-view+json": {
              "model_id": "6a140606482b43078052bc2b3ae35b91",
              "version_major": 2,
              "version_minor": 0
            },
            "text/plain": [
              "  Chunk 9 Train:   0%|          | 0/20 [00:00<?, ?it/s]"
            ]
          },
          "metadata": {},
          "output_type": "display_data"
        },
        {
          "name": "stdout",
          "output_type": "stream",
          "text": [
            "  Chunk 9 Avg Loss: 0.8873\n",
            "  Loading chunk: 10 / 19\n"
          ]
        },
        {
          "data": {
            "application/vnd.jupyter.widget-view+json": {
              "model_id": "38036b5ef705456e8e08ecdb11ec4db4",
              "version_major": 2,
              "version_minor": 0
            },
            "text/plain": [
              "  Chunk 10 Train:   0%|          | 0/20 [00:00<?, ?it/s]"
            ]
          },
          "metadata": {},
          "output_type": "display_data"
        },
        {
          "name": "stdout",
          "output_type": "stream",
          "text": [
            "  Chunk 10 Avg Loss: 0.8521\n",
            "  Loading chunk: 11 / 19\n"
          ]
        },
        {
          "data": {
            "application/vnd.jupyter.widget-view+json": {
              "model_id": "7189e7104a7542eeaedab36078dd2f8d",
              "version_major": 2,
              "version_minor": 0
            },
            "text/plain": [
              "  Chunk 11 Train:   0%|          | 0/20 [00:00<?, ?it/s]"
            ]
          },
          "metadata": {},
          "output_type": "display_data"
        },
        {
          "name": "stdout",
          "output_type": "stream",
          "text": [
            "  Chunk 11 Avg Loss: 0.9047\n",
            "  Loading chunk: 12 / 19\n"
          ]
        },
        {
          "data": {
            "application/vnd.jupyter.widget-view+json": {
              "model_id": "83489ba8f286478ea411fa63ec6b11e5",
              "version_major": 2,
              "version_minor": 0
            },
            "text/plain": [
              "  Chunk 12 Train:   0%|          | 0/20 [00:00<?, ?it/s]"
            ]
          },
          "metadata": {},
          "output_type": "display_data"
        },
        {
          "name": "stdout",
          "output_type": "stream",
          "text": [
            "  Chunk 12 Avg Loss: 0.8867\n",
            "  Loading chunk: 13 / 19\n"
          ]
        },
        {
          "data": {
            "application/vnd.jupyter.widget-view+json": {
              "model_id": "85e37b69dafc4317b13a4b1f9dae8fc0",
              "version_major": 2,
              "version_minor": 0
            },
            "text/plain": [
              "  Chunk 13 Train:   0%|          | 0/20 [00:00<?, ?it/s]"
            ]
          },
          "metadata": {},
          "output_type": "display_data"
        },
        {
          "name": "stdout",
          "output_type": "stream",
          "text": [
            "  Chunk 13 Avg Loss: 0.8521\n",
            "  Loading chunk: 14 / 19\n"
          ]
        },
        {
          "data": {
            "application/vnd.jupyter.widget-view+json": {
              "model_id": "b45a7cd02d364a4187e03a3042ec1c29",
              "version_major": 2,
              "version_minor": 0
            },
            "text/plain": [
              "  Chunk 14 Train:   0%|          | 0/20 [00:00<?, ?it/s]"
            ]
          },
          "metadata": {},
          "output_type": "display_data"
        },
        {
          "name": "stdout",
          "output_type": "stream",
          "text": [
            "  Chunk 14 Avg Loss: 0.8906\n",
            "  Loading chunk: 15 / 19\n"
          ]
        },
        {
          "data": {
            "application/vnd.jupyter.widget-view+json": {
              "model_id": "a232c6355c3e495fafc217b398ae50aa",
              "version_major": 2,
              "version_minor": 0
            },
            "text/plain": [
              "  Chunk 15 Train:   0%|          | 0/20 [00:00<?, ?it/s]"
            ]
          },
          "metadata": {},
          "output_type": "display_data"
        },
        {
          "name": "stdout",
          "output_type": "stream",
          "text": [
            "  Chunk 15 Avg Loss: 0.8770\n",
            "  Loading chunk: 16 / 19\n"
          ]
        },
        {
          "data": {
            "application/vnd.jupyter.widget-view+json": {
              "model_id": "60c3e591e09b4a298de83269a1823f94",
              "version_major": 2,
              "version_minor": 0
            },
            "text/plain": [
              "  Chunk 16 Train:   0%|          | 0/20 [00:00<?, ?it/s]"
            ]
          },
          "metadata": {},
          "output_type": "display_data"
        },
        {
          "name": "stdout",
          "output_type": "stream",
          "text": [
            "  Chunk 16 Avg Loss: 0.8344\n",
            "  Loading chunk: 17 / 19\n"
          ]
        },
        {
          "data": {
            "application/vnd.jupyter.widget-view+json": {
              "model_id": "bd04d55b6eb541b89e5115e786f703eb",
              "version_major": 2,
              "version_minor": 0
            },
            "text/plain": [
              "  Chunk 17 Train:   0%|          | 0/20 [00:00<?, ?it/s]"
            ]
          },
          "metadata": {},
          "output_type": "display_data"
        },
        {
          "name": "stdout",
          "output_type": "stream",
          "text": [
            "  Chunk 17 Avg Loss: 0.8398\n",
            "  Loading chunk: 18 / 19\n"
          ]
        },
        {
          "data": {
            "application/vnd.jupyter.widget-view+json": {
              "model_id": "11e8e801b393488ea666dceaf9e3dec7",
              "version_major": 2,
              "version_minor": 0
            },
            "text/plain": [
              "  Chunk 18 Train:   0%|          | 0/20 [00:00<?, ?it/s]"
            ]
          },
          "metadata": {},
          "output_type": "display_data"
        },
        {
          "name": "stdout",
          "output_type": "stream",
          "text": [
            "  Chunk 18 Avg Loss: 0.8084\n",
            "  Loading chunk: 19 / 19\n"
          ]
        },
        {
          "data": {
            "application/vnd.jupyter.widget-view+json": {
              "model_id": "5178f0ae791d44239c2190751920e8fc",
              "version_major": 2,
              "version_minor": 0
            },
            "text/plain": [
              "  Chunk 19 Train:   0%|          | 0/8 [00:00<?, ?it/s]"
            ]
          },
          "metadata": {},
          "output_type": "display_data"
        },
        {
          "name": "stdout",
          "output_type": "stream",
          "text": [
            "  Chunk 19 Avg Loss: 0.8710\n",
            "--- Epoch 1 Average Loss: 0.8670 ---\n",
            "Saving model checkpoint to /kaggle/working/unet3d_brats.pth\n",
            "\n",
            "--- Training Finished ---\n"
          ]
        }
      ],
      "source": [
        "# --- Training Loop ---\n",
        "for epoch in range(TOTAL_EPOCHS):\n",
        "    print(f\"\\n--- Epoch {epoch+1}/{TOTAL_EPOCHS} ---\")\n",
        "    model.train()\n",
        "    random.shuffle(all_train_npz_files) # Shuffle data files each epoch\n",
        "    epoch_loss = 0.0\n",
        "    processed_files = 0\n",
        "\n",
        "    # Chunked loading and training\n",
        "    for chunk_start in range(0, len(all_train_npz_files), CHUNK_SIZE):\n",
        "        chunk_files = all_train_npz_files[chunk_start : chunk_start + CHUNK_SIZE]\n",
        "        if not chunk_files: continue\n",
        "\n",
        "        print(f\"  Loading chunk: {chunk_start // CHUNK_SIZE + 1} / { (len(all_train_npz_files) + CHUNK_SIZE - 1) // CHUNK_SIZE }\")\n",
        "        dataset = BrainTumorDataset3D(chunk_files, CROP_SIZE, is_train=True)\n",
        "        # num_workers > 0 can speed up loading but might cause issues on Kaggle notebooks\n",
        "        train_loader = DataLoader(dataset, batch_size=BATCH_SIZE, shuffle=True, num_workers=0)\n",
        "\n",
        "        chunk_loss = 0.0\n",
        "        for i, (inputs, targets) in enumerate(tqdm(train_loader, desc=f\"  Chunk {chunk_start//CHUNK_SIZE + 1} Train\", leave=False)):\n",
        "            inputs, targets = inputs.to(DEVICE), targets.to(DEVICE)\n",
        "\n",
        "            optimizer.zero_grad()\n",
        "            outputs = model(inputs) # Logits\n",
        "            loss = criterion(outputs, targets)\n",
        "            loss.backward()\n",
        "            optimizer.step()\n",
        "\n",
        "            chunk_loss += loss.item()\n",
        "            processed_files += len(inputs) # Add batch size (usually 1)\n",
        "\n",
        "        avg_chunk_loss = chunk_loss / len(train_loader) if len(train_loader) > 0 else 0\n",
        "        epoch_loss += chunk_loss # Accumulate loss from all batches in the chunk\n",
        "        print(f\"  Chunk {chunk_start//CHUNK_SIZE + 1} Avg Loss: {avg_chunk_loss:.4f}\")\n",
        "\n",
        "        # Clear memory after processing a chunk\n",
        "        del dataset, train_loader, inputs, targets, outputs, chunk_files\n",
        "        gc.collect()\n",
        "        if DEVICE == torch.device('cuda'):\n",
        "            torch.cuda.empty_cache()\n",
        "\n",
        "    avg_epoch_loss = epoch_loss / processed_files if processed_files > 0 else 0\n",
        "    print(f\"--- Epoch {epoch+1} Average Loss: {avg_epoch_loss:.4f} ---\")\n",
        "\n",
        "    # Optional: Learning rate scheduler step\n",
        "    # scheduler.step()\n",
        "\n",
        "    # Save model checkpoint after each epoch\n",
        "    print(f\"Saving model checkpoint to {MODEL_SAVE_PATH}\")\n",
        "    torch.save(model.state_dict(), MODEL_SAVE_PATH)\n",
        "\n",
        "\n",
        "print(\"\\n--- Training Finished ---\")\n"
      ]
    },
    {
      "cell_type": "code",
      "execution_count": null,
      "metadata": {
        "id": "toOVk7s3HrHE"
      },
      "outputs": [],
      "source": [
        "\n",
        "\n",
        "\n",
        "\n",
        "# --- Validation ---\n",
        "print(\"\\n--- Starting Validation ---\")\n",
        "all_val_npz_files = sorted(list(PROCESSED_VAL_DIR.glob(\"*.npz\")))\n",
        "if not all_val_npz_files:\n",
        "    print(\"No validation files found. Skipping validation.\")\n",
        "else:\n",
        "    print(f\"Found {len(all_val_npz_files)} validation files.\")\n",
        "    val_dataset = BrainTumorDataset3D(all_val_npz_files, CROP_SIZE, is_train=False) # Use center crop\n",
        "    val_loader = DataLoader(val_dataset, batch_size=BATCH_SIZE, shuffle=False, num_workers=0)\n",
        "\n",
        "    model.eval() # Set model to evaluation mode\n",
        "    total_val_loss = 0.0\n",
        "    val_dice_scores = [] # Optional: store dice scores per image\n",
        "\n",
        "    with torch.no_grad(): # Disable gradient calculations\n",
        "        for i, (images, labels) in enumerate(tqdm(val_loader, desc=\"Validation\")):\n",
        "            images, labels = images.to(DEVICE), labels.to(DEVICE)\n",
        "            outputs = model(images) # Get logits\n",
        "\n",
        "            # Calculate validation loss (optional, but good practice)\n",
        "            loss = criterion(outputs, labels)\n",
        "            total_val_loss += loss.item()\n",
        "\n",
        "            # Apply sigmoid to get probabilities for stats/metrics\n",
        "            probs = torch.sigmoid(outputs)\n",
        "\n",
        "            # Optional: Calculate Dice score for this validation sample\n",
        "            # Flatten for Dice calculation\n",
        "            probs_flat = probs.view(-1)\n",
        "            labels_flat = labels.view(-1)\n",
        "            intersection = (probs_flat * labels_flat).sum()\n",
        "            dice_score = (2. * intersection + criterion.smooth) / (probs_flat.sum() + labels_flat.sum() + criterion.smooth)\n",
        "            val_dice_scores.append(dice_score.item())\n",
        "\n",
        "\n",
        "            print(f\"\\nValidation Batch {i+1}/{len(val_loader)}\")\n",
        "            print(f\"  Image shape: {images.shape}\")\n",
        "            print(f\"  Label shape: {labels.shape}\")\n",
        "            print(f\"  Output Logits shape: {outputs.shape}\")\n",
        "            print(f\"  Output Probs shape: {probs.shape}\")\n",
        "            # Stats on probabilities (range 0-1) are more intuitive\n",
        "            print(f\"  Output Probs stats - min: {probs.min().item():.4f}, max: {probs.max().item():.4f}, mean: {probs.mean().item():.4f}\")\n",
        "            print(f\"  Batch Dice Loss: {loss.item():.4f}\")\n",
        "            print(f\"  Batch Dice Score: {dice_score.item():.4f}\")\n",
        "\n",
        "\n",
        "            # Visualize a slice (optional, pick one sample if batch_size > 1)\n",
        "            if i < 3: # Show for first 3 batches\n",
        "                slice_idx = images.shape[2] // 2 # Middle slice (Depth dimension)\n",
        "                plt.figure(figsize=(18, 5))\n",
        "                plt.subplot(1, 4, 1)\n",
        "                plt.imshow(images[0, 0, slice_idx, :, :].cpu().numpy(), cmap=\"bone\") # Flair modality\n",
        "                plt.title(f\"Input Flair (Slice {slice_idx})\")\n",
        "                plt.axis(\"off\")\n",
        "\n",
        "                plt.subplot(1, 4, 2)\n",
        "                plt.imshow(labels[0, 0, slice_idx, :, :].cpu().numpy(), cmap=\"gray\")\n",
        "                plt.title(\"Ground Truth Mask\")\n",
        "                plt.axis(\"off\")\n",
        "\n",
        "                plt.subplot(1, 4, 3)\n",
        "                plt.imshow(probs[0, 0, slice_idx, :, :].cpu().numpy(), cmap=\"gray\")\n",
        "                plt.title(\"Predicted Mask (Prob)\")\n",
        "                plt.axis(\"off\")\n",
        "\n",
        "                plt.subplot(1, 4, 4)\n",
        "                plt.imshow((probs[0, 0, slice_idx, :, :].cpu().numpy() > 0.5).astype(float), cmap=\"gray\") # Thresholded mask\n",
        "                plt.title(\"Predicted Mask (Thresholded > 0.5)\")\n",
        "                plt.axis(\"off\")\n",
        "\n",
        "                plt.suptitle(f\"Validation Sample {i+1}\")\n",
        "                plt.tight_layout(rect=[0, 0.03, 1, 0.95]) # Adjust layout to prevent title overlap\n",
        "                plt.show()\n",
        "\n",
        "\n",
        "    avg_val_loss = total_val_loss / len(val_loader) if len(val_loader) > 0 else 0\n",
        "    avg_val_dice = np.mean(val_dice_scores) if val_dice_scores else 0\n",
        "    print(f\"\\n--- Validation Finished ---\")\n",
        "    print(f\"Average Validation Loss: {avg_val_loss:.4f}\")\n",
        "    print(f\"Average Validation Dice Score: {avg_val_dice:.4f}\")\n",
        "\n",
        "    # Clear memory\n",
        "    del val_dataset, val_loader, images, labels, outputs, probs\n",
        "    gc.collect()\n",
        "    if DEVICE == torch.device('cuda'):\n",
        "        torch.cuda.empty_cache()"
      ]
    }
  ],
  "metadata": {
    "accelerator": "TPU",
    "colab": {
      "gpuType": "V28",
      "provenance": [],
      "authorship_tag": "ABX9TyPWJjsvb5ynbQuQzS2HEble",
      "include_colab_link": true
    },
    "kernelspec": {
      "display_name": "Python 3",
      "name": "python3"
    },
    "language_info": {
      "name": "python"
    },
    "widgets": {
      "application/vnd.jupyter.widget-state+json": {
        "0784fcde2de94e288afd3e8be1d956a3": {
          "model_module": "@jupyter-widgets/base",
          "model_module_version": "1.2.0",
          "model_name": "LayoutModel",
          "state": {
            "_model_module": "@jupyter-widgets/base",
            "_model_module_version": "1.2.0",
            "_model_name": "LayoutModel",
            "_view_count": null,
            "_view_module": "@jupyter-widgets/base",
            "_view_module_version": "1.2.0",
            "_view_name": "LayoutView",
            "align_content": null,
            "align_items": null,
            "align_self": null,
            "border": null,
            "bottom": null,
            "display": null,
            "flex": null,
            "flex_flow": null,
            "grid_area": null,
            "grid_auto_columns": null,
            "grid_auto_flow": null,
            "grid_auto_rows": null,
            "grid_column": null,
            "grid_gap": null,
            "grid_row": null,
            "grid_template_areas": null,
            "grid_template_columns": null,
            "grid_template_rows": null,
            "height": null,
            "justify_content": null,
            "justify_items": null,
            "left": null,
            "margin": null,
            "max_height": null,
            "max_width": null,
            "min_height": null,
            "min_width": null,
            "object_fit": null,
            "object_position": null,
            "order": null,
            "overflow": null,
            "overflow_x": null,
            "overflow_y": null,
            "padding": null,
            "right": null,
            "top": null,
            "visibility": null,
            "width": null
          }
        },
        "152a1c7fd2074fb58fb1c53a0542e90d": {
          "model_module": "@jupyter-widgets/base",
          "model_module_version": "1.2.0",
          "model_name": "LayoutModel",
          "state": {
            "_model_module": "@jupyter-widgets/base",
            "_model_module_version": "1.2.0",
            "_model_name": "LayoutModel",
            "_view_count": null,
            "_view_module": "@jupyter-widgets/base",
            "_view_module_version": "1.2.0",
            "_view_name": "LayoutView",
            "align_content": null,
            "align_items": "center",
            "align_self": null,
            "border": null,
            "bottom": null,
            "display": "flex",
            "flex": null,
            "flex_flow": "column",
            "grid_area": null,
            "grid_auto_columns": null,
            "grid_auto_flow": null,
            "grid_auto_rows": null,
            "grid_column": null,
            "grid_gap": null,
            "grid_row": null,
            "grid_template_areas": null,
            "grid_template_columns": null,
            "grid_template_rows": null,
            "height": null,
            "justify_content": null,
            "justify_items": null,
            "left": null,
            "margin": null,
            "max_height": null,
            "max_width": null,
            "min_height": null,
            "min_width": null,
            "object_fit": null,
            "object_position": null,
            "order": null,
            "overflow": null,
            "overflow_x": null,
            "overflow_y": null,
            "padding": null,
            "right": null,
            "top": null,
            "visibility": null,
            "width": "50%"
          }
        },
        "19010552d45b4b17b04d5b85ff4e580d": {
          "model_module": "@jupyter-widgets/controls",
          "model_module_version": "1.5.0",
          "model_name": "LabelModel",
          "state": {
            "_dom_classes": [],
            "_model_module": "@jupyter-widgets/controls",
            "_model_module_version": "1.5.0",
            "_model_name": "LabelModel",
            "_view_count": null,
            "_view_module": "@jupyter-widgets/controls",
            "_view_module_version": "1.5.0",
            "_view_name": "LabelView",
            "description": "",
            "description_tooltip": null,
            "layout": "IPY_MODEL_22a164d00902483a88d9799bdd880bec",
            "placeholder": "​",
            "style": "IPY_MODEL_308438491b904a18933783ad5623e270",
            "value": "Kaggle credentials successfully validated."
          }
        },
        "22a164d00902483a88d9799bdd880bec": {
          "model_module": "@jupyter-widgets/base",
          "model_module_version": "1.2.0",
          "model_name": "LayoutModel",
          "state": {
            "_model_module": "@jupyter-widgets/base",
            "_model_module_version": "1.2.0",
            "_model_name": "LayoutModel",
            "_view_count": null,
            "_view_module": "@jupyter-widgets/base",
            "_view_module_version": "1.2.0",
            "_view_name": "LayoutView",
            "align_content": null,
            "align_items": null,
            "align_self": null,
            "border": null,
            "bottom": null,
            "display": null,
            "flex": null,
            "flex_flow": null,
            "grid_area": null,
            "grid_auto_columns": null,
            "grid_auto_flow": null,
            "grid_auto_rows": null,
            "grid_column": null,
            "grid_gap": null,
            "grid_row": null,
            "grid_template_areas": null,
            "grid_template_columns": null,
            "grid_template_rows": null,
            "height": null,
            "justify_content": null,
            "justify_items": null,
            "left": null,
            "margin": null,
            "max_height": null,
            "max_width": null,
            "min_height": null,
            "min_width": null,
            "object_fit": null,
            "object_position": null,
            "order": null,
            "overflow": null,
            "overflow_x": null,
            "overflow_y": null,
            "padding": null,
            "right": null,
            "top": null,
            "visibility": null,
            "width": null
          }
        },
        "308438491b904a18933783ad5623e270": {
          "model_module": "@jupyter-widgets/controls",
          "model_module_version": "1.5.0",
          "model_name": "DescriptionStyleModel",
          "state": {
            "_model_module": "@jupyter-widgets/controls",
            "_model_module_version": "1.5.0",
            "_model_name": "DescriptionStyleModel",
            "_view_count": null,
            "_view_module": "@jupyter-widgets/base",
            "_view_module_version": "1.2.0",
            "_view_name": "StyleView",
            "description_width": ""
          }
        },
        "3ebf0fdeebb04bfb871e3ce64ffebcec": {
          "model_module": "@jupyter-widgets/controls",
          "model_module_version": "1.5.0",
          "model_name": "DescriptionStyleModel",
          "state": {
            "_model_module": "@jupyter-widgets/controls",
            "_model_module_version": "1.5.0",
            "_model_name": "DescriptionStyleModel",
            "_view_count": null,
            "_view_module": "@jupyter-widgets/base",
            "_view_module_version": "1.2.0",
            "_view_name": "StyleView",
            "description_width": ""
          }
        },
        "4cd3e435bf914c5a93d2cac53f35a237": {
          "model_module": "@jupyter-widgets/controls",
          "model_module_version": "1.5.0",
          "model_name": "HTMLModel",
          "state": {
            "_dom_classes": [],
            "_model_module": "@jupyter-widgets/controls",
            "_model_module_version": "1.5.0",
            "_model_name": "HTMLModel",
            "_view_count": null,
            "_view_module": "@jupyter-widgets/controls",
            "_view_module_version": "1.5.0",
            "_view_name": "HTMLView",
            "description": "",
            "description_tooltip": null,
            "layout": "IPY_MODEL_75cd1b520ca14470b616c4ba3820b9dd",
            "placeholder": "​",
            "style": "IPY_MODEL_4d47df6d6b254f6bb0ed5e64c689cf76",
            "value": " 123/125 [08:23&lt;00:09,  4.91s/it]"
          }
        },
        "4d47df6d6b254f6bb0ed5e64c689cf76": {
          "model_module": "@jupyter-widgets/controls",
          "model_module_version": "1.5.0",
          "model_name": "DescriptionStyleModel",
          "state": {
            "_model_module": "@jupyter-widgets/controls",
            "_model_module_version": "1.5.0",
            "_model_name": "DescriptionStyleModel",
            "_view_count": null,
            "_view_module": "@jupyter-widgets/base",
            "_view_module_version": "1.2.0",
            "_view_name": "StyleView",
            "description_width": ""
          }
        },
        "5719eb7a93bb41739ebe5a94a78625ef": {
          "model_module": "@jupyter-widgets/controls",
          "model_module_version": "1.5.0",
          "model_name": "ProgressStyleModel",
          "state": {
            "_model_module": "@jupyter-widgets/controls",
            "_model_module_version": "1.5.0",
            "_model_name": "ProgressStyleModel",
            "_view_count": null,
            "_view_module": "@jupyter-widgets/base",
            "_view_module_version": "1.2.0",
            "_view_name": "StyleView",
            "bar_color": null,
            "description_width": ""
          }
        },
        "59141234047044879cd6495287185218": {
          "model_module": "@jupyter-widgets/controls",
          "model_module_version": "1.5.0",
          "model_name": "HBoxModel",
          "state": {
            "_dom_classes": [],
            "_model_module": "@jupyter-widgets/controls",
            "_model_module_version": "1.5.0",
            "_model_name": "HBoxModel",
            "_view_count": null,
            "_view_module": "@jupyter-widgets/controls",
            "_view_module_version": "1.5.0",
            "_view_name": "HBoxView",
            "box_style": "",
            "children": [
              "IPY_MODEL_e2c97d273205453db2f8b12b6f89eefa",
              "IPY_MODEL_8beafe6c739a4a37b04dc3b99166e1c3",
              "IPY_MODEL_4cd3e435bf914c5a93d2cac53f35a237"
            ],
            "layout": "IPY_MODEL_0784fcde2de94e288afd3e8be1d956a3"
          }
        },
        "604fc7aed078436098085d69f2389a04": {
          "model_module": "@jupyter-widgets/base",
          "model_module_version": "1.2.0",
          "model_name": "LayoutModel",
          "state": {
            "_model_module": "@jupyter-widgets/base",
            "_model_module_version": "1.2.0",
            "_model_name": "LayoutModel",
            "_view_count": null,
            "_view_module": "@jupyter-widgets/base",
            "_view_module_version": "1.2.0",
            "_view_name": "LayoutView",
            "align_content": null,
            "align_items": null,
            "align_self": null,
            "border": null,
            "bottom": null,
            "display": null,
            "flex": null,
            "flex_flow": null,
            "grid_area": null,
            "grid_auto_columns": null,
            "grid_auto_flow": null,
            "grid_auto_rows": null,
            "grid_column": null,
            "grid_gap": null,
            "grid_row": null,
            "grid_template_areas": null,
            "grid_template_columns": null,
            "grid_template_rows": null,
            "height": null,
            "justify_content": null,
            "justify_items": null,
            "left": null,
            "margin": null,
            "max_height": null,
            "max_width": null,
            "min_height": null,
            "min_width": null,
            "object_fit": null,
            "object_position": null,
            "order": null,
            "overflow": null,
            "overflow_x": null,
            "overflow_y": null,
            "padding": null,
            "right": null,
            "top": null,
            "visibility": null,
            "width": null
          }
        },
        "63ac9cf9d1a94ffe8e6ea6edf6e571ae": {
          "model_module": "@jupyter-widgets/controls",
          "model_module_version": "1.5.0",
          "model_name": "ProgressStyleModel",
          "state": {
            "_model_module": "@jupyter-widgets/controls",
            "_model_module_version": "1.5.0",
            "_model_name": "ProgressStyleModel",
            "_view_count": null,
            "_view_module": "@jupyter-widgets/base",
            "_view_module_version": "1.2.0",
            "_view_name": "StyleView",
            "bar_color": null,
            "description_width": ""
          }
        },
        "75cd1b520ca14470b616c4ba3820b9dd": {
          "model_module": "@jupyter-widgets/base",
          "model_module_version": "1.2.0",
          "model_name": "LayoutModel",
          "state": {
            "_model_module": "@jupyter-widgets/base",
            "_model_module_version": "1.2.0",
            "_model_name": "LayoutModel",
            "_view_count": null,
            "_view_module": "@jupyter-widgets/base",
            "_view_module_version": "1.2.0",
            "_view_name": "LayoutView",
            "align_content": null,
            "align_items": null,
            "align_self": null,
            "border": null,
            "bottom": null,
            "display": null,
            "flex": null,
            "flex_flow": null,
            "grid_area": null,
            "grid_auto_columns": null,
            "grid_auto_flow": null,
            "grid_auto_rows": null,
            "grid_column": null,
            "grid_gap": null,
            "grid_row": null,
            "grid_template_areas": null,
            "grid_template_columns": null,
            "grid_template_rows": null,
            "height": null,
            "justify_content": null,
            "justify_items": null,
            "left": null,
            "margin": null,
            "max_height": null,
            "max_width": null,
            "min_height": null,
            "min_width": null,
            "object_fit": null,
            "object_position": null,
            "order": null,
            "overflow": null,
            "overflow_x": null,
            "overflow_y": null,
            "padding": null,
            "right": null,
            "top": null,
            "visibility": null,
            "width": null
          }
        },
        "7f0db93f77ef47929a617f2826bc8171": {
          "model_module": "@jupyter-widgets/base",
          "model_module_version": "1.2.0",
          "model_name": "LayoutModel",
          "state": {
            "_model_module": "@jupyter-widgets/base",
            "_model_module_version": "1.2.0",
            "_model_name": "LayoutModel",
            "_view_count": null,
            "_view_module": "@jupyter-widgets/base",
            "_view_module_version": "1.2.0",
            "_view_name": "LayoutView",
            "align_content": null,
            "align_items": null,
            "align_self": null,
            "border": null,
            "bottom": null,
            "display": null,
            "flex": null,
            "flex_flow": null,
            "grid_area": null,
            "grid_auto_columns": null,
            "grid_auto_flow": null,
            "grid_auto_rows": null,
            "grid_column": null,
            "grid_gap": null,
            "grid_row": null,
            "grid_template_areas": null,
            "grid_template_columns": null,
            "grid_template_rows": null,
            "height": null,
            "justify_content": null,
            "justify_items": null,
            "left": null,
            "margin": null,
            "max_height": null,
            "max_width": null,
            "min_height": null,
            "min_width": null,
            "object_fit": null,
            "object_position": null,
            "order": null,
            "overflow": null,
            "overflow_x": null,
            "overflow_y": null,
            "padding": null,
            "right": null,
            "top": null,
            "visibility": null,
            "width": null
          }
        },
        "8beafe6c739a4a37b04dc3b99166e1c3": {
          "model_module": "@jupyter-widgets/controls",
          "model_module_version": "1.5.0",
          "model_name": "FloatProgressModel",
          "state": {
            "_dom_classes": [],
            "_model_module": "@jupyter-widgets/controls",
            "_model_module_version": "1.5.0",
            "_model_name": "FloatProgressModel",
            "_view_count": null,
            "_view_module": "@jupyter-widgets/controls",
            "_view_module_version": "1.5.0",
            "_view_name": "ProgressView",
            "bar_style": "",
            "description": "",
            "description_tooltip": null,
            "layout": "IPY_MODEL_8cf19717c6074796bdc7ee4e9425f108",
            "max": 125,
            "min": 0,
            "orientation": "horizontal",
            "style": "IPY_MODEL_5719eb7a93bb41739ebe5a94a78625ef",
            "value": 123
          }
        },
        "8cf19717c6074796bdc7ee4e9425f108": {
          "model_module": "@jupyter-widgets/base",
          "model_module_version": "1.2.0",
          "model_name": "LayoutModel",
          "state": {
            "_model_module": "@jupyter-widgets/base",
            "_model_module_version": "1.2.0",
            "_model_name": "LayoutModel",
            "_view_count": null,
            "_view_module": "@jupyter-widgets/base",
            "_view_module_version": "1.2.0",
            "_view_name": "LayoutView",
            "align_content": null,
            "align_items": null,
            "align_self": null,
            "border": null,
            "bottom": null,
            "display": null,
            "flex": null,
            "flex_flow": null,
            "grid_area": null,
            "grid_auto_columns": null,
            "grid_auto_flow": null,
            "grid_auto_rows": null,
            "grid_column": null,
            "grid_gap": null,
            "grid_row": null,
            "grid_template_areas": null,
            "grid_template_columns": null,
            "grid_template_rows": null,
            "height": null,
            "justify_content": null,
            "justify_items": null,
            "left": null,
            "margin": null,
            "max_height": null,
            "max_width": null,
            "min_height": null,
            "min_width": null,
            "object_fit": null,
            "object_position": null,
            "order": null,
            "overflow": null,
            "overflow_x": null,
            "overflow_y": null,
            "padding": null,
            "right": null,
            "top": null,
            "visibility": null,
            "width": null
          }
        },
        "8e10f78dd19c4f03a58fe841ff5a4217": {
          "model_module": "@jupyter-widgets/controls",
          "model_module_version": "1.5.0",
          "model_name": "DescriptionStyleModel",
          "state": {
            "_model_module": "@jupyter-widgets/controls",
            "_model_module_version": "1.5.0",
            "_model_name": "DescriptionStyleModel",
            "_view_count": null,
            "_view_module": "@jupyter-widgets/base",
            "_view_module_version": "1.2.0",
            "_view_name": "StyleView",
            "description_width": ""
          }
        },
        "8e5834d8d3d34ea6885dfaf0fe0d1dc3": {
          "model_module": "@jupyter-widgets/controls",
          "model_module_version": "1.5.0",
          "model_name": "HTMLModel",
          "state": {
            "_dom_classes": [],
            "_model_module": "@jupyter-widgets/controls",
            "_model_module_version": "1.5.0",
            "_model_name": "HTMLModel",
            "_view_count": null,
            "_view_module": "@jupyter-widgets/controls",
            "_view_module_version": "1.5.0",
            "_view_name": "HTMLView",
            "description": "",
            "description_tooltip": null,
            "layout": "IPY_MODEL_a005453794b14b15bc26abc9ed66fe8e",
            "placeholder": "​",
            "style": "IPY_MODEL_cb5721bededa4f5da196a2c6c5d0dd35",
            "value": " 369/369 [26:50&lt;00:00,  5.01s/it]"
          }
        },
        "9069b161b38a4d0f993febea44b1e788": {
          "model_module": "@jupyter-widgets/controls",
          "model_module_version": "1.5.0",
          "model_name": "VBoxModel",
          "state": {
            "_dom_classes": [],
            "_model_module": "@jupyter-widgets/controls",
            "_model_module_version": "1.5.0",
            "_model_name": "VBoxModel",
            "_view_count": null,
            "_view_module": "@jupyter-widgets/controls",
            "_view_module_version": "1.5.0",
            "_view_name": "VBoxView",
            "box_style": "",
            "children": [
              "IPY_MODEL_19010552d45b4b17b04d5b85ff4e580d"
            ],
            "layout": "IPY_MODEL_152a1c7fd2074fb58fb1c53a0542e90d"
          }
        },
        "a005453794b14b15bc26abc9ed66fe8e": {
          "model_module": "@jupyter-widgets/base",
          "model_module_version": "1.2.0",
          "model_name": "LayoutModel",
          "state": {
            "_model_module": "@jupyter-widgets/base",
            "_model_module_version": "1.2.0",
            "_model_name": "LayoutModel",
            "_view_count": null,
            "_view_module": "@jupyter-widgets/base",
            "_view_module_version": "1.2.0",
            "_view_name": "LayoutView",
            "align_content": null,
            "align_items": null,
            "align_self": null,
            "border": null,
            "bottom": null,
            "display": null,
            "flex": null,
            "flex_flow": null,
            "grid_area": null,
            "grid_auto_columns": null,
            "grid_auto_flow": null,
            "grid_auto_rows": null,
            "grid_column": null,
            "grid_gap": null,
            "grid_row": null,
            "grid_template_areas": null,
            "grid_template_columns": null,
            "grid_template_rows": null,
            "height": null,
            "justify_content": null,
            "justify_items": null,
            "left": null,
            "margin": null,
            "max_height": null,
            "max_width": null,
            "min_height": null,
            "min_width": null,
            "object_fit": null,
            "object_position": null,
            "order": null,
            "overflow": null,
            "overflow_x": null,
            "overflow_y": null,
            "padding": null,
            "right": null,
            "top": null,
            "visibility": null,
            "width": null
          }
        },
        "cb5721bededa4f5da196a2c6c5d0dd35": {
          "model_module": "@jupyter-widgets/controls",
          "model_module_version": "1.5.0",
          "model_name": "DescriptionStyleModel",
          "state": {
            "_model_module": "@jupyter-widgets/controls",
            "_model_module_version": "1.5.0",
            "_model_name": "DescriptionStyleModel",
            "_view_count": null,
            "_view_module": "@jupyter-widgets/base",
            "_view_module_version": "1.2.0",
            "_view_name": "StyleView",
            "description_width": ""
          }
        },
        "d7bd7aa2cb6042dbbccbcd7b955712da": {
          "model_module": "@jupyter-widgets/base",
          "model_module_version": "1.2.0",
          "model_name": "LayoutModel",
          "state": {
            "_model_module": "@jupyter-widgets/base",
            "_model_module_version": "1.2.0",
            "_model_name": "LayoutModel",
            "_view_count": null,
            "_view_module": "@jupyter-widgets/base",
            "_view_module_version": "1.2.0",
            "_view_name": "LayoutView",
            "align_content": null,
            "align_items": null,
            "align_self": null,
            "border": null,
            "bottom": null,
            "display": null,
            "flex": null,
            "flex_flow": null,
            "grid_area": null,
            "grid_auto_columns": null,
            "grid_auto_flow": null,
            "grid_auto_rows": null,
            "grid_column": null,
            "grid_gap": null,
            "grid_row": null,
            "grid_template_areas": null,
            "grid_template_columns": null,
            "grid_template_rows": null,
            "height": null,
            "justify_content": null,
            "justify_items": null,
            "left": null,
            "margin": null,
            "max_height": null,
            "max_width": null,
            "min_height": null,
            "min_width": null,
            "object_fit": null,
            "object_position": null,
            "order": null,
            "overflow": null,
            "overflow_x": null,
            "overflow_y": null,
            "padding": null,
            "right": null,
            "top": null,
            "visibility": null,
            "width": null
          }
        },
        "de3a30350e1048be8f80dd8660109f53": {
          "model_module": "@jupyter-widgets/controls",
          "model_module_version": "1.5.0",
          "model_name": "FloatProgressModel",
          "state": {
            "_dom_classes": [],
            "_model_module": "@jupyter-widgets/controls",
            "_model_module_version": "1.5.0",
            "_model_name": "FloatProgressModel",
            "_view_count": null,
            "_view_module": "@jupyter-widgets/controls",
            "_view_module_version": "1.5.0",
            "_view_name": "ProgressView",
            "bar_style": "success",
            "description": "",
            "description_tooltip": null,
            "layout": "IPY_MODEL_d7bd7aa2cb6042dbbccbcd7b955712da",
            "max": 369,
            "min": 0,
            "orientation": "horizontal",
            "style": "IPY_MODEL_63ac9cf9d1a94ffe8e6ea6edf6e571ae",
            "value": 369
          }
        },
        "e2c97d273205453db2f8b12b6f89eefa": {
          "model_module": "@jupyter-widgets/controls",
          "model_module_version": "1.5.0",
          "model_name": "HTMLModel",
          "state": {
            "_dom_classes": [],
            "_model_module": "@jupyter-widgets/controls",
            "_model_module_version": "1.5.0",
            "_model_name": "HTMLModel",
            "_view_count": null,
            "_view_module": "@jupyter-widgets/controls",
            "_view_module_version": "1.5.0",
            "_view_name": "HTMLView",
            "description": "",
            "description_tooltip": null,
            "layout": "IPY_MODEL_7f0db93f77ef47929a617f2826bc8171",
            "placeholder": "​",
            "style": "IPY_MODEL_3ebf0fdeebb04bfb871e3ce64ffebcec",
            "value": "Preprocessing Validation:  98%"
          }
        },
        "e7fe3025956d4cd1b4145442ad530a12": {
          "model_module": "@jupyter-widgets/base",
          "model_module_version": "1.2.0",
          "model_name": "LayoutModel",
          "state": {
            "_model_module": "@jupyter-widgets/base",
            "_model_module_version": "1.2.0",
            "_model_name": "LayoutModel",
            "_view_count": null,
            "_view_module": "@jupyter-widgets/base",
            "_view_module_version": "1.2.0",
            "_view_name": "LayoutView",
            "align_content": null,
            "align_items": null,
            "align_self": null,
            "border": null,
            "bottom": null,
            "display": null,
            "flex": null,
            "flex_flow": null,
            "grid_area": null,
            "grid_auto_columns": null,
            "grid_auto_flow": null,
            "grid_auto_rows": null,
            "grid_column": null,
            "grid_gap": null,
            "grid_row": null,
            "grid_template_areas": null,
            "grid_template_columns": null,
            "grid_template_rows": null,
            "height": null,
            "justify_content": null,
            "justify_items": null,
            "left": null,
            "margin": null,
            "max_height": null,
            "max_width": null,
            "min_height": null,
            "min_width": null,
            "object_fit": null,
            "object_position": null,
            "order": null,
            "overflow": null,
            "overflow_x": null,
            "overflow_y": null,
            "padding": null,
            "right": null,
            "top": null,
            "visibility": null,
            "width": null
          }
        },
        "e85b4bd9fc1e46bca0c2159f2cf1aa1b": {
          "model_module": "@jupyter-widgets/controls",
          "model_module_version": "1.5.0",
          "model_name": "HTMLModel",
          "state": {
            "_dom_classes": [],
            "_model_module": "@jupyter-widgets/controls",
            "_model_module_version": "1.5.0",
            "_model_name": "HTMLModel",
            "_view_count": null,
            "_view_module": "@jupyter-widgets/controls",
            "_view_module_version": "1.5.0",
            "_view_name": "HTMLView",
            "description": "",
            "description_tooltip": null,
            "layout": "IPY_MODEL_e7fe3025956d4cd1b4145442ad530a12",
            "placeholder": "​",
            "style": "IPY_MODEL_8e10f78dd19c4f03a58fe841ff5a4217",
            "value": "Preprocessing Train: 100%"
          }
        },
        "f42de9a7a6f9471aa68045146dc17ba9": {
          "model_module": "@jupyter-widgets/controls",
          "model_module_version": "1.5.0",
          "model_name": "HBoxModel",
          "state": {
            "_dom_classes": [],
            "_model_module": "@jupyter-widgets/controls",
            "_model_module_version": "1.5.0",
            "_model_name": "HBoxModel",
            "_view_count": null,
            "_view_module": "@jupyter-widgets/controls",
            "_view_module_version": "1.5.0",
            "_view_name": "HBoxView",
            "box_style": "",
            "children": [
              "IPY_MODEL_e85b4bd9fc1e46bca0c2159f2cf1aa1b",
              "IPY_MODEL_de3a30350e1048be8f80dd8660109f53",
              "IPY_MODEL_8e5834d8d3d34ea6885dfaf0fe0d1dc3"
            ],
            "layout": "IPY_MODEL_604fc7aed078436098085d69f2389a04"
          }
        }
      }
    }
  },
  "nbformat": 4,
  "nbformat_minor": 0
}