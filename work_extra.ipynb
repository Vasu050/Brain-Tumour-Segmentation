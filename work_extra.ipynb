{
  "nbformat": 4,
  "nbformat_minor": 0,
  "metadata": {
    "colab": {
      "provenance": [],
      "gpuType": "T4",
      "include_colab_link": true
    },
    "kernelspec": {
      "name": "python3",
      "display_name": "Python 3"
    },
    "language_info": {
      "name": "python"
    },
    "accelerator": "GPU"
  },
  "cells": [
    {
      "cell_type": "markdown",
      "metadata": {
        "id": "view-in-github",
        "colab_type": "text"
      },
      "source": [
        "<a href=\"https://colab.research.google.com/github/Vasu050/Brain-Tumour-Segmentation/blob/main/work_extra.ipynb\" target=\"_parent\"><img src=\"https://colab.research.google.com/assets/colab-badge.svg\" alt=\"Open In Colab\"/></a>"
      ]
    },
    {
      "cell_type": "code",
      "source": [
        "\n",
        "# IMPORTANT: SOME KAGGLE DATA SOURCES ARE PRIVATE\n",
        "# RUN THIS CELL IN ORDER TO IMPORT YOUR KAGGLE DATA SOURCES.\n",
        "import kagglehub\n",
        "kagglehub.login()\n",
        "\n",
        "# IMPORTANT: RUN THIS CELL IN ORDER TO IMPORT YOUR KAGGLE DATA SOURCES,\n",
        "# THEN FEEL FREE TO DELETE THIS CELL.\n",
        "# NOTE: THIS NOTEBOOK ENVIRONMENT DIFFERS FROM KAGGLE'S PYTHON\n",
        "# ENVIRONMENT SO THERE MAY BE MISSING LIBRARIES USED BY YOUR\n",
        "# NOTEBOOK."
      ],
      "metadata": {
        "id": "tJRqhLI86sD4"
      },
      "execution_count": null,
      "outputs": []
    },
    {
      "cell_type": "code",
      "source": [
        "\n",
        "awsaf49_brats20_dataset_training_validation_path = kagglehub.dataset_download('awsaf49/brats20-dataset-training-validation')\n",
        "animelover72_monai_offline_path = kagglehub.dataset_download('animelover72/monai-offline')\n",
        "\n",
        "print('Data source import complete.')\n",
        "\n",
        "# It is defined by the kaggle/python Docker image: https://github.com/kaggle/docker-python\n",
        "# For example, here's several helpful packages to load\n"
      ],
      "metadata": {
        "colab": {
          "base_uri": "https://localhost:8080/"
        },
        "id": "JJHx-aP35B37",
        "outputId": "a8bd31a6-33d0-4acc-cd1a-e01e54226b87"
      },
      "execution_count": null,
      "outputs": [
        {
          "output_type": "stream",
          "name": "stdout",
          "text": [
            "Downloading from https://www.kaggle.com/api/v1/datasets/download/animelover72/monai-offline?dataset_version_number=1...\n"
          ]
        },
        {
          "output_type": "stream",
          "name": "stderr",
          "text": [
            "100%|██████████| 959M/959M [00:10<00:00, 100MB/s] "
          ]
        },
        {
          "output_type": "stream",
          "name": "stdout",
          "text": [
            "Extracting files...\n"
          ]
        },
        {
          "output_type": "stream",
          "name": "stderr",
          "text": [
            "\n"
          ]
        },
        {
          "output_type": "stream",
          "name": "stdout",
          "text": [
            "Data source import complete.\n"
          ]
        }
      ]
    },
    {
      "cell_type": "code",
      "source": [
        "\n",
        "import numpy as np # linear algebra\n",
        "import pandas as pd # data processing, CSV file I/O (e.g. pd.read_csv)\n",
        "\n",
        "# Input data files are available in the read-only \"../input/\" directory\n",
        "# For example, running this (by clicking run or pressing Shift+Enter) will list all files under the input directory\n"
      ],
      "metadata": {
        "id": "c796y2Ha5Gz1"
      },
      "execution_count": null,
      "outputs": []
    },
    {
      "cell_type": "code",
      "source": [
        "import os\n",
        "for dirname, _, filenames in os.walk('/kaggle/input'):\n",
        "    for filename in filenames:\n",
        "        os.path.join(dirname, filename)\n",
        "\n",
        "# You can write up to 20GB to the current directory (/kaggle/working/) that gets preserved as output when you create a version using \"Save & Run All\"\n",
        "# You can also write temporary files to /kaggle/temp/, but they won't be saved outside of the current session\n"
      ],
      "metadata": {
        "id": "kk5ovgPl5M5q"
      },
      "execution_count": null,
      "outputs": []
    },
    {
      "cell_type": "code",
      "source": [
        "!pip install -q nibabel\n",
        "#!pip install -q git+https://github.com/Project-MONAI/MONAI#egg=monai\n",
        "import nibabel as nib\n",
        "import numpy as np\n",
        "import matplotlib.pyplot as plt"
      ],
      "metadata": {
        "id": "NmiIr-PB5Xh5"
      },
      "execution_count": null,
      "outputs": []
    },
    {
      "cell_type": "code",
      "source": [
        "path = '/kaggle/input/brats20-dataset-training-validation/BraTS2020_TrainingData/MICCAI_BraTS2020_TrainingData/BraTS20_Training_001/'\n",
        "flair = nib.load(path + 'BraTS20_Training_001_flair.nii').get_fdata()\n",
        "t1 = nib.load(path + 'BraTS20_Training_001_t1.nii').get_fdata()\n",
        "t1ce = nib.load(path + 'BraTS20_Training_001_t1ce.nii').get_fdata()\n",
        "t2 = nib.load(path + 'BraTS20_Training_001_t2.nii').get_fdata()\n",
        "seg = nib.load(path + 'BraTS20_Training_001_seg.nii').get_fdata()\n",
        "print(\"FLAIR shape:\", flair.shape)\n",
        "print(\"T1 shape:\", t1.shape)\n",
        "print(\"T1ce shape:\", t1ce.shape)\n",
        "print(\"T2 shape:\", t2.shape)\n",
        "print(\"Segmentation shape:\", seg.shape)\n"
      ],
      "metadata": {
        "colab": {
          "base_uri": "https://localhost:8080/"
        },
        "id": "B6CLc0YG5c8V",
        "outputId": "86496f45-4a74-4969-bace-012a31dbb19c"
      },
      "execution_count": null,
      "outputs": [
        {
          "output_type": "stream",
          "name": "stdout",
          "text": [
            "FLAIR shape: (240, 240, 155)\n",
            "T1 shape: (240, 240, 155)\n",
            "T1ce shape: (240, 240, 155)\n",
            "T2 shape: (240, 240, 155)\n",
            "Segmentation shape: (240, 240, 155)\n"
          ]
        }
      ]
    },
    {
      "cell_type": "code",
      "source": [
        "\n",
        "# Step 1: Define the correct file path to your image\n",
        "file_path = '/kaggle/input/brats20-dataset-training-validation/BraTS2020_TrainingData/MICCAI_BraTS2020_TrainingData/BraTS20_Training_001/BraTS20_Training_001_flair.nii'\n",
        "\n",
        "# Step 2: Load the image data using nibabel\n",
        "img = nib.load(file_path)\n",
        "\n",
        "# Step 3: Convert it to a NumPy array\n",
        "img_data = img.get_fdata()\n",
        "\n",
        "# Step 4: Display the shape of the image to understand the dimensions (depth, height, width)\n",
        "print(\"Shape of the image data:\", img_data.shape) # pixelxpixelxdepth ,depth is no. fo slices\n",
        "\n",
        "# Step 5: Pick a slice to visualize (for example, middle slice along the z-axis)\n",
        "slice_num = img_data.shape[2] // 2  # Choose the middle slice\n",
        "\n",
        "# Step 6: Visualize the slice using matplotlib\n",
        "plt.imshow(img_data[100, :, :], cmap=\"gray\")\n",
        "plt.title(\"Middle Slice of FLAIR Image\")\n",
        "plt.axis(\"off\")\n",
        "plt.show()\n"
      ],
      "metadata": {
        "colab": {
          "base_uri": "https://localhost:8080/",
          "height": 445
        },
        "id": "_uTKloNG5hv-",
        "outputId": "d4f43506-e6e9-4adf-e0f5-fafbdfe9924e"
      },
      "execution_count": null,
      "outputs": [
        {
          "output_type": "stream",
          "name": "stdout",
          "text": [
            "Shape of the image data: (240, 240, 155)\n"
          ]
        },
        {
          "output_type": "display_data",
          "data": {
            "text/plain": [
              "<Figure size 640x480 with 1 Axes>"
            ],
            "image/png": "[encoded data removed]"
          },
          "metadata": {}
        }
      ]
    },
    {
      "cell_type": "code",
      "source": [
        "\n",
        "import os\n",
        "import nibabel as nib\n",
        "import numpy as np\n",
        "from tqdm import tqdm\n",
        "import gc  # for memory cleanup\n",
        "\n",
        "# Base path to your dataset\n",
        "base_path = \"/kaggle/input/brats20-dataset-training-validation/BraTS2020_TrainingData/MICCAI_BraTS2020_TrainingData\"\n",
        "\n",
        "# Output directory to save processed .npz files\n",
        "save_dir = \"/kaggle/working/processed_data\"\n",
        "os.makedirs(save_dir, exist_ok=True)\n",
        "\n",
        "# List all patient folders\n",
        "patient_dirs = sorted(os.listdir(base_path))\n",
        "\n",
        "# Modalities you want to load\n",
        "modalities = ['flair', 't1', 't1ce', 't2']\n",
        "\n",
        "# Function to normalize MRI volume\n",
        "def normalize(volume):\n",
        "    mean = np.mean(volume)\n",
        "    std = np.std(volume)\n",
        "    if std == 0:\n",
        "        return volume  # avoid division by zero\n",
        "    return (volume - mean) / std\n",
        "\n",
        "# Loop through each patient folder\n",
        "for patient_id in tqdm(patient_dirs):\n",
        "    patient_path = os.path.join(base_path, patient_id)\n",
        "\n",
        "    try:\n",
        "        volumes = []\n",
        "        for mod in modalities:\n",
        "            path = os.path.join(patient_path, f\"{patient_id}_{mod}.nii\")\n",
        "            img = nib.load(path).get_fdata()\n",
        "            volumes.append(normalize(img))\n",
        "\n",
        "        # Load segmentation mask (no normalization)\n",
        "        seg_path = os.path.join(patient_path, f\"{patient_id}_seg.nii\")\n",
        "        seg = nib.load(seg_path).get_fdata()\n",
        "\n",
        "        # Save to .npz file\n",
        "        output_path = os.path.join(save_dir, f\"{patient_id}.npz\")\n",
        "        np.savez_compressed(output_path, input=np.stack(volumes), label=seg)\n",
        "\n",
        "        # Free memory\n",
        "        del volumes\n",
        "        del seg\n",
        "        gc.collect()\n",
        "        print(\"done\")\n",
        "    except Exception as e:\n",
        "        print(f\"Skipping {patient_id} due to error: {e}\")"
      ],
      "metadata": {
        "colab": {
          "base_uri": "https://localhost:8080/"
        },
        "id": "jLCJ2nT05o9o",
        "outputId": "1b6dcd1d-4629-4bb1-90a7-af627952e5c9",
        "collapsed": true
      },
      "execution_count": null,
      "outputs": [
        {
          "output_type": "stream",
          "name": "stderr",
          "text": [
            "  0%|          | 1/371 [00:05<33:36,  5.45s/it]"
          ]
        },
        {
          "output_type": "stream",
          "name": "stdout",
          "text": [
            "done\n"
          ]
        },
        {
          "output_type": "stream",
          "name": "stderr",
          "text": [
            "\r  1%|          | 2/371 [00:13<44:18,  7.20s/it]"
          ]
        },
        {
          "output_type": "stream",
          "name": "stdout",
          "text": [
            "done\n"
          ]
        },
        {
          "output_type": "stream",
          "name": "stderr",
          "text": [
            "\r  1%|          | 3/371 [00:21<44:04,  7.19s/it]"
          ]
        },
        {
          "output_type": "stream",
          "name": "stdout",
          "text": [
            "done\n"
          ]
        },
        {
          "output_type": "stream",
          "name": "stderr",
          "text": [
            "\r  1%|          | 4/371 [00:26<39:46,  6.50s/it]"
          ]
        },
        {
          "output_type": "stream",
          "name": "stdout",
          "text": [
            "done\n"
          ]
        },
        {
          "output_type": "stream",
          "name": "stderr",
          "text": [
            "\r  1%|▏         | 5/371 [00:31<37:14,  6.11s/it]"
          ]
        },
        {
          "output_type": "stream",
          "name": "stdout",
          "text": [
            "done\n"
          ]
        },
        {
          "output_type": "stream",
          "name": "stderr",
          "text": [
            "\r  2%|▏         | 6/371 [00:37<35:11,  5.79s/it]"
          ]
        },
        {
          "output_type": "stream",
          "name": "stdout",
          "text": [
            "done\n"
          ]
        },
        {
          "output_type": "stream",
          "name": "stderr",
          "text": [
            "\r  2%|▏         | 7/371 [00:42<35:21,  5.83s/it]"
          ]
        },
        {
          "output_type": "stream",
          "name": "stdout",
          "text": [
            "done\n"
          ]
        },
        {
          "output_type": "stream",
          "name": "stderr",
          "text": [
            "\r  2%|▏         | 8/371 [00:48<33:58,  5.62s/it]"
          ]
        },
        {
          "output_type": "stream",
          "name": "stdout",
          "text": [
            "done\n"
          ]
        },
        {
          "output_type": "stream",
          "name": "stderr",
          "text": [
            "\r  2%|▏         | 9/371 [00:53<34:05,  5.65s/it]"
          ]
        },
        {
          "output_type": "stream",
          "name": "stdout",
          "text": [
            "done\n"
          ]
        },
        {
          "output_type": "stream",
          "name": "stderr",
          "text": [
            "\r  3%|▎         | 10/371 [00:58<32:38,  5.43s/it]"
          ]
        },
        {
          "output_type": "stream",
          "name": "stdout",
          "text": [
            "done\n"
          ]
        },
        {
          "output_type": "stream",
          "name": "stderr",
          "text": [
            "\r  3%|▎         | 11/371 [01:03<31:57,  5.33s/it]"
          ]
        },
        {
          "output_type": "stream",
          "name": "stdout",
          "text": [
            "done\n"
          ]
        },
        {
          "output_type": "stream",
          "name": "stderr",
          "text": [
            "\r  3%|▎         | 12/371 [01:09<32:39,  5.46s/it]"
          ]
        },
        {
          "output_type": "stream",
          "name": "stdout",
          "text": [
            "done\n"
          ]
        },
        {
          "output_type": "stream",
          "name": "stderr",
          "text": [
            "\r  4%|▎         | 13/371 [01:14<31:56,  5.35s/it]"
          ]
        },
        {
          "output_type": "stream",
          "name": "stdout",
          "text": [
            "done\n"
          ]
        },
        {
          "output_type": "stream",
          "name": "stderr",
          "text": [
            "\r  4%|▍         | 14/371 [01:20<33:03,  5.56s/it]"
          ]
        },
        {
          "output_type": "stream",
          "name": "stdout",
          "text": [
            "done\n"
          ]
        },
        {
          "output_type": "stream",
          "name": "stderr",
          "text": [
            "\r  4%|▍         | 15/371 [01:25<32:01,  5.40s/it]"
          ]
        },
        {
          "output_type": "stream",
          "name": "stdout",
          "text": [
            "done\n"
          ]
        },
        {
          "output_type": "stream",
          "name": "stderr",
          "text": [
            "\r  4%|▍         | 16/371 [01:31<31:53,  5.39s/it]"
          ]
        },
        {
          "output_type": "stream",
          "name": "stdout",
          "text": [
            "done\n"
          ]
        },
        {
          "output_type": "stream",
          "name": "stderr",
          "text": [
            "\r  5%|▍         | 17/371 [01:36<31:31,  5.34s/it]"
          ]
        },
        {
          "output_type": "stream",
          "name": "stdout",
          "text": [
            "done\n"
          ]
        },
        {
          "output_type": "stream",
          "name": "stderr",
          "text": [
            "\r  5%|▍         | 18/371 [01:42<32:17,  5.49s/it]"
          ]
        },
        {
          "output_type": "stream",
          "name": "stdout",
          "text": [
            "done\n"
          ]
        },
        {
          "output_type": "stream",
          "name": "stderr",
          "text": [
            "\r  5%|▌         | 19/371 [01:47<32:06,  5.47s/it]"
          ]
        },
        {
          "output_type": "stream",
          "name": "stdout",
          "text": [
            "done\n"
          ]
        },
        {
          "output_type": "stream",
          "name": "stderr",
          "text": [
            "\r  5%|▌         | 20/371 [01:52<31:24,  5.37s/it]"
          ]
        },
        {
          "output_type": "stream",
          "name": "stdout",
          "text": [
            "done\n"
          ]
        },
        {
          "output_type": "stream",
          "name": "stderr",
          "text": [
            "\r  6%|▌         | 21/371 [01:58<31:59,  5.49s/it]"
          ]
        },
        {
          "output_type": "stream",
          "name": "stdout",
          "text": [
            "done\n"
          ]
        },
        {
          "output_type": "stream",
          "name": "stderr",
          "text": [
            "\r  6%|▌         | 22/371 [02:03<30:58,  5.32s/it]"
          ]
        },
        {
          "output_type": "stream",
          "name": "stdout",
          "text": [
            "done\n"
          ]
        },
        {
          "output_type": "stream",
          "name": "stderr",
          "text": [
            "\r  6%|▌         | 23/371 [02:08<30:39,  5.29s/it]"
          ]
        },
        {
          "output_type": "stream",
          "name": "stdout",
          "text": [
            "done\n"
          ]
        },
        {
          "output_type": "stream",
          "name": "stderr",
          "text": [
            "\r  6%|▋         | 24/371 [02:14<30:35,  5.29s/it]"
          ]
        },
        {
          "output_type": "stream",
          "name": "stdout",
          "text": [
            "done\n"
          ]
        },
        {
          "output_type": "stream",
          "name": "stderr",
          "text": [
            "\r  7%|▋         | 25/371 [02:18<29:42,  5.15s/it]"
          ]
        },
        {
          "output_type": "stream",
          "name": "stdout",
          "text": [
            "done\n"
          ]
        },
        {
          "output_type": "stream",
          "name": "stderr",
          "text": [
            "\r  7%|▋         | 26/371 [02:24<31:11,  5.42s/it]"
          ]
        },
        {
          "output_type": "stream",
          "name": "stdout",
          "text": [
            "done\n"
          ]
        },
        {
          "output_type": "stream",
          "name": "stderr",
          "text": [
            "\r  7%|▋         | 27/371 [02:29<30:24,  5.30s/it]"
          ]
        },
        {
          "output_type": "stream",
          "name": "stdout",
          "text": [
            "done\n"
          ]
        },
        {
          "output_type": "stream",
          "name": "stderr",
          "text": [
            "\r  8%|▊         | 28/371 [02:35<31:09,  5.45s/it]"
          ]
        },
        {
          "output_type": "stream",
          "name": "stdout",
          "text": [
            "done\n"
          ]
        },
        {
          "output_type": "stream",
          "name": "stderr",
          "text": [
            "\r  8%|▊         | 29/371 [02:40<29:48,  5.23s/it]"
          ]
        },
        {
          "output_type": "stream",
          "name": "stdout",
          "text": [
            "done\n"
          ]
        },
        {
          "output_type": "stream",
          "name": "stderr",
          "text": [
            "\r  8%|▊         | 30/371 [02:45<29:20,  5.16s/it]"
          ]
        },
        {
          "output_type": "stream",
          "name": "stdout",
          "text": [
            "done\n"
          ]
        },
        {
          "output_type": "stream",
          "name": "stderr",
          "text": [
            "\r  8%|▊         | 31/371 [02:50<29:39,  5.23s/it]"
          ]
        },
        {
          "output_type": "stream",
          "name": "stdout",
          "text": [
            "done\n"
          ]
        },
        {
          "output_type": "stream",
          "name": "stderr",
          "text": [
            "\r  9%|▊         | 32/371 [02:55<29:04,  5.15s/it]"
          ]
        },
        {
          "output_type": "stream",
          "name": "stdout",
          "text": [
            "done\n"
          ]
        },
        {
          "output_type": "stream",
          "name": "stderr",
          "text": [
            "\r  9%|▉         | 33/371 [03:01<29:47,  5.29s/it]"
          ]
        },
        {
          "output_type": "stream",
          "name": "stdout",
          "text": [
            "done\n"
          ]
        },
        {
          "output_type": "stream",
          "name": "stderr",
          "text": [
            "\r  9%|▉         | 34/371 [03:06<28:58,  5.16s/it]"
          ]
        },
        {
          "output_type": "stream",
          "name": "stdout",
          "text": [
            "done\n"
          ]
        },
        {
          "output_type": "stream",
          "name": "stderr",
          "text": [
            "\r  9%|▉         | 35/371 [03:11<29:14,  5.22s/it]"
          ]
        },
        {
          "output_type": "stream",
          "name": "stdout",
          "text": [
            "done\n"
          ]
        },
        {
          "output_type": "stream",
          "name": "stderr",
          "text": [
            "\r 10%|▉         | 36/371 [03:16<28:49,  5.16s/it]"
          ]
        },
        {
          "output_type": "stream",
          "name": "stdout",
          "text": [
            "done\n"
          ]
        },
        {
          "output_type": "stream",
          "name": "stderr",
          "text": [
            "\r 10%|▉         | 37/371 [03:21<28:39,  5.15s/it]"
          ]
        },
        {
          "output_type": "stream",
          "name": "stdout",
          "text": [
            "done\n"
          ]
        },
        {
          "output_type": "stream",
          "name": "stderr",
          "text": [
            "\r 10%|█         | 38/371 [03:27<29:38,  5.34s/it]"
          ]
        },
        {
          "output_type": "stream",
          "name": "stdout",
          "text": [
            "done\n"
          ]
        },
        {
          "output_type": "stream",
          "name": "stderr",
          "text": [
            "\r 11%|█         | 39/371 [03:32<28:51,  5.22s/it]"
          ]
        },
        {
          "output_type": "stream",
          "name": "stdout",
          "text": [
            "done\n"
          ]
        },
        {
          "output_type": "stream",
          "name": "stderr",
          "text": [
            "\r 11%|█         | 40/371 [03:38<30:03,  5.45s/it]"
          ]
        },
        {
          "output_type": "stream",
          "name": "stdout",
          "text": [
            "done\n"
          ]
        },
        {
          "output_type": "stream",
          "name": "stderr",
          "text": [
            "\r 11%|█         | 41/371 [03:43<29:23,  5.34s/it]"
          ]
        },
        {
          "output_type": "stream",
          "name": "stdout",
          "text": [
            "done\n"
          ]
        },
        {
          "output_type": "stream",
          "name": "stderr",
          "text": [
            "\r 11%|█▏        | 42/371 [03:48<29:01,  5.29s/it]"
          ]
        },
        {
          "output_type": "stream",
          "name": "stdout",
          "text": [
            "done\n"
          ]
        },
        {
          "output_type": "stream",
          "name": "stderr",
          "text": [
            "\r 12%|█▏        | 43/371 [03:54<29:16,  5.36s/it]"
          ]
        },
        {
          "output_type": "stream",
          "name": "stdout",
          "text": [
            "done\n"
          ]
        },
        {
          "output_type": "stream",
          "name": "stderr",
          "text": [
            "\r 12%|█▏        | 44/371 [03:59<28:57,  5.31s/it]"
          ]
        },
        {
          "output_type": "stream",
          "name": "stdout",
          "text": [
            "done\n"
          ]
        },
        {
          "output_type": "stream",
          "name": "stderr",
          "text": [
            "\r 12%|█▏        | 45/371 [04:05<29:30,  5.43s/it]"
          ]
        },
        {
          "output_type": "stream",
          "name": "stdout",
          "text": [
            "done\n"
          ]
        },
        {
          "output_type": "stream",
          "name": "stderr",
          "text": [
            "\r 12%|█▏        | 46/371 [04:10<29:03,  5.36s/it]"
          ]
        },
        {
          "output_type": "stream",
          "name": "stdout",
          "text": [
            "done\n"
          ]
        },
        {
          "output_type": "stream",
          "name": "stderr",
          "text": [
            "\r 13%|█▎        | 47/371 [04:16<30:04,  5.57s/it]"
          ]
        },
        {
          "output_type": "stream",
          "name": "stdout",
          "text": [
            "done\n"
          ]
        },
        {
          "output_type": "stream",
          "name": "stderr",
          "text": [
            "\r 13%|█▎        | 48/371 [04:22<31:19,  5.82s/it]"
          ]
        },
        {
          "output_type": "stream",
          "name": "stdout",
          "text": [
            "done\n"
          ]
        },
        {
          "output_type": "stream",
          "name": "stderr",
          "text": [
            "\r 13%|█▎        | 49/371 [04:28<31:28,  5.87s/it]"
          ]
        },
        {
          "output_type": "stream",
          "name": "stdout",
          "text": [
            "done\n"
          ]
        },
        {
          "output_type": "stream",
          "name": "stderr",
          "text": [
            "\r 13%|█▎        | 50/371 [04:34<30:25,  5.69s/it]"
          ]
        },
        {
          "output_type": "stream",
          "name": "stdout",
          "text": [
            "done\n"
          ]
        },
        {
          "output_type": "stream",
          "name": "stderr",
          "text": [
            "\r 14%|█▎        | 51/371 [04:39<29:31,  5.54s/it]"
          ]
        },
        {
          "output_type": "stream",
          "name": "stdout",
          "text": [
            "done\n"
          ]
        },
        {
          "output_type": "stream",
          "name": "stderr",
          "text": [
            "\r 14%|█▍        | 52/371 [04:44<29:11,  5.49s/it]"
          ]
        },
        {
          "output_type": "stream",
          "name": "stdout",
          "text": [
            "done\n"
          ]
        },
        {
          "output_type": "stream",
          "name": "stderr",
          "text": [
            "\r 14%|█▍        | 53/371 [04:49<28:38,  5.41s/it]"
          ]
        },
        {
          "output_type": "stream",
          "name": "stdout",
          "text": [
            "done\n"
          ]
        },
        {
          "output_type": "stream",
          "name": "stderr",
          "text": [
            "\r 15%|█▍        | 54/371 [04:55<29:01,  5.49s/it]"
          ]
        },
        {
          "output_type": "stream",
          "name": "stdout",
          "text": [
            "done\n"
          ]
        },
        {
          "output_type": "stream",
          "name": "stderr",
          "text": [
            "\r 15%|█▍        | 55/371 [05:00<28:27,  5.40s/it]"
          ]
        },
        {
          "output_type": "stream",
          "name": "stdout",
          "text": [
            "done\n"
          ]
        },
        {
          "output_type": "stream",
          "name": "stderr",
          "text": [
            "\r 15%|█▌        | 56/371 [05:06<28:52,  5.50s/it]"
          ]
        },
        {
          "output_type": "stream",
          "name": "stdout",
          "text": [
            "done\n"
          ]
        },
        {
          "output_type": "stream",
          "name": "stderr",
          "text": [
            "\r 15%|█▌        | 57/371 [05:11<27:28,  5.25s/it]"
          ]
        },
        {
          "output_type": "stream",
          "name": "stdout",
          "text": [
            "done\n"
          ]
        },
        {
          "output_type": "stream",
          "name": "stderr",
          "text": [
            "\r 16%|█▌        | 58/371 [05:16<27:09,  5.21s/it]"
          ]
        },
        {
          "output_type": "stream",
          "name": "stdout",
          "text": [
            "done\n"
          ]
        },
        {
          "output_type": "stream",
          "name": "stderr",
          "text": [
            "\r 16%|█▌        | 59/371 [05:21<27:32,  5.30s/it]"
          ]
        },
        {
          "output_type": "stream",
          "name": "stdout",
          "text": [
            "done\n"
          ]
        },
        {
          "output_type": "stream",
          "name": "stderr",
          "text": [
            "\r 16%|█▌        | 60/371 [05:26<26:49,  5.17s/it]"
          ]
        },
        {
          "output_type": "stream",
          "name": "stdout",
          "text": [
            "done\n"
          ]
        },
        {
          "output_type": "stream",
          "name": "stderr",
          "text": [
            "\r 16%|█▋        | 61/371 [05:32<27:43,  5.37s/it]"
          ]
        },
        {
          "output_type": "stream",
          "name": "stdout",
          "text": [
            "done\n"
          ]
        },
        {
          "output_type": "stream",
          "name": "stderr",
          "text": [
            "\r 17%|█▋        | 62/371 [05:37<26:56,  5.23s/it]"
          ]
        },
        {
          "output_type": "stream",
          "name": "stdout",
          "text": [
            "done\n"
          ]
        },
        {
          "output_type": "stream",
          "name": "stderr",
          "text": [
            "\r 17%|█▋        | 63/371 [05:42<27:09,  5.29s/it]"
          ]
        },
        {
          "output_type": "stream",
          "name": "stdout",
          "text": [
            "done\n"
          ]
        },
        {
          "output_type": "stream",
          "name": "stderr",
          "text": [
            "\r 17%|█▋        | 64/371 [05:47<26:40,  5.21s/it]"
          ]
        },
        {
          "output_type": "stream",
          "name": "stdout",
          "text": [
            "done\n"
          ]
        },
        {
          "output_type": "stream",
          "name": "stderr",
          "text": [
            "\r 18%|█▊        | 65/371 [05:52<26:03,  5.11s/it]"
          ]
        },
        {
          "output_type": "stream",
          "name": "stdout",
          "text": [
            "done\n"
          ]
        },
        {
          "output_type": "stream",
          "name": "stderr",
          "text": [
            "\r 18%|█▊        | 66/371 [05:58<26:56,  5.30s/it]"
          ]
        },
        {
          "output_type": "stream",
          "name": "stdout",
          "text": [
            "done\n"
          ]
        },
        {
          "output_type": "stream",
          "name": "stderr",
          "text": [
            "\r 18%|█▊        | 67/371 [06:05<29:27,  5.81s/it]"
          ]
        },
        {
          "output_type": "stream",
          "name": "stdout",
          "text": [
            "done\n"
          ]
        },
        {
          "output_type": "stream",
          "name": "stderr",
          "text": [
            "\r 18%|█▊        | 68/371 [06:11<29:46,  5.90s/it]"
          ]
        },
        {
          "output_type": "stream",
          "name": "stdout",
          "text": [
            "done\n"
          ]
        },
        {
          "output_type": "stream",
          "name": "stderr",
          "text": [
            "\r 19%|█▊        | 69/371 [06:16<28:08,  5.59s/it]"
          ]
        },
        {
          "output_type": "stream",
          "name": "stdout",
          "text": [
            "done\n"
          ]
        },
        {
          "output_type": "stream",
          "name": "stderr",
          "text": [
            "\r 19%|█▉        | 70/371 [06:22<28:36,  5.70s/it]"
          ]
        },
        {
          "output_type": "stream",
          "name": "stdout",
          "text": [
            "done\n"
          ]
        },
        {
          "output_type": "stream",
          "name": "stderr",
          "text": [
            "\r 19%|█▉        | 71/371 [06:27<27:30,  5.50s/it]"
          ]
        },
        {
          "output_type": "stream",
          "name": "stdout",
          "text": [
            "done\n"
          ]
        },
        {
          "output_type": "stream",
          "name": "stderr",
          "text": [
            "\r 19%|█▉        | 72/371 [06:32<27:14,  5.47s/it]"
          ]
        },
        {
          "output_type": "stream",
          "name": "stdout",
          "text": [
            "done\n"
          ]
        },
        {
          "output_type": "stream",
          "name": "stderr",
          "text": [
            "\r 20%|█▉        | 73/371 [06:38<26:54,  5.42s/it]"
          ]
        },
        {
          "output_type": "stream",
          "name": "stdout",
          "text": [
            "done\n"
          ]
        },
        {
          "output_type": "stream",
          "name": "stderr",
          "text": [
            "\r 20%|█▉        | 74/371 [06:43<26:19,  5.32s/it]"
          ]
        },
        {
          "output_type": "stream",
          "name": "stdout",
          "text": [
            "done\n"
          ]
        },
        {
          "output_type": "stream",
          "name": "stderr",
          "text": [
            "\r 20%|██        | 75/371 [06:49<27:09,  5.50s/it]"
          ]
        },
        {
          "output_type": "stream",
          "name": "stdout",
          "text": [
            "done\n"
          ]
        },
        {
          "output_type": "stream",
          "name": "stderr",
          "text": [
            "\r 20%|██        | 76/371 [06:53<26:05,  5.31s/it]"
          ]
        },
        {
          "output_type": "stream",
          "name": "stdout",
          "text": [
            "done\n"
          ]
        },
        {
          "output_type": "stream",
          "name": "stderr",
          "text": [
            "\r 21%|██        | 77/371 [06:59<26:32,  5.42s/it]"
          ]
        },
        {
          "output_type": "stream",
          "name": "stdout",
          "text": [
            "done\n"
          ]
        },
        {
          "output_type": "stream",
          "name": "stderr",
          "text": [
            "\r 21%|██        | 78/371 [07:04<25:53,  5.30s/it]"
          ]
        },
        {
          "output_type": "stream",
          "name": "stdout",
          "text": [
            "done\n"
          ]
        },
        {
          "output_type": "stream",
          "name": "stderr",
          "text": [
            "\r 21%|██▏       | 79/371 [07:13<30:35,  6.28s/it]"
          ]
        },
        {
          "output_type": "stream",
          "name": "stdout",
          "text": [
            "done\n"
          ]
        },
        {
          "output_type": "stream",
          "name": "stderr",
          "text": [
            "\r 22%|██▏       | 80/371 [07:18<28:53,  5.96s/it]"
          ]
        },
        {
          "output_type": "stream",
          "name": "stdout",
          "text": [
            "done\n"
          ]
        },
        {
          "output_type": "stream",
          "name": "stderr",
          "text": [
            "\r 22%|██▏       | 81/371 [07:23<27:59,  5.79s/it]"
          ]
        },
        {
          "output_type": "stream",
          "name": "stdout",
          "text": [
            "done\n"
          ]
        },
        {
          "output_type": "stream",
          "name": "stderr",
          "text": [
            "\r 22%|██▏       | 82/371 [07:29<27:07,  5.63s/it]"
          ]
        },
        {
          "output_type": "stream",
          "name": "stdout",
          "text": [
            "done\n"
          ]
        },
        {
          "output_type": "stream",
          "name": "stderr",
          "text": [
            "\r 22%|██▏       | 83/371 [07:34<26:17,  5.48s/it]"
          ]
        },
        {
          "output_type": "stream",
          "name": "stdout",
          "text": [
            "done\n"
          ]
        },
        {
          "output_type": "stream",
          "name": "stderr",
          "text": [
            "\r 23%|██▎       | 84/371 [07:40<26:44,  5.59s/it]"
          ]
        },
        {
          "output_type": "stream",
          "name": "stdout",
          "text": [
            "done\n"
          ]
        },
        {
          "output_type": "stream",
          "name": "stderr",
          "text": [
            "\r 23%|██▎       | 85/371 [07:45<25:57,  5.45s/it]"
          ]
        },
        {
          "output_type": "stream",
          "name": "stdout",
          "text": [
            "done\n"
          ]
        },
        {
          "output_type": "stream",
          "name": "stderr",
          "text": [
            "\r 23%|██▎       | 86/371 [07:51<26:35,  5.60s/it]"
          ]
        },
        {
          "output_type": "stream",
          "name": "stdout",
          "text": [
            "done\n"
          ]
        },
        {
          "output_type": "stream",
          "name": "stderr",
          "text": [
            "\r 23%|██▎       | 87/371 [07:56<25:40,  5.42s/it]"
          ]
        },
        {
          "output_type": "stream",
          "name": "stdout",
          "text": [
            "done\n"
          ]
        },
        {
          "output_type": "stream",
          "name": "stderr",
          "text": [
            "\r 24%|██▎       | 88/371 [08:01<25:34,  5.42s/it]"
          ]
        },
        {
          "output_type": "stream",
          "name": "stdout",
          "text": [
            "done\n"
          ]
        },
        {
          "output_type": "stream",
          "name": "stderr",
          "text": [
            "\r 24%|██▍       | 89/371 [08:06<25:22,  5.40s/it]"
          ]
        },
        {
          "output_type": "stream",
          "name": "stdout",
          "text": [
            "done\n"
          ]
        },
        {
          "output_type": "stream",
          "name": "stderr",
          "text": [
            "\r 24%|██▍       | 90/371 [08:11<24:41,  5.27s/it]"
          ]
        },
        {
          "output_type": "stream",
          "name": "stdout",
          "text": [
            "done\n"
          ]
        },
        {
          "output_type": "stream",
          "name": "stderr",
          "text": [
            "\r 25%|██▍       | 91/371 [08:17<25:20,  5.43s/it]"
          ]
        },
        {
          "output_type": "stream",
          "name": "stdout",
          "text": [
            "done\n"
          ]
        },
        {
          "output_type": "stream",
          "name": "stderr",
          "text": [
            "\r 25%|██▍       | 92/371 [08:22<24:52,  5.35s/it]"
          ]
        },
        {
          "output_type": "stream",
          "name": "stdout",
          "text": [
            "done\n"
          ]
        },
        {
          "output_type": "stream",
          "name": "stderr",
          "text": [
            "\r 25%|██▌       | 93/371 [08:28<25:33,  5.52s/it]"
          ]
        },
        {
          "output_type": "stream",
          "name": "stdout",
          "text": [
            "done\n"
          ]
        },
        {
          "output_type": "stream",
          "name": "stderr",
          "text": [
            "\r 25%|██▌       | 94/371 [08:33<24:44,  5.36s/it]"
          ]
        },
        {
          "output_type": "stream",
          "name": "stdout",
          "text": [
            "done\n"
          ]
        },
        {
          "output_type": "stream",
          "name": "stderr",
          "text": [
            "\r 26%|██▌       | 95/371 [08:39<25:01,  5.44s/it]"
          ]
        },
        {
          "output_type": "stream",
          "name": "stdout",
          "text": [
            "done\n"
          ]
        },
        {
          "output_type": "stream",
          "name": "stderr",
          "text": [
            "\r 26%|██▌       | 96/371 [08:44<24:34,  5.36s/it]"
          ]
        },
        {
          "output_type": "stream",
          "name": "stdout",
          "text": [
            "done\n"
          ]
        },
        {
          "output_type": "stream",
          "name": "stderr",
          "text": [
            "\r 26%|██▌       | 97/371 [08:49<24:03,  5.27s/it]"
          ]
        },
        {
          "output_type": "stream",
          "name": "stdout",
          "text": [
            "done\n"
          ]
        },
        {
          "output_type": "stream",
          "name": "stderr",
          "text": [
            "\r 26%|██▋       | 98/371 [08:55<24:45,  5.44s/it]"
          ]
        },
        {
          "output_type": "stream",
          "name": "stdout",
          "text": [
            "done\n"
          ]
        },
        {
          "output_type": "stream",
          "name": "stderr",
          "text": [
            "\r 27%|██▋       | 99/371 [09:00<24:24,  5.39s/it]"
          ]
        },
        {
          "output_type": "stream",
          "name": "stdout",
          "text": [
            "done\n"
          ]
        },
        {
          "output_type": "stream",
          "name": "stderr",
          "text": [
            "\r 27%|██▋       | 100/371 [09:06<24:45,  5.48s/it]"
          ]
        },
        {
          "output_type": "stream",
          "name": "stdout",
          "text": [
            "done\n"
          ]
        },
        {
          "output_type": "stream",
          "name": "stderr",
          "text": [
            "\r 27%|██▋       | 101/371 [09:11<24:06,  5.36s/it]"
          ]
        },
        {
          "output_type": "stream",
          "name": "stdout",
          "text": [
            "done\n"
          ]
        },
        {
          "output_type": "stream",
          "name": "stderr",
          "text": [
            "\r 27%|██▋       | 102/371 [09:16<24:01,  5.36s/it]"
          ]
        },
        {
          "output_type": "stream",
          "name": "stdout",
          "text": [
            "done\n"
          ]
        },
        {
          "output_type": "stream",
          "name": "stderr",
          "text": [
            "\r 28%|██▊       | 103/371 [09:22<23:58,  5.37s/it]"
          ]
        },
        {
          "output_type": "stream",
          "name": "stdout",
          "text": [
            "done\n"
          ]
        },
        {
          "output_type": "stream",
          "name": "stderr",
          "text": [
            "\r 28%|██▊       | 104/371 [09:27<23:52,  5.36s/it]"
          ]
        },
        {
          "output_type": "stream",
          "name": "stdout",
          "text": [
            "done\n"
          ]
        },
        {
          "output_type": "stream",
          "name": "stderr",
          "text": [
            "\r 28%|██▊       | 105/371 [09:33<24:09,  5.45s/it]"
          ]
        },
        {
          "output_type": "stream",
          "name": "stdout",
          "text": [
            "done\n"
          ]
        },
        {
          "output_type": "stream",
          "name": "stderr",
          "text": [
            "\r 29%|██▊       | 106/371 [09:38<23:23,  5.30s/it]"
          ]
        },
        {
          "output_type": "stream",
          "name": "stdout",
          "text": [
            "done\n"
          ]
        },
        {
          "output_type": "stream",
          "name": "stderr",
          "text": [
            "\r 29%|██▉       | 107/371 [09:43<23:57,  5.45s/it]"
          ]
        },
        {
          "output_type": "stream",
          "name": "stdout",
          "text": [
            "done\n"
          ]
        },
        {
          "output_type": "stream",
          "name": "stderr",
          "text": [
            "\r 29%|██▉       | 108/371 [09:49<24:19,  5.55s/it]"
          ]
        },
        {
          "output_type": "stream",
          "name": "stdout",
          "text": [
            "done\n"
          ]
        },
        {
          "output_type": "stream",
          "name": "stderr",
          "text": [
            "\r 29%|██▉       | 109/371 [09:58<28:55,  6.63s/it]"
          ]
        },
        {
          "output_type": "stream",
          "name": "stdout",
          "text": [
            "done\n"
          ]
        },
        {
          "output_type": "stream",
          "name": "stderr",
          "text": [
            "\r 30%|██▉       | 110/371 [10:04<26:58,  6.20s/it]"
          ]
        },
        {
          "output_type": "stream",
          "name": "stdout",
          "text": [
            "done\n"
          ]
        },
        {
          "output_type": "stream",
          "name": "stderr",
          "text": [
            "\r 30%|██▉       | 111/371 [10:10<26:41,  6.16s/it]"
          ]
        },
        {
          "output_type": "stream",
          "name": "stdout",
          "text": [
            "done\n"
          ]
        },
        {
          "output_type": "stream",
          "name": "stderr",
          "text": [
            "\r 30%|███       | 112/371 [10:15<25:28,  5.90s/it]"
          ]
        },
        {
          "output_type": "stream",
          "name": "stdout",
          "text": [
            "done\n"
          ]
        },
        {
          "output_type": "stream",
          "name": "stderr",
          "text": [
            "\r 30%|███       | 113/371 [10:21<25:14,  5.87s/it]"
          ]
        },
        {
          "output_type": "stream",
          "name": "stdout",
          "text": [
            "done\n"
          ]
        },
        {
          "output_type": "stream",
          "name": "stderr",
          "text": [
            "\r 31%|███       | 114/371 [10:26<24:42,  5.77s/it]"
          ]
        },
        {
          "output_type": "stream",
          "name": "stdout",
          "text": [
            "done\n"
          ]
        },
        {
          "output_type": "stream",
          "name": "stderr",
          "text": [
            "\r 31%|███       | 115/371 [10:31<23:49,  5.58s/it]"
          ]
        },
        {
          "output_type": "stream",
          "name": "stdout",
          "text": [
            "done\n"
          ]
        },
        {
          "output_type": "stream",
          "name": "stderr",
          "text": [
            "\r 31%|███▏      | 116/371 [10:37<23:35,  5.55s/it]"
          ]
        },
        {
          "output_type": "stream",
          "name": "stdout",
          "text": [
            "done\n"
          ]
        },
        {
          "output_type": "stream",
          "name": "stderr",
          "text": [
            "\r 32%|███▏      | 117/371 [10:42<23:03,  5.45s/it]"
          ]
        },
        {
          "output_type": "stream",
          "name": "stdout",
          "text": [
            "done\n"
          ]
        },
        {
          "output_type": "stream",
          "name": "stderr",
          "text": [
            "\r 32%|███▏      | 118/371 [10:48<23:36,  5.60s/it]"
          ]
        },
        {
          "output_type": "stream",
          "name": "stdout",
          "text": [
            "done\n"
          ]
        },
        {
          "output_type": "stream",
          "name": "stderr",
          "text": [
            "\r 32%|███▏      | 119/371 [10:53<22:56,  5.46s/it]"
          ]
        },
        {
          "output_type": "stream",
          "name": "stdout",
          "text": [
            "done\n"
          ]
        },
        {
          "output_type": "stream",
          "name": "stderr",
          "text": [
            "\r 32%|███▏      | 120/371 [10:59<23:42,  5.67s/it]"
          ]
        },
        {
          "output_type": "stream",
          "name": "stdout",
          "text": [
            "done\n"
          ]
        },
        {
          "output_type": "stream",
          "name": "stderr",
          "text": [
            "\r 33%|███▎      | 121/371 [11:05<23:09,  5.56s/it]"
          ]
        },
        {
          "output_type": "stream",
          "name": "stdout",
          "text": [
            "done\n"
          ]
        },
        {
          "output_type": "stream",
          "name": "stderr",
          "text": [
            "\r 33%|███▎      | 122/371 [11:10<22:43,  5.47s/it]"
          ]
        },
        {
          "output_type": "stream",
          "name": "stdout",
          "text": [
            "done\n"
          ]
        },
        {
          "output_type": "stream",
          "name": "stderr",
          "text": [
            "\r 33%|███▎      | 123/371 [11:16<22:49,  5.52s/it]"
          ]
        },
        {
          "output_type": "stream",
          "name": "stdout",
          "text": [
            "done\n"
          ]
        },
        {
          "output_type": "stream",
          "name": "stderr",
          "text": [
            "\r 33%|███▎      | 124/371 [11:21<22:09,  5.38s/it]"
          ]
        },
        {
          "output_type": "stream",
          "name": "stdout",
          "text": [
            "done\n"
          ]
        },
        {
          "output_type": "stream",
          "name": "stderr",
          "text": [
            "\r 34%|███▎      | 125/371 [11:27<22:46,  5.56s/it]"
          ]
        },
        {
          "output_type": "stream",
          "name": "stdout",
          "text": [
            "done\n"
          ]
        },
        {
          "output_type": "stream",
          "name": "stderr",
          "text": [
            "\r 34%|███▍      | 126/371 [11:32<22:10,  5.43s/it]"
          ]
        },
        {
          "output_type": "stream",
          "name": "stdout",
          "text": [
            "done\n"
          ]
        },
        {
          "output_type": "stream",
          "name": "stderr",
          "text": [
            "\r 34%|███▍      | 127/371 [11:38<22:52,  5.63s/it]"
          ]
        },
        {
          "output_type": "stream",
          "name": "stdout",
          "text": [
            "done\n"
          ]
        },
        {
          "output_type": "stream",
          "name": "stderr",
          "text": [
            "\r 35%|███▍      | 128/371 [11:43<22:07,  5.46s/it]"
          ]
        },
        {
          "output_type": "stream",
          "name": "stdout",
          "text": [
            "done\n"
          ]
        },
        {
          "output_type": "stream",
          "name": "stderr",
          "text": [
            "\r 35%|███▍      | 129/371 [11:49<22:10,  5.50s/it]"
          ]
        },
        {
          "output_type": "stream",
          "name": "stdout",
          "text": [
            "done\n"
          ]
        },
        {
          "output_type": "stream",
          "name": "stderr",
          "text": [
            "\r 35%|███▌      | 130/371 [11:54<21:46,  5.42s/it]"
          ]
        },
        {
          "output_type": "stream",
          "name": "stdout",
          "text": [
            "done\n"
          ]
        },
        {
          "output_type": "stream",
          "name": "stderr",
          "text": [
            "\r 35%|███▌      | 131/371 [11:59<21:23,  5.35s/it]"
          ]
        },
        {
          "output_type": "stream",
          "name": "stdout",
          "text": [
            "done\n"
          ]
        },
        {
          "output_type": "stream",
          "name": "stderr",
          "text": [
            "\r 36%|███▌      | 132/371 [12:05<21:55,  5.51s/it]"
          ]
        },
        {
          "output_type": "stream",
          "name": "stdout",
          "text": [
            "done\n"
          ]
        },
        {
          "output_type": "stream",
          "name": "stderr",
          "text": [
            "\r 36%|███▌      | 133/371 [12:10<21:09,  5.33s/it]"
          ]
        },
        {
          "output_type": "stream",
          "name": "stdout",
          "text": [
            "done\n"
          ]
        },
        {
          "output_type": "stream",
          "name": "stderr",
          "text": [
            "\r 36%|███▌      | 134/371 [12:16<21:39,  5.48s/it]"
          ]
        },
        {
          "output_type": "stream",
          "name": "stdout",
          "text": [
            "done\n"
          ]
        },
        {
          "output_type": "stream",
          "name": "stderr",
          "text": [
            "\r 36%|███▋      | 135/371 [12:21<21:06,  5.37s/it]"
          ]
        },
        {
          "output_type": "stream",
          "name": "stdout",
          "text": [
            "done\n"
          ]
        },
        {
          "output_type": "stream",
          "name": "stderr",
          "text": [
            "\r 37%|███▋      | 136/371 [12:26<21:21,  5.45s/it]"
          ]
        },
        {
          "output_type": "stream",
          "name": "stdout",
          "text": [
            "done\n"
          ]
        },
        {
          "output_type": "stream",
          "name": "stderr",
          "text": [
            "\r 37%|███▋      | 137/371 [12:32<21:07,  5.42s/it]"
          ]
        },
        {
          "output_type": "stream",
          "name": "stdout",
          "text": [
            "done\n"
          ]
        },
        {
          "output_type": "stream",
          "name": "stderr",
          "text": [
            "\r 37%|███▋      | 138/371 [12:37<20:24,  5.26s/it]"
          ]
        },
        {
          "output_type": "stream",
          "name": "stdout",
          "text": [
            "done\n"
          ]
        },
        {
          "output_type": "stream",
          "name": "stderr",
          "text": [
            "\r 37%|███▋      | 139/371 [12:42<20:58,  5.42s/it]"
          ]
        },
        {
          "output_type": "stream",
          "name": "stdout",
          "text": [
            "done\n"
          ]
        },
        {
          "output_type": "stream",
          "name": "stderr",
          "text": [
            "\r 38%|███▊      | 140/371 [12:47<20:28,  5.32s/it]"
          ]
        },
        {
          "output_type": "stream",
          "name": "stdout",
          "text": [
            "done\n"
          ]
        },
        {
          "output_type": "stream",
          "name": "stderr",
          "text": [
            "\r 38%|███▊      | 141/371 [12:53<21:04,  5.50s/it]"
          ]
        },
        {
          "output_type": "stream",
          "name": "stdout",
          "text": [
            "done\n"
          ]
        },
        {
          "output_type": "stream",
          "name": "stderr",
          "text": [
            "\r 38%|███▊      | 142/371 [12:58<20:34,  5.39s/it]"
          ]
        },
        {
          "output_type": "stream",
          "name": "stdout",
          "text": [
            "done\n"
          ]
        },
        {
          "output_type": "stream",
          "name": "stderr",
          "text": [
            "\r 39%|███▊      | 143/371 [13:04<20:44,  5.46s/it]"
          ]
        },
        {
          "output_type": "stream",
          "name": "stdout",
          "text": [
            "done\n"
          ]
        },
        {
          "output_type": "stream",
          "name": "stderr",
          "text": [
            "\r 39%|███▉      | 144/371 [13:10<20:39,  5.46s/it]"
          ]
        },
        {
          "output_type": "stream",
          "name": "stdout",
          "text": [
            "done\n"
          ]
        },
        {
          "output_type": "stream",
          "name": "stderr",
          "text": [
            "\r 39%|███▉      | 145/371 [13:15<20:09,  5.35s/it]"
          ]
        },
        {
          "output_type": "stream",
          "name": "stdout",
          "text": [
            "done\n"
          ]
        },
        {
          "output_type": "stream",
          "name": "stderr",
          "text": [
            "\r 39%|███▉      | 146/371 [13:20<20:16,  5.41s/it]"
          ]
        },
        {
          "output_type": "stream",
          "name": "stdout",
          "text": [
            "done\n"
          ]
        },
        {
          "output_type": "stream",
          "name": "stderr",
          "text": [
            "\r 40%|███▉      | 147/371 [13:25<19:49,  5.31s/it]"
          ]
        },
        {
          "output_type": "stream",
          "name": "stdout",
          "text": [
            "done\n"
          ]
        },
        {
          "output_type": "stream",
          "name": "stderr",
          "text": [
            "\r 40%|███▉      | 148/371 [13:31<20:22,  5.48s/it]"
          ]
        },
        {
          "output_type": "stream",
          "name": "stdout",
          "text": [
            "done\n"
          ]
        },
        {
          "output_type": "stream",
          "name": "stderr",
          "text": [
            "\r 40%|████      | 149/371 [13:36<20:02,  5.42s/it]"
          ]
        },
        {
          "output_type": "stream",
          "name": "stdout",
          "text": [
            "done\n"
          ]
        },
        {
          "output_type": "stream",
          "name": "stderr",
          "text": [
            "\r 40%|████      | 150/371 [13:42<19:57,  5.42s/it]"
          ]
        },
        {
          "output_type": "stream",
          "name": "stdout",
          "text": [
            "done\n"
          ]
        },
        {
          "output_type": "stream",
          "name": "stderr",
          "text": [
            "\r 41%|████      | 151/371 [13:47<19:37,  5.35s/it]"
          ]
        },
        {
          "output_type": "stream",
          "name": "stdout",
          "text": [
            "done\n"
          ]
        },
        {
          "output_type": "stream",
          "name": "stderr",
          "text": [
            "\r 41%|████      | 152/371 [13:52<19:13,  5.27s/it]"
          ]
        },
        {
          "output_type": "stream",
          "name": "stdout",
          "text": [
            "done\n"
          ]
        },
        {
          "output_type": "stream",
          "name": "stderr",
          "text": [
            "\r 41%|████      | 153/371 [13:58<19:45,  5.44s/it]"
          ]
        },
        {
          "output_type": "stream",
          "name": "stdout",
          "text": [
            "done\n"
          ]
        },
        {
          "output_type": "stream",
          "name": "stderr",
          "text": [
            "\r 42%|████▏     | 154/371 [14:03<19:35,  5.42s/it]"
          ]
        },
        {
          "output_type": "stream",
          "name": "stdout",
          "text": [
            "done\n"
          ]
        },
        {
          "output_type": "stream",
          "name": "stderr",
          "text": [
            "\r 42%|████▏     | 155/371 [14:09<20:00,  5.56s/it]"
          ]
        },
        {
          "output_type": "stream",
          "name": "stdout",
          "text": [
            "done\n"
          ]
        },
        {
          "output_type": "stream",
          "name": "stderr",
          "text": [
            "\r 42%|████▏     | 156/371 [14:14<19:36,  5.47s/it]"
          ]
        },
        {
          "output_type": "stream",
          "name": "stdout",
          "text": [
            "done\n"
          ]
        },
        {
          "output_type": "stream",
          "name": "stderr",
          "text": [
            "\r 42%|████▏     | 157/371 [14:20<20:03,  5.62s/it]"
          ]
        },
        {
          "output_type": "stream",
          "name": "stdout",
          "text": [
            "done\n"
          ]
        },
        {
          "output_type": "stream",
          "name": "stderr",
          "text": [
            "\r 43%|████▎     | 158/371 [14:25<19:12,  5.41s/it]"
          ]
        },
        {
          "output_type": "stream",
          "name": "stdout",
          "text": [
            "done\n"
          ]
        },
        {
          "output_type": "stream",
          "name": "stderr",
          "text": [
            "\r 43%|████▎     | 159/371 [14:30<18:37,  5.27s/it]"
          ]
        },
        {
          "output_type": "stream",
          "name": "stdout",
          "text": [
            "done\n"
          ]
        },
        {
          "output_type": "stream",
          "name": "stderr",
          "text": [
            "\r 43%|████▎     | 160/371 [14:36<18:42,  5.32s/it]"
          ]
        },
        {
          "output_type": "stream",
          "name": "stdout",
          "text": [
            "done\n"
          ]
        },
        {
          "output_type": "stream",
          "name": "stderr",
          "text": [
            "\r 43%|████▎     | 161/371 [14:41<18:26,  5.27s/it]"
          ]
        },
        {
          "output_type": "stream",
          "name": "stdout",
          "text": [
            "done\n"
          ]
        },
        {
          "output_type": "stream",
          "name": "stderr",
          "text": [
            "\r 44%|████▎     | 162/371 [14:47<18:44,  5.38s/it]"
          ]
        },
        {
          "output_type": "stream",
          "name": "stdout",
          "text": [
            "done\n"
          ]
        },
        {
          "output_type": "stream",
          "name": "stderr",
          "text": [
            "\r 44%|████▍     | 163/371 [14:52<18:13,  5.26s/it]"
          ]
        },
        {
          "output_type": "stream",
          "name": "stdout",
          "text": [
            "done\n"
          ]
        },
        {
          "output_type": "stream",
          "name": "stderr",
          "text": [
            "\r 44%|████▍     | 164/371 [14:57<18:20,  5.32s/it]"
          ]
        },
        {
          "output_type": "stream",
          "name": "stdout",
          "text": [
            "done\n"
          ]
        },
        {
          "output_type": "stream",
          "name": "stderr",
          "text": [
            "\r 44%|████▍     | 165/371 [15:02<17:54,  5.22s/it]"
          ]
        },
        {
          "output_type": "stream",
          "name": "stdout",
          "text": [
            "done\n"
          ]
        },
        {
          "output_type": "stream",
          "name": "stderr",
          "text": [
            "\r 45%|████▍     | 166/371 [15:07<17:27,  5.11s/it]"
          ]
        },
        {
          "output_type": "stream",
          "name": "stdout",
          "text": [
            "done\n"
          ]
        },
        {
          "output_type": "stream",
          "name": "stderr",
          "text": [
            "\r 45%|████▌     | 167/371 [15:12<17:50,  5.25s/it]"
          ]
        },
        {
          "output_type": "stream",
          "name": "stdout",
          "text": [
            "done\n"
          ]
        },
        {
          "output_type": "stream",
          "name": "stderr",
          "text": [
            "\r 45%|████▌     | 168/371 [15:17<17:34,  5.19s/it]"
          ]
        },
        {
          "output_type": "stream",
          "name": "stdout",
          "text": [
            "done\n"
          ]
        },
        {
          "output_type": "stream",
          "name": "stderr",
          "text": [
            "\r 46%|████▌     | 169/371 [15:24<18:21,  5.45s/it]"
          ]
        },
        {
          "output_type": "stream",
          "name": "stdout",
          "text": [
            "done\n"
          ]
        },
        {
          "output_type": "stream",
          "name": "stderr",
          "text": [
            "\r 46%|████▌     | 170/371 [15:28<17:47,  5.31s/it]"
          ]
        },
        {
          "output_type": "stream",
          "name": "stdout",
          "text": [
            "done\n"
          ]
        },
        {
          "output_type": "stream",
          "name": "stderr",
          "text": [
            "\r 46%|████▌     | 171/371 [15:34<17:38,  5.29s/it]"
          ]
        },
        {
          "output_type": "stream",
          "name": "stdout",
          "text": [
            "done\n"
          ]
        },
        {
          "output_type": "stream",
          "name": "stderr",
          "text": [
            "\r 46%|████▋     | 172/371 [15:39<17:39,  5.32s/it]"
          ]
        },
        {
          "output_type": "stream",
          "name": "stdout",
          "text": [
            "done\n"
          ]
        },
        {
          "output_type": "stream",
          "name": "stderr",
          "text": [
            "\r 47%|████▋     | 173/371 [15:44<17:17,  5.24s/it]"
          ]
        },
        {
          "output_type": "stream",
          "name": "stdout",
          "text": [
            "done\n"
          ]
        },
        {
          "output_type": "stream",
          "name": "stderr",
          "text": [
            "\r 47%|████▋     | 174/371 [15:50<17:30,  5.33s/it]"
          ]
        },
        {
          "output_type": "stream",
          "name": "stdout",
          "text": [
            "done\n"
          ]
        },
        {
          "output_type": "stream",
          "name": "stderr",
          "text": [
            "\r 47%|████▋     | 175/371 [15:55<16:56,  5.18s/it]"
          ]
        },
        {
          "output_type": "stream",
          "name": "stdout",
          "text": [
            "done\n"
          ]
        },
        {
          "output_type": "stream",
          "name": "stderr",
          "text": [
            "\r 47%|████▋     | 176/371 [16:01<17:37,  5.42s/it]"
          ]
        },
        {
          "output_type": "stream",
          "name": "stdout",
          "text": [
            "done\n"
          ]
        },
        {
          "output_type": "stream",
          "name": "stderr",
          "text": [
            "\r 48%|████▊     | 177/371 [16:06<17:06,  5.29s/it]"
          ]
        },
        {
          "output_type": "stream",
          "name": "stdout",
          "text": [
            "done\n"
          ]
        },
        {
          "output_type": "stream",
          "name": "stderr",
          "text": [
            "\r 48%|████▊     | 178/371 [16:11<16:44,  5.21s/it]"
          ]
        },
        {
          "output_type": "stream",
          "name": "stdout",
          "text": [
            "done\n"
          ]
        },
        {
          "output_type": "stream",
          "name": "stderr",
          "text": [
            "\r 48%|████▊     | 179/371 [16:16<16:46,  5.24s/it]"
          ]
        },
        {
          "output_type": "stream",
          "name": "stdout",
          "text": [
            "done\n"
          ]
        },
        {
          "output_type": "stream",
          "name": "stderr",
          "text": [
            "\r 49%|████▊     | 180/371 [16:21<16:24,  5.15s/it]"
          ]
        },
        {
          "output_type": "stream",
          "name": "stdout",
          "text": [
            "done\n"
          ]
        },
        {
          "output_type": "stream",
          "name": "stderr",
          "text": [
            "\r 49%|████▉     | 181/371 [16:27<16:49,  5.32s/it]"
          ]
        },
        {
          "output_type": "stream",
          "name": "stdout",
          "text": [
            "done\n"
          ]
        },
        {
          "output_type": "stream",
          "name": "stderr",
          "text": [
            "\r 49%|████▉     | 182/371 [16:32<16:29,  5.24s/it]"
          ]
        },
        {
          "output_type": "stream",
          "name": "stdout",
          "text": [
            "done\n"
          ]
        },
        {
          "output_type": "stream",
          "name": "stderr",
          "text": [
            "\r 49%|████▉     | 183/371 [16:37<16:24,  5.24s/it]"
          ]
        },
        {
          "output_type": "stream",
          "name": "stdout",
          "text": [
            "done\n"
          ]
        },
        {
          "output_type": "stream",
          "name": "stderr",
          "text": [
            "\r 50%|████▉     | 184/371 [16:42<16:15,  5.22s/it]"
          ]
        },
        {
          "output_type": "stream",
          "name": "stdout",
          "text": [
            "done\n"
          ]
        },
        {
          "output_type": "stream",
          "name": "stderr",
          "text": [
            "\r 50%|████▉     | 185/371 [16:47<16:09,  5.21s/it]"
          ]
        },
        {
          "output_type": "stream",
          "name": "stdout",
          "text": [
            "done\n"
          ]
        },
        {
          "output_type": "stream",
          "name": "stderr",
          "text": [
            "\r 50%|█████     | 186/371 [16:53<16:30,  5.35s/it]"
          ]
        },
        {
          "output_type": "stream",
          "name": "stdout",
          "text": [
            "done\n"
          ]
        },
        {
          "output_type": "stream",
          "name": "stderr",
          "text": [
            "\r 50%|█████     | 187/371 [16:58<16:00,  5.22s/it]"
          ]
        },
        {
          "output_type": "stream",
          "name": "stdout",
          "text": [
            "done\n"
          ]
        },
        {
          "output_type": "stream",
          "name": "stderr",
          "text": [
            "\r 51%|█████     | 188/371 [17:03<16:23,  5.38s/it]"
          ]
        },
        {
          "output_type": "stream",
          "name": "stdout",
          "text": [
            "done\n"
          ]
        },
        {
          "output_type": "stream",
          "name": "stderr",
          "text": [
            "\r 51%|█████     | 189/371 [17:09<16:01,  5.28s/it]"
          ]
        },
        {
          "output_type": "stream",
          "name": "stdout",
          "text": [
            "done\n"
          ]
        },
        {
          "output_type": "stream",
          "name": "stderr",
          "text": [
            "\r 51%|█████     | 190/371 [17:13<15:36,  5.17s/it]"
          ]
        },
        {
          "output_type": "stream",
          "name": "stdout",
          "text": [
            "done\n"
          ]
        },
        {
          "output_type": "stream",
          "name": "stderr",
          "text": [
            "\r 51%|█████▏    | 191/371 [17:19<15:36,  5.20s/it]"
          ]
        },
        {
          "output_type": "stream",
          "name": "stdout",
          "text": [
            "done\n"
          ]
        },
        {
          "output_type": "stream",
          "name": "stderr",
          "text": [
            "\r 52%|█████▏    | 192/371 [17:24<15:13,  5.10s/it]"
          ]
        },
        {
          "output_type": "stream",
          "name": "stdout",
          "text": [
            "done\n"
          ]
        },
        {
          "output_type": "stream",
          "name": "stderr",
          "text": [
            "\r 52%|█████▏    | 193/371 [17:30<16:02,  5.41s/it]"
          ]
        },
        {
          "output_type": "stream",
          "name": "stdout",
          "text": [
            "done\n"
          ]
        },
        {
          "output_type": "stream",
          "name": "stderr",
          "text": [
            "\r 52%|█████▏    | 194/371 [17:35<15:30,  5.25s/it]"
          ]
        },
        {
          "output_type": "stream",
          "name": "stdout",
          "text": [
            "done\n"
          ]
        },
        {
          "output_type": "stream",
          "name": "stderr",
          "text": [
            "\r 53%|█████▎    | 195/371 [17:41<15:58,  5.44s/it]"
          ]
        },
        {
          "output_type": "stream",
          "name": "stdout",
          "text": [
            "done\n"
          ]
        },
        {
          "output_type": "stream",
          "name": "stderr",
          "text": [
            "\r 53%|█████▎    | 196/371 [17:45<15:27,  5.30s/it]"
          ]
        },
        {
          "output_type": "stream",
          "name": "stdout",
          "text": [
            "done\n"
          ]
        },
        {
          "output_type": "stream",
          "name": "stderr",
          "text": [
            "\r 53%|█████▎    | 197/371 [17:50<15:06,  5.21s/it]"
          ]
        },
        {
          "output_type": "stream",
          "name": "stdout",
          "text": [
            "done\n"
          ]
        },
        {
          "output_type": "stream",
          "name": "stderr",
          "text": [
            "\r 53%|█████▎    | 198/371 [17:56<15:14,  5.29s/it]"
          ]
        },
        {
          "output_type": "stream",
          "name": "stdout",
          "text": [
            "done\n"
          ]
        },
        {
          "output_type": "stream",
          "name": "stderr",
          "text": [
            "\r 54%|█████▎    | 199/371 [18:01<14:53,  5.20s/it]"
          ]
        },
        {
          "output_type": "stream",
          "name": "stdout",
          "text": [
            "done\n"
          ]
        },
        {
          "output_type": "stream",
          "name": "stderr",
          "text": [
            "\r 54%|█████▍    | 200/371 [18:07<15:18,  5.37s/it]"
          ]
        },
        {
          "output_type": "stream",
          "name": "stdout",
          "text": [
            "done\n"
          ]
        },
        {
          "output_type": "stream",
          "name": "stderr",
          "text": [
            "\r 54%|█████▍    | 201/371 [18:12<14:51,  5.25s/it]"
          ]
        },
        {
          "output_type": "stream",
          "name": "stdout",
          "text": [
            "done\n"
          ]
        },
        {
          "output_type": "stream",
          "name": "stderr",
          "text": [
            "\r 54%|█████▍    | 202/371 [18:17<14:54,  5.29s/it]"
          ]
        },
        {
          "output_type": "stream",
          "name": "stdout",
          "text": [
            "done\n"
          ]
        },
        {
          "output_type": "stream",
          "name": "stderr",
          "text": [
            "\r 55%|█████▍    | 203/371 [18:22<14:41,  5.25s/it]"
          ]
        },
        {
          "output_type": "stream",
          "name": "stdout",
          "text": [
            "done\n"
          ]
        },
        {
          "output_type": "stream",
          "name": "stderr",
          "text": [
            "\r 55%|█████▍    | 204/371 [18:27<14:26,  5.19s/it]"
          ]
        },
        {
          "output_type": "stream",
          "name": "stdout",
          "text": [
            "done\n"
          ]
        },
        {
          "output_type": "stream",
          "name": "stderr",
          "text": [
            "\r 55%|█████▌    | 205/371 [18:33<14:58,  5.41s/it]"
          ]
        },
        {
          "output_type": "stream",
          "name": "stdout",
          "text": [
            "done\n"
          ]
        },
        {
          "output_type": "stream",
          "name": "stderr",
          "text": [
            "\r 56%|█████▌    | 206/371 [18:38<14:21,  5.22s/it]"
          ]
        },
        {
          "output_type": "stream",
          "name": "stdout",
          "text": [
            "done\n"
          ]
        },
        {
          "output_type": "stream",
          "name": "stderr",
          "text": [
            "\r 56%|█████▌    | 207/371 [18:44<14:56,  5.47s/it]"
          ]
        },
        {
          "output_type": "stream",
          "name": "stdout",
          "text": [
            "done\n"
          ]
        },
        {
          "output_type": "stream",
          "name": "stderr",
          "text": [
            "\r 56%|█████▌    | 208/371 [18:49<14:29,  5.34s/it]"
          ]
        },
        {
          "output_type": "stream",
          "name": "stdout",
          "text": [
            "done\n"
          ]
        },
        {
          "output_type": "stream",
          "name": "stderr",
          "text": [
            "\r 56%|█████▋    | 209/371 [18:54<14:17,  5.29s/it]"
          ]
        },
        {
          "output_type": "stream",
          "name": "stdout",
          "text": [
            "done\n"
          ]
        },
        {
          "output_type": "stream",
          "name": "stderr",
          "text": [
            "\r 57%|█████▋    | 210/371 [18:59<14:09,  5.27s/it]"
          ]
        },
        {
          "output_type": "stream",
          "name": "stdout",
          "text": [
            "done\n"
          ]
        },
        {
          "output_type": "stream",
          "name": "stderr",
          "text": [
            "\r 57%|█████▋    | 211/371 [19:04<13:50,  5.19s/it]"
          ]
        },
        {
          "output_type": "stream",
          "name": "stdout",
          "text": [
            "done\n"
          ]
        },
        {
          "output_type": "stream",
          "name": "stderr",
          "text": [
            "\r 57%|█████▋    | 212/371 [19:10<14:18,  5.40s/it]"
          ]
        },
        {
          "output_type": "stream",
          "name": "stdout",
          "text": [
            "done\n"
          ]
        },
        {
          "output_type": "stream",
          "name": "stderr",
          "text": [
            "\r 57%|█████▋    | 213/371 [19:15<13:58,  5.31s/it]"
          ]
        },
        {
          "output_type": "stream",
          "name": "stdout",
          "text": [
            "done\n"
          ]
        },
        {
          "output_type": "stream",
          "name": "stderr",
          "text": [
            "\r 58%|█████▊    | 214/371 [19:21<13:57,  5.33s/it]"
          ]
        },
        {
          "output_type": "stream",
          "name": "stdout",
          "text": [
            "done\n"
          ]
        },
        {
          "output_type": "stream",
          "name": "stderr",
          "text": [
            "\r 58%|█████▊    | 215/371 [19:26<13:30,  5.20s/it]"
          ]
        },
        {
          "output_type": "stream",
          "name": "stdout",
          "text": [
            "done\n"
          ]
        },
        {
          "output_type": "stream",
          "name": "stderr",
          "text": [
            "\r 58%|█████▊    | 216/371 [19:31<13:11,  5.11s/it]"
          ]
        },
        {
          "output_type": "stream",
          "name": "stdout",
          "text": [
            "done\n"
          ]
        },
        {
          "output_type": "stream",
          "name": "stderr",
          "text": [
            "\r 58%|█████▊    | 217/371 [19:36<13:32,  5.28s/it]"
          ]
        },
        {
          "output_type": "stream",
          "name": "stdout",
          "text": [
            "done\n"
          ]
        },
        {
          "output_type": "stream",
          "name": "stderr",
          "text": [
            "\r 59%|█████▉    | 218/371 [19:41<13:11,  5.17s/it]"
          ]
        },
        {
          "output_type": "stream",
          "name": "stdout",
          "text": [
            "done\n"
          ]
        },
        {
          "output_type": "stream",
          "name": "stderr",
          "text": [
            "\r 59%|█████▉    | 219/371 [19:47<13:33,  5.35s/it]"
          ]
        },
        {
          "output_type": "stream",
          "name": "stdout",
          "text": [
            "done\n"
          ]
        },
        {
          "output_type": "stream",
          "name": "stderr",
          "text": [
            "\r 59%|█████▉    | 220/371 [19:52<13:19,  5.30s/it]"
          ]
        },
        {
          "output_type": "stream",
          "name": "stdout",
          "text": [
            "done\n"
          ]
        },
        {
          "output_type": "stream",
          "name": "stderr",
          "text": [
            "\r 60%|█████▉    | 221/371 [19:57<13:16,  5.31s/it]"
          ]
        },
        {
          "output_type": "stream",
          "name": "stdout",
          "text": [
            "done\n"
          ]
        },
        {
          "output_type": "stream",
          "name": "stderr",
          "text": [
            "\r 60%|█████▉    | 222/371 [20:08<17:22,  7.00s/it]"
          ]
        },
        {
          "output_type": "stream",
          "name": "stdout",
          "text": [
            "done\n"
          ]
        },
        {
          "output_type": "stream",
          "name": "stderr",
          "text": [
            "\r 60%|██████    | 223/371 [20:14<16:04,  6.52s/it]"
          ]
        },
        {
          "output_type": "stream",
          "name": "stdout",
          "text": [
            "done\n"
          ]
        },
        {
          "output_type": "stream",
          "name": "stderr",
          "text": [
            "\r 60%|██████    | 224/371 [20:19<15:17,  6.24s/it]"
          ]
        },
        {
          "output_type": "stream",
          "name": "stdout",
          "text": [
            "done\n"
          ]
        },
        {
          "output_type": "stream",
          "name": "stderr",
          "text": [
            "\r 61%|██████    | 225/371 [20:25<14:22,  5.91s/it]"
          ]
        },
        {
          "output_type": "stream",
          "name": "stdout",
          "text": [
            "done\n"
          ]
        },
        {
          "output_type": "stream",
          "name": "stderr",
          "text": [
            "\r 61%|██████    | 226/371 [20:31<14:23,  5.95s/it]"
          ]
        },
        {
          "output_type": "stream",
          "name": "stdout",
          "text": [
            "done\n"
          ]
        },
        {
          "output_type": "stream",
          "name": "stderr",
          "text": [
            "\r 61%|██████    | 227/371 [20:36<13:39,  5.69s/it]"
          ]
        },
        {
          "output_type": "stream",
          "name": "stdout",
          "text": [
            "done\n"
          ]
        },
        {
          "output_type": "stream",
          "name": "stderr",
          "text": [
            "\r 61%|██████▏   | 228/371 [20:41<13:32,  5.68s/it]"
          ]
        },
        {
          "output_type": "stream",
          "name": "stdout",
          "text": [
            "done\n"
          ]
        },
        {
          "output_type": "stream",
          "name": "stderr",
          "text": [
            "\r 62%|██████▏   | 229/371 [20:46<13:00,  5.49s/it]"
          ]
        },
        {
          "output_type": "stream",
          "name": "stdout",
          "text": [
            "done\n"
          ]
        },
        {
          "output_type": "stream",
          "name": "stderr",
          "text": [
            "\r 62%|██████▏   | 230/371 [20:51<12:33,  5.34s/it]"
          ]
        },
        {
          "output_type": "stream",
          "name": "stdout",
          "text": [
            "done\n"
          ]
        },
        {
          "output_type": "stream",
          "name": "stderr",
          "text": [
            "\r 62%|██████▏   | 231/371 [20:57<12:41,  5.44s/it]"
          ]
        },
        {
          "output_type": "stream",
          "name": "stdout",
          "text": [
            "done\n"
          ]
        },
        {
          "output_type": "stream",
          "name": "stderr",
          "text": [
            "\r 63%|██████▎   | 232/371 [21:02<12:22,  5.34s/it]"
          ]
        },
        {
          "output_type": "stream",
          "name": "stdout",
          "text": [
            "done\n"
          ]
        },
        {
          "output_type": "stream",
          "name": "stderr",
          "text": [
            "\r 63%|██████▎   | 233/371 [21:08<12:38,  5.50s/it]"
          ]
        },
        {
          "output_type": "stream",
          "name": "stdout",
          "text": [
            "done\n"
          ]
        },
        {
          "output_type": "stream",
          "name": "stderr",
          "text": [
            "\r 63%|██████▎   | 234/371 [21:13<12:20,  5.41s/it]"
          ]
        },
        {
          "output_type": "stream",
          "name": "stdout",
          "text": [
            "done\n"
          ]
        },
        {
          "output_type": "stream",
          "name": "stderr",
          "text": [
            "\r 63%|██████▎   | 235/371 [21:19<12:27,  5.50s/it]"
          ]
        },
        {
          "output_type": "stream",
          "name": "stdout",
          "text": [
            "done\n"
          ]
        },
        {
          "output_type": "stream",
          "name": "stderr",
          "text": [
            "\r 64%|██████▎   | 236/371 [21:24<12:11,  5.42s/it]"
          ]
        },
        {
          "output_type": "stream",
          "name": "stdout",
          "text": [
            "done\n"
          ]
        },
        {
          "output_type": "stream",
          "name": "stderr",
          "text": [
            "\r 64%|██████▍   | 237/371 [21:29<11:58,  5.36s/it]"
          ]
        },
        {
          "output_type": "stream",
          "name": "stdout",
          "text": [
            "done\n"
          ]
        },
        {
          "output_type": "stream",
          "name": "stderr",
          "text": [
            "\r 64%|██████▍   | 238/371 [21:35<12:03,  5.44s/it]"
          ]
        },
        {
          "output_type": "stream",
          "name": "stdout",
          "text": [
            "done\n"
          ]
        },
        {
          "output_type": "stream",
          "name": "stderr",
          "text": [
            "\r 64%|██████▍   | 239/371 [21:40<11:46,  5.35s/it]"
          ]
        },
        {
          "output_type": "stream",
          "name": "stdout",
          "text": [
            "done\n"
          ]
        },
        {
          "output_type": "stream",
          "name": "stderr",
          "text": [
            "\r 65%|██████▍   | 240/371 [21:46<12:03,  5.53s/it]"
          ]
        },
        {
          "output_type": "stream",
          "name": "stdout",
          "text": [
            "done\n"
          ]
        },
        {
          "output_type": "stream",
          "name": "stderr",
          "text": [
            "\r 65%|██████▍   | 241/371 [21:51<11:43,  5.41s/it]"
          ]
        },
        {
          "output_type": "stream",
          "name": "stdout",
          "text": [
            "done\n"
          ]
        },
        {
          "output_type": "stream",
          "name": "stderr",
          "text": [
            "\r 65%|██████▌   | 242/371 [21:57<11:46,  5.48s/it]"
          ]
        },
        {
          "output_type": "stream",
          "name": "stdout",
          "text": [
            "done\n"
          ]
        },
        {
          "output_type": "stream",
          "name": "stderr",
          "text": [
            "\r 65%|██████▌   | 243/371 [22:02<11:29,  5.38s/it]"
          ]
        },
        {
          "output_type": "stream",
          "name": "stdout",
          "text": [
            "done\n"
          ]
        },
        {
          "output_type": "stream",
          "name": "stderr",
          "text": [
            "\r 66%|██████▌   | 244/371 [22:07<11:15,  5.32s/it]"
          ]
        },
        {
          "output_type": "stream",
          "name": "stdout",
          "text": [
            "done\n"
          ]
        },
        {
          "output_type": "stream",
          "name": "stderr",
          "text": [
            "\r 66%|██████▌   | 245/371 [22:13<11:19,  5.39s/it]"
          ]
        },
        {
          "output_type": "stream",
          "name": "stdout",
          "text": [
            "done\n"
          ]
        },
        {
          "output_type": "stream",
          "name": "stderr",
          "text": [
            "\r 66%|██████▋   | 246/371 [22:18<10:53,  5.23s/it]"
          ]
        },
        {
          "output_type": "stream",
          "name": "stdout",
          "text": [
            "done\n"
          ]
        },
        {
          "output_type": "stream",
          "name": "stderr",
          "text": [
            "\r 67%|██████▋   | 247/371 [22:23<11:06,  5.37s/it]"
          ]
        },
        {
          "output_type": "stream",
          "name": "stdout",
          "text": [
            "done\n"
          ]
        },
        {
          "output_type": "stream",
          "name": "stderr",
          "text": [
            "\r 67%|██████▋   | 248/371 [22:28<10:46,  5.26s/it]"
          ]
        },
        {
          "output_type": "stream",
          "name": "stdout",
          "text": [
            "done\n"
          ]
        },
        {
          "output_type": "stream",
          "name": "stderr",
          "text": [
            "\r 67%|██████▋   | 249/371 [22:33<10:33,  5.19s/it]"
          ]
        },
        {
          "output_type": "stream",
          "name": "stdout",
          "text": [
            "done\n"
          ]
        },
        {
          "output_type": "stream",
          "name": "stderr",
          "text": [
            "\r 67%|██████▋   | 250/371 [22:39<10:32,  5.23s/it]"
          ]
        },
        {
          "output_type": "stream",
          "name": "stdout",
          "text": [
            "done\n"
          ]
        },
        {
          "output_type": "stream",
          "name": "stderr",
          "text": [
            "\r 68%|██████▊   | 251/371 [22:44<10:13,  5.11s/it]"
          ]
        },
        {
          "output_type": "stream",
          "name": "stdout",
          "text": [
            "done\n"
          ]
        },
        {
          "output_type": "stream",
          "name": "stderr",
          "text": [
            "\r 68%|██████▊   | 252/371 [22:49<10:36,  5.35s/it]"
          ]
        },
        {
          "output_type": "stream",
          "name": "stdout",
          "text": [
            "done\n"
          ]
        },
        {
          "output_type": "stream",
          "name": "stderr",
          "text": [
            "\r 68%|██████▊   | 253/371 [22:54<10:17,  5.23s/it]"
          ]
        },
        {
          "output_type": "stream",
          "name": "stdout",
          "text": [
            "done\n"
          ]
        },
        {
          "output_type": "stream",
          "name": "stderr",
          "text": [
            "\r 68%|██████▊   | 254/371 [23:00<10:23,  5.33s/it]"
          ]
        },
        {
          "output_type": "stream",
          "name": "stdout",
          "text": [
            "done\n"
          ]
        },
        {
          "output_type": "stream",
          "name": "stderr",
          "text": [
            "\r 69%|██████▊   | 255/371 [23:05<10:04,  5.21s/it]"
          ]
        },
        {
          "output_type": "stream",
          "name": "stdout",
          "text": [
            "done\n"
          ]
        },
        {
          "output_type": "stream",
          "name": "stderr",
          "text": [
            "\r 69%|██████▉   | 256/371 [23:10<09:54,  5.17s/it]"
          ]
        },
        {
          "output_type": "stream",
          "name": "stdout",
          "text": [
            "done\n"
          ]
        },
        {
          "output_type": "stream",
          "name": "stderr",
          "text": [
            "\r 69%|██████▉   | 257/371 [23:16<10:09,  5.35s/it]"
          ]
        },
        {
          "output_type": "stream",
          "name": "stdout",
          "text": [
            "done\n"
          ]
        },
        {
          "output_type": "stream",
          "name": "stderr",
          "text": [
            "\r 70%|██████▉   | 258/371 [23:21<09:46,  5.19s/it]"
          ]
        },
        {
          "output_type": "stream",
          "name": "stdout",
          "text": [
            "done\n"
          ]
        },
        {
          "output_type": "stream",
          "name": "stderr",
          "text": [
            "\r 70%|██████▉   | 259/371 [23:26<09:55,  5.32s/it]"
          ]
        },
        {
          "output_type": "stream",
          "name": "stdout",
          "text": [
            "done\n"
          ]
        },
        {
          "output_type": "stream",
          "name": "stderr",
          "text": [
            "\r 70%|███████   | 260/371 [23:31<09:39,  5.22s/it]"
          ]
        },
        {
          "output_type": "stream",
          "name": "stdout",
          "text": [
            "done\n"
          ]
        },
        {
          "output_type": "stream",
          "name": "stderr",
          "text": [
            "\r 70%|███████   | 261/371 [23:36<09:29,  5.18s/it]"
          ]
        },
        {
          "output_type": "stream",
          "name": "stdout",
          "text": [
            "done\n"
          ]
        },
        {
          "output_type": "stream",
          "name": "stderr",
          "text": [
            "\r 71%|███████   | 262/371 [23:42<09:34,  5.27s/it]"
          ]
        },
        {
          "output_type": "stream",
          "name": "stdout",
          "text": [
            "done\n"
          ]
        },
        {
          "output_type": "stream",
          "name": "stderr",
          "text": [
            "\r 71%|███████   | 263/371 [23:47<09:25,  5.23s/it]"
          ]
        },
        {
          "output_type": "stream",
          "name": "stdout",
          "text": [
            "done\n"
          ]
        },
        {
          "output_type": "stream",
          "name": "stderr",
          "text": [
            "\r 71%|███████   | 264/371 [23:53<09:40,  5.43s/it]"
          ]
        },
        {
          "output_type": "stream",
          "name": "stdout",
          "text": [
            "done\n"
          ]
        },
        {
          "output_type": "stream",
          "name": "stderr",
          "text": [
            "\r 71%|███████▏  | 265/371 [23:58<09:22,  5.31s/it]"
          ]
        },
        {
          "output_type": "stream",
          "name": "stdout",
          "text": [
            "done\n"
          ]
        },
        {
          "output_type": "stream",
          "name": "stderr",
          "text": [
            "\r 72%|███████▏  | 266/371 [24:04<09:34,  5.47s/it]"
          ]
        },
        {
          "output_type": "stream",
          "name": "stdout",
          "text": [
            "done\n"
          ]
        },
        {
          "output_type": "stream",
          "name": "stderr",
          "text": [
            "\r 72%|███████▏  | 267/371 [24:09<09:15,  5.34s/it]"
          ]
        },
        {
          "output_type": "stream",
          "name": "stdout",
          "text": [
            "done\n"
          ]
        },
        {
          "output_type": "stream",
          "name": "stderr",
          "text": [
            "\r 72%|███████▏  | 268/371 [24:14<09:08,  5.32s/it]"
          ]
        },
        {
          "output_type": "stream",
          "name": "stdout",
          "text": [
            "done\n"
          ]
        },
        {
          "output_type": "stream",
          "name": "stderr",
          "text": [
            "\r 73%|███████▎  | 269/371 [24:19<08:59,  5.29s/it]"
          ]
        },
        {
          "output_type": "stream",
          "name": "stdout",
          "text": [
            "done\n"
          ]
        },
        {
          "output_type": "stream",
          "name": "stderr",
          "text": [
            "\r 73%|███████▎  | 270/371 [24:24<08:43,  5.19s/it]"
          ]
        },
        {
          "output_type": "stream",
          "name": "stdout",
          "text": [
            "done\n"
          ]
        },
        {
          "output_type": "stream",
          "name": "stderr",
          "text": [
            "\r 73%|███████▎  | 271/371 [24:30<08:52,  5.33s/it]"
          ]
        },
        {
          "output_type": "stream",
          "name": "stdout",
          "text": [
            "done\n"
          ]
        },
        {
          "output_type": "stream",
          "name": "stderr",
          "text": [
            "\r 73%|███████▎  | 272/371 [24:35<08:38,  5.23s/it]"
          ]
        },
        {
          "output_type": "stream",
          "name": "stdout",
          "text": [
            "done\n"
          ]
        },
        {
          "output_type": "stream",
          "name": "stderr",
          "text": [
            "\r 74%|███████▎  | 273/371 [24:40<08:42,  5.34s/it]"
          ]
        },
        {
          "output_type": "stream",
          "name": "stdout",
          "text": [
            "done\n"
          ]
        },
        {
          "output_type": "stream",
          "name": "stderr",
          "text": [
            "\r 74%|███████▍  | 274/371 [24:45<08:27,  5.23s/it]"
          ]
        },
        {
          "output_type": "stream",
          "name": "stdout",
          "text": [
            "done\n"
          ]
        },
        {
          "output_type": "stream",
          "name": "stderr",
          "text": [
            "\r 74%|███████▍  | 275/371 [24:50<08:10,  5.11s/it]"
          ]
        },
        {
          "output_type": "stream",
          "name": "stdout",
          "text": [
            "done\n"
          ]
        },
        {
          "output_type": "stream",
          "name": "stderr",
          "text": [
            "\r 74%|███████▍  | 276/371 [24:56<08:21,  5.28s/it]"
          ]
        },
        {
          "output_type": "stream",
          "name": "stdout",
          "text": [
            "done\n"
          ]
        },
        {
          "output_type": "stream",
          "name": "stderr",
          "text": [
            "\r 75%|███████▍  | 277/371 [25:02<08:45,  5.59s/it]"
          ]
        },
        {
          "output_type": "stream",
          "name": "stdout",
          "text": [
            "done\n"
          ]
        },
        {
          "output_type": "stream",
          "name": "stderr",
          "text": [
            "\r 75%|███████▍  | 278/371 [25:08<08:38,  5.58s/it]"
          ]
        },
        {
          "output_type": "stream",
          "name": "stdout",
          "text": [
            "done\n"
          ]
        },
        {
          "output_type": "stream",
          "name": "stderr",
          "text": [
            "\r 75%|███████▌  | 279/371 [25:13<08:19,  5.43s/it]"
          ]
        },
        {
          "output_type": "stream",
          "name": "stdout",
          "text": [
            "done\n"
          ]
        },
        {
          "output_type": "stream",
          "name": "stderr",
          "text": [
            "\r 75%|███████▌  | 280/371 [25:18<08:19,  5.49s/it]"
          ]
        },
        {
          "output_type": "stream",
          "name": "stdout",
          "text": [
            "done\n"
          ]
        },
        {
          "output_type": "stream",
          "name": "stderr",
          "text": [
            "\r 76%|███████▌  | 281/371 [25:23<08:01,  5.35s/it]"
          ]
        },
        {
          "output_type": "stream",
          "name": "stdout",
          "text": [
            "done\n"
          ]
        },
        {
          "output_type": "stream",
          "name": "stderr",
          "text": [
            "\r 76%|███████▌  | 282/371 [25:28<07:45,  5.23s/it]"
          ]
        },
        {
          "output_type": "stream",
          "name": "stdout",
          "text": [
            "done\n"
          ]
        },
        {
          "output_type": "stream",
          "name": "stderr",
          "text": [
            "\r 76%|███████▋  | 283/371 [25:34<07:47,  5.31s/it]"
          ]
        },
        {
          "output_type": "stream",
          "name": "stdout",
          "text": [
            "done\n"
          ]
        },
        {
          "output_type": "stream",
          "name": "stderr",
          "text": [
            "\r 77%|███████▋  | 284/371 [25:39<07:37,  5.26s/it]"
          ]
        },
        {
          "output_type": "stream",
          "name": "stdout",
          "text": [
            "done\n"
          ]
        },
        {
          "output_type": "stream",
          "name": "stderr",
          "text": [
            "\r 77%|███████▋  | 285/371 [25:45<07:41,  5.36s/it]"
          ]
        },
        {
          "output_type": "stream",
          "name": "stdout",
          "text": [
            "done\n"
          ]
        },
        {
          "output_type": "stream",
          "name": "stderr",
          "text": [
            "\r 77%|███████▋  | 286/371 [25:50<07:26,  5.25s/it]"
          ]
        },
        {
          "output_type": "stream",
          "name": "stdout",
          "text": [
            "done\n"
          ]
        },
        {
          "output_type": "stream",
          "name": "stderr",
          "text": [
            "\r 77%|███████▋  | 287/371 [25:55<07:19,  5.23s/it]"
          ]
        },
        {
          "output_type": "stream",
          "name": "stdout",
          "text": [
            "done\n"
          ]
        },
        {
          "output_type": "stream",
          "name": "stderr",
          "text": [
            "\r 78%|███████▊  | 288/371 [26:00<07:16,  5.25s/it]"
          ]
        },
        {
          "output_type": "stream",
          "name": "stdout",
          "text": [
            "done\n"
          ]
        },
        {
          "output_type": "stream",
          "name": "stderr",
          "text": [
            "\r 78%|███████▊  | 289/371 [26:05<07:01,  5.15s/it]"
          ]
        },
        {
          "output_type": "stream",
          "name": "stdout",
          "text": [
            "done\n"
          ]
        },
        {
          "output_type": "stream",
          "name": "stderr",
          "text": [
            "\r 78%|███████▊  | 290/371 [26:11<07:13,  5.35s/it]"
          ]
        },
        {
          "output_type": "stream",
          "name": "stdout",
          "text": [
            "done\n"
          ]
        },
        {
          "output_type": "stream",
          "name": "stderr",
          "text": [
            "\r 78%|███████▊  | 291/371 [26:16<07:01,  5.27s/it]"
          ]
        },
        {
          "output_type": "stream",
          "name": "stdout",
          "text": [
            "done\n"
          ]
        },
        {
          "output_type": "stream",
          "name": "stderr",
          "text": [
            "\r 79%|███████▊  | 292/371 [26:22<07:09,  5.43s/it]"
          ]
        },
        {
          "output_type": "stream",
          "name": "stdout",
          "text": [
            "done\n"
          ]
        },
        {
          "output_type": "stream",
          "name": "stderr",
          "text": [
            "\r 79%|███████▉  | 293/371 [26:27<06:54,  5.31s/it]"
          ]
        },
        {
          "output_type": "stream",
          "name": "stdout",
          "text": [
            "done\n"
          ]
        },
        {
          "output_type": "stream",
          "name": "stderr",
          "text": [
            "\r 79%|███████▉  | 294/371 [26:32<06:52,  5.36s/it]"
          ]
        },
        {
          "output_type": "stream",
          "name": "stdout",
          "text": [
            "done\n"
          ]
        },
        {
          "output_type": "stream",
          "name": "stderr",
          "text": [
            "\r 80%|███████▉  | 295/371 [26:37<06:40,  5.26s/it]"
          ]
        },
        {
          "output_type": "stream",
          "name": "stdout",
          "text": [
            "done\n"
          ]
        },
        {
          "output_type": "stream",
          "name": "stderr",
          "text": [
            "\r 80%|███████▉  | 296/371 [26:42<06:28,  5.18s/it]"
          ]
        },
        {
          "output_type": "stream",
          "name": "stdout",
          "text": [
            "done\n"
          ]
        },
        {
          "output_type": "stream",
          "name": "stderr",
          "text": [
            "\r 80%|████████  | 297/371 [26:48<06:40,  5.41s/it]"
          ]
        },
        {
          "output_type": "stream",
          "name": "stdout",
          "text": [
            "done\n"
          ]
        },
        {
          "output_type": "stream",
          "name": "stderr",
          "text": [
            "\r 80%|████████  | 298/371 [26:53<06:29,  5.34s/it]"
          ]
        },
        {
          "output_type": "stream",
          "name": "stdout",
          "text": [
            "done\n"
          ]
        },
        {
          "output_type": "stream",
          "name": "stderr",
          "text": [
            "\r 81%|████████  | 299/371 [26:59<06:39,  5.55s/it]"
          ]
        },
        {
          "output_type": "stream",
          "name": "stdout",
          "text": [
            "done\n"
          ]
        },
        {
          "output_type": "stream",
          "name": "stderr",
          "text": [
            "\r 81%|████████  | 300/371 [27:04<06:22,  5.38s/it]"
          ]
        },
        {
          "output_type": "stream",
          "name": "stdout",
          "text": [
            "done\n"
          ]
        },
        {
          "output_type": "stream",
          "name": "stderr",
          "text": [
            "\r 81%|████████  | 301/371 [27:10<06:11,  5.30s/it]"
          ]
        },
        {
          "output_type": "stream",
          "name": "stdout",
          "text": [
            "done\n"
          ]
        },
        {
          "output_type": "stream",
          "name": "stderr",
          "text": [
            "\r 81%|████████▏ | 302/371 [27:15<06:04,  5.29s/it]"
          ]
        },
        {
          "output_type": "stream",
          "name": "stdout",
          "text": [
            "done\n"
          ]
        },
        {
          "output_type": "stream",
          "name": "stderr",
          "text": [
            "\r 82%|████████▏ | 303/371 [27:20<05:52,  5.18s/it]"
          ]
        },
        {
          "output_type": "stream",
          "name": "stdout",
          "text": [
            "done\n"
          ]
        },
        {
          "output_type": "stream",
          "name": "stderr",
          "text": [
            "\r 82%|████████▏ | 304/371 [27:25<05:55,  5.31s/it]"
          ]
        },
        {
          "output_type": "stream",
          "name": "stdout",
          "text": [
            "done\n"
          ]
        },
        {
          "output_type": "stream",
          "name": "stderr",
          "text": [
            "\r 82%|████████▏ | 305/371 [27:30<05:45,  5.23s/it]"
          ]
        },
        {
          "output_type": "stream",
          "name": "stdout",
          "text": [
            "done\n"
          ]
        },
        {
          "output_type": "stream",
          "name": "stderr",
          "text": [
            "\r 82%|████████▏ | 306/371 [27:36<05:50,  5.39s/it]"
          ]
        },
        {
          "output_type": "stream",
          "name": "stdout",
          "text": [
            "done\n"
          ]
        },
        {
          "output_type": "stream",
          "name": "stderr",
          "text": [
            "\r 83%|████████▎ | 307/371 [27:41<05:37,  5.27s/it]"
          ]
        },
        {
          "output_type": "stream",
          "name": "stdout",
          "text": [
            "done\n"
          ]
        },
        {
          "output_type": "stream",
          "name": "stderr",
          "text": [
            "\r 83%|████████▎ | 308/371 [27:46<05:26,  5.18s/it]"
          ]
        },
        {
          "output_type": "stream",
          "name": "stdout",
          "text": [
            "done\n"
          ]
        },
        {
          "output_type": "stream",
          "name": "stderr",
          "text": [
            "\r 83%|████████▎ | 309/371 [27:52<05:28,  5.30s/it]"
          ]
        },
        {
          "output_type": "stream",
          "name": "stdout",
          "text": [
            "done\n"
          ]
        },
        {
          "output_type": "stream",
          "name": "stderr",
          "text": [
            "\r 84%|████████▎ | 310/371 [27:57<05:21,  5.27s/it]"
          ]
        },
        {
          "output_type": "stream",
          "name": "stdout",
          "text": [
            "done\n"
          ]
        },
        {
          "output_type": "stream",
          "name": "stderr",
          "text": [
            "\r 84%|████████▍ | 311/371 [28:03<05:25,  5.42s/it]"
          ]
        },
        {
          "output_type": "stream",
          "name": "stdout",
          "text": [
            "done\n"
          ]
        },
        {
          "output_type": "stream",
          "name": "stderr",
          "text": [
            "\r 84%|████████▍ | 312/371 [28:07<05:08,  5.24s/it]"
          ]
        },
        {
          "output_type": "stream",
          "name": "stdout",
          "text": [
            "done\n"
          ]
        },
        {
          "output_type": "stream",
          "name": "stderr",
          "text": [
            "\r 84%|████████▍ | 313/371 [28:14<05:31,  5.71s/it]"
          ]
        },
        {
          "output_type": "stream",
          "name": "stdout",
          "text": [
            "done\n"
          ]
        },
        {
          "output_type": "stream",
          "name": "stderr",
          "text": [
            "\r 85%|████████▍ | 314/371 [28:19<05:13,  5.49s/it]"
          ]
        },
        {
          "output_type": "stream",
          "name": "stdout",
          "text": [
            "done\n"
          ]
        },
        {
          "output_type": "stream",
          "name": "stderr",
          "text": [
            "\r 85%|████████▍ | 315/371 [28:26<05:26,  5.83s/it]"
          ]
        },
        {
          "output_type": "stream",
          "name": "stdout",
          "text": [
            "done\n"
          ]
        },
        {
          "output_type": "stream",
          "name": "stderr",
          "text": [
            "\r 85%|████████▌ | 316/371 [28:32<05:23,  5.88s/it]"
          ]
        },
        {
          "output_type": "stream",
          "name": "stdout",
          "text": [
            "done\n"
          ]
        },
        {
          "output_type": "stream",
          "name": "stderr",
          "text": [
            "\r 85%|████████▌ | 317/371 [28:37<05:12,  5.78s/it]"
          ]
        },
        {
          "output_type": "stream",
          "name": "stdout",
          "text": [
            "done\n"
          ]
        },
        {
          "output_type": "stream",
          "name": "stderr",
          "text": [
            "\r 86%|████████▌ | 318/371 [28:43<04:58,  5.64s/it]"
          ]
        },
        {
          "output_type": "stream",
          "name": "stdout",
          "text": [
            "done\n"
          ]
        },
        {
          "output_type": "stream",
          "name": "stderr",
          "text": [
            "\r 86%|████████▌ | 319/371 [28:48<04:41,  5.42s/it]"
          ]
        },
        {
          "output_type": "stream",
          "name": "stdout",
          "text": [
            "done\n"
          ]
        },
        {
          "output_type": "stream",
          "name": "stderr",
          "text": [
            "\r 86%|████████▋ | 320/371 [28:54<04:45,  5.59s/it]"
          ]
        },
        {
          "output_type": "stream",
          "name": "stdout",
          "text": [
            "done\n"
          ]
        },
        {
          "output_type": "stream",
          "name": "stderr",
          "text": [
            "\r 87%|████████▋ | 321/371 [28:59<04:29,  5.40s/it]"
          ]
        },
        {
          "output_type": "stream",
          "name": "stdout",
          "text": [
            "done\n"
          ]
        },
        {
          "output_type": "stream",
          "name": "stderr",
          "text": [
            "\r 87%|████████▋ | 322/371 [29:04<04:30,  5.51s/it]"
          ]
        },
        {
          "output_type": "stream",
          "name": "stdout",
          "text": [
            "done\n"
          ]
        },
        {
          "output_type": "stream",
          "name": "stderr",
          "text": [
            "\r 87%|████████▋ | 323/371 [29:09<04:17,  5.37s/it]"
          ]
        },
        {
          "output_type": "stream",
          "name": "stdout",
          "text": [
            "done\n"
          ]
        },
        {
          "output_type": "stream",
          "name": "stderr",
          "text": [
            "\r 87%|████████▋ | 324/371 [29:15<04:14,  5.41s/it]"
          ]
        },
        {
          "output_type": "stream",
          "name": "stdout",
          "text": [
            "done\n"
          ]
        },
        {
          "output_type": "stream",
          "name": "stderr",
          "text": [
            "\r 88%|████████▊ | 325/371 [29:20<04:06,  5.36s/it]"
          ]
        },
        {
          "output_type": "stream",
          "name": "stdout",
          "text": [
            "done\n"
          ]
        },
        {
          "output_type": "stream",
          "name": "stderr",
          "text": [
            "\r 88%|████████▊ | 326/371 [29:25<03:55,  5.23s/it]"
          ]
        },
        {
          "output_type": "stream",
          "name": "stdout",
          "text": [
            "done\n"
          ]
        },
        {
          "output_type": "stream",
          "name": "stderr",
          "text": [
            "\r 88%|████████▊ | 327/371 [29:31<04:02,  5.50s/it]"
          ]
        },
        {
          "output_type": "stream",
          "name": "stdout",
          "text": [
            "done\n"
          ]
        },
        {
          "output_type": "stream",
          "name": "stderr",
          "text": [
            "\r 88%|████████▊ | 328/371 [29:36<03:52,  5.41s/it]"
          ]
        },
        {
          "output_type": "stream",
          "name": "stdout",
          "text": [
            "done\n"
          ]
        },
        {
          "output_type": "stream",
          "name": "stderr",
          "text": [
            "\r 89%|████████▊ | 329/371 [29:42<03:54,  5.58s/it]"
          ]
        },
        {
          "output_type": "stream",
          "name": "stdout",
          "text": [
            "done\n"
          ]
        },
        {
          "output_type": "stream",
          "name": "stderr",
          "text": [
            "\r 89%|████████▉ | 330/371 [29:47<03:42,  5.43s/it]"
          ]
        },
        {
          "output_type": "stream",
          "name": "stdout",
          "text": [
            "done\n"
          ]
        },
        {
          "output_type": "stream",
          "name": "stderr",
          "text": [
            "\r 89%|████████▉ | 331/371 [29:53<03:36,  5.40s/it]"
          ]
        },
        {
          "output_type": "stream",
          "name": "stdout",
          "text": [
            "done\n"
          ]
        },
        {
          "output_type": "stream",
          "name": "stderr",
          "text": [
            "\r 89%|████████▉ | 332/371 [29:58<03:33,  5.47s/it]"
          ]
        },
        {
          "output_type": "stream",
          "name": "stdout",
          "text": [
            "done\n"
          ]
        },
        {
          "output_type": "stream",
          "name": "stderr",
          "text": [
            "\r 90%|████████▉ | 333/371 [30:04<03:26,  5.42s/it]"
          ]
        },
        {
          "output_type": "stream",
          "name": "stdout",
          "text": [
            "done\n"
          ]
        },
        {
          "output_type": "stream",
          "name": "stderr",
          "text": [
            "\r 90%|█████████ | 334/371 [30:14<04:10,  6.78s/it]"
          ]
        },
        {
          "output_type": "stream",
          "name": "stdout",
          "text": [
            "done\n"
          ]
        },
        {
          "output_type": "stream",
          "name": "stderr",
          "text": [
            "\r 90%|█████████ | 335/371 [30:20<03:59,  6.64s/it]"
          ]
        },
        {
          "output_type": "stream",
          "name": "stdout",
          "text": [
            "done\n"
          ]
        },
        {
          "output_type": "stream",
          "name": "stderr",
          "text": [
            "\r 91%|█████████ | 336/371 [30:27<03:51,  6.61s/it]"
          ]
        },
        {
          "output_type": "stream",
          "name": "stdout",
          "text": [
            "done\n"
          ]
        },
        {
          "output_type": "stream",
          "name": "stderr",
          "text": [
            "\r 91%|█████████ | 337/371 [30:34<03:49,  6.75s/it]"
          ]
        },
        {
          "output_type": "stream",
          "name": "stdout",
          "text": [
            "done\n"
          ]
        },
        {
          "output_type": "stream",
          "name": "stderr",
          "text": [
            "\r 91%|█████████ | 338/371 [30:39<03:32,  6.44s/it]"
          ]
        },
        {
          "output_type": "stream",
          "name": "stdout",
          "text": [
            "done\n"
          ]
        },
        {
          "output_type": "stream",
          "name": "stderr",
          "text": [
            "\r 91%|█████████▏| 339/371 [30:46<03:29,  6.54s/it]"
          ]
        },
        {
          "output_type": "stream",
          "name": "stdout",
          "text": [
            "done\n"
          ]
        },
        {
          "output_type": "stream",
          "name": "stderr",
          "text": [
            "\r 92%|█████████▏| 340/371 [30:53<03:28,  6.72s/it]"
          ]
        },
        {
          "output_type": "stream",
          "name": "stdout",
          "text": [
            "done\n"
          ]
        },
        {
          "output_type": "stream",
          "name": "stderr",
          "text": [
            "\r 92%|█████████▏| 341/371 [31:00<03:24,  6.80s/it]"
          ]
        },
        {
          "output_type": "stream",
          "name": "stdout",
          "text": [
            "done\n"
          ]
        },
        {
          "output_type": "stream",
          "name": "stderr",
          "text": [
            "\r 92%|█████████▏| 342/371 [31:06<03:07,  6.47s/it]"
          ]
        },
        {
          "output_type": "stream",
          "name": "stdout",
          "text": [
            "done\n"
          ]
        },
        {
          "output_type": "stream",
          "name": "stderr",
          "text": [
            "\r 92%|█████████▏| 343/371 [31:13<03:08,  6.73s/it]"
          ]
        },
        {
          "output_type": "stream",
          "name": "stdout",
          "text": [
            "done\n"
          ]
        },
        {
          "output_type": "stream",
          "name": "stderr",
          "text": [
            "\r 93%|█████████▎| 344/371 [31:19<02:55,  6.49s/it]"
          ]
        },
        {
          "output_type": "stream",
          "name": "stdout",
          "text": [
            "done\n"
          ]
        },
        {
          "output_type": "stream",
          "name": "stderr",
          "text": [
            "\r 93%|█████████▎| 345/371 [31:26<02:53,  6.68s/it]"
          ]
        },
        {
          "output_type": "stream",
          "name": "stdout",
          "text": [
            "done\n"
          ]
        },
        {
          "output_type": "stream",
          "name": "stderr",
          "text": [
            "\r 93%|█████████▎| 346/371 [31:33<02:50,  6.81s/it]"
          ]
        },
        {
          "output_type": "stream",
          "name": "stdout",
          "text": [
            "done\n"
          ]
        },
        {
          "output_type": "stream",
          "name": "stderr",
          "text": [
            "\r 94%|█████████▎| 347/371 [31:39<02:38,  6.59s/it]"
          ]
        },
        {
          "output_type": "stream",
          "name": "stdout",
          "text": [
            "done\n"
          ]
        },
        {
          "output_type": "stream",
          "name": "stderr",
          "text": [
            "\r 94%|█████████▍| 348/371 [31:47<02:35,  6.76s/it]"
          ]
        },
        {
          "output_type": "stream",
          "name": "stdout",
          "text": [
            "done\n"
          ]
        },
        {
          "output_type": "stream",
          "name": "stderr",
          "text": [
            "\r 94%|█████████▍| 349/371 [31:52<02:21,  6.44s/it]"
          ]
        },
        {
          "output_type": "stream",
          "name": "stdout",
          "text": [
            "done\n"
          ]
        },
        {
          "output_type": "stream",
          "name": "stderr",
          "text": [
            "\r 94%|█████████▍| 350/371 [31:59<02:17,  6.57s/it]"
          ]
        },
        {
          "output_type": "stream",
          "name": "stdout",
          "text": [
            "done\n"
          ]
        },
        {
          "output_type": "stream",
          "name": "stderr",
          "text": [
            "\r 95%|█████████▍| 351/371 [32:05<02:07,  6.38s/it]"
          ]
        },
        {
          "output_type": "stream",
          "name": "stdout",
          "text": [
            "done\n"
          ]
        },
        {
          "output_type": "stream",
          "name": "stderr",
          "text": [
            "\r 95%|█████████▍| 352/371 [32:11<02:00,  6.37s/it]"
          ]
        },
        {
          "output_type": "stream",
          "name": "stdout",
          "text": [
            "done\n"
          ]
        },
        {
          "output_type": "stream",
          "name": "stderr",
          "text": [
            "\r 95%|█████████▌| 353/371 [32:18<01:52,  6.28s/it]"
          ]
        },
        {
          "output_type": "stream",
          "name": "stdout",
          "text": [
            "done\n"
          ]
        },
        {
          "output_type": "stream",
          "name": "stderr",
          "text": [
            "\r 95%|█████████▌| 354/371 [32:25<01:52,  6.60s/it]"
          ]
        },
        {
          "output_type": "stream",
          "name": "stdout",
          "text": [
            "done\n"
          ]
        },
        {
          "output_type": "stream",
          "name": "stderr",
          "text": [
            "\r 96%|█████████▌| 355/371 [32:26<01:20,  5.06s/it]"
          ]
        },
        {
          "output_type": "stream",
          "name": "stdout",
          "text": [
            "Skipping BraTS20_Training_355 due to error: No such file or no access: '/kaggle/input/brats20-dataset-training-validation/BraTS2020_TrainingData/MICCAI_BraTS2020_TrainingData/BraTS20_Training_355/BraTS20_Training_355_seg.nii'\n"
          ]
        },
        {
          "output_type": "stream",
          "name": "stderr",
          "text": [
            "\r 96%|█████████▌| 356/371 [32:32<01:20,  5.38s/it]"
          ]
        },
        {
          "output_type": "stream",
          "name": "stdout",
          "text": [
            "done\n"
          ]
        },
        {
          "output_type": "stream",
          "name": "stderr",
          "text": [
            "\r 96%|█████████▌| 357/371 [32:39<01:20,  5.73s/it]"
          ]
        },
        {
          "output_type": "stream",
          "name": "stdout",
          "text": [
            "done\n"
          ]
        },
        {
          "output_type": "stream",
          "name": "stderr",
          "text": [
            "\r 96%|█████████▋| 358/371 [32:45<01:13,  5.68s/it]"
          ]
        },
        {
          "output_type": "stream",
          "name": "stdout",
          "text": [
            "done\n"
          ]
        },
        {
          "output_type": "stream",
          "name": "stderr",
          "text": [
            "\r 97%|█████████▋| 359/371 [32:51<01:11,  5.97s/it]"
          ]
        },
        {
          "output_type": "stream",
          "name": "stdout",
          "text": [
            "done\n"
          ]
        },
        {
          "output_type": "stream",
          "name": "stderr",
          "text": [
            "\r 97%|█████████▋| 360/371 [32:57<01:04,  5.88s/it]"
          ]
        },
        {
          "output_type": "stream",
          "name": "stdout",
          "text": [
            "done\n"
          ]
        },
        {
          "output_type": "stream",
          "name": "stderr",
          "text": [
            "\r 97%|█████████▋| 361/371 [33:04<01:01,  6.20s/it]"
          ]
        },
        {
          "output_type": "stream",
          "name": "stdout",
          "text": [
            "done\n"
          ]
        },
        {
          "output_type": "stream",
          "name": "stderr",
          "text": [
            "\r 98%|█████████▊| 362/371 [33:11<00:58,  6.45s/it]"
          ]
        },
        {
          "output_type": "stream",
          "name": "stdout",
          "text": [
            "done\n"
          ]
        },
        {
          "output_type": "stream",
          "name": "stderr",
          "text": [
            "\r 98%|█████████▊| 363/371 [33:17<00:50,  6.32s/it]"
          ]
        },
        {
          "output_type": "stream",
          "name": "stdout",
          "text": [
            "done\n"
          ]
        },
        {
          "output_type": "stream",
          "name": "stderr",
          "text": [
            "\r 98%|█████████▊| 364/371 [33:23<00:44,  6.30s/it]"
          ]
        },
        {
          "output_type": "stream",
          "name": "stdout",
          "text": [
            "done\n"
          ]
        },
        {
          "output_type": "stream",
          "name": "stderr",
          "text": [
            "\r 98%|█████████▊| 365/371 [33:30<00:38,  6.46s/it]"
          ]
        },
        {
          "output_type": "stream",
          "name": "stdout",
          "text": [
            "done\n"
          ]
        },
        {
          "output_type": "stream",
          "name": "stderr",
          "text": [
            "\r 99%|█████████▊| 366/371 [33:35<00:30,  6.04s/it]"
          ]
        },
        {
          "output_type": "stream",
          "name": "stdout",
          "text": [
            "done\n"
          ]
        },
        {
          "output_type": "stream",
          "name": "stderr",
          "text": [
            "\r 99%|█████████▉| 367/371 [33:42<00:25,  6.41s/it]"
          ]
        },
        {
          "output_type": "stream",
          "name": "stdout",
          "text": [
            "done\n"
          ]
        },
        {
          "output_type": "stream",
          "name": "stderr",
          "text": [
            "\r 99%|█████████▉| 368/371 [33:49<00:19,  6.41s/it]"
          ]
        },
        {
          "output_type": "stream",
          "name": "stdout",
          "text": [
            "done\n"
          ]
        },
        {
          "output_type": "stream",
          "name": "stderr",
          "text": [
            "100%|██████████| 371/371 [33:56<00:00,  5.49s/it]"
          ]
        },
        {
          "output_type": "stream",
          "name": "stdout",
          "text": [
            "done\n",
            "Skipping name_mapping.csv due to error: No such file or no access: '/kaggle/input/brats20-dataset-training-validation/BraTS2020_TrainingData/MICCAI_BraTS2020_TrainingData/name_mapping.csv/name_mapping.csv_flair.nii'\n",
            "Skipping survival_info.csv due to error: No such file or no access: '/kaggle/input/brats20-dataset-training-validation/BraTS2020_TrainingData/MICCAI_BraTS2020_TrainingData/survival_info.csv/survival_info.csv_flair.nii'\n"
          ]
        },
        {
          "output_type": "stream",
          "name": "stderr",
          "text": [
            "\n"
          ]
        }
      ]
    },
    {
      "cell_type": "code",
      "source": [
        "\n",
        "import os, random, numpy as np, torch\n",
        "from torch.utils.data import Dataset\n",
        "\n",
        "class BrainTumorRandomCropDataset(Dataset):\n",
        "    def __init__(self, npz_files, crop_size=(64, 64, 64)):\n",
        "        self.npz_files = npz_files\n",
        "        self.crop_size = crop_size\n",
        "\n",
        "    def __len__(self):\n",
        "        return len(self.npz_files)\n",
        "\n",
        "    def random_crop_3d(self, img, label):\n",
        "        _, D, H, W = img.shape\n",
        "        cd, ch, cw = self.crop_size\n",
        "        d = random.randint(0, D - cd)\n",
        "        h = random.randint(0, H - ch)\n",
        "        w = random.randint(0, W - cw)\n",
        "        return img[:, d:d+cd, h:h+ch, w:w+cw], label[d:d+cd, h:h+ch, w:w+cw]\n",
        "\n",
        "    def __getitem__(self, idx):\n",
        "        data = np.load(self.npz_files[idx])\n",
        "        image, label = data['input'], data['label']\n",
        "        image, label = self.random_crop_3d(image, label)\n",
        "        label = np.expand_dims(label, axis=0)\n",
        "        return torch.tensor(image, dtype=torch.float32), torch.tensor(label, dtype=torch.float32)\n"
      ],
      "metadata": {
        "id": "JEwj8xi15ulH"
      },
      "execution_count": null,
      "outputs": []
    },
    {
      "cell_type": "code",
      "source": [
        "\n",
        "from torch.utils.data import DataLoader\n",
        "import torch\n",
        "import torch.nn as nn\n",
        "import torch.optim as optim\n",
        "import os\n"
      ],
      "metadata": {
        "id": "gvXrxp9A5-4b"
      },
      "execution_count": null,
      "outputs": []
    },
    {
      "cell_type": "code",
      "source": [
        "\n",
        "'''# Load file paths (limit to 3 for testing)\n",
        "npz_dir = \"/kaggle/working/processed_data\"\n",
        "npz_files = sorted([os.path.join(npz_dir, f) for f in os.listdir(npz_dir) if f.endswith(\".npz\")])[:3]  # load only 3 patients for testing\n",
        "\n",
        "# Initialize Dataset and DataLoader\n",
        "dataset = BrainTumorRandomCropDataset(npz_files, crop_size=(64, 64, 64)) # can change ()\n",
        "\n",
        "train_loader = DataLoader(\n",
        "    dataset,\n",
        "    batch_size=1,          # Low batch size to save memory\n",
        "    shuffle=True,          # Shuffle to improve training\n",
        "    num_workers=0,         # No extra workers to save memory\n",
        "    pin_memory=False       # No need for pinning memory as we are not using GPU\n",
        ")'''"
      ],
      "metadata": {
        "colab": {
          "base_uri": "https://localhost:8080/",
          "height": 140
        },
        "id": "zvbUf9AFArMT",
        "outputId": "f9b3a66d-625c-461f-a269-2060df9d325b"
      },
      "execution_count": null,
      "outputs": [
        {
          "output_type": "execute_result",
          "data": {
            "text/plain": [
              "'# Load file paths (limit to 3 for testing)\\nnpz_dir = \"/kaggle/working/processed_data\"\\nnpz_files = sorted([os.path.join(npz_dir, f) for f in os.listdir(npz_dir) if f.endswith(\".npz\")])[:3]  # load only 3 patients for testing\\n\\n# Initialize Dataset and DataLoader\\ndataset = BrainTumorRandomCropDataset(npz_files, crop_size=(64, 64, 64)) # can change ()\\n\\ntrain_loader = DataLoader(\\n    dataset,\\n    batch_size=1,          # Low batch size to save memory\\n    shuffle=True,          # Shuffle to improve training\\n    num_workers=0,         # No extra workers to save memory\\n    pin_memory=False       # No need for pinning memory as we are not using GPU\\n)'"
            ],
            "application/vnd.google.colaboratory.intrinsic+json": {
              "type": "string"
            }
          },
          "metadata": {},
          "execution_count": 46
        }
      ]
    },
    {
      "cell_type": "code",
      "source": [
        "\n",
        "# Define UNet3D Model\n",
        "class UNet3D(nn.Module):\n",
        "    def __init__(self, in_channels=4, out_channels=1):\n",
        "        super(UNet3D, self).__init__()\n",
        "        self.encoder = nn.Sequential(\n",
        "            nn.Conv3d(in_channels, 8, kernel_size=3, padding=1),\n",
        "            nn.ReLU(),\n",
        "            nn.Conv3d(8, 16, kernel_size=3, padding=1),\n",
        "            nn.ReLU()\n",
        "        )\n",
        "        self.decoder = nn.Sequential(\n",
        "            nn.Conv3d(16, 8, kernel_size=3, padding=1),\n",
        "            nn.ReLU(),\n",
        "            nn.Conv3d(8, out_channels, kernel_size=1)\n",
        "        )\n",
        "\n",
        "    def forward(self, x):\n",
        "        x = self.encoder(x)\n",
        "        x = self.decoder(x)\n",
        "        return x\n",
        "\n",
        "\n"
      ],
      "metadata": {
        "id": "ZYC1n_f76C5K"
      },
      "execution_count": null,
      "outputs": []
    },
    {
      "cell_type": "code",
      "source": [
        "from pathlib import Path\n",
        "from torch.utils.data import DataLoader\n",
        "\n",
        "# Initialize model, loss function, and optimizer\n",
        "model = UNet3D(in_channels=4, out_channels=1)\n",
        "device = torch.device('cuda' if torch.cuda.is_available() else 'cpu')  # Explicitly set to CPU\n",
        "\n",
        "model = model.to(device)\n",
        "#model.load_state_dict(torch.load(\"unet3d_chunk3.pth\"))\n",
        "criterion = nn.BCEWithLogitsLoss()  # For binary segmentation\n",
        "optimizer = optim.Adam(model.parameters(), lr=1e-4)\n",
        "\n",
        "npz_dir = Path(\"/kaggle/working/processed_data\")\n",
        "all_npz_files = sorted(npz_dir.glob(\"*.npz\"))\n",
        "\n",
        "chunk_size = 10             # Number of patients to load at a time\n",
        "total_epochs = 2\n",
        "epochs_per_chunk = 2        # You can increase if needed\n",
        "\n",
        "# Training loop over chunks\n",
        "for epoch in range(total_epochs):  # Now it will loop over all epochs\n",
        "  for chunk_start in range(0, len(all_npz_files), chunk_size):\n",
        "    chunk_files = all_npz_files[chunk_start : chunk_start + chunk_size]\n",
        "\n",
        "    print(f\"Processing patients {chunk_start} to {chunk_start + len(chunk_files) - 1}\")\n",
        "\n",
        "    dataset = BrainTumorRandomCropDataset(chunk_files, crop_size=(64, 64, 64))\n",
        "    train_loader = DataLoader(dataset, batch_size=1, shuffle=True, num_workers=0)\n",
        "\n",
        "    for epoch in range(epochs_per_chunk):\n",
        "        total_loss = 0\n",
        "        model.train()\n",
        "        for inputs, targets in train_loader:\n",
        "            inputs, targets = inputs.to(device), targets.to(device)\n",
        "\n",
        "            optimizer.zero_grad()\n",
        "            outputs = model(inputs)\n",
        "            loss = criterion(outputs, targets)\n",
        "            loss.backward()\n",
        "            optimizer.step()\n",
        "            total_loss += loss.item()\n",
        "            avg_loss = total_loss / len(train_loader) if len(train_loader) > 0 else 0\n",
        "            print(f\"Chunk {chunk_start//chunk_size + 1}, Epoch {epoch+1} complete. Avg Loss: {avg_loss:.4f}\")\n",
        "        print(f\"Chunk {chunk_start//chunk_size + 1}, Epoch {epoch+1} complete. Avg Loss: {total_loss / len(train_loader):.4f}\")\n",
        "        print(f\"Epoch {epoch+1} complete for chunk {chunk_start//chunk_size + 1}\")\n",
        "\n",
        "    torch.save(model.state_dict(), f\"unet3d_chunk{chunk_start//chunk_size + 1}.pth\")\n",
        "    torch.cuda.empty_cache()  # Optional: free GPU memory"
      ],
      "metadata": {
        "colab": {
          "base_uri": "https://localhost:8080/"
        },
        "id": "wXGjp3VRd4GI",
        "outputId": "508caeb2-7a0b-4562-9da3-570efd329476"
      },
      "execution_count": null,
      "outputs": [
        {
          "output_type": "stream",
          "name": "stdout",
          "text": [
            "Processing patients 0 to 9\n",
            "Chunk 1, Epoch 1 complete. Avg Loss: 0.0714\n",
            "Chunk 1, Epoch 1 complete. Avg Loss: 0.1416\n",
            "Chunk 1, Epoch 1 complete. Avg Loss: 0.2119\n",
            "Chunk 1, Epoch 1 complete. Avg Loss: 0.2820\n",
            "Chunk 1, Epoch 1 complete. Avg Loss: 0.3515\n",
            "Chunk 1, Epoch 1 complete. Avg Loss: 0.4212\n",
            "Chunk 1, Epoch 1 complete. Avg Loss: 0.4914\n",
            "Chunk 1, Epoch 1 complete. Avg Loss: 0.5614\n",
            "Chunk 1, Epoch 1 complete. Avg Loss: 0.6307\n",
            "Chunk 1, Epoch 1 complete. Avg Loss: 0.6997\n",
            "Chunk 1, Epoch 1 complete. Avg Loss: 0.6997\n",
            "Epoch 1 complete for chunk 1\n",
            "Chunk 1, Epoch 2 complete. Avg Loss: 0.0675\n",
            "Chunk 1, Epoch 2 complete. Avg Loss: 0.1361\n",
            "Chunk 1, Epoch 2 complete. Avg Loss: 0.2046\n",
            "Chunk 1, Epoch 2 complete. Avg Loss: 0.2734\n",
            "Chunk 1, Epoch 2 complete. Avg Loss: 0.3425\n",
            "Chunk 1, Epoch 2 complete. Avg Loss: 0.4101\n",
            "Chunk 1, Epoch 2 complete. Avg Loss: 0.4784\n",
            "Chunk 1, Epoch 2 complete. Avg Loss: 0.5465\n",
            "Chunk 1, Epoch 2 complete. Avg Loss: 0.6141\n",
            "Chunk 1, Epoch 2 complete. Avg Loss: 0.6817\n",
            "Chunk 1, Epoch 2 complete. Avg Loss: 0.6817\n",
            "Epoch 2 complete for chunk 1\n",
            "Processing patients 10 to 19\n",
            "Chunk 2, Epoch 1 complete. Avg Loss: 0.0666\n",
            "Chunk 2, Epoch 1 complete. Avg Loss: 0.1336\n",
            "Chunk 2, Epoch 1 complete. Avg Loss: 0.2032\n",
            "Chunk 2, Epoch 1 complete. Avg Loss: 0.2682\n",
            "Chunk 2, Epoch 1 complete. Avg Loss: 0.3354\n",
            "Chunk 2, Epoch 1 complete. Avg Loss: 0.4006\n",
            "Chunk 2, Epoch 1 complete. Avg Loss: 0.4785\n",
            "Chunk 2, Epoch 1 complete. Avg Loss: 0.5427\n",
            "Chunk 2, Epoch 1 complete. Avg Loss: 0.6069\n",
            "Chunk 2, Epoch 1 complete. Avg Loss: 0.6710\n",
            "Chunk 2, Epoch 1 complete. Avg Loss: 0.6710\n",
            "Epoch 1 complete for chunk 2\n",
            "Chunk 2, Epoch 2 complete. Avg Loss: 0.0622\n",
            "Chunk 2, Epoch 2 complete. Avg Loss: 0.1228\n",
            "Chunk 2, Epoch 2 complete. Avg Loss: 0.1865\n",
            "Chunk 2, Epoch 2 complete. Avg Loss: 0.2476\n",
            "Chunk 2, Epoch 2 complete. Avg Loss: 0.3089\n",
            "Chunk 2, Epoch 2 complete. Avg Loss: 0.3710\n",
            "Chunk 2, Epoch 2 complete. Avg Loss: 0.4312\n",
            "Chunk 2, Epoch 2 complete. Avg Loss: 0.5011\n",
            "Chunk 2, Epoch 2 complete. Avg Loss: 0.5608\n",
            "Chunk 2, Epoch 2 complete. Avg Loss: 0.6309\n",
            "Chunk 2, Epoch 2 complete. Avg Loss: 0.6309\n",
            "Epoch 2 complete for chunk 2\n",
            "Processing patients 20 to 29\n",
            "Chunk 3, Epoch 1 complete. Avg Loss: 0.0590\n",
            "Chunk 3, Epoch 1 complete. Avg Loss: 0.1163\n",
            "Chunk 3, Epoch 1 complete. Avg Loss: 0.1726\n",
            "Chunk 3, Epoch 1 complete. Avg Loss: 0.2290\n",
            "Chunk 3, Epoch 1 complete. Avg Loss: 0.2865\n",
            "Chunk 3, Epoch 1 complete. Avg Loss: 0.3397\n",
            "Chunk 3, Epoch 1 complete. Avg Loss: 0.3946\n",
            "Chunk 3, Epoch 1 complete. Avg Loss: 0.4497\n",
            "Chunk 3, Epoch 1 complete. Avg Loss: 0.5033\n",
            "Chunk 3, Epoch 1 complete. Avg Loss: 0.5598\n",
            "Chunk 3, Epoch 1 complete. Avg Loss: 0.5598\n",
            "Epoch 1 complete for chunk 3\n",
            "Chunk 3, Epoch 2 complete. Avg Loss: 0.0683\n",
            "Chunk 3, Epoch 2 complete. Avg Loss: 0.1187\n",
            "Chunk 3, Epoch 2 complete. Avg Loss: 0.1751\n",
            "Chunk 3, Epoch 2 complete. Avg Loss: 0.2245\n",
            "Chunk 3, Epoch 2 complete. Avg Loss: 0.2725\n",
            "Chunk 3, Epoch 2 complete. Avg Loss: 0.3171\n",
            "Chunk 3, Epoch 2 complete. Avg Loss: 0.3624\n",
            "Chunk 3, Epoch 2 complete. Avg Loss: 0.4048\n",
            "Chunk 3, Epoch 2 complete. Avg Loss: 0.4512\n",
            "Chunk 3, Epoch 2 complete. Avg Loss: 0.4929\n",
            "Chunk 3, Epoch 2 complete. Avg Loss: 0.4929\n",
            "Epoch 2 complete for chunk 3\n",
            "Processing patients 30 to 39\n",
            "Chunk 4, Epoch 1 complete. Avg Loss: 0.0474\n",
            "Chunk 4, Epoch 1 complete. Avg Loss: 0.0907\n",
            "Chunk 4, Epoch 1 complete. Avg Loss: 0.1345\n",
            "Chunk 4, Epoch 1 complete. Avg Loss: 0.1714\n",
            "Chunk 4, Epoch 1 complete. Avg Loss: 0.2064\n",
            "Chunk 4, Epoch 1 complete. Avg Loss: 0.2364\n",
            "Chunk 4, Epoch 1 complete. Avg Loss: 0.2706\n",
            "Chunk 4, Epoch 1 complete. Avg Loss: 0.3001\n",
            "Chunk 4, Epoch 1 complete. Avg Loss: 0.3289\n",
            "Chunk 4, Epoch 1 complete. Avg Loss: 0.3596\n",
            "Chunk 4, Epoch 1 complete. Avg Loss: 0.3596\n",
            "Epoch 1 complete for chunk 4\n",
            "Chunk 4, Epoch 2 complete. Avg Loss: 0.0457\n",
            "Chunk 4, Epoch 2 complete. Avg Loss: 0.0764\n",
            "Chunk 4, Epoch 2 complete. Avg Loss: 0.0973\n",
            "Chunk 4, Epoch 2 complete. Avg Loss: 0.1494\n",
            "Chunk 4, Epoch 2 complete. Avg Loss: 0.1733\n",
            "Chunk 4, Epoch 2 complete. Avg Loss: 0.1978\n",
            "Chunk 4, Epoch 2 complete. Avg Loss: 0.2343\n",
            "Chunk 4, Epoch 2 complete. Avg Loss: 0.2556\n",
            "Chunk 4, Epoch 2 complete. Avg Loss: 0.2742\n",
            "Chunk 4, Epoch 2 complete. Avg Loss: 0.2886\n",
            "Chunk 4, Epoch 2 complete. Avg Loss: 0.2886\n",
            "Epoch 2 complete for chunk 4\n",
            "Processing patients 40 to 49\n",
            "Chunk 5, Epoch 1 complete. Avg Loss: 0.0193\n",
            "Chunk 5, Epoch 1 complete. Avg Loss: 0.0356\n",
            "Chunk 5, Epoch 1 complete. Avg Loss: 0.0522\n",
            "Chunk 5, Epoch 1 complete. Avg Loss: 0.0874\n",
            "Chunk 5, Epoch 1 complete. Avg Loss: 0.1005\n",
            "Chunk 5, Epoch 1 complete. Avg Loss: 0.1128\n",
            "Chunk 5, Epoch 1 complete. Avg Loss: 0.1347\n",
            "Chunk 5, Epoch 1 complete. Avg Loss: 0.1476\n",
            "Chunk 5, Epoch 1 complete. Avg Loss: 0.1600\n",
            "Chunk 5, Epoch 1 complete. Avg Loss: 0.3400\n",
            "Chunk 5, Epoch 1 complete. Avg Loss: 0.3400\n",
            "Epoch 1 complete for chunk 5\n",
            "Chunk 5, Epoch 2 complete. Avg Loss: 0.0211\n",
            "Chunk 5, Epoch 2 complete. Avg Loss: 0.0308\n",
            "Chunk 5, Epoch 2 complete. Avg Loss: 0.0414\n",
            "Chunk 5, Epoch 2 complete. Avg Loss: 0.0500\n",
            "Chunk 5, Epoch 2 complete. Avg Loss: 0.0591\n",
            "Chunk 5, Epoch 2 complete. Avg Loss: 0.0685\n",
            "Chunk 5, Epoch 2 complete. Avg Loss: 0.0781\n",
            "Chunk 5, Epoch 2 complete. Avg Loss: 0.0865\n",
            "Chunk 5, Epoch 2 complete. Avg Loss: 0.0935\n",
            "Chunk 5, Epoch 2 complete. Avg Loss: 0.1000\n",
            "Chunk 5, Epoch 2 complete. Avg Loss: 0.1000\n",
            "Epoch 2 complete for chunk 5\n",
            "Processing patients 50 to 59\n",
            "Chunk 6, Epoch 1 complete. Avg Loss: 0.0076\n",
            "Chunk 6, Epoch 1 complete. Avg Loss: 0.0150\n",
            "Chunk 6, Epoch 1 complete. Avg Loss: 0.0243\n",
            "Chunk 6, Epoch 1 complete. Avg Loss: 0.0303\n",
            "Chunk 6, Epoch 1 complete. Avg Loss: 0.2778\n",
            "Chunk 6, Epoch 1 complete. Avg Loss: 0.2898\n",
            "Chunk 6, Epoch 1 complete. Avg Loss: 0.4771\n",
            "Chunk 6, Epoch 1 complete. Avg Loss: 0.4839\n",
            "Chunk 6, Epoch 1 complete. Avg Loss: 0.5277\n",
            "Chunk 6, Epoch 1 complete. Avg Loss: 0.5378\n",
            "Chunk 6, Epoch 1 complete. Avg Loss: 0.5378\n",
            "Epoch 1 complete for chunk 6\n",
            "Chunk 6, Epoch 2 complete. Avg Loss: 0.0103\n",
            "Chunk 6, Epoch 2 complete. Avg Loss: 0.0170\n",
            "Chunk 6, Epoch 2 complete. Avg Loss: 0.0532\n",
            "Chunk 6, Epoch 2 complete. Avg Loss: 0.0986\n",
            "Chunk 6, Epoch 2 complete. Avg Loss: 0.1060\n",
            "Chunk 6, Epoch 2 complete. Avg Loss: 0.1192\n",
            "Chunk 6, Epoch 2 complete. Avg Loss: 0.1239\n",
            "Chunk 6, Epoch 2 complete. Avg Loss: 0.1284\n",
            "Chunk 6, Epoch 2 complete. Avg Loss: 0.1403\n",
            "Chunk 6, Epoch 2 complete. Avg Loss: 0.1449\n",
            "Chunk 6, Epoch 2 complete. Avg Loss: 0.1449\n",
            "Epoch 2 complete for chunk 6\n",
            "Processing patients 60 to 69\n",
            "Chunk 7, Epoch 1 complete. Avg Loss: 0.0097\n",
            "Chunk 7, Epoch 1 complete. Avg Loss: 0.0395\n",
            "Chunk 7, Epoch 1 complete. Avg Loss: 0.0426\n",
            "Chunk 7, Epoch 1 complete. Avg Loss: 0.0533\n",
            "Chunk 7, Epoch 1 complete. Avg Loss: 0.0682\n",
            "Chunk 7, Epoch 1 complete. Avg Loss: 0.1183\n",
            "Chunk 7, Epoch 1 complete. Avg Loss: 0.1225\n",
            "Chunk 7, Epoch 1 complete. Avg Loss: 0.1332\n",
            "Chunk 7, Epoch 1 complete. Avg Loss: 0.1375\n",
            "Chunk 7, Epoch 1 complete. Avg Loss: 0.1449\n",
            "Chunk 7, Epoch 1 complete. Avg Loss: 0.1449\n",
            "Epoch 1 complete for chunk 7\n",
            "Chunk 7, Epoch 2 complete. Avg Loss: 0.0032\n",
            "Chunk 7, Epoch 2 complete. Avg Loss: 0.0178\n",
            "Chunk 7, Epoch 2 complete. Avg Loss: 0.0490\n",
            "Chunk 7, Epoch 2 complete. Avg Loss: 0.0561\n",
            "Chunk 7, Epoch 2 complete. Avg Loss: 0.0693\n",
            "Chunk 7, Epoch 2 complete. Avg Loss: 0.0794\n",
            "Chunk 7, Epoch 2 complete. Avg Loss: 0.0924\n",
            "Chunk 7, Epoch 2 complete. Avg Loss: 0.1023\n",
            "Chunk 7, Epoch 2 complete. Avg Loss: 0.1042\n",
            "Chunk 7, Epoch 2 complete. Avg Loss: 0.1341\n",
            "Chunk 7, Epoch 2 complete. Avg Loss: 0.1341\n",
            "Epoch 2 complete for chunk 7\n",
            "Processing patients 70 to 79\n",
            "Chunk 8, Epoch 1 complete. Avg Loss: 0.0036\n",
            "Chunk 8, Epoch 1 complete. Avg Loss: 0.0234\n",
            "Chunk 8, Epoch 1 complete. Avg Loss: 0.0257\n",
            "Chunk 8, Epoch 1 complete. Avg Loss: 0.0482\n",
            "Chunk 8, Epoch 1 complete. Avg Loss: 0.0837\n",
            "Chunk 8, Epoch 1 complete. Avg Loss: 0.0918\n",
            "Chunk 8, Epoch 1 complete. Avg Loss: 0.3141\n",
            "Chunk 8, Epoch 1 complete. Avg Loss: 0.3187\n",
            "Chunk 8, Epoch 1 complete. Avg Loss: 0.3615\n",
            "Chunk 8, Epoch 1 complete. Avg Loss: 0.3785\n",
            "Chunk 8, Epoch 1 complete. Avg Loss: 0.3785\n",
            "Epoch 1 complete for chunk 8\n",
            "Chunk 8, Epoch 2 complete. Avg Loss: 0.0098\n",
            "Chunk 8, Epoch 2 complete. Avg Loss: 0.0113\n",
            "Chunk 8, Epoch 2 complete. Avg Loss: 0.0616\n",
            "Chunk 8, Epoch 2 complete. Avg Loss: 0.0664\n",
            "Chunk 8, Epoch 2 complete. Avg Loss: 0.0691\n",
            "Chunk 8, Epoch 2 complete. Avg Loss: 0.0703\n",
            "Chunk 8, Epoch 2 complete. Avg Loss: 0.0778\n",
            "Chunk 8, Epoch 2 complete. Avg Loss: 0.0791\n",
            "Chunk 8, Epoch 2 complete. Avg Loss: 0.0904\n",
            "Chunk 8, Epoch 2 complete. Avg Loss: 0.1460\n",
            "Chunk 8, Epoch 2 complete. Avg Loss: 0.1460\n",
            "Epoch 2 complete for chunk 8\n",
            "Processing patients 80 to 89\n",
            "Chunk 9, Epoch 1 complete. Avg Loss: 0.0033\n",
            "Chunk 9, Epoch 1 complete. Avg Loss: 0.0076\n",
            "Chunk 9, Epoch 1 complete. Avg Loss: 0.0277\n",
            "Chunk 9, Epoch 1 complete. Avg Loss: 0.0390\n",
            "Chunk 9, Epoch 1 complete. Avg Loss: 0.0596\n",
            "Chunk 9, Epoch 1 complete. Avg Loss: 0.0626\n",
            "Chunk 9, Epoch 1 complete. Avg Loss: 0.0658\n",
            "Chunk 9, Epoch 1 complete. Avg Loss: 0.0761\n",
            "Chunk 9, Epoch 1 complete. Avg Loss: 0.0809\n",
            "Chunk 9, Epoch 1 complete. Avg Loss: 0.1263\n",
            "Chunk 9, Epoch 1 complete. Avg Loss: 0.1263\n",
            "Epoch 1 complete for chunk 9\n",
            "Chunk 9, Epoch 2 complete. Avg Loss: 0.0050\n",
            "Chunk 9, Epoch 2 complete. Avg Loss: 0.0064\n",
            "Chunk 9, Epoch 2 complete. Avg Loss: 0.0219\n",
            "Chunk 9, Epoch 2 complete. Avg Loss: 0.0274\n",
            "Chunk 9, Epoch 2 complete. Avg Loss: 0.0352\n",
            "Chunk 9, Epoch 2 complete. Avg Loss: 0.0376\n",
            "Chunk 9, Epoch 2 complete. Avg Loss: 0.0460\n",
            "Chunk 9, Epoch 2 complete. Avg Loss: 0.0476\n",
            "Chunk 9, Epoch 2 complete. Avg Loss: 0.0484\n",
            "Chunk 9, Epoch 2 complete. Avg Loss: 0.0654\n",
            "Chunk 9, Epoch 2 complete. Avg Loss: 0.0654\n",
            "Epoch 2 complete for chunk 9\n",
            "Processing patients 90 to 99\n",
            "Chunk 10, Epoch 1 complete. Avg Loss: 0.0858\n",
            "Chunk 10, Epoch 1 complete. Avg Loss: 0.0880\n",
            "Chunk 10, Epoch 1 complete. Avg Loss: 0.0983\n",
            "Chunk 10, Epoch 1 complete. Avg Loss: 0.0999\n",
            "Chunk 10, Epoch 1 complete. Avg Loss: 0.1023\n",
            "Chunk 10, Epoch 1 complete. Avg Loss: 0.1097\n",
            "Chunk 10, Epoch 1 complete. Avg Loss: 0.1172\n",
            "Chunk 10, Epoch 1 complete. Avg Loss: 0.1245\n",
            "Chunk 10, Epoch 1 complete. Avg Loss: 0.1393\n",
            "Chunk 10, Epoch 1 complete. Avg Loss: 0.1519\n",
            "Chunk 10, Epoch 1 complete. Avg Loss: 0.1519\n",
            "Epoch 1 complete for chunk 10\n",
            "Chunk 10, Epoch 2 complete. Avg Loss: 0.0089\n",
            "Chunk 10, Epoch 2 complete. Avg Loss: 0.0249\n",
            "Chunk 10, Epoch 2 complete. Avg Loss: 0.0461\n",
            "Chunk 10, Epoch 2 complete. Avg Loss: 0.0479\n",
            "Chunk 10, Epoch 2 complete. Avg Loss: 0.0520\n",
            "Chunk 10, Epoch 2 complete. Avg Loss: 0.0846\n",
            "Chunk 10, Epoch 2 complete. Avg Loss: 0.0858\n",
            "Chunk 10, Epoch 2 complete. Avg Loss: 0.0869\n",
            "Chunk 10, Epoch 2 complete. Avg Loss: 0.1160\n",
            "Chunk 10, Epoch 2 complete. Avg Loss: 0.1258\n",
            "Chunk 10, Epoch 2 complete. Avg Loss: 0.1258\n",
            "Epoch 2 complete for chunk 10\n",
            "Processing patients 100 to 109\n",
            "Chunk 11, Epoch 1 complete. Avg Loss: 0.0048\n",
            "Chunk 11, Epoch 1 complete. Avg Loss: 0.1804\n",
            "Chunk 11, Epoch 1 complete. Avg Loss: 0.1835\n",
            "Chunk 11, Epoch 1 complete. Avg Loss: 0.1969\n",
            "Chunk 11, Epoch 1 complete. Avg Loss: 0.2016\n",
            "Chunk 11, Epoch 1 complete. Avg Loss: 0.2118\n",
            "Chunk 11, Epoch 1 complete. Avg Loss: 0.2172\n",
            "Chunk 11, Epoch 1 complete. Avg Loss: 0.2190\n",
            "Chunk 11, Epoch 1 complete. Avg Loss: 0.2453\n",
            "Chunk 11, Epoch 1 complete. Avg Loss: 0.2552\n",
            "Chunk 11, Epoch 1 complete. Avg Loss: 0.2552\n",
            "Epoch 1 complete for chunk 11\n",
            "Chunk 11, Epoch 2 complete. Avg Loss: 0.0688\n",
            "Chunk 11, Epoch 2 complete. Avg Loss: 0.0735\n",
            "Chunk 11, Epoch 2 complete. Avg Loss: 0.0867\n",
            "Chunk 11, Epoch 2 complete. Avg Loss: 0.0881\n",
            "Chunk 11, Epoch 2 complete. Avg Loss: 0.0930\n",
            "Chunk 11, Epoch 2 complete. Avg Loss: 0.1707\n",
            "Chunk 11, Epoch 2 complete. Avg Loss: 0.1717\n",
            "Chunk 11, Epoch 2 complete. Avg Loss: 0.1894\n",
            "Chunk 11, Epoch 2 complete. Avg Loss: 0.1942\n",
            "Chunk 11, Epoch 2 complete. Avg Loss: 0.1947\n",
            "Chunk 11, Epoch 2 complete. Avg Loss: 0.1947\n",
            "Epoch 2 complete for chunk 11\n",
            "Processing patients 110 to 119\n",
            "Chunk 12, Epoch 1 complete. Avg Loss: 0.0117\n",
            "Chunk 12, Epoch 1 complete. Avg Loss: 0.0213\n",
            "Chunk 12, Epoch 1 complete. Avg Loss: 0.0314\n",
            "Chunk 12, Epoch 1 complete. Avg Loss: 0.0493\n",
            "Chunk 12, Epoch 1 complete. Avg Loss: 0.1193\n",
            "Chunk 12, Epoch 1 complete. Avg Loss: 0.1311\n",
            "Chunk 12, Epoch 1 complete. Avg Loss: 0.1335\n",
            "Chunk 12, Epoch 1 complete. Avg Loss: 0.1389\n",
            "Chunk 12, Epoch 1 complete. Avg Loss: 0.1682\n",
            "Chunk 12, Epoch 1 complete. Avg Loss: 0.1889\n",
            "Chunk 12, Epoch 1 complete. Avg Loss: 0.1889\n",
            "Epoch 1 complete for chunk 12\n",
            "Chunk 12, Epoch 2 complete. Avg Loss: 0.0006\n",
            "Chunk 12, Epoch 2 complete. Avg Loss: 0.0355\n",
            "Chunk 12, Epoch 2 complete. Avg Loss: 0.0517\n",
            "Chunk 12, Epoch 2 complete. Avg Loss: 0.0581\n",
            "Chunk 12, Epoch 2 complete. Avg Loss: 0.0597\n",
            "Chunk 12, Epoch 2 complete. Avg Loss: 0.0611\n",
            "Chunk 12, Epoch 2 complete. Avg Loss: 0.0737\n",
            "Chunk 12, Epoch 2 complete. Avg Loss: 0.1006\n",
            "Chunk 12, Epoch 2 complete. Avg Loss: 0.1035\n",
            "Chunk 12, Epoch 2 complete. Avg Loss: 0.1046\n",
            "Chunk 12, Epoch 2 complete. Avg Loss: 0.1046\n",
            "Epoch 2 complete for chunk 12\n",
            "Processing patients 120 to 129\n",
            "Chunk 13, Epoch 1 complete. Avg Loss: 0.0733\n",
            "Chunk 13, Epoch 1 complete. Avg Loss: 0.0757\n",
            "Chunk 13, Epoch 1 complete. Avg Loss: 0.0792\n",
            "Chunk 13, Epoch 1 complete. Avg Loss: 0.0978\n",
            "Chunk 13, Epoch 1 complete. Avg Loss: 0.1894\n",
            "Chunk 13, Epoch 1 complete. Avg Loss: 0.1998\n",
            "Chunk 13, Epoch 1 complete. Avg Loss: 0.2033\n",
            "Chunk 13, Epoch 1 complete. Avg Loss: 0.2096\n",
            "Chunk 13, Epoch 1 complete. Avg Loss: 0.2155\n",
            "Chunk 13, Epoch 1 complete. Avg Loss: 0.2198\n",
            "Chunk 13, Epoch 1 complete. Avg Loss: 0.2198\n",
            "Epoch 1 complete for chunk 13\n",
            "Chunk 13, Epoch 2 complete. Avg Loss: 0.0102\n",
            "Chunk 13, Epoch 2 complete. Avg Loss: 0.0120\n",
            "Chunk 13, Epoch 2 complete. Avg Loss: 0.0410\n",
            "Chunk 13, Epoch 2 complete. Avg Loss: 0.0458\n",
            "Chunk 13, Epoch 2 complete. Avg Loss: 0.0484\n",
            "Chunk 13, Epoch 2 complete. Avg Loss: 0.0513\n",
            "Chunk 13, Epoch 2 complete. Avg Loss: 0.0980\n",
            "Chunk 13, Epoch 2 complete. Avg Loss: 0.1045\n",
            "Chunk 13, Epoch 2 complete. Avg Loss: 0.1144\n",
            "Chunk 13, Epoch 2 complete. Avg Loss: 0.1248\n",
            "Chunk 13, Epoch 2 complete. Avg Loss: 0.1248\n",
            "Epoch 2 complete for chunk 13\n",
            "Processing patients 130 to 139\n",
            "Chunk 14, Epoch 1 complete. Avg Loss: 0.0010\n",
            "Chunk 14, Epoch 1 complete. Avg Loss: 0.0034\n",
            "Chunk 14, Epoch 1 complete. Avg Loss: 0.0063\n",
            "Chunk 14, Epoch 1 complete. Avg Loss: 0.0446\n",
            "Chunk 14, Epoch 1 complete. Avg Loss: 0.0918\n",
            "Chunk 14, Epoch 1 complete. Avg Loss: 0.2945\n",
            "Chunk 14, Epoch 1 complete. Avg Loss: 0.3206\n",
            "Chunk 14, Epoch 1 complete. Avg Loss: 0.3289\n",
            "Chunk 14, Epoch 1 complete. Avg Loss: 0.3367\n",
            "Chunk 14, Epoch 1 complete. Avg Loss: 0.3375\n",
            "Chunk 14, Epoch 1 complete. Avg Loss: 0.3375\n",
            "Epoch 1 complete for chunk 14\n",
            "Chunk 14, Epoch 2 complete. Avg Loss: 0.0011\n",
            "Chunk 14, Epoch 2 complete. Avg Loss: 0.0217\n",
            "Chunk 14, Epoch 2 complete. Avg Loss: 0.0222\n",
            "Chunk 14, Epoch 2 complete. Avg Loss: 0.0298\n",
            "Chunk 14, Epoch 2 complete. Avg Loss: 0.0403\n",
            "Chunk 14, Epoch 2 complete. Avg Loss: 0.1103\n",
            "Chunk 14, Epoch 2 complete. Avg Loss: 0.1150\n",
            "Chunk 14, Epoch 2 complete. Avg Loss: 0.1177\n",
            "Chunk 14, Epoch 2 complete. Avg Loss: 0.1244\n",
            "Chunk 14, Epoch 2 complete. Avg Loss: 0.1881\n",
            "Chunk 14, Epoch 2 complete. Avg Loss: 0.1881\n",
            "Epoch 2 complete for chunk 14\n",
            "Processing patients 140 to 149\n",
            "Chunk 15, Epoch 1 complete. Avg Loss: 0.0229\n",
            "Chunk 15, Epoch 1 complete. Avg Loss: 0.0447\n",
            "Chunk 15, Epoch 1 complete. Avg Loss: 0.0602\n",
            "Chunk 15, Epoch 1 complete. Avg Loss: 0.0607\n",
            "Chunk 15, Epoch 1 complete. Avg Loss: 0.0618\n",
            "Chunk 15, Epoch 1 complete. Avg Loss: 0.0669\n",
            "Chunk 15, Epoch 1 complete. Avg Loss: 0.0679\n",
            "Chunk 15, Epoch 1 complete. Avg Loss: 0.0771\n",
            "Chunk 15, Epoch 1 complete. Avg Loss: 0.0792\n",
            "Chunk 15, Epoch 1 complete. Avg Loss: 0.0825\n",
            "Chunk 15, Epoch 1 complete. Avg Loss: 0.0825\n",
            "Epoch 1 complete for chunk 15\n",
            "Chunk 15, Epoch 2 complete. Avg Loss: 0.0405\n",
            "Chunk 15, Epoch 2 complete. Avg Loss: 0.0449\n",
            "Chunk 15, Epoch 2 complete. Avg Loss: 0.0897\n",
            "Chunk 15, Epoch 2 complete. Avg Loss: 0.0956\n",
            "Chunk 15, Epoch 2 complete. Avg Loss: 0.1010\n",
            "Chunk 15, Epoch 2 complete. Avg Loss: 0.1315\n",
            "Chunk 15, Epoch 2 complete. Avg Loss: 0.1399\n",
            "Chunk 15, Epoch 2 complete. Avg Loss: 0.1492\n",
            "Chunk 15, Epoch 2 complete. Avg Loss: 0.1894\n",
            "Chunk 15, Epoch 2 complete. Avg Loss: 0.1938\n",
            "Chunk 15, Epoch 2 complete. Avg Loss: 0.1938\n",
            "Epoch 2 complete for chunk 15\n",
            "Processing patients 150 to 159\n",
            "Chunk 16, Epoch 1 complete. Avg Loss: 0.0165\n",
            "Chunk 16, Epoch 1 complete. Avg Loss: 0.0322\n",
            "Chunk 16, Epoch 1 complete. Avg Loss: 0.1629\n",
            "Chunk 16, Epoch 1 complete. Avg Loss: 0.1635\n",
            "Chunk 16, Epoch 1 complete. Avg Loss: 0.1672\n",
            "Chunk 16, Epoch 1 complete. Avg Loss: 0.1765\n",
            "Chunk 16, Epoch 1 complete. Avg Loss: 0.1779\n",
            "Chunk 16, Epoch 1 complete. Avg Loss: 0.1845\n",
            "Chunk 16, Epoch 1 complete. Avg Loss: 0.2102\n",
            "Chunk 16, Epoch 1 complete. Avg Loss: 0.2610\n",
            "Chunk 16, Epoch 1 complete. Avg Loss: 0.2610\n",
            "Epoch 1 complete for chunk 16\n",
            "Chunk 16, Epoch 2 complete. Avg Loss: 0.0036\n",
            "Chunk 16, Epoch 2 complete. Avg Loss: 0.0180\n",
            "Chunk 16, Epoch 2 complete. Avg Loss: 0.0277\n",
            "Chunk 16, Epoch 2 complete. Avg Loss: 0.0670\n",
            "Chunk 16, Epoch 2 complete. Avg Loss: 0.0982\n",
            "Chunk 16, Epoch 2 complete. Avg Loss: 0.1494\n",
            "Chunk 16, Epoch 2 complete. Avg Loss: 0.1498\n",
            "Chunk 16, Epoch 2 complete. Avg Loss: 0.1573\n",
            "Chunk 16, Epoch 2 complete. Avg Loss: 0.1588\n",
            "Chunk 16, Epoch 2 complete. Avg Loss: 0.2414\n",
            "Chunk 16, Epoch 2 complete. Avg Loss: 0.2414\n",
            "Epoch 2 complete for chunk 16\n",
            "Processing patients 160 to 169\n",
            "Chunk 17, Epoch 1 complete. Avg Loss: 0.0308\n",
            "Chunk 17, Epoch 1 complete. Avg Loss: 0.0321\n",
            "Chunk 17, Epoch 1 complete. Avg Loss: 0.0345\n",
            "Chunk 17, Epoch 1 complete. Avg Loss: 0.0373\n",
            "Chunk 17, Epoch 1 complete. Avg Loss: 0.0479\n",
            "Chunk 17, Epoch 1 complete. Avg Loss: 0.0481\n",
            "Chunk 17, Epoch 1 complete. Avg Loss: 0.0623\n",
            "Chunk 17, Epoch 1 complete. Avg Loss: 0.0689\n",
            "Chunk 17, Epoch 1 complete. Avg Loss: 0.0750\n",
            "Chunk 17, Epoch 1 complete. Avg Loss: 0.0771\n",
            "Chunk 17, Epoch 1 complete. Avg Loss: 0.0771\n",
            "Epoch 1 complete for chunk 17\n",
            "Chunk 17, Epoch 2 complete. Avg Loss: 0.0046\n",
            "Chunk 17, Epoch 2 complete. Avg Loss: 0.0129\n",
            "Chunk 17, Epoch 2 complete. Avg Loss: 0.0335\n",
            "Chunk 17, Epoch 2 complete. Avg Loss: 0.0348\n",
            "Chunk 17, Epoch 2 complete. Avg Loss: 0.0566\n",
            "Chunk 17, Epoch 2 complete. Avg Loss: 0.0606\n",
            "Chunk 17, Epoch 2 complete. Avg Loss: 0.0792\n",
            "Chunk 17, Epoch 2 complete. Avg Loss: 0.0961\n",
            "Chunk 17, Epoch 2 complete. Avg Loss: 0.1004\n",
            "Chunk 17, Epoch 2 complete. Avg Loss: 0.1123\n",
            "Chunk 17, Epoch 2 complete. Avg Loss: 0.1123\n",
            "Epoch 2 complete for chunk 17\n",
            "Processing patients 170 to 179\n",
            "Chunk 18, Epoch 1 complete. Avg Loss: 0.0015\n",
            "Chunk 18, Epoch 1 complete. Avg Loss: 0.0941\n",
            "Chunk 18, Epoch 1 complete. Avg Loss: 0.1023\n",
            "Chunk 18, Epoch 1 complete. Avg Loss: 0.1033\n",
            "Chunk 18, Epoch 1 complete. Avg Loss: 0.1041\n",
            "Chunk 18, Epoch 1 complete. Avg Loss: 0.1447\n",
            "Chunk 18, Epoch 1 complete. Avg Loss: 0.1511\n",
            "Chunk 18, Epoch 1 complete. Avg Loss: 0.1753\n",
            "Chunk 18, Epoch 1 complete. Avg Loss: 0.1783\n",
            "Chunk 18, Epoch 1 complete. Avg Loss: 0.2533\n",
            "Chunk 18, Epoch 1 complete. Avg Loss: 0.2533\n",
            "Epoch 1 complete for chunk 18\n",
            "Chunk 18, Epoch 2 complete. Avg Loss: 0.0017\n",
            "Chunk 18, Epoch 2 complete. Avg Loss: 0.0066\n",
            "Chunk 18, Epoch 2 complete. Avg Loss: 0.0137\n",
            "Chunk 18, Epoch 2 complete. Avg Loss: 0.0159\n",
            "Chunk 18, Epoch 2 complete. Avg Loss: 0.0218\n",
            "Chunk 18, Epoch 2 complete. Avg Loss: 0.0329\n",
            "Chunk 18, Epoch 2 complete. Avg Loss: 0.0331\n",
            "Chunk 18, Epoch 2 complete. Avg Loss: 0.0338\n",
            "Chunk 18, Epoch 2 complete. Avg Loss: 0.0710\n",
            "Chunk 18, Epoch 2 complete. Avg Loss: 0.0715\n",
            "Chunk 18, Epoch 2 complete. Avg Loss: 0.0715\n",
            "Epoch 2 complete for chunk 18\n",
            "Processing patients 180 to 189\n",
            "Chunk 19, Epoch 1 complete. Avg Loss: 0.0002\n",
            "Chunk 19, Epoch 1 complete. Avg Loss: 0.0124\n",
            "Chunk 19, Epoch 1 complete. Avg Loss: 0.0316\n",
            "Chunk 19, Epoch 1 complete. Avg Loss: 0.0458\n",
            "Chunk 19, Epoch 1 complete. Avg Loss: 0.0510\n",
            "Chunk 19, Epoch 1 complete. Avg Loss: 0.0755\n",
            "Chunk 19, Epoch 1 complete. Avg Loss: 0.0786\n",
            "Chunk 19, Epoch 1 complete. Avg Loss: 0.0839\n",
            "Chunk 19, Epoch 1 complete. Avg Loss: 0.0840\n",
            "Chunk 19, Epoch 1 complete. Avg Loss: 0.0860\n",
            "Chunk 19, Epoch 1 complete. Avg Loss: 0.0860\n",
            "Epoch 1 complete for chunk 19\n",
            "Chunk 19, Epoch 2 complete. Avg Loss: 0.0710\n",
            "Chunk 19, Epoch 2 complete. Avg Loss: 0.0818\n",
            "Chunk 19, Epoch 2 complete. Avg Loss: 0.1011\n",
            "Chunk 19, Epoch 2 complete. Avg Loss: 0.1067\n",
            "Chunk 19, Epoch 2 complete. Avg Loss: 0.1112\n",
            "Chunk 19, Epoch 2 complete. Avg Loss: 0.1233\n",
            "Chunk 19, Epoch 2 complete. Avg Loss: 0.1256\n",
            "Chunk 19, Epoch 2 complete. Avg Loss: 0.1291\n",
            "Chunk 19, Epoch 2 complete. Avg Loss: 0.1318\n",
            "Chunk 19, Epoch 2 complete. Avg Loss: 0.1394\n",
            "Chunk 19, Epoch 2 complete. Avg Loss: 0.1394\n",
            "Epoch 2 complete for chunk 19\n",
            "Processing patients 190 to 199\n",
            "Chunk 20, Epoch 1 complete. Avg Loss: 0.0178\n",
            "Chunk 20, Epoch 1 complete. Avg Loss: 0.0308\n",
            "Chunk 20, Epoch 1 complete. Avg Loss: 0.0379\n",
            "Chunk 20, Epoch 1 complete. Avg Loss: 0.0416\n",
            "Chunk 20, Epoch 1 complete. Avg Loss: 0.0632\n",
            "Chunk 20, Epoch 1 complete. Avg Loss: 0.1046\n",
            "Chunk 20, Epoch 1 complete. Avg Loss: 0.1138\n",
            "Chunk 20, Epoch 1 complete. Avg Loss: 0.1245\n",
            "Chunk 20, Epoch 1 complete. Avg Loss: 0.2104\n",
            "Chunk 20, Epoch 1 complete. Avg Loss: 0.2111\n",
            "Chunk 20, Epoch 1 complete. Avg Loss: 0.2111\n",
            "Epoch 1 complete for chunk 20\n",
            "Chunk 20, Epoch 2 complete. Avg Loss: 0.0125\n",
            "Chunk 20, Epoch 2 complete. Avg Loss: 0.0129\n",
            "Chunk 20, Epoch 2 complete. Avg Loss: 0.0134\n",
            "Chunk 20, Epoch 2 complete. Avg Loss: 0.0136\n",
            "Chunk 20, Epoch 2 complete. Avg Loss: 0.0828\n",
            "Chunk 20, Epoch 2 complete. Avg Loss: 0.0898\n",
            "Chunk 20, Epoch 2 complete. Avg Loss: 0.1023\n",
            "Chunk 20, Epoch 2 complete. Avg Loss: 0.1091\n",
            "Chunk 20, Epoch 2 complete. Avg Loss: 0.1158\n",
            "Chunk 20, Epoch 2 complete. Avg Loss: 0.1173\n",
            "Chunk 20, Epoch 2 complete. Avg Loss: 0.1173\n",
            "Epoch 2 complete for chunk 20\n",
            "Processing patients 200 to 209\n",
            "Chunk 21, Epoch 1 complete. Avg Loss: 0.0252\n",
            "Chunk 21, Epoch 1 complete. Avg Loss: 0.0268\n",
            "Chunk 21, Epoch 1 complete. Avg Loss: 0.0413\n",
            "Chunk 21, Epoch 1 complete. Avg Loss: 0.0456\n",
            "Chunk 21, Epoch 1 complete. Avg Loss: 0.0625\n",
            "Chunk 21, Epoch 1 complete. Avg Loss: 0.0654\n",
            "Chunk 21, Epoch 1 complete. Avg Loss: 0.0662\n",
            "Chunk 21, Epoch 1 complete. Avg Loss: 0.0711\n",
            "Chunk 21, Epoch 1 complete. Avg Loss: 0.0736\n",
            "Chunk 21, Epoch 1 complete. Avg Loss: 0.0806\n",
            "Chunk 21, Epoch 1 complete. Avg Loss: 0.0806\n",
            "Epoch 1 complete for chunk 21\n",
            "Chunk 21, Epoch 2 complete. Avg Loss: 0.0337\n",
            "Chunk 21, Epoch 2 complete. Avg Loss: 0.0364\n",
            "Chunk 21, Epoch 2 complete. Avg Loss: 0.0368\n",
            "Chunk 21, Epoch 2 complete. Avg Loss: 0.0371\n",
            "Chunk 21, Epoch 2 complete. Avg Loss: 0.0395\n",
            "Chunk 21, Epoch 2 complete. Avg Loss: 0.0457\n",
            "Chunk 21, Epoch 2 complete. Avg Loss: 0.0561\n",
            "Chunk 21, Epoch 2 complete. Avg Loss: 0.0564\n",
            "Chunk 21, Epoch 2 complete. Avg Loss: 0.0608\n",
            "Chunk 21, Epoch 2 complete. Avg Loss: 0.0679\n",
            "Chunk 21, Epoch 2 complete. Avg Loss: 0.0679\n",
            "Epoch 2 complete for chunk 21\n",
            "Processing patients 210 to 219\n",
            "Chunk 22, Epoch 1 complete. Avg Loss: 0.0019\n",
            "Chunk 22, Epoch 1 complete. Avg Loss: 0.0619\n",
            "Chunk 22, Epoch 1 complete. Avg Loss: 0.0681\n",
            "Chunk 22, Epoch 1 complete. Avg Loss: 0.1244\n",
            "Chunk 22, Epoch 1 complete. Avg Loss: 0.1255\n",
            "Chunk 22, Epoch 1 complete. Avg Loss: 0.1296\n",
            "Chunk 22, Epoch 1 complete. Avg Loss: 0.1433\n",
            "Chunk 22, Epoch 1 complete. Avg Loss: 0.1445\n",
            "Chunk 22, Epoch 1 complete. Avg Loss: 0.1521\n",
            "Chunk 22, Epoch 1 complete. Avg Loss: 0.1541\n",
            "Chunk 22, Epoch 1 complete. Avg Loss: 0.1541\n",
            "Epoch 1 complete for chunk 22\n",
            "Chunk 22, Epoch 2 complete. Avg Loss: 0.0108\n",
            "Chunk 22, Epoch 2 complete. Avg Loss: 0.0135\n",
            "Chunk 22, Epoch 2 complete. Avg Loss: 0.0277\n",
            "Chunk 22, Epoch 2 complete. Avg Loss: 0.0442\n",
            "Chunk 22, Epoch 2 complete. Avg Loss: 0.0455\n",
            "Chunk 22, Epoch 2 complete. Avg Loss: 0.1980\n",
            "Chunk 22, Epoch 2 complete. Avg Loss: 0.1986\n",
            "Chunk 22, Epoch 2 complete. Avg Loss: 0.2313\n",
            "Chunk 22, Epoch 2 complete. Avg Loss: 0.2329\n",
            "Chunk 22, Epoch 2 complete. Avg Loss: 0.2331\n",
            "Chunk 22, Epoch 2 complete. Avg Loss: 0.2331\n",
            "Epoch 2 complete for chunk 22\n",
            "Processing patients 220 to 229\n",
            "Chunk 23, Epoch 1 complete. Avg Loss: 0.0433\n",
            "Chunk 23, Epoch 1 complete. Avg Loss: 0.0456\n",
            "Chunk 23, Epoch 1 complete. Avg Loss: 0.1075\n",
            "Chunk 23, Epoch 1 complete. Avg Loss: 0.1113\n",
            "Chunk 23, Epoch 1 complete. Avg Loss: 0.1271\n",
            "Chunk 23, Epoch 1 complete. Avg Loss: 0.1557\n",
            "Chunk 23, Epoch 1 complete. Avg Loss: 0.1916\n",
            "Chunk 23, Epoch 1 complete. Avg Loss: 0.1922\n",
            "Chunk 23, Epoch 1 complete. Avg Loss: 0.2078\n",
            "Chunk 23, Epoch 1 complete. Avg Loss: 0.2126\n",
            "Chunk 23, Epoch 1 complete. Avg Loss: 0.2126\n",
            "Epoch 1 complete for chunk 23\n",
            "Chunk 23, Epoch 2 complete. Avg Loss: 0.0231\n",
            "Chunk 23, Epoch 2 complete. Avg Loss: 0.0256\n",
            "Chunk 23, Epoch 2 complete. Avg Loss: 0.0372\n",
            "Chunk 23, Epoch 2 complete. Avg Loss: 0.0383\n",
            "Chunk 23, Epoch 2 complete. Avg Loss: 0.0411\n",
            "Chunk 23, Epoch 2 complete. Avg Loss: 0.0430\n",
            "Chunk 23, Epoch 2 complete. Avg Loss: 0.0461\n",
            "Chunk 23, Epoch 2 complete. Avg Loss: 0.0518\n",
            "Chunk 23, Epoch 2 complete. Avg Loss: 0.0577\n",
            "Chunk 23, Epoch 2 complete. Avg Loss: 0.0673\n",
            "Chunk 23, Epoch 2 complete. Avg Loss: 0.0673\n",
            "Epoch 2 complete for chunk 23\n",
            "Processing patients 230 to 239\n",
            "Chunk 24, Epoch 1 complete. Avg Loss: 0.1092\n",
            "Chunk 24, Epoch 1 complete. Avg Loss: 0.1222\n",
            "Chunk 24, Epoch 1 complete. Avg Loss: 0.1416\n",
            "Chunk 24, Epoch 1 complete. Avg Loss: 0.1548\n",
            "Chunk 24, Epoch 1 complete. Avg Loss: 0.1708\n",
            "Chunk 24, Epoch 1 complete. Avg Loss: 0.1709\n",
            "Chunk 24, Epoch 1 complete. Avg Loss: 0.1797\n",
            "Chunk 24, Epoch 1 complete. Avg Loss: 0.1948\n",
            "Chunk 24, Epoch 1 complete. Avg Loss: 0.2246\n",
            "Chunk 24, Epoch 1 complete. Avg Loss: 0.2289\n",
            "Chunk 24, Epoch 1 complete. Avg Loss: 0.2289\n",
            "Epoch 1 complete for chunk 24\n",
            "Chunk 24, Epoch 2 complete. Avg Loss: 0.0073\n",
            "Chunk 24, Epoch 2 complete. Avg Loss: 0.0409\n",
            "Chunk 24, Epoch 2 complete. Avg Loss: 0.0458\n",
            "Chunk 24, Epoch 2 complete. Avg Loss: 0.0640\n",
            "Chunk 24, Epoch 2 complete. Avg Loss: 0.0710\n",
            "Chunk 24, Epoch 2 complete. Avg Loss: 0.0758\n",
            "Chunk 24, Epoch 2 complete. Avg Loss: 0.0932\n",
            "Chunk 24, Epoch 2 complete. Avg Loss: 0.0991\n",
            "Chunk 24, Epoch 2 complete. Avg Loss: 0.1121\n",
            "Chunk 24, Epoch 2 complete. Avg Loss: 0.1174\n",
            "Chunk 24, Epoch 2 complete. Avg Loss: 0.1174\n",
            "Epoch 2 complete for chunk 24\n",
            "Processing patients 240 to 249\n",
            "Chunk 25, Epoch 1 complete. Avg Loss: 0.0173\n",
            "Chunk 25, Epoch 1 complete. Avg Loss: 0.0837\n",
            "Chunk 25, Epoch 1 complete. Avg Loss: 0.0872\n",
            "Chunk 25, Epoch 1 complete. Avg Loss: 0.0872\n",
            "Chunk 25, Epoch 1 complete. Avg Loss: 0.0928\n",
            "Chunk 25, Epoch 1 complete. Avg Loss: 0.1054\n",
            "Chunk 25, Epoch 1 complete. Avg Loss: 0.1055\n",
            "Chunk 25, Epoch 1 complete. Avg Loss: 0.1249\n",
            "Chunk 25, Epoch 1 complete. Avg Loss: 0.1271\n",
            "Chunk 25, Epoch 1 complete. Avg Loss: 0.1337\n",
            "Chunk 25, Epoch 1 complete. Avg Loss: 0.1337\n",
            "Epoch 1 complete for chunk 25\n",
            "Chunk 25, Epoch 2 complete. Avg Loss: 0.0009\n",
            "Chunk 25, Epoch 2 complete. Avg Loss: 0.0038\n",
            "Chunk 25, Epoch 2 complete. Avg Loss: 0.0072\n",
            "Chunk 25, Epoch 2 complete. Avg Loss: 0.0130\n",
            "Chunk 25, Epoch 2 complete. Avg Loss: 0.0227\n",
            "Chunk 25, Epoch 2 complete. Avg Loss: 0.0256\n",
            "Chunk 25, Epoch 2 complete. Avg Loss: 0.1319\n",
            "Chunk 25, Epoch 2 complete. Avg Loss: 0.1319\n",
            "Chunk 25, Epoch 2 complete. Avg Loss: 0.1344\n",
            "Chunk 25, Epoch 2 complete. Avg Loss: 0.1394\n",
            "Chunk 25, Epoch 2 complete. Avg Loss: 0.1394\n",
            "Epoch 2 complete for chunk 25\n",
            "Processing patients 250 to 259\n",
            "Chunk 26, Epoch 1 complete. Avg Loss: 0.0104\n",
            "Chunk 26, Epoch 1 complete. Avg Loss: 0.0263\n",
            "Chunk 26, Epoch 1 complete. Avg Loss: 0.0309\n",
            "Chunk 26, Epoch 1 complete. Avg Loss: 0.0399\n",
            "Chunk 26, Epoch 1 complete. Avg Loss: 0.0546\n",
            "Chunk 26, Epoch 1 complete. Avg Loss: 0.0584\n",
            "Chunk 26, Epoch 1 complete. Avg Loss: 0.0721\n",
            "Chunk 26, Epoch 1 complete. Avg Loss: 0.0751\n",
            "Chunk 26, Epoch 1 complete. Avg Loss: 0.3217\n",
            "Chunk 26, Epoch 1 complete. Avg Loss: 0.3234\n",
            "Chunk 26, Epoch 1 complete. Avg Loss: 0.3234\n",
            "Epoch 1 complete for chunk 26\n",
            "Chunk 26, Epoch 2 complete. Avg Loss: 0.0001\n",
            "Chunk 26, Epoch 2 complete. Avg Loss: 0.0018\n",
            "Chunk 26, Epoch 2 complete. Avg Loss: 0.1691\n",
            "Chunk 26, Epoch 2 complete. Avg Loss: 0.1696\n",
            "Chunk 26, Epoch 2 complete. Avg Loss: 0.1851\n",
            "Chunk 26, Epoch 2 complete. Avg Loss: 0.1956\n",
            "Chunk 26, Epoch 2 complete. Avg Loss: 0.2017\n",
            "Chunk 26, Epoch 2 complete. Avg Loss: 0.2320\n",
            "Chunk 26, Epoch 2 complete. Avg Loss: 0.2392\n",
            "Chunk 26, Epoch 2 complete. Avg Loss: 0.2447\n",
            "Chunk 26, Epoch 2 complete. Avg Loss: 0.2447\n",
            "Epoch 2 complete for chunk 26\n",
            "Processing patients 260 to 269\n",
            "Chunk 27, Epoch 1 complete. Avg Loss: 0.0223\n",
            "Chunk 27, Epoch 1 complete. Avg Loss: 0.0423\n",
            "Chunk 27, Epoch 1 complete. Avg Loss: 0.0557\n",
            "Chunk 27, Epoch 1 complete. Avg Loss: 0.0584\n",
            "Chunk 27, Epoch 1 complete. Avg Loss: 0.0738\n",
            "Chunk 27, Epoch 1 complete. Avg Loss: 0.0971\n",
            "Chunk 27, Epoch 1 complete. Avg Loss: 0.1170\n",
            "Chunk 27, Epoch 1 complete. Avg Loss: 0.1289\n",
            "Chunk 27, Epoch 1 complete. Avg Loss: 0.1373\n",
            "Chunk 27, Epoch 1 complete. Avg Loss: 0.1501\n",
            "Chunk 27, Epoch 1 complete. Avg Loss: 0.1501\n",
            "Epoch 1 complete for chunk 27\n",
            "Chunk 27, Epoch 2 complete. Avg Loss: 0.0011\n",
            "Chunk 27, Epoch 2 complete. Avg Loss: 0.0019\n",
            "Chunk 27, Epoch 2 complete. Avg Loss: 0.0022\n",
            "Chunk 27, Epoch 2 complete. Avg Loss: 0.0082\n",
            "Chunk 27, Epoch 2 complete. Avg Loss: 0.0396\n",
            "Chunk 27, Epoch 2 complete. Avg Loss: 0.0413\n",
            "Chunk 27, Epoch 2 complete. Avg Loss: 0.0415\n",
            "Chunk 27, Epoch 2 complete. Avg Loss: 0.0627\n",
            "Chunk 27, Epoch 2 complete. Avg Loss: 0.0649\n",
            "Chunk 27, Epoch 2 complete. Avg Loss: 0.0730\n",
            "Chunk 27, Epoch 2 complete. Avg Loss: 0.0730\n",
            "Epoch 2 complete for chunk 27\n",
            "Processing patients 270 to 279\n",
            "Chunk 28, Epoch 1 complete. Avg Loss: 0.0103\n",
            "Chunk 28, Epoch 1 complete. Avg Loss: 0.0185\n",
            "Chunk 28, Epoch 1 complete. Avg Loss: 0.0306\n",
            "Chunk 28, Epoch 1 complete. Avg Loss: 0.0401\n",
            "Chunk 28, Epoch 1 complete. Avg Loss: 0.0416\n",
            "Chunk 28, Epoch 1 complete. Avg Loss: 0.0507\n",
            "Chunk 28, Epoch 1 complete. Avg Loss: 0.0530\n",
            "Chunk 28, Epoch 1 complete. Avg Loss: 0.1664\n",
            "Chunk 28, Epoch 1 complete. Avg Loss: 0.1702\n",
            "Chunk 28, Epoch 1 complete. Avg Loss: 0.1706\n",
            "Chunk 28, Epoch 1 complete. Avg Loss: 0.1706\n",
            "Epoch 1 complete for chunk 28\n",
            "Chunk 28, Epoch 2 complete. Avg Loss: 0.0042\n",
            "Chunk 28, Epoch 2 complete. Avg Loss: 0.0070\n",
            "Chunk 28, Epoch 2 complete. Avg Loss: 0.0886\n",
            "Chunk 28, Epoch 2 complete. Avg Loss: 0.1086\n",
            "Chunk 28, Epoch 2 complete. Avg Loss: 0.1243\n",
            "Chunk 28, Epoch 2 complete. Avg Loss: 0.1334\n",
            "Chunk 28, Epoch 2 complete. Avg Loss: 0.1542\n",
            "Chunk 28, Epoch 2 complete. Avg Loss: 0.1653\n",
            "Chunk 28, Epoch 2 complete. Avg Loss: 0.1860\n",
            "Chunk 28, Epoch 2 complete. Avg Loss: 0.2221\n",
            "Chunk 28, Epoch 2 complete. Avg Loss: 0.2221\n",
            "Epoch 2 complete for chunk 28\n",
            "Processing patients 280 to 289\n",
            "Chunk 29, Epoch 1 complete. Avg Loss: 0.0001\n",
            "Chunk 29, Epoch 1 complete. Avg Loss: 0.0089\n",
            "Chunk 29, Epoch 1 complete. Avg Loss: 0.0295\n",
            "Chunk 29, Epoch 1 complete. Avg Loss: 0.0296\n",
            "Chunk 29, Epoch 1 complete. Avg Loss: 0.1042\n",
            "Chunk 29, Epoch 1 complete. Avg Loss: 0.1042\n",
            "Chunk 29, Epoch 1 complete. Avg Loss: 0.1210\n",
            "Chunk 29, Epoch 1 complete. Avg Loss: 0.1265\n",
            "Chunk 29, Epoch 1 complete. Avg Loss: 0.1723\n",
            "Chunk 29, Epoch 1 complete. Avg Loss: 0.1919\n",
            "Chunk 29, Epoch 1 complete. Avg Loss: 0.1919\n",
            "Epoch 1 complete for chunk 29\n",
            "Chunk 29, Epoch 2 complete. Avg Loss: 0.0529\n",
            "Chunk 29, Epoch 2 complete. Avg Loss: 0.1074\n",
            "Chunk 29, Epoch 2 complete. Avg Loss: 0.1191\n",
            "Chunk 29, Epoch 2 complete. Avg Loss: 0.1235\n",
            "Chunk 29, Epoch 2 complete. Avg Loss: 0.1461\n",
            "Chunk 29, Epoch 2 complete. Avg Loss: 0.1672\n",
            "Chunk 29, Epoch 2 complete. Avg Loss: 0.1852\n",
            "Chunk 29, Epoch 2 complete. Avg Loss: 0.2075\n",
            "Chunk 29, Epoch 2 complete. Avg Loss: 0.2266\n",
            "Chunk 29, Epoch 2 complete. Avg Loss: 0.2297\n",
            "Chunk 29, Epoch 2 complete. Avg Loss: 0.2297\n",
            "Epoch 2 complete for chunk 29\n",
            "Processing patients 290 to 299\n",
            "Chunk 30, Epoch 1 complete. Avg Loss: 0.0001\n",
            "Chunk 30, Epoch 1 complete. Avg Loss: 0.0073\n",
            "Chunk 30, Epoch 1 complete. Avg Loss: 0.0412\n",
            "Chunk 30, Epoch 1 complete. Avg Loss: 0.0433\n",
            "Chunk 30, Epoch 1 complete. Avg Loss: 0.0496\n",
            "Chunk 30, Epoch 1 complete. Avg Loss: 0.0506\n",
            "Chunk 30, Epoch 1 complete. Avg Loss: 0.0538\n",
            "Chunk 30, Epoch 1 complete. Avg Loss: 0.0954\n",
            "Chunk 30, Epoch 1 complete. Avg Loss: 0.0961\n",
            "Chunk 30, Epoch 1 complete. Avg Loss: 0.1630\n",
            "Chunk 30, Epoch 1 complete. Avg Loss: 0.1630\n",
            "Epoch 1 complete for chunk 30\n",
            "Chunk 30, Epoch 2 complete. Avg Loss: 0.0001\n",
            "Chunk 30, Epoch 2 complete. Avg Loss: 0.0098\n",
            "Chunk 30, Epoch 2 complete. Avg Loss: 0.0111\n",
            "Chunk 30, Epoch 2 complete. Avg Loss: 0.0213\n",
            "Chunk 30, Epoch 2 complete. Avg Loss: 0.0341\n",
            "Chunk 30, Epoch 2 complete. Avg Loss: 0.0350\n",
            "Chunk 30, Epoch 2 complete. Avg Loss: 0.0515\n",
            "Chunk 30, Epoch 2 complete. Avg Loss: 0.0777\n",
            "Chunk 30, Epoch 2 complete. Avg Loss: 0.0905\n",
            "Chunk 30, Epoch 2 complete. Avg Loss: 0.1190\n",
            "Chunk 30, Epoch 2 complete. Avg Loss: 0.1190\n",
            "Epoch 2 complete for chunk 30\n",
            "Processing patients 300 to 309\n",
            "Chunk 31, Epoch 1 complete. Avg Loss: 0.0047\n",
            "Chunk 31, Epoch 1 complete. Avg Loss: 0.0053\n",
            "Chunk 31, Epoch 1 complete. Avg Loss: 0.0063\n",
            "Chunk 31, Epoch 1 complete. Avg Loss: 0.0378\n",
            "Chunk 31, Epoch 1 complete. Avg Loss: 0.0384\n",
            "Chunk 31, Epoch 1 complete. Avg Loss: 0.0491\n",
            "Chunk 31, Epoch 1 complete. Avg Loss: 0.0635\n",
            "Chunk 31, Epoch 1 complete. Avg Loss: 0.0643\n",
            "Chunk 31, Epoch 1 complete. Avg Loss: 0.0664\n",
            "Chunk 31, Epoch 1 complete. Avg Loss: 0.0726\n",
            "Chunk 31, Epoch 1 complete. Avg Loss: 0.0726\n",
            "Epoch 1 complete for chunk 31\n",
            "Chunk 31, Epoch 2 complete. Avg Loss: 0.0570\n",
            "Chunk 31, Epoch 2 complete. Avg Loss: 0.0575\n",
            "Chunk 31, Epoch 2 complete. Avg Loss: 0.0657\n",
            "Chunk 31, Epoch 2 complete. Avg Loss: 0.0737\n",
            "Chunk 31, Epoch 2 complete. Avg Loss: 0.0763\n",
            "Chunk 31, Epoch 2 complete. Avg Loss: 0.1176\n",
            "Chunk 31, Epoch 2 complete. Avg Loss: 0.1264\n",
            "Chunk 31, Epoch 2 complete. Avg Loss: 0.1380\n",
            "Chunk 31, Epoch 2 complete. Avg Loss: 0.1418\n",
            "Chunk 31, Epoch 2 complete. Avg Loss: 0.1486\n",
            "Chunk 31, Epoch 2 complete. Avg Loss: 0.1486\n",
            "Epoch 2 complete for chunk 31\n",
            "Processing patients 310 to 319\n",
            "Chunk 32, Epoch 1 complete. Avg Loss: 0.0100\n",
            "Chunk 32, Epoch 1 complete. Avg Loss: 0.0207\n",
            "Chunk 32, Epoch 1 complete. Avg Loss: 0.0227\n",
            "Chunk 32, Epoch 1 complete. Avg Loss: 0.0391\n",
            "Chunk 32, Epoch 1 complete. Avg Loss: 0.0653\n",
            "Chunk 32, Epoch 1 complete. Avg Loss: 0.0673\n",
            "Chunk 32, Epoch 1 complete. Avg Loss: 0.0735\n",
            "Chunk 32, Epoch 1 complete. Avg Loss: 0.0749\n",
            "Chunk 32, Epoch 1 complete. Avg Loss: 0.0770\n",
            "Chunk 32, Epoch 1 complete. Avg Loss: 0.1399\n",
            "Chunk 32, Epoch 1 complete. Avg Loss: 0.1399\n",
            "Epoch 1 complete for chunk 32\n",
            "Chunk 32, Epoch 2 complete. Avg Loss: 0.0061\n",
            "Chunk 32, Epoch 2 complete. Avg Loss: 0.0125\n",
            "Chunk 32, Epoch 2 complete. Avg Loss: 0.0251\n",
            "Chunk 32, Epoch 2 complete. Avg Loss: 0.0252\n",
            "Chunk 32, Epoch 2 complete. Avg Loss: 0.0351\n",
            "Chunk 32, Epoch 2 complete. Avg Loss: 0.0476\n",
            "Chunk 32, Epoch 2 complete. Avg Loss: 0.0476\n",
            "Chunk 32, Epoch 2 complete. Avg Loss: 0.0835\n",
            "Chunk 32, Epoch 2 complete. Avg Loss: 0.0918\n",
            "Chunk 32, Epoch 2 complete. Avg Loss: 0.0926\n",
            "Chunk 32, Epoch 2 complete. Avg Loss: 0.0926\n",
            "Epoch 2 complete for chunk 32\n",
            "Processing patients 320 to 329\n",
            "Chunk 33, Epoch 1 complete. Avg Loss: 0.0014\n",
            "Chunk 33, Epoch 1 complete. Avg Loss: 0.0053\n",
            "Chunk 33, Epoch 1 complete. Avg Loss: 0.0088\n",
            "Chunk 33, Epoch 1 complete. Avg Loss: 0.0095\n",
            "Chunk 33, Epoch 1 complete. Avg Loss: 0.1349\n",
            "Chunk 33, Epoch 1 complete. Avg Loss: 0.1435\n",
            "Chunk 33, Epoch 1 complete. Avg Loss: 0.1454\n",
            "Chunk 33, Epoch 1 complete. Avg Loss: 0.1479\n",
            "Chunk 33, Epoch 1 complete. Avg Loss: 0.1562\n",
            "Chunk 33, Epoch 1 complete. Avg Loss: 0.1596\n",
            "Chunk 33, Epoch 1 complete. Avg Loss: 0.1596\n",
            "Epoch 1 complete for chunk 33\n",
            "Chunk 33, Epoch 2 complete. Avg Loss: 0.0027\n",
            "Chunk 33, Epoch 2 complete. Avg Loss: 0.0601\n",
            "Chunk 33, Epoch 2 complete. Avg Loss: 0.0753\n",
            "Chunk 33, Epoch 2 complete. Avg Loss: 0.0816\n",
            "Chunk 33, Epoch 2 complete. Avg Loss: 0.0880\n",
            "Chunk 33, Epoch 2 complete. Avg Loss: 0.0944\n",
            "Chunk 33, Epoch 2 complete. Avg Loss: 0.0975\n",
            "Chunk 33, Epoch 2 complete. Avg Loss: 0.1025\n",
            "Chunk 33, Epoch 2 complete. Avg Loss: 0.1096\n",
            "Chunk 33, Epoch 2 complete. Avg Loss: 0.1142\n",
            "Chunk 33, Epoch 2 complete. Avg Loss: 0.1142\n",
            "Epoch 2 complete for chunk 33\n",
            "Processing patients 330 to 339\n",
            "Chunk 34, Epoch 1 complete. Avg Loss: 0.0009\n",
            "Chunk 34, Epoch 1 complete. Avg Loss: 0.0188\n",
            "Chunk 34, Epoch 1 complete. Avg Loss: 0.0260\n",
            "Chunk 34, Epoch 1 complete. Avg Loss: 0.0270\n",
            "Chunk 34, Epoch 1 complete. Avg Loss: 0.0270\n",
            "Chunk 34, Epoch 1 complete. Avg Loss: 0.0629\n",
            "Chunk 34, Epoch 1 complete. Avg Loss: 0.0783\n",
            "Chunk 34, Epoch 1 complete. Avg Loss: 0.1595\n",
            "Chunk 34, Epoch 1 complete. Avg Loss: 0.1686\n",
            "Chunk 34, Epoch 1 complete. Avg Loss: 0.1787\n",
            "Chunk 34, Epoch 1 complete. Avg Loss: 0.1787\n",
            "Epoch 1 complete for chunk 34\n",
            "Chunk 34, Epoch 2 complete. Avg Loss: 0.0228\n",
            "Chunk 34, Epoch 2 complete. Avg Loss: 0.0448\n",
            "Chunk 34, Epoch 2 complete. Avg Loss: 0.0642\n",
            "Chunk 34, Epoch 2 complete. Avg Loss: 0.1322\n",
            "Chunk 34, Epoch 2 complete. Avg Loss: 0.2010\n",
            "Chunk 34, Epoch 2 complete. Avg Loss: 0.2057\n",
            "Chunk 34, Epoch 2 complete. Avg Loss: 0.2084\n",
            "Chunk 34, Epoch 2 complete. Avg Loss: 0.2103\n",
            "Chunk 34, Epoch 2 complete. Avg Loss: 0.2231\n",
            "Chunk 34, Epoch 2 complete. Avg Loss: 0.2329\n",
            "Chunk 34, Epoch 2 complete. Avg Loss: 0.2329\n",
            "Epoch 2 complete for chunk 34\n",
            "Processing patients 340 to 349\n",
            "Chunk 35, Epoch 1 complete. Avg Loss: 0.0104\n",
            "Chunk 35, Epoch 1 complete. Avg Loss: 0.0232\n",
            "Chunk 35, Epoch 1 complete. Avg Loss: 0.0371\n",
            "Chunk 35, Epoch 1 complete. Avg Loss: 0.0441\n",
            "Chunk 35, Epoch 1 complete. Avg Loss: 0.0453\n",
            "Chunk 35, Epoch 1 complete. Avg Loss: 0.0531\n",
            "Chunk 35, Epoch 1 complete. Avg Loss: 0.0600\n",
            "Chunk 35, Epoch 1 complete. Avg Loss: 0.0694\n",
            "Chunk 35, Epoch 1 complete. Avg Loss: 0.0852\n",
            "Chunk 35, Epoch 1 complete. Avg Loss: 0.1762\n",
            "Chunk 35, Epoch 1 complete. Avg Loss: 0.1762\n",
            "Epoch 1 complete for chunk 35\n",
            "Chunk 35, Epoch 2 complete. Avg Loss: 0.0133\n",
            "Chunk 35, Epoch 2 complete. Avg Loss: 0.0135\n",
            "Chunk 35, Epoch 2 complete. Avg Loss: 0.0234\n",
            "Chunk 35, Epoch 2 complete. Avg Loss: 0.0399\n",
            "Chunk 35, Epoch 2 complete. Avg Loss: 0.0442\n",
            "Chunk 35, Epoch 2 complete. Avg Loss: 0.1273\n",
            "Chunk 35, Epoch 2 complete. Avg Loss: 0.1332\n",
            "Chunk 35, Epoch 2 complete. Avg Loss: 0.1337\n",
            "Chunk 35, Epoch 2 complete. Avg Loss: 0.1432\n",
            "Chunk 35, Epoch 2 complete. Avg Loss: 0.2318\n",
            "Chunk 35, Epoch 2 complete. Avg Loss: 0.2318\n",
            "Epoch 2 complete for chunk 35\n",
            "Processing patients 350 to 359\n",
            "Chunk 36, Epoch 1 complete. Avg Loss: 0.0035\n",
            "Chunk 36, Epoch 1 complete. Avg Loss: 0.0256\n",
            "Chunk 36, Epoch 1 complete. Avg Loss: 0.0434\n",
            "Chunk 36, Epoch 1 complete. Avg Loss: 0.0606\n",
            "Chunk 36, Epoch 1 complete. Avg Loss: 0.0665\n",
            "Chunk 36, Epoch 1 complete. Avg Loss: 0.0763\n",
            "Chunk 36, Epoch 1 complete. Avg Loss: 0.0763\n",
            "Chunk 36, Epoch 1 complete. Avg Loss: 0.0792\n",
            "Chunk 36, Epoch 1 complete. Avg Loss: 0.0871\n",
            "Chunk 36, Epoch 1 complete. Avg Loss: 0.1119\n",
            "Chunk 36, Epoch 1 complete. Avg Loss: 0.1119\n",
            "Epoch 1 complete for chunk 36\n",
            "Chunk 36, Epoch 2 complete. Avg Loss: 0.0127\n",
            "Chunk 36, Epoch 2 complete. Avg Loss: 0.0512\n",
            "Chunk 36, Epoch 2 complete. Avg Loss: 0.0757\n",
            "Chunk 36, Epoch 2 complete. Avg Loss: 0.0840\n",
            "Chunk 36, Epoch 2 complete. Avg Loss: 0.2420\n",
            "Chunk 36, Epoch 2 complete. Avg Loss: 0.2485\n",
            "Chunk 36, Epoch 2 complete. Avg Loss: 0.2546\n",
            "Chunk 36, Epoch 2 complete. Avg Loss: 0.2605\n",
            "Chunk 36, Epoch 2 complete. Avg Loss: 0.2633\n",
            "Chunk 36, Epoch 2 complete. Avg Loss: 0.2688\n",
            "Chunk 36, Epoch 2 complete. Avg Loss: 0.2688\n",
            "Epoch 2 complete for chunk 36\n",
            "Processing patients 360 to 367\n",
            "Chunk 37, Epoch 1 complete. Avg Loss: 0.0227\n",
            "Chunk 37, Epoch 1 complete. Avg Loss: 0.0319\n",
            "Chunk 37, Epoch 1 complete. Avg Loss: 0.0858\n",
            "Chunk 37, Epoch 1 complete. Avg Loss: 0.1570\n",
            "Chunk 37, Epoch 1 complete. Avg Loss: 0.1679\n",
            "Chunk 37, Epoch 1 complete. Avg Loss: 0.1679\n",
            "Chunk 37, Epoch 1 complete. Avg Loss: 0.1748\n",
            "Chunk 37, Epoch 1 complete. Avg Loss: 0.1970\n",
            "Chunk 37, Epoch 1 complete. Avg Loss: 0.1970\n",
            "Epoch 1 complete for chunk 37\n",
            "Chunk 37, Epoch 2 complete. Avg Loss: 0.0066\n",
            "Chunk 37, Epoch 2 complete. Avg Loss: 0.0317\n",
            "Chunk 37, Epoch 2 complete. Avg Loss: 0.0733\n",
            "Chunk 37, Epoch 2 complete. Avg Loss: 0.0993\n",
            "Chunk 37, Epoch 2 complete. Avg Loss: 0.1009\n",
            "Chunk 37, Epoch 2 complete. Avg Loss: 0.1115\n",
            "Chunk 37, Epoch 2 complete. Avg Loss: 0.1141\n",
            "Chunk 37, Epoch 2 complete. Avg Loss: 0.1456\n",
            "Chunk 37, Epoch 2 complete. Avg Loss: 0.1456\n",
            "Epoch 2 complete for chunk 37\n",
            "Processing patients 0 to 9\n",
            "Chunk 1, Epoch 1 complete. Avg Loss: 0.1044\n",
            "Chunk 1, Epoch 1 complete. Avg Loss: 0.1147\n",
            "Chunk 1, Epoch 1 complete. Avg Loss: 0.1281\n",
            "Chunk 1, Epoch 1 complete. Avg Loss: 0.1296\n",
            "Chunk 1, Epoch 1 complete. Avg Loss: 0.1496\n",
            "Chunk 1, Epoch 1 complete. Avg Loss: 0.1502\n",
            "Chunk 1, Epoch 1 complete. Avg Loss: 0.1881\n",
            "Chunk 1, Epoch 1 complete. Avg Loss: 0.1898\n",
            "Chunk 1, Epoch 1 complete. Avg Loss: 0.1901\n",
            "Chunk 1, Epoch 1 complete. Avg Loss: 0.1925\n",
            "Chunk 1, Epoch 1 complete. Avg Loss: 0.1925\n",
            "Epoch 1 complete for chunk 1\n",
            "Chunk 1, Epoch 2 complete. Avg Loss: 0.0228\n",
            "Chunk 1, Epoch 2 complete. Avg Loss: 0.0278\n",
            "Chunk 1, Epoch 2 complete. Avg Loss: 0.0309\n",
            "Chunk 1, Epoch 2 complete. Avg Loss: 0.0319\n",
            "Chunk 1, Epoch 2 complete. Avg Loss: 0.0332\n",
            "Chunk 1, Epoch 2 complete. Avg Loss: 0.0792\n",
            "Chunk 1, Epoch 2 complete. Avg Loss: 0.0968\n",
            "Chunk 1, Epoch 2 complete. Avg Loss: 0.0976\n",
            "Chunk 1, Epoch 2 complete. Avg Loss: 0.1226\n",
            "Chunk 1, Epoch 2 complete. Avg Loss: 0.1436\n",
            "Chunk 1, Epoch 2 complete. Avg Loss: 0.1436\n",
            "Epoch 2 complete for chunk 1\n",
            "Processing patients 10 to 19\n",
            "Chunk 2, Epoch 1 complete. Avg Loss: 0.0877\n",
            "Chunk 2, Epoch 1 complete. Avg Loss: 0.1055\n",
            "Chunk 2, Epoch 1 complete. Avg Loss: 0.1253\n",
            "Chunk 2, Epoch 1 complete. Avg Loss: 0.1716\n",
            "Chunk 2, Epoch 1 complete. Avg Loss: 0.1753\n",
            "Chunk 2, Epoch 1 complete. Avg Loss: 0.1785\n",
            "Chunk 2, Epoch 1 complete. Avg Loss: 0.1821\n",
            "Chunk 2, Epoch 1 complete. Avg Loss: 0.1834\n",
            "Chunk 2, Epoch 1 complete. Avg Loss: 0.2065\n",
            "Chunk 2, Epoch 1 complete. Avg Loss: 0.2212\n",
            "Chunk 2, Epoch 1 complete. Avg Loss: 0.2212\n",
            "Epoch 1 complete for chunk 2\n",
            "Chunk 2, Epoch 2 complete. Avg Loss: 0.0829\n",
            "Chunk 2, Epoch 2 complete. Avg Loss: 0.0981\n",
            "Chunk 2, Epoch 2 complete. Avg Loss: 0.1004\n",
            "Chunk 2, Epoch 2 complete. Avg Loss: 0.1013\n",
            "Chunk 2, Epoch 2 complete. Avg Loss: 0.1020\n",
            "Chunk 2, Epoch 2 complete. Avg Loss: 0.1039\n",
            "Chunk 2, Epoch 2 complete. Avg Loss: 0.1163\n",
            "Chunk 2, Epoch 2 complete. Avg Loss: 0.1181\n",
            "Chunk 2, Epoch 2 complete. Avg Loss: 0.1383\n",
            "Chunk 2, Epoch 2 complete. Avg Loss: 0.1403\n",
            "Chunk 2, Epoch 2 complete. Avg Loss: 0.1403\n",
            "Epoch 2 complete for chunk 2\n",
            "Processing patients 20 to 29\n",
            "Chunk 3, Epoch 1 complete. Avg Loss: 0.0378\n",
            "Chunk 3, Epoch 1 complete. Avg Loss: 0.0384\n",
            "Chunk 3, Epoch 1 complete. Avg Loss: 0.0386\n",
            "Chunk 3, Epoch 1 complete. Avg Loss: 0.0421\n",
            "Chunk 3, Epoch 1 complete. Avg Loss: 0.0640\n",
            "Chunk 3, Epoch 1 complete. Avg Loss: 0.0885\n",
            "Chunk 3, Epoch 1 complete. Avg Loss: 0.1014\n",
            "Chunk 3, Epoch 1 complete. Avg Loss: 0.1252\n",
            "Chunk 3, Epoch 1 complete. Avg Loss: 0.1641\n",
            "Chunk 3, Epoch 1 complete. Avg Loss: 0.1748\n",
            "Chunk 3, Epoch 1 complete. Avg Loss: 0.1748\n",
            "Epoch 1 complete for chunk 3\n",
            "Chunk 3, Epoch 2 complete. Avg Loss: 0.0632\n",
            "Chunk 3, Epoch 2 complete. Avg Loss: 0.0675\n",
            "Chunk 3, Epoch 2 complete. Avg Loss: 0.0708\n",
            "Chunk 3, Epoch 2 complete. Avg Loss: 0.0830\n",
            "Chunk 3, Epoch 2 complete. Avg Loss: 0.0843\n",
            "Chunk 3, Epoch 2 complete. Avg Loss: 0.0996\n",
            "Chunk 3, Epoch 2 complete. Avg Loss: 0.1166\n",
            "Chunk 3, Epoch 2 complete. Avg Loss: 0.1222\n",
            "Chunk 3, Epoch 2 complete. Avg Loss: 0.1630\n",
            "Chunk 3, Epoch 2 complete. Avg Loss: 0.1653\n",
            "Chunk 3, Epoch 2 complete. Avg Loss: 0.1653\n",
            "Epoch 2 complete for chunk 3\n",
            "Processing patients 30 to 39\n",
            "Chunk 4, Epoch 1 complete. Avg Loss: 0.0166\n",
            "Chunk 4, Epoch 1 complete. Avg Loss: 0.0339\n",
            "Chunk 4, Epoch 1 complete. Avg Loss: 0.0419\n",
            "Chunk 4, Epoch 1 complete. Avg Loss: 0.0488\n",
            "Chunk 4, Epoch 1 complete. Avg Loss: 0.0513\n",
            "Chunk 4, Epoch 1 complete. Avg Loss: 0.0531\n",
            "Chunk 4, Epoch 1 complete. Avg Loss: 0.0662\n",
            "Chunk 4, Epoch 1 complete. Avg Loss: 0.0854\n",
            "Chunk 4, Epoch 1 complete. Avg Loss: 0.0946\n",
            "Chunk 4, Epoch 1 complete. Avg Loss: 0.0954\n",
            "Chunk 4, Epoch 1 complete. Avg Loss: 0.0954\n",
            "Epoch 1 complete for chunk 4\n",
            "Chunk 4, Epoch 2 complete. Avg Loss: 0.0135\n",
            "Chunk 4, Epoch 2 complete. Avg Loss: 0.0166\n",
            "Chunk 4, Epoch 2 complete. Avg Loss: 0.0409\n",
            "Chunk 4, Epoch 2 complete. Avg Loss: 0.0456\n",
            "Chunk 4, Epoch 2 complete. Avg Loss: 0.0509\n",
            "Chunk 4, Epoch 2 complete. Avg Loss: 0.0540\n",
            "Chunk 4, Epoch 2 complete. Avg Loss: 0.0963\n",
            "Chunk 4, Epoch 2 complete. Avg Loss: 0.1003\n",
            "Chunk 4, Epoch 2 complete. Avg Loss: 0.1010\n",
            "Chunk 4, Epoch 2 complete. Avg Loss: 0.1032\n",
            "Chunk 4, Epoch 2 complete. Avg Loss: 0.1032\n",
            "Epoch 2 complete for chunk 4\n",
            "Processing patients 40 to 49\n",
            "Chunk 5, Epoch 1 complete. Avg Loss: 0.0014\n",
            "Chunk 5, Epoch 1 complete. Avg Loss: 0.0021\n",
            "Chunk 5, Epoch 1 complete. Avg Loss: 0.0065\n",
            "Chunk 5, Epoch 1 complete. Avg Loss: 0.0096\n",
            "Chunk 5, Epoch 1 complete. Avg Loss: 0.0169\n",
            "Chunk 5, Epoch 1 complete. Avg Loss: 0.0318\n",
            "Chunk 5, Epoch 1 complete. Avg Loss: 0.0383\n",
            "Chunk 5, Epoch 1 complete. Avg Loss: 0.0927\n",
            "Chunk 5, Epoch 1 complete. Avg Loss: 0.0966\n",
            "Chunk 5, Epoch 1 complete. Avg Loss: 0.1104\n",
            "Chunk 5, Epoch 1 complete. Avg Loss: 0.1104\n",
            "Epoch 1 complete for chunk 5\n",
            "Chunk 5, Epoch 2 complete. Avg Loss: 0.0044\n",
            "Chunk 5, Epoch 2 complete. Avg Loss: 0.0083\n",
            "Chunk 5, Epoch 2 complete. Avg Loss: 0.0093\n",
            "Chunk 5, Epoch 2 complete. Avg Loss: 0.0111\n",
            "Chunk 5, Epoch 2 complete. Avg Loss: 0.0154\n",
            "Chunk 5, Epoch 2 complete. Avg Loss: 0.0239\n",
            "Chunk 5, Epoch 2 complete. Avg Loss: 0.0431\n",
            "Chunk 5, Epoch 2 complete. Avg Loss: 0.0431\n",
            "Chunk 5, Epoch 2 complete. Avg Loss: 0.0457\n",
            "Chunk 5, Epoch 2 complete. Avg Loss: 0.0555\n",
            "Chunk 5, Epoch 2 complete. Avg Loss: 0.0555\n",
            "Epoch 2 complete for chunk 5\n",
            "Processing patients 50 to 59\n",
            "Chunk 6, Epoch 1 complete. Avg Loss: 0.0001\n",
            "Chunk 6, Epoch 1 complete. Avg Loss: 0.0511\n",
            "Chunk 6, Epoch 1 complete. Avg Loss: 0.0879\n",
            "Chunk 6, Epoch 1 complete. Avg Loss: 0.0951\n",
            "Chunk 6, Epoch 1 complete. Avg Loss: 0.0954\n",
            "Chunk 6, Epoch 1 complete. Avg Loss: 0.0956\n",
            "Chunk 6, Epoch 1 complete. Avg Loss: 0.0972\n",
            "Chunk 6, Epoch 1 complete. Avg Loss: 0.1133\n",
            "Chunk 6, Epoch 1 complete. Avg Loss: 0.1146\n",
            "Chunk 6, Epoch 1 complete. Avg Loss: 0.1323\n",
            "Chunk 6, Epoch 1 complete. Avg Loss: 0.1323\n",
            "Epoch 1 complete for chunk 6\n",
            "Chunk 6, Epoch 2 complete. Avg Loss: 0.0030\n",
            "Chunk 6, Epoch 2 complete. Avg Loss: 0.0064\n",
            "Chunk 6, Epoch 2 complete. Avg Loss: 0.0100\n",
            "Chunk 6, Epoch 2 complete. Avg Loss: 0.0127\n",
            "Chunk 6, Epoch 2 complete. Avg Loss: 0.0142\n",
            "Chunk 6, Epoch 2 complete. Avg Loss: 0.0152\n",
            "Chunk 6, Epoch 2 complete. Avg Loss: 0.0861\n",
            "Chunk 6, Epoch 2 complete. Avg Loss: 0.1084\n",
            "Chunk 6, Epoch 2 complete. Avg Loss: 0.1133\n",
            "Chunk 6, Epoch 2 complete. Avg Loss: 0.1151\n",
            "Chunk 6, Epoch 2 complete. Avg Loss: 0.1151\n",
            "Epoch 2 complete for chunk 6\n",
            "Processing patients 60 to 69\n",
            "Chunk 7, Epoch 1 complete. Avg Loss: 0.0085\n",
            "Chunk 7, Epoch 1 complete. Avg Loss: 0.0109\n",
            "Chunk 7, Epoch 1 complete. Avg Loss: 0.0316\n",
            "Chunk 7, Epoch 1 complete. Avg Loss: 0.0361\n",
            "Chunk 7, Epoch 1 complete. Avg Loss: 0.0531\n",
            "Chunk 7, Epoch 1 complete. Avg Loss: 0.0538\n",
            "Chunk 7, Epoch 1 complete. Avg Loss: 0.0548\n",
            "Chunk 7, Epoch 1 complete. Avg Loss: 0.0615\n",
            "Chunk 7, Epoch 1 complete. Avg Loss: 0.0747\n",
            "Chunk 7, Epoch 1 complete. Avg Loss: 0.0852\n",
            "Chunk 7, Epoch 1 complete. Avg Loss: 0.0852\n",
            "Epoch 1 complete for chunk 7\n",
            "Chunk 7, Epoch 2 complete. Avg Loss: 0.0050\n",
            "Chunk 7, Epoch 2 complete. Avg Loss: 0.0153\n",
            "Chunk 7, Epoch 2 complete. Avg Loss: 0.0154\n",
            "Chunk 7, Epoch 2 complete. Avg Loss: 0.0367\n",
            "Chunk 7, Epoch 2 complete. Avg Loss: 0.0379\n",
            "Chunk 7, Epoch 2 complete. Avg Loss: 0.0613\n",
            "Chunk 7, Epoch 2 complete. Avg Loss: 0.0708\n",
            "Chunk 7, Epoch 2 complete. Avg Loss: 0.1108\n",
            "Chunk 7, Epoch 2 complete. Avg Loss: 0.1118\n",
            "Chunk 7, Epoch 2 complete. Avg Loss: 0.1157\n",
            "Chunk 7, Epoch 2 complete. Avg Loss: 0.1157\n",
            "Epoch 2 complete for chunk 7\n",
            "Processing patients 70 to 79\n",
            "Chunk 8, Epoch 1 complete. Avg Loss: 0.0011\n",
            "Chunk 8, Epoch 1 complete. Avg Loss: 0.0514\n",
            "Chunk 8, Epoch 1 complete. Avg Loss: 0.0640\n",
            "Chunk 8, Epoch 1 complete. Avg Loss: 0.0658\n",
            "Chunk 8, Epoch 1 complete. Avg Loss: 0.0659\n",
            "Chunk 8, Epoch 1 complete. Avg Loss: 0.0709\n",
            "Chunk 8, Epoch 1 complete. Avg Loss: 0.0755\n",
            "Chunk 8, Epoch 1 complete. Avg Loss: 0.0774\n",
            "Chunk 8, Epoch 1 complete. Avg Loss: 0.0774\n",
            "Chunk 8, Epoch 1 complete. Avg Loss: 0.0781\n",
            "Chunk 8, Epoch 1 complete. Avg Loss: 0.0781\n",
            "Epoch 1 complete for chunk 8\n",
            "Chunk 8, Epoch 2 complete. Avg Loss: 0.0121\n",
            "Chunk 8, Epoch 2 complete. Avg Loss: 0.0923\n",
            "Chunk 8, Epoch 2 complete. Avg Loss: 0.0939\n",
            "Chunk 8, Epoch 2 complete. Avg Loss: 0.0947\n",
            "Chunk 8, Epoch 2 complete. Avg Loss: 0.0953\n",
            "Chunk 8, Epoch 2 complete. Avg Loss: 0.0979\n",
            "Chunk 8, Epoch 2 complete. Avg Loss: 0.0989\n",
            "Chunk 8, Epoch 2 complete. Avg Loss: 0.1050\n",
            "Chunk 8, Epoch 2 complete. Avg Loss: 0.1080\n",
            "Chunk 8, Epoch 2 complete. Avg Loss: 0.1245\n",
            "Chunk 8, Epoch 2 complete. Avg Loss: 0.1245\n",
            "Epoch 2 complete for chunk 8\n",
            "Processing patients 80 to 89\n",
            "Chunk 9, Epoch 1 complete. Avg Loss: 0.0013\n",
            "Chunk 9, Epoch 1 complete. Avg Loss: 0.0034\n",
            "Chunk 9, Epoch 1 complete. Avg Loss: 0.0263\n",
            "Chunk 9, Epoch 1 complete. Avg Loss: 0.0279\n",
            "Chunk 9, Epoch 1 complete. Avg Loss: 0.0377\n",
            "Chunk 9, Epoch 1 complete. Avg Loss: 0.0431\n",
            "Chunk 9, Epoch 1 complete. Avg Loss: 0.0729\n",
            "Chunk 9, Epoch 1 complete. Avg Loss: 0.0892\n",
            "Chunk 9, Epoch 1 complete. Avg Loss: 0.0915\n",
            "Chunk 9, Epoch 1 complete. Avg Loss: 0.0916\n",
            "Chunk 9, Epoch 1 complete. Avg Loss: 0.0916\n",
            "Epoch 1 complete for chunk 9\n",
            "Chunk 9, Epoch 2 complete. Avg Loss: 0.0203\n",
            "Chunk 9, Epoch 2 complete. Avg Loss: 0.0416\n",
            "Chunk 9, Epoch 2 complete. Avg Loss: 0.0441\n",
            "Chunk 9, Epoch 2 complete. Avg Loss: 0.0475\n",
            "Chunk 9, Epoch 2 complete. Avg Loss: 0.0529\n",
            "Chunk 9, Epoch 2 complete. Avg Loss: 0.0566\n",
            "Chunk 9, Epoch 2 complete. Avg Loss: 0.0570\n",
            "Chunk 9, Epoch 2 complete. Avg Loss: 0.0603\n",
            "Chunk 9, Epoch 2 complete. Avg Loss: 0.0631\n",
            "Chunk 9, Epoch 2 complete. Avg Loss: 0.0634\n",
            "Chunk 9, Epoch 2 complete. Avg Loss: 0.0634\n",
            "Epoch 2 complete for chunk 9\n",
            "Processing patients 90 to 99\n",
            "Chunk 10, Epoch 1 complete. Avg Loss: 0.0075\n",
            "Chunk 10, Epoch 1 complete. Avg Loss: 0.0096\n",
            "Chunk 10, Epoch 1 complete. Avg Loss: 0.0160\n",
            "Chunk 10, Epoch 1 complete. Avg Loss: 0.0179\n",
            "Chunk 10, Epoch 1 complete. Avg Loss: 0.0181\n",
            "Chunk 10, Epoch 1 complete. Avg Loss: 0.0425\n",
            "Chunk 10, Epoch 1 complete. Avg Loss: 0.0515\n",
            "Chunk 10, Epoch 1 complete. Avg Loss: 0.0517\n",
            "Chunk 10, Epoch 1 complete. Avg Loss: 0.0528\n",
            "Chunk 10, Epoch 1 complete. Avg Loss: 0.0595\n",
            "Chunk 10, Epoch 1 complete. Avg Loss: 0.0595\n",
            "Epoch 1 complete for chunk 10\n",
            "Chunk 10, Epoch 2 complete. Avg Loss: 0.0005\n",
            "Chunk 10, Epoch 2 complete. Avg Loss: 0.0102\n",
            "Chunk 10, Epoch 2 complete. Avg Loss: 0.0120\n",
            "Chunk 10, Epoch 2 complete. Avg Loss: 0.0120\n",
            "Chunk 10, Epoch 2 complete. Avg Loss: 0.0183\n",
            "Chunk 10, Epoch 2 complete. Avg Loss: 0.0193\n",
            "Chunk 10, Epoch 2 complete. Avg Loss: 0.0195\n",
            "Chunk 10, Epoch 2 complete. Avg Loss: 0.0208\n",
            "Chunk 10, Epoch 2 complete. Avg Loss: 0.0218\n",
            "Chunk 10, Epoch 2 complete. Avg Loss: 0.0331\n",
            "Chunk 10, Epoch 2 complete. Avg Loss: 0.0331\n",
            "Epoch 2 complete for chunk 10\n",
            "Processing patients 100 to 109\n",
            "Chunk 11, Epoch 1 complete. Avg Loss: 0.0050\n",
            "Chunk 11, Epoch 1 complete. Avg Loss: 0.0068\n",
            "Chunk 11, Epoch 1 complete. Avg Loss: 0.0143\n",
            "Chunk 11, Epoch 1 complete. Avg Loss: 0.0297\n",
            "Chunk 11, Epoch 1 complete. Avg Loss: 0.0301\n",
            "Chunk 11, Epoch 1 complete. Avg Loss: 0.0303\n",
            "Chunk 11, Epoch 1 complete. Avg Loss: 0.0357\n",
            "Chunk 11, Epoch 1 complete. Avg Loss: 0.0940\n",
            "Chunk 11, Epoch 1 complete. Avg Loss: 0.0949\n",
            "Chunk 11, Epoch 1 complete. Avg Loss: 0.0981\n",
            "Chunk 11, Epoch 1 complete. Avg Loss: 0.0981\n",
            "Epoch 1 complete for chunk 11\n",
            "Chunk 11, Epoch 2 complete. Avg Loss: 0.0003\n",
            "Chunk 11, Epoch 2 complete. Avg Loss: 0.0037\n",
            "Chunk 11, Epoch 2 complete. Avg Loss: 0.0094\n",
            "Chunk 11, Epoch 2 complete. Avg Loss: 0.0098\n",
            "Chunk 11, Epoch 2 complete. Avg Loss: 0.0390\n",
            "Chunk 11, Epoch 2 complete. Avg Loss: 0.0431\n",
            "Chunk 11, Epoch 2 complete. Avg Loss: 0.0460\n",
            "Chunk 11, Epoch 2 complete. Avg Loss: 0.0480\n",
            "Chunk 11, Epoch 2 complete. Avg Loss: 0.0488\n",
            "Chunk 11, Epoch 2 complete. Avg Loss: 0.0508\n",
            "Chunk 11, Epoch 2 complete. Avg Loss: 0.0508\n",
            "Epoch 2 complete for chunk 11\n",
            "Processing patients 110 to 119\n",
            "Chunk 12, Epoch 1 complete. Avg Loss: 0.0021\n",
            "Chunk 12, Epoch 1 complete. Avg Loss: 0.0046\n",
            "Chunk 12, Epoch 1 complete. Avg Loss: 0.0058\n",
            "Chunk 12, Epoch 1 complete. Avg Loss: 0.0069\n",
            "Chunk 12, Epoch 1 complete. Avg Loss: 0.0090\n",
            "Chunk 12, Epoch 1 complete. Avg Loss: 0.0130\n",
            "Chunk 12, Epoch 1 complete. Avg Loss: 0.0195\n",
            "Chunk 12, Epoch 1 complete. Avg Loss: 0.0267\n",
            "Chunk 12, Epoch 1 complete. Avg Loss: 0.0285\n",
            "Chunk 12, Epoch 1 complete. Avg Loss: 0.0334\n",
            "Chunk 12, Epoch 1 complete. Avg Loss: 0.0334\n",
            "Epoch 1 complete for chunk 12\n",
            "Chunk 12, Epoch 2 complete. Avg Loss: 0.0110\n",
            "Chunk 12, Epoch 2 complete. Avg Loss: 0.0134\n",
            "Chunk 12, Epoch 2 complete. Avg Loss: 0.0295\n",
            "Chunk 12, Epoch 2 complete. Avg Loss: 0.0328\n",
            "Chunk 12, Epoch 2 complete. Avg Loss: 0.0333\n",
            "Chunk 12, Epoch 2 complete. Avg Loss: 0.0561\n",
            "Chunk 12, Epoch 2 complete. Avg Loss: 0.0573\n",
            "Chunk 12, Epoch 2 complete. Avg Loss: 0.0708\n",
            "Chunk 12, Epoch 2 complete. Avg Loss: 0.0722\n",
            "Chunk 12, Epoch 2 complete. Avg Loss: 0.0951\n",
            "Chunk 12, Epoch 2 complete. Avg Loss: 0.0951\n",
            "Epoch 2 complete for chunk 12\n",
            "Processing patients 120 to 129\n",
            "Chunk 13, Epoch 1 complete. Avg Loss: 0.0003\n",
            "Chunk 13, Epoch 1 complete. Avg Loss: 0.0086\n",
            "Chunk 13, Epoch 1 complete. Avg Loss: 0.0099\n",
            "Chunk 13, Epoch 1 complete. Avg Loss: 0.0100\n",
            "Chunk 13, Epoch 1 complete. Avg Loss: 0.0110\n",
            "Chunk 13, Epoch 1 complete. Avg Loss: 0.0162\n",
            "Chunk 13, Epoch 1 complete. Avg Loss: 0.0442\n",
            "Chunk 13, Epoch 1 complete. Avg Loss: 0.0585\n",
            "Chunk 13, Epoch 1 complete. Avg Loss: 0.0624\n",
            "Chunk 13, Epoch 1 complete. Avg Loss: 0.0625\n",
            "Chunk 13, Epoch 1 complete. Avg Loss: 0.0625\n",
            "Epoch 1 complete for chunk 13\n",
            "Chunk 13, Epoch 2 complete. Avg Loss: 0.0003\n",
            "Chunk 13, Epoch 2 complete. Avg Loss: 0.0047\n",
            "Chunk 13, Epoch 2 complete. Avg Loss: 0.0231\n",
            "Chunk 13, Epoch 2 complete. Avg Loss: 0.0368\n",
            "Chunk 13, Epoch 2 complete. Avg Loss: 0.0372\n",
            "Chunk 13, Epoch 2 complete. Avg Loss: 0.0416\n",
            "Chunk 13, Epoch 2 complete. Avg Loss: 0.0436\n",
            "Chunk 13, Epoch 2 complete. Avg Loss: 0.0500\n",
            "Chunk 13, Epoch 2 complete. Avg Loss: 0.0680\n",
            "Chunk 13, Epoch 2 complete. Avg Loss: 0.0700\n",
            "Chunk 13, Epoch 2 complete. Avg Loss: 0.0700\n",
            "Epoch 2 complete for chunk 13\n",
            "Processing patients 130 to 139\n",
            "Chunk 14, Epoch 1 complete. Avg Loss: 0.0021\n",
            "Chunk 14, Epoch 1 complete. Avg Loss: 0.0042\n",
            "Chunk 14, Epoch 1 complete. Avg Loss: 0.0364\n",
            "Chunk 14, Epoch 1 complete. Avg Loss: 0.0372\n",
            "Chunk 14, Epoch 1 complete. Avg Loss: 0.0502\n",
            "Chunk 14, Epoch 1 complete. Avg Loss: 0.0553\n",
            "Chunk 14, Epoch 1 complete. Avg Loss: 0.0556\n",
            "Chunk 14, Epoch 1 complete. Avg Loss: 0.0559\n",
            "Chunk 14, Epoch 1 complete. Avg Loss: 0.0571\n",
            "Chunk 14, Epoch 1 complete. Avg Loss: 0.0771\n",
            "Chunk 14, Epoch 1 complete. Avg Loss: 0.0771\n",
            "Epoch 1 complete for chunk 14\n",
            "Chunk 14, Epoch 2 complete. Avg Loss: 0.0017\n",
            "Chunk 14, Epoch 2 complete. Avg Loss: 0.0053\n",
            "Chunk 14, Epoch 2 complete. Avg Loss: 0.0246\n",
            "Chunk 14, Epoch 2 complete. Avg Loss: 0.0319\n",
            "Chunk 14, Epoch 2 complete. Avg Loss: 0.0381\n",
            "Chunk 14, Epoch 2 complete. Avg Loss: 0.0385\n",
            "Chunk 14, Epoch 2 complete. Avg Loss: 0.0395\n",
            "Chunk 14, Epoch 2 complete. Avg Loss: 0.0679\n",
            "Chunk 14, Epoch 2 complete. Avg Loss: 0.0693\n",
            "Chunk 14, Epoch 2 complete. Avg Loss: 0.0800\n",
            "Chunk 14, Epoch 2 complete. Avg Loss: 0.0800\n",
            "Epoch 2 complete for chunk 14\n",
            "Processing patients 140 to 149\n",
            "Chunk 15, Epoch 1 complete. Avg Loss: 0.0012\n",
            "Chunk 15, Epoch 1 complete. Avg Loss: 0.0035\n",
            "Chunk 15, Epoch 1 complete. Avg Loss: 0.0085\n",
            "Chunk 15, Epoch 1 complete. Avg Loss: 0.0125\n",
            "Chunk 15, Epoch 1 complete. Avg Loss: 0.0752\n",
            "Chunk 15, Epoch 1 complete. Avg Loss: 0.0847\n",
            "Chunk 15, Epoch 1 complete. Avg Loss: 0.0848\n",
            "Chunk 15, Epoch 1 complete. Avg Loss: 0.0850\n",
            "Chunk 15, Epoch 1 complete. Avg Loss: 0.0912\n",
            "Chunk 15, Epoch 1 complete. Avg Loss: 0.0942\n",
            "Chunk 15, Epoch 1 complete. Avg Loss: 0.0942\n",
            "Epoch 1 complete for chunk 15\n",
            "Chunk 15, Epoch 2 complete. Avg Loss: 0.2449\n",
            "Chunk 15, Epoch 2 complete. Avg Loss: 0.3060\n",
            "Chunk 15, Epoch 2 complete. Avg Loss: 0.3158\n",
            "Chunk 15, Epoch 2 complete. Avg Loss: 0.3162\n",
            "Chunk 15, Epoch 2 complete. Avg Loss: 0.3226\n",
            "Chunk 15, Epoch 2 complete. Avg Loss: 0.3292\n",
            "Chunk 15, Epoch 2 complete. Avg Loss: 0.3605\n",
            "Chunk 15, Epoch 2 complete. Avg Loss: 0.3928\n",
            "Chunk 15, Epoch 2 complete. Avg Loss: 0.4334\n",
            "Chunk 15, Epoch 2 complete. Avg Loss: 0.4377\n",
            "Chunk 15, Epoch 2 complete. Avg Loss: 0.4377\n",
            "Epoch 2 complete for chunk 15\n",
            "Processing patients 150 to 159\n",
            "Chunk 16, Epoch 1 complete. Avg Loss: 0.0454\n",
            "Chunk 16, Epoch 1 complete. Avg Loss: 0.0662\n",
            "Chunk 16, Epoch 1 complete. Avg Loss: 0.0941\n",
            "Chunk 16, Epoch 1 complete. Avg Loss: 0.1010\n",
            "Chunk 16, Epoch 1 complete. Avg Loss: 0.1122\n",
            "Chunk 16, Epoch 1 complete. Avg Loss: 0.1422\n",
            "Chunk 16, Epoch 1 complete. Avg Loss: 0.1951\n",
            "Chunk 16, Epoch 1 complete. Avg Loss: 0.2066\n",
            "Chunk 16, Epoch 1 complete. Avg Loss: 0.2422\n",
            "Chunk 16, Epoch 1 complete. Avg Loss: 0.2511\n",
            "Chunk 16, Epoch 1 complete. Avg Loss: 0.2511\n",
            "Epoch 1 complete for chunk 16\n",
            "Chunk 16, Epoch 2 complete. Avg Loss: 0.0018\n",
            "Chunk 16, Epoch 2 complete. Avg Loss: 0.0241\n",
            "Chunk 16, Epoch 2 complete. Avg Loss: 0.0288\n",
            "Chunk 16, Epoch 2 complete. Avg Loss: 0.0308\n",
            "Chunk 16, Epoch 2 complete. Avg Loss: 0.0593\n",
            "Chunk 16, Epoch 2 complete. Avg Loss: 0.0963\n",
            "Chunk 16, Epoch 2 complete. Avg Loss: 0.0963\n",
            "Chunk 16, Epoch 2 complete. Avg Loss: 0.1078\n",
            "Chunk 16, Epoch 2 complete. Avg Loss: 0.1183\n",
            "Chunk 16, Epoch 2 complete. Avg Loss: 0.1298\n",
            "Chunk 16, Epoch 2 complete. Avg Loss: 0.1298\n",
            "Epoch 2 complete for chunk 16\n",
            "Processing patients 160 to 169\n",
            "Chunk 17, Epoch 1 complete. Avg Loss: 0.0012\n",
            "Chunk 17, Epoch 1 complete. Avg Loss: 0.0131\n",
            "Chunk 17, Epoch 1 complete. Avg Loss: 0.0212\n",
            "Chunk 17, Epoch 1 complete. Avg Loss: 0.0338\n",
            "Chunk 17, Epoch 1 complete. Avg Loss: 0.0401\n",
            "Chunk 17, Epoch 1 complete. Avg Loss: 0.0421\n",
            "Chunk 17, Epoch 1 complete. Avg Loss: 0.0465\n",
            "Chunk 17, Epoch 1 complete. Avg Loss: 0.0469\n",
            "Chunk 17, Epoch 1 complete. Avg Loss: 0.0469\n",
            "Chunk 17, Epoch 1 complete. Avg Loss: 0.0481\n",
            "Chunk 17, Epoch 1 complete. Avg Loss: 0.0481\n",
            "Epoch 1 complete for chunk 17\n",
            "Chunk 17, Epoch 2 complete. Avg Loss: 0.0169\n",
            "Chunk 17, Epoch 2 complete. Avg Loss: 0.0243\n",
            "Chunk 17, Epoch 2 complete. Avg Loss: 0.0261\n",
            "Chunk 17, Epoch 2 complete. Avg Loss: 0.0407\n",
            "Chunk 17, Epoch 2 complete. Avg Loss: 0.0450\n",
            "Chunk 17, Epoch 2 complete. Avg Loss: 0.0555\n",
            "Chunk 17, Epoch 2 complete. Avg Loss: 0.0647\n",
            "Chunk 17, Epoch 2 complete. Avg Loss: 0.0717\n",
            "Chunk 17, Epoch 2 complete. Avg Loss: 0.0724\n",
            "Chunk 17, Epoch 2 complete. Avg Loss: 0.0729\n",
            "Chunk 17, Epoch 2 complete. Avg Loss: 0.0729\n",
            "Epoch 2 complete for chunk 17\n",
            "Processing patients 170 to 179\n",
            "Chunk 18, Epoch 1 complete. Avg Loss: 0.0038\n",
            "Chunk 18, Epoch 1 complete. Avg Loss: 0.0165\n",
            "Chunk 18, Epoch 1 complete. Avg Loss: 0.0204\n",
            "Chunk 18, Epoch 1 complete. Avg Loss: 0.0255\n",
            "Chunk 18, Epoch 1 complete. Avg Loss: 0.0295\n",
            "Chunk 18, Epoch 1 complete. Avg Loss: 0.0306\n",
            "Chunk 18, Epoch 1 complete. Avg Loss: 0.0335\n",
            "Chunk 18, Epoch 1 complete. Avg Loss: 0.0357\n",
            "Chunk 18, Epoch 1 complete. Avg Loss: 0.0367\n",
            "Chunk 18, Epoch 1 complete. Avg Loss: 0.0392\n",
            "Chunk 18, Epoch 1 complete. Avg Loss: 0.0392\n",
            "Epoch 1 complete for chunk 18\n",
            "Chunk 18, Epoch 2 complete. Avg Loss: 0.0123\n",
            "Chunk 18, Epoch 2 complete. Avg Loss: 0.0258\n",
            "Chunk 18, Epoch 2 complete. Avg Loss: 0.0275\n",
            "Chunk 18, Epoch 2 complete. Avg Loss: 0.0283\n",
            "Chunk 18, Epoch 2 complete. Avg Loss: 0.0337\n",
            "Chunk 18, Epoch 2 complete. Avg Loss: 0.0340\n",
            "Chunk 18, Epoch 2 complete. Avg Loss: 0.0361\n",
            "Chunk 18, Epoch 2 complete. Avg Loss: 0.0375\n",
            "Chunk 18, Epoch 2 complete. Avg Loss: 0.0442\n",
            "Chunk 18, Epoch 2 complete. Avg Loss: 0.0544\n",
            "Chunk 18, Epoch 2 complete. Avg Loss: 0.0544\n",
            "Epoch 2 complete for chunk 18\n",
            "Processing patients 180 to 189\n",
            "Chunk 19, Epoch 1 complete. Avg Loss: 0.0086\n",
            "Chunk 19, Epoch 1 complete. Avg Loss: 0.0137\n",
            "Chunk 19, Epoch 1 complete. Avg Loss: 0.0215\n",
            "Chunk 19, Epoch 1 complete. Avg Loss: 0.0319\n",
            "Chunk 19, Epoch 1 complete. Avg Loss: 0.0358\n",
            "Chunk 19, Epoch 1 complete. Avg Loss: 0.0411\n",
            "Chunk 19, Epoch 1 complete. Avg Loss: 0.0439\n",
            "Chunk 19, Epoch 1 complete. Avg Loss: 0.0456\n",
            "Chunk 19, Epoch 1 complete. Avg Loss: 0.0495\n",
            "Chunk 19, Epoch 1 complete. Avg Loss: 0.0515\n",
            "Chunk 19, Epoch 1 complete. Avg Loss: 0.0515\n",
            "Epoch 1 complete for chunk 19\n",
            "Chunk 19, Epoch 2 complete. Avg Loss: 0.0003\n",
            "Chunk 19, Epoch 2 complete. Avg Loss: 0.0031\n",
            "Chunk 19, Epoch 2 complete. Avg Loss: 0.0500\n",
            "Chunk 19, Epoch 2 complete. Avg Loss: 0.0508\n",
            "Chunk 19, Epoch 2 complete. Avg Loss: 0.0534\n",
            "Chunk 19, Epoch 2 complete. Avg Loss: 0.0538\n",
            "Chunk 19, Epoch 2 complete. Avg Loss: 0.0620\n",
            "Chunk 19, Epoch 2 complete. Avg Loss: 0.0632\n",
            "Chunk 19, Epoch 2 complete. Avg Loss: 0.0632\n",
            "Chunk 19, Epoch 2 complete. Avg Loss: 0.0641\n",
            "Chunk 19, Epoch 2 complete. Avg Loss: 0.0641\n",
            "Epoch 2 complete for chunk 19\n",
            "Processing patients 190 to 199\n",
            "Chunk 20, Epoch 1 complete. Avg Loss: 0.0008\n",
            "Chunk 20, Epoch 1 complete. Avg Loss: 0.0044\n",
            "Chunk 20, Epoch 1 complete. Avg Loss: 0.0069\n",
            "Chunk 20, Epoch 1 complete. Avg Loss: 0.0120\n",
            "Chunk 20, Epoch 1 complete. Avg Loss: 0.0122\n",
            "Chunk 20, Epoch 1 complete. Avg Loss: 0.0124\n",
            "Chunk 20, Epoch 1 complete. Avg Loss: 0.0133\n",
            "Chunk 20, Epoch 1 complete. Avg Loss: 0.0172\n",
            "Chunk 20, Epoch 1 complete. Avg Loss: 0.0192\n",
            "Chunk 20, Epoch 1 complete. Avg Loss: 0.0233\n",
            "Chunk 20, Epoch 1 complete. Avg Loss: 0.0233\n",
            "Epoch 1 complete for chunk 20\n",
            "Chunk 20, Epoch 2 complete. Avg Loss: 0.0000\n",
            "Chunk 20, Epoch 2 complete. Avg Loss: 0.0022\n",
            "Chunk 20, Epoch 2 complete. Avg Loss: 0.0175\n",
            "Chunk 20, Epoch 2 complete. Avg Loss: 0.0176\n",
            "Chunk 20, Epoch 2 complete. Avg Loss: 0.0453\n",
            "Chunk 20, Epoch 2 complete. Avg Loss: 0.0522\n",
            "Chunk 20, Epoch 2 complete. Avg Loss: 0.0681\n",
            "Chunk 20, Epoch 2 complete. Avg Loss: 0.0703\n",
            "Chunk 20, Epoch 2 complete. Avg Loss: 0.0737\n",
            "Chunk 20, Epoch 2 complete. Avg Loss: 0.0738\n",
            "Chunk 20, Epoch 2 complete. Avg Loss: 0.0738\n",
            "Epoch 2 complete for chunk 20\n",
            "Processing patients 200 to 209\n",
            "Chunk 21, Epoch 1 complete. Avg Loss: 0.0016\n",
            "Chunk 21, Epoch 1 complete. Avg Loss: 0.0023\n",
            "Chunk 21, Epoch 1 complete. Avg Loss: 0.0029\n",
            "Chunk 21, Epoch 1 complete. Avg Loss: 0.0106\n",
            "Chunk 21, Epoch 1 complete. Avg Loss: 0.1796\n",
            "Chunk 21, Epoch 1 complete. Avg Loss: 0.1829\n",
            "Chunk 21, Epoch 1 complete. Avg Loss: 0.1979\n",
            "Chunk 21, Epoch 1 complete. Avg Loss: 0.2025\n",
            "Chunk 21, Epoch 1 complete. Avg Loss: 0.2061\n",
            "Chunk 21, Epoch 1 complete. Avg Loss: 0.2097\n",
            "Chunk 21, Epoch 1 complete. Avg Loss: 0.2097\n",
            "Epoch 1 complete for chunk 21\n",
            "Chunk 21, Epoch 2 complete. Avg Loss: 0.0102\n",
            "Chunk 21, Epoch 2 complete. Avg Loss: 0.0122\n",
            "Chunk 21, Epoch 2 complete. Avg Loss: 0.0164\n",
            "Chunk 21, Epoch 2 complete. Avg Loss: 0.0255\n",
            "Chunk 21, Epoch 2 complete. Avg Loss: 0.1670\n",
            "Chunk 21, Epoch 2 complete. Avg Loss: 0.1690\n",
            "Chunk 21, Epoch 2 complete. Avg Loss: 0.1986\n",
            "Chunk 21, Epoch 2 complete. Avg Loss: 0.2348\n",
            "Chunk 21, Epoch 2 complete. Avg Loss: 0.2428\n",
            "Chunk 21, Epoch 2 complete. Avg Loss: 0.2492\n",
            "Chunk 21, Epoch 2 complete. Avg Loss: 0.2492\n",
            "Epoch 2 complete for chunk 21\n",
            "Processing patients 210 to 219\n",
            "Chunk 22, Epoch 1 complete. Avg Loss: 0.0418\n",
            "Chunk 22, Epoch 1 complete. Avg Loss: 0.0452\n",
            "Chunk 22, Epoch 1 complete. Avg Loss: 0.0512\n",
            "Chunk 22, Epoch 1 complete. Avg Loss: 0.0636\n",
            "Chunk 22, Epoch 1 complete. Avg Loss: 0.0648\n",
            "Chunk 22, Epoch 1 complete. Avg Loss: 0.0722\n",
            "Chunk 22, Epoch 1 complete. Avg Loss: 0.1171\n",
            "Chunk 22, Epoch 1 complete. Avg Loss: 0.1203\n",
            "Chunk 22, Epoch 1 complete. Avg Loss: 0.1248\n",
            "Chunk 22, Epoch 1 complete. Avg Loss: 0.1273\n",
            "Chunk 22, Epoch 1 complete. Avg Loss: 0.1273\n",
            "Epoch 1 complete for chunk 22\n",
            "Chunk 22, Epoch 2 complete. Avg Loss: 0.0085\n",
            "Chunk 22, Epoch 2 complete. Avg Loss: 0.0420\n",
            "Chunk 22, Epoch 2 complete. Avg Loss: 0.0555\n",
            "Chunk 22, Epoch 2 complete. Avg Loss: 0.0574\n",
            "Chunk 22, Epoch 2 complete. Avg Loss: 0.0866\n",
            "Chunk 22, Epoch 2 complete. Avg Loss: 0.1147\n",
            "Chunk 22, Epoch 2 complete. Avg Loss: 0.1242\n",
            "Chunk 22, Epoch 2 complete. Avg Loss: 0.1358\n",
            "Chunk 22, Epoch 2 complete. Avg Loss: 0.1515\n",
            "Chunk 22, Epoch 2 complete. Avg Loss: 0.1570\n",
            "Chunk 22, Epoch 2 complete. Avg Loss: 0.1570\n",
            "Epoch 2 complete for chunk 22\n",
            "Processing patients 220 to 229\n",
            "Chunk 23, Epoch 1 complete. Avg Loss: 0.0008\n",
            "Chunk 23, Epoch 1 complete. Avg Loss: 0.0073\n",
            "Chunk 23, Epoch 1 complete. Avg Loss: 0.0074\n",
            "Chunk 23, Epoch 1 complete. Avg Loss: 0.0327\n",
            "Chunk 23, Epoch 1 complete. Avg Loss: 0.0356\n",
            "Chunk 23, Epoch 1 complete. Avg Loss: 0.0432\n",
            "Chunk 23, Epoch 1 complete. Avg Loss: 0.0442\n",
            "Chunk 23, Epoch 1 complete. Avg Loss: 0.1180\n",
            "Chunk 23, Epoch 1 complete. Avg Loss: 0.1180\n",
            "Chunk 23, Epoch 1 complete. Avg Loss: 0.1189\n",
            "Chunk 23, Epoch 1 complete. Avg Loss: 0.1189\n",
            "Epoch 1 complete for chunk 23\n",
            "Chunk 23, Epoch 2 complete. Avg Loss: 0.0053\n",
            "Chunk 23, Epoch 2 complete. Avg Loss: 0.0084\n",
            "Chunk 23, Epoch 2 complete. Avg Loss: 0.0224\n",
            "Chunk 23, Epoch 2 complete. Avg Loss: 0.0313\n",
            "Chunk 23, Epoch 2 complete. Avg Loss: 0.0348\n",
            "Chunk 23, Epoch 2 complete. Avg Loss: 0.0487\n",
            "Chunk 23, Epoch 2 complete. Avg Loss: 0.0502\n",
            "Chunk 23, Epoch 2 complete. Avg Loss: 0.0515\n",
            "Chunk 23, Epoch 2 complete. Avg Loss: 0.0739\n",
            "Chunk 23, Epoch 2 complete. Avg Loss: 0.0766\n",
            "Chunk 23, Epoch 2 complete. Avg Loss: 0.0766\n",
            "Epoch 2 complete for chunk 23\n",
            "Processing patients 230 to 239\n",
            "Chunk 24, Epoch 1 complete. Avg Loss: 0.0164\n",
            "Chunk 24, Epoch 1 complete. Avg Loss: 0.0496\n",
            "Chunk 24, Epoch 1 complete. Avg Loss: 0.0497\n",
            "Chunk 24, Epoch 1 complete. Avg Loss: 0.0507\n",
            "Chunk 24, Epoch 1 complete. Avg Loss: 0.0604\n",
            "Chunk 24, Epoch 1 complete. Avg Loss: 0.0630\n",
            "Chunk 24, Epoch 1 complete. Avg Loss: 0.0745\n",
            "Chunk 24, Epoch 1 complete. Avg Loss: 0.0912\n",
            "Chunk 24, Epoch 1 complete. Avg Loss: 0.0915\n",
            "Chunk 24, Epoch 1 complete. Avg Loss: 0.0915\n",
            "Chunk 24, Epoch 1 complete. Avg Loss: 0.0915\n",
            "Epoch 1 complete for chunk 24\n",
            "Chunk 24, Epoch 2 complete. Avg Loss: 0.0042\n",
            "Chunk 24, Epoch 2 complete. Avg Loss: 0.0110\n",
            "Chunk 24, Epoch 2 complete. Avg Loss: 0.0260\n",
            "Chunk 24, Epoch 2 complete. Avg Loss: 0.0263\n",
            "Chunk 24, Epoch 2 complete. Avg Loss: 0.0263\n",
            "Chunk 24, Epoch 2 complete. Avg Loss: 0.0434\n",
            "Chunk 24, Epoch 2 complete. Avg Loss: 0.0485\n",
            "Chunk 24, Epoch 2 complete. Avg Loss: 0.0490\n",
            "Chunk 24, Epoch 2 complete. Avg Loss: 0.0737\n",
            "Chunk 24, Epoch 2 complete. Avg Loss: 0.0817\n",
            "Chunk 24, Epoch 2 complete. Avg Loss: 0.0817\n",
            "Epoch 2 complete for chunk 24\n",
            "Processing patients 240 to 249\n",
            "Chunk 25, Epoch 1 complete. Avg Loss: 0.0108\n",
            "Chunk 25, Epoch 1 complete. Avg Loss: 0.0121\n",
            "Chunk 25, Epoch 1 complete. Avg Loss: 0.0216\n",
            "Chunk 25, Epoch 1 complete. Avg Loss: 0.0195\n",
            "Chunk 25, Epoch 1 complete. Avg Loss: 0.0211\n",
            "Chunk 25, Epoch 1 complete. Avg Loss: 0.0452\n",
            "Chunk 25, Epoch 1 complete. Avg Loss: 0.0459\n",
            "Chunk 25, Epoch 1 complete. Avg Loss: 0.0474\n",
            "Chunk 25, Epoch 1 complete. Avg Loss: 0.0491\n",
            "Chunk 25, Epoch 1 complete. Avg Loss: 0.0560\n",
            "Chunk 25, Epoch 1 complete. Avg Loss: 0.0560\n",
            "Epoch 1 complete for chunk 25\n",
            "Chunk 25, Epoch 2 complete. Avg Loss: 0.0000\n",
            "Chunk 25, Epoch 2 complete. Avg Loss: 0.0097\n",
            "Chunk 25, Epoch 2 complete. Avg Loss: 0.0225\n",
            "Chunk 25, Epoch 2 complete. Avg Loss: 0.0406\n",
            "Chunk 25, Epoch 2 complete. Avg Loss: 0.0451\n",
            "Chunk 25, Epoch 2 complete. Avg Loss: 0.0560\n",
            "Chunk 25, Epoch 2 complete. Avg Loss: 0.0643\n",
            "Chunk 25, Epoch 2 complete. Avg Loss: 0.0972\n",
            "Chunk 25, Epoch 2 complete. Avg Loss: 0.1009\n",
            "Chunk 25, Epoch 2 complete. Avg Loss: 0.1020\n",
            "Chunk 25, Epoch 2 complete. Avg Loss: 0.1020\n",
            "Epoch 2 complete for chunk 25\n",
            "Processing patients 250 to 259\n",
            "Chunk 26, Epoch 1 complete. Avg Loss: 0.0000\n",
            "Chunk 26, Epoch 1 complete. Avg Loss: 0.0082\n",
            "Chunk 26, Epoch 1 complete. Avg Loss: 0.0123\n",
            "Chunk 26, Epoch 1 complete. Avg Loss: 0.0200\n",
            "Chunk 26, Epoch 1 complete. Avg Loss: 0.0426\n",
            "Chunk 26, Epoch 1 complete. Avg Loss: 0.0474\n",
            "Chunk 26, Epoch 1 complete. Avg Loss: 0.0475\n",
            "Chunk 26, Epoch 1 complete. Avg Loss: 0.0593\n",
            "Chunk 26, Epoch 1 complete. Avg Loss: 0.0593\n",
            "Chunk 26, Epoch 1 complete. Avg Loss: 0.0770\n",
            "Chunk 26, Epoch 1 complete. Avg Loss: 0.0770\n",
            "Epoch 1 complete for chunk 26\n",
            "Chunk 26, Epoch 2 complete. Avg Loss: 0.0197\n",
            "Chunk 26, Epoch 2 complete. Avg Loss: 0.0217\n",
            "Chunk 26, Epoch 2 complete. Avg Loss: 0.0388\n",
            "Chunk 26, Epoch 2 complete. Avg Loss: 0.0463\n",
            "Chunk 26, Epoch 2 complete. Avg Loss: 0.0569\n",
            "Chunk 26, Epoch 2 complete. Avg Loss: 0.0702\n",
            "Chunk 26, Epoch 2 complete. Avg Loss: 0.0756\n",
            "Chunk 26, Epoch 2 complete. Avg Loss: 0.0756\n",
            "Chunk 26, Epoch 2 complete. Avg Loss: 0.1132\n",
            "Chunk 26, Epoch 2 complete. Avg Loss: 0.1146\n",
            "Chunk 26, Epoch 2 complete. Avg Loss: 0.1146\n",
            "Epoch 2 complete for chunk 26\n",
            "Processing patients 260 to 269\n",
            "Chunk 27, Epoch 1 complete. Avg Loss: 0.0140\n",
            "Chunk 27, Epoch 1 complete. Avg Loss: 0.0140\n",
            "Chunk 27, Epoch 1 complete. Avg Loss: 0.0150\n",
            "Chunk 27, Epoch 1 complete. Avg Loss: 0.0172\n",
            "Chunk 27, Epoch 1 complete. Avg Loss: 0.0172\n",
            "Chunk 27, Epoch 1 complete. Avg Loss: 0.0203\n",
            "Chunk 27, Epoch 1 complete. Avg Loss: 0.0204\n",
            "Chunk 27, Epoch 1 complete. Avg Loss: 0.0207\n",
            "Chunk 27, Epoch 1 complete. Avg Loss: 0.0375\n",
            "Chunk 27, Epoch 1 complete. Avg Loss: 0.0518\n",
            "Chunk 27, Epoch 1 complete. Avg Loss: 0.0518\n",
            "Epoch 1 complete for chunk 27\n",
            "Chunk 27, Epoch 2 complete. Avg Loss: 0.0456\n",
            "Chunk 27, Epoch 2 complete. Avg Loss: 0.0469\n",
            "Chunk 27, Epoch 2 complete. Avg Loss: 0.0475\n",
            "Chunk 27, Epoch 2 complete. Avg Loss: 0.0486\n",
            "Chunk 27, Epoch 2 complete. Avg Loss: 0.1039\n",
            "Chunk 27, Epoch 2 complete. Avg Loss: 0.1070\n",
            "Chunk 27, Epoch 2 complete. Avg Loss: 0.1382\n",
            "Chunk 27, Epoch 2 complete. Avg Loss: 0.1396\n",
            "Chunk 27, Epoch 2 complete. Avg Loss: 0.1399\n",
            "Chunk 27, Epoch 2 complete. Avg Loss: 0.1403\n",
            "Chunk 27, Epoch 2 complete. Avg Loss: 0.1403\n",
            "Epoch 2 complete for chunk 27\n",
            "Processing patients 270 to 279\n",
            "Chunk 28, Epoch 1 complete. Avg Loss: 0.0000\n",
            "Chunk 28, Epoch 1 complete. Avg Loss: 0.0013\n",
            "Chunk 28, Epoch 1 complete. Avg Loss: 0.0480\n",
            "Chunk 28, Epoch 1 complete. Avg Loss: 0.0764\n",
            "Chunk 28, Epoch 1 complete. Avg Loss: 0.1057\n",
            "Chunk 28, Epoch 1 complete. Avg Loss: 0.1087\n",
            "Chunk 28, Epoch 1 complete. Avg Loss: 0.1163\n",
            "Chunk 28, Epoch 1 complete. Avg Loss: 0.1166\n",
            "Chunk 28, Epoch 1 complete. Avg Loss: 0.1207\n",
            "Chunk 28, Epoch 1 complete. Avg Loss: 0.1222\n",
            "Chunk 28, Epoch 1 complete. Avg Loss: 0.1222\n",
            "Epoch 1 complete for chunk 28\n",
            "Chunk 28, Epoch 2 complete. Avg Loss: 0.0030\n",
            "Chunk 28, Epoch 2 complete. Avg Loss: 0.0065\n",
            "Chunk 28, Epoch 2 complete. Avg Loss: 0.0207\n",
            "Chunk 28, Epoch 2 complete. Avg Loss: 0.0221\n",
            "Chunk 28, Epoch 2 complete. Avg Loss: 0.0277\n",
            "Chunk 28, Epoch 2 complete. Avg Loss: 0.0310\n",
            "Chunk 28, Epoch 2 complete. Avg Loss: 0.0488\n",
            "Chunk 28, Epoch 2 complete. Avg Loss: 0.0557\n",
            "Chunk 28, Epoch 2 complete. Avg Loss: 0.1003\n",
            "Chunk 28, Epoch 2 complete. Avg Loss: 0.1196\n",
            "Chunk 28, Epoch 2 complete. Avg Loss: 0.1196\n",
            "Epoch 2 complete for chunk 28\n",
            "Processing patients 280 to 289\n",
            "Chunk 29, Epoch 1 complete. Avg Loss: 0.0012\n",
            "Chunk 29, Epoch 1 complete. Avg Loss: 0.0047\n",
            "Chunk 29, Epoch 1 complete. Avg Loss: 0.0073\n",
            "Chunk 29, Epoch 1 complete. Avg Loss: 0.0270\n",
            "Chunk 29, Epoch 1 complete. Avg Loss: 0.0281\n",
            "Chunk 29, Epoch 1 complete. Avg Loss: 0.0284\n",
            "Chunk 29, Epoch 1 complete. Avg Loss: 0.0210\n",
            "Chunk 29, Epoch 1 complete. Avg Loss: 0.0258\n",
            "Chunk 29, Epoch 1 complete. Avg Loss: 0.0274\n",
            "Chunk 29, Epoch 1 complete. Avg Loss: 0.0324\n",
            "Chunk 29, Epoch 1 complete. Avg Loss: 0.0324\n",
            "Epoch 1 complete for chunk 29\n",
            "Chunk 29, Epoch 2 complete. Avg Loss: 0.0045\n",
            "Chunk 29, Epoch 2 complete. Avg Loss: 0.0048\n",
            "Chunk 29, Epoch 2 complete. Avg Loss: 0.0142\n",
            "Chunk 29, Epoch 2 complete. Avg Loss: 0.0142\n",
            "Chunk 29, Epoch 2 complete. Avg Loss: 0.0171\n",
            "Chunk 29, Epoch 2 complete. Avg Loss: 0.0185\n",
            "Chunk 29, Epoch 2 complete. Avg Loss: 0.0236\n",
            "Chunk 29, Epoch 2 complete. Avg Loss: 0.0442\n",
            "Chunk 29, Epoch 2 complete. Avg Loss: 0.0489\n",
            "Chunk 29, Epoch 2 complete. Avg Loss: 0.0494\n",
            "Chunk 29, Epoch 2 complete. Avg Loss: 0.0494\n",
            "Epoch 2 complete for chunk 29\n",
            "Processing patients 290 to 299\n",
            "Chunk 30, Epoch 1 complete. Avg Loss: 0.0009\n",
            "Chunk 30, Epoch 1 complete. Avg Loss: 0.0119\n",
            "Chunk 30, Epoch 1 complete. Avg Loss: 0.0121\n",
            "Chunk 30, Epoch 1 complete. Avg Loss: 0.0124\n",
            "Chunk 30, Epoch 1 complete. Avg Loss: 0.0202\n",
            "Chunk 30, Epoch 1 complete. Avg Loss: 0.0370\n",
            "Chunk 30, Epoch 1 complete. Avg Loss: 0.0410\n",
            "Chunk 30, Epoch 1 complete. Avg Loss: 0.0577\n",
            "Chunk 30, Epoch 1 complete. Avg Loss: 0.0587\n",
            "Chunk 30, Epoch 1 complete. Avg Loss: 0.0630\n",
            "Chunk 30, Epoch 1 complete. Avg Loss: 0.0630\n",
            "Epoch 1 complete for chunk 30\n",
            "Chunk 30, Epoch 2 complete. Avg Loss: 0.0077\n",
            "Chunk 30, Epoch 2 complete. Avg Loss: 0.0230\n",
            "Chunk 30, Epoch 2 complete. Avg Loss: 0.0236\n",
            "Chunk 30, Epoch 2 complete. Avg Loss: 0.0236\n",
            "Chunk 30, Epoch 2 complete. Avg Loss: 0.0253\n",
            "Chunk 30, Epoch 2 complete. Avg Loss: 0.0313\n",
            "Chunk 30, Epoch 2 complete. Avg Loss: 0.0360\n",
            "Chunk 30, Epoch 2 complete. Avg Loss: 0.0426\n",
            "Chunk 30, Epoch 2 complete. Avg Loss: 0.0453\n",
            "Chunk 30, Epoch 2 complete. Avg Loss: 0.0457\n",
            "Chunk 30, Epoch 2 complete. Avg Loss: 0.0457\n",
            "Epoch 2 complete for chunk 30\n",
            "Processing patients 300 to 309\n",
            "Chunk 31, Epoch 1 complete. Avg Loss: 0.0249\n",
            "Chunk 31, Epoch 1 complete. Avg Loss: 0.0650\n",
            "Chunk 31, Epoch 1 complete. Avg Loss: 0.1039\n",
            "Chunk 31, Epoch 1 complete. Avg Loss: 0.1039\n",
            "Chunk 31, Epoch 1 complete. Avg Loss: 0.1057\n",
            "Chunk 31, Epoch 1 complete. Avg Loss: 0.1104\n",
            "Chunk 31, Epoch 1 complete. Avg Loss: 0.1117\n",
            "Chunk 31, Epoch 1 complete. Avg Loss: 0.1125\n",
            "Chunk 31, Epoch 1 complete. Avg Loss: 0.1338\n",
            "Chunk 31, Epoch 1 complete. Avg Loss: 0.1886\n",
            "Chunk 31, Epoch 1 complete. Avg Loss: 0.1886\n",
            "Epoch 1 complete for chunk 31\n",
            "Chunk 31, Epoch 2 complete. Avg Loss: 0.0039\n",
            "Chunk 31, Epoch 2 complete. Avg Loss: 0.0067\n",
            "Chunk 31, Epoch 2 complete. Avg Loss: 0.0083\n",
            "Chunk 31, Epoch 2 complete. Avg Loss: 0.0225\n",
            "Chunk 31, Epoch 2 complete. Avg Loss: 0.0331\n",
            "Chunk 31, Epoch 2 complete. Avg Loss: 0.0463\n",
            "Chunk 31, Epoch 2 complete. Avg Loss: 0.0527\n",
            "Chunk 31, Epoch 2 complete. Avg Loss: 0.0531\n",
            "Chunk 31, Epoch 2 complete. Avg Loss: 0.0581\n",
            "Chunk 31, Epoch 2 complete. Avg Loss: 0.0624\n",
            "Chunk 31, Epoch 2 complete. Avg Loss: 0.0624\n",
            "Epoch 2 complete for chunk 31\n",
            "Processing patients 310 to 319\n",
            "Chunk 32, Epoch 1 complete. Avg Loss: 0.0075\n",
            "Chunk 32, Epoch 1 complete. Avg Loss: 0.0191\n",
            "Chunk 32, Epoch 1 complete. Avg Loss: 0.0257\n",
            "Chunk 32, Epoch 1 complete. Avg Loss: 0.0359\n",
            "Chunk 32, Epoch 1 complete. Avg Loss: 0.0557\n",
            "Chunk 32, Epoch 1 complete. Avg Loss: 0.0595\n",
            "Chunk 32, Epoch 1 complete. Avg Loss: 0.0650\n",
            "Chunk 32, Epoch 1 complete. Avg Loss: 0.0668\n",
            "Chunk 32, Epoch 1 complete. Avg Loss: 0.0679\n",
            "Chunk 32, Epoch 1 complete. Avg Loss: 0.0731\n",
            "Chunk 32, Epoch 1 complete. Avg Loss: 0.0731\n",
            "Epoch 1 complete for chunk 32\n",
            "Chunk 32, Epoch 2 complete. Avg Loss: 0.0000\n",
            "Chunk 32, Epoch 2 complete. Avg Loss: 0.0047\n",
            "Chunk 32, Epoch 2 complete. Avg Loss: 0.0535\n",
            "Chunk 32, Epoch 2 complete. Avg Loss: 0.0569\n",
            "Chunk 32, Epoch 2 complete. Avg Loss: 0.0577\n",
            "Chunk 32, Epoch 2 complete. Avg Loss: 0.0845\n",
            "Chunk 32, Epoch 2 complete. Avg Loss: 0.0868\n",
            "Chunk 32, Epoch 2 complete. Avg Loss: 0.0984\n",
            "Chunk 32, Epoch 2 complete. Avg Loss: 0.1169\n",
            "Chunk 32, Epoch 2 complete. Avg Loss: 0.1222\n",
            "Chunk 32, Epoch 2 complete. Avg Loss: 0.1222\n",
            "Epoch 2 complete for chunk 32\n",
            "Processing patients 320 to 329\n",
            "Chunk 33, Epoch 1 complete. Avg Loss: 0.0034\n",
            "Chunk 33, Epoch 1 complete. Avg Loss: 0.0034\n",
            "Chunk 33, Epoch 1 complete. Avg Loss: 0.0149\n",
            "Chunk 33, Epoch 1 complete. Avg Loss: 0.0170\n",
            "Chunk 33, Epoch 1 complete. Avg Loss: 0.0245\n",
            "Chunk 33, Epoch 1 complete. Avg Loss: 0.0314\n",
            "Chunk 33, Epoch 1 complete. Avg Loss: 0.0446\n",
            "Chunk 33, Epoch 1 complete. Avg Loss: 0.0453\n",
            "Chunk 33, Epoch 1 complete. Avg Loss: 0.0527\n",
            "Chunk 33, Epoch 1 complete. Avg Loss: 0.0559\n",
            "Chunk 33, Epoch 1 complete. Avg Loss: 0.0559\n",
            "Epoch 1 complete for chunk 33\n",
            "Chunk 33, Epoch 2 complete. Avg Loss: 0.0018\n",
            "Chunk 33, Epoch 2 complete. Avg Loss: 0.0031\n",
            "Chunk 33, Epoch 2 complete. Avg Loss: 0.0368\n",
            "Chunk 33, Epoch 2 complete. Avg Loss: 0.0497\n",
            "Chunk 33, Epoch 2 complete. Avg Loss: 0.0497\n",
            "Chunk 33, Epoch 2 complete. Avg Loss: 0.0517\n",
            "Chunk 33, Epoch 2 complete. Avg Loss: 0.0524\n",
            "Chunk 33, Epoch 2 complete. Avg Loss: 0.0581\n",
            "Chunk 33, Epoch 2 complete. Avg Loss: 0.0633\n",
            "Chunk 33, Epoch 2 complete. Avg Loss: 0.0677\n",
            "Chunk 33, Epoch 2 complete. Avg Loss: 0.0677\n",
            "Epoch 2 complete for chunk 33\n",
            "Processing patients 330 to 339\n",
            "Chunk 34, Epoch 1 complete. Avg Loss: 0.0023\n",
            "Chunk 34, Epoch 1 complete. Avg Loss: 0.0074\n",
            "Chunk 34, Epoch 1 complete. Avg Loss: 0.0137\n",
            "Chunk 34, Epoch 1 complete. Avg Loss: 0.0145\n",
            "Chunk 34, Epoch 1 complete. Avg Loss: 0.0740\n",
            "Chunk 34, Epoch 1 complete. Avg Loss: 0.0754\n",
            "Chunk 34, Epoch 1 complete. Avg Loss: 0.0928\n",
            "Chunk 34, Epoch 1 complete. Avg Loss: 0.1084\n",
            "Chunk 34, Epoch 1 complete. Avg Loss: 0.1102\n",
            "Chunk 34, Epoch 1 complete. Avg Loss: 0.1177\n",
            "Chunk 34, Epoch 1 complete. Avg Loss: 0.1177\n",
            "Epoch 1 complete for chunk 34\n",
            "Chunk 34, Epoch 2 complete. Avg Loss: 0.0003\n",
            "Chunk 34, Epoch 2 complete. Avg Loss: 0.0004\n",
            "Chunk 34, Epoch 2 complete. Avg Loss: 0.0037\n",
            "Chunk 34, Epoch 2 complete. Avg Loss: 0.0050\n",
            "Chunk 34, Epoch 2 complete. Avg Loss: 0.0063\n",
            "Chunk 34, Epoch 2 complete. Avg Loss: 0.1371\n",
            "Chunk 34, Epoch 2 complete. Avg Loss: 0.1389\n",
            "Chunk 34, Epoch 2 complete. Avg Loss: 0.1466\n",
            "Chunk 34, Epoch 2 complete. Avg Loss: 0.1544\n",
            "Chunk 34, Epoch 2 complete. Avg Loss: 0.1609\n",
            "Chunk 34, Epoch 2 complete. Avg Loss: 0.1609\n",
            "Epoch 2 complete for chunk 34\n",
            "Processing patients 340 to 349\n",
            "Chunk 35, Epoch 1 complete. Avg Loss: 0.0035\n",
            "Chunk 35, Epoch 1 complete. Avg Loss: 0.0128\n",
            "Chunk 35, Epoch 1 complete. Avg Loss: 0.0144\n",
            "Chunk 35, Epoch 1 complete. Avg Loss: 0.0172\n",
            "Chunk 35, Epoch 1 complete. Avg Loss: 0.0205\n",
            "Chunk 35, Epoch 1 complete. Avg Loss: 0.0375\n",
            "Chunk 35, Epoch 1 complete. Avg Loss: 0.0534\n",
            "Chunk 35, Epoch 1 complete. Avg Loss: 0.0534\n",
            "Chunk 35, Epoch 1 complete. Avg Loss: 0.0639\n",
            "Chunk 35, Epoch 1 complete. Avg Loss: 0.0655\n",
            "Chunk 35, Epoch 1 complete. Avg Loss: 0.0655\n",
            "Epoch 1 complete for chunk 35\n",
            "Chunk 35, Epoch 2 complete. Avg Loss: 0.0225\n",
            "Chunk 35, Epoch 2 complete. Avg Loss: 0.0252\n",
            "Chunk 35, Epoch 2 complete. Avg Loss: 0.0622\n",
            "Chunk 35, Epoch 2 complete. Avg Loss: 0.0741\n",
            "Chunk 35, Epoch 2 complete. Avg Loss: 0.0745\n",
            "Chunk 35, Epoch 2 complete. Avg Loss: 0.0772\n",
            "Chunk 35, Epoch 2 complete. Avg Loss: 0.0788\n",
            "Chunk 35, Epoch 2 complete. Avg Loss: 0.0873\n",
            "Chunk 35, Epoch 2 complete. Avg Loss: 0.0808\n",
            "Chunk 35, Epoch 2 complete. Avg Loss: 0.0857\n",
            "Chunk 35, Epoch 2 complete. Avg Loss: 0.0857\n",
            "Epoch 2 complete for chunk 35\n",
            "Processing patients 350 to 359\n",
            "Chunk 36, Epoch 1 complete. Avg Loss: 0.0004\n",
            "Chunk 36, Epoch 1 complete. Avg Loss: 0.0056\n",
            "Chunk 36, Epoch 1 complete. Avg Loss: 0.0214\n",
            "Chunk 36, Epoch 1 complete. Avg Loss: 0.0309\n",
            "Chunk 36, Epoch 1 complete. Avg Loss: 0.0504\n",
            "Chunk 36, Epoch 1 complete. Avg Loss: 0.0522\n",
            "Chunk 36, Epoch 1 complete. Avg Loss: 0.0700\n",
            "Chunk 36, Epoch 1 complete. Avg Loss: 0.0919\n",
            "Chunk 36, Epoch 1 complete. Avg Loss: 0.0977\n",
            "Chunk 36, Epoch 1 complete. Avg Loss: 0.1028\n",
            "Chunk 36, Epoch 1 complete. Avg Loss: 0.1028\n",
            "Epoch 1 complete for chunk 36\n",
            "Chunk 36, Epoch 2 complete. Avg Loss: 0.0105\n",
            "Chunk 36, Epoch 2 complete. Avg Loss: 0.0127\n",
            "Chunk 36, Epoch 2 complete. Avg Loss: 0.0250\n",
            "Chunk 36, Epoch 2 complete. Avg Loss: 0.0368\n",
            "Chunk 36, Epoch 2 complete. Avg Loss: 0.0371\n",
            "Chunk 36, Epoch 2 complete. Avg Loss: 0.0375\n",
            "Chunk 36, Epoch 2 complete. Avg Loss: 0.0477\n",
            "Chunk 36, Epoch 2 complete. Avg Loss: 0.0618\n",
            "Chunk 36, Epoch 2 complete. Avg Loss: 0.0652\n",
            "Chunk 36, Epoch 2 complete. Avg Loss: 0.0783\n",
            "Chunk 36, Epoch 2 complete. Avg Loss: 0.0783\n",
            "Epoch 2 complete for chunk 36\n",
            "Processing patients 360 to 367\n",
            "Chunk 37, Epoch 1 complete. Avg Loss: 0.0000\n",
            "Chunk 37, Epoch 1 complete. Avg Loss: 0.0135\n",
            "Chunk 37, Epoch 1 complete. Avg Loss: 0.0198\n",
            "Chunk 37, Epoch 1 complete. Avg Loss: 0.0202\n",
            "Chunk 37, Epoch 1 complete. Avg Loss: 0.0273\n",
            "Chunk 37, Epoch 1 complete. Avg Loss: 0.0334\n",
            "Chunk 37, Epoch 1 complete. Avg Loss: 0.0550\n",
            "Chunk 37, Epoch 1 complete. Avg Loss: 0.0949\n",
            "Chunk 37, Epoch 1 complete. Avg Loss: 0.0949\n",
            "Epoch 1 complete for chunk 37\n",
            "Chunk 37, Epoch 2 complete. Avg Loss: -0.0504\n",
            "Chunk 37, Epoch 2 complete. Avg Loss: -0.0302\n",
            "Chunk 37, Epoch 2 complete. Avg Loss: -0.0286\n",
            "Chunk 37, Epoch 2 complete. Avg Loss: 0.0304\n",
            "Chunk 37, Epoch 2 complete. Avg Loss: 0.0656\n",
            "Chunk 37, Epoch 2 complete. Avg Loss: 0.0675\n",
            "Chunk 37, Epoch 2 complete. Avg Loss: 0.0725\n",
            "Chunk 37, Epoch 2 complete. Avg Loss: 0.1099\n",
            "Chunk 37, Epoch 2 complete. Avg Loss: 0.1099\n",
            "Epoch 2 complete for chunk 37\n"
          ]
        }
      ]
    },
    {
      "cell_type": "code",
      "source": [
        "import os\n",
        "import numpy as np\n",
        "import nibabel as nib\n",
        "from pathlib import Path\n",
        "\n",
        "validation_path = Path(\"/kaggle/input/brats20-dataset-training-validation/BraTS2020_ValidationData/MICCAI_BraTS2020_ValidationData\")\n",
        "\n",
        "# Output directory to save processed .npz files\n",
        "validation_output_dir = Path(\"/kaggle/working/validate_data\")\n",
        "os.makedirs(validation_output_dir, exist_ok=True)\n",
        "\n",
        "modalities = ['flair', 't1', 't1ce', 't2']\n",
        "\n",
        "for patient_dir in sorted(validation_path.glob(\"BraTS20_Validation_*\")):\n",
        "    patient_id = patient_dir.name\n",
        "    print(f\"Processing {patient_id}...\")\n",
        "\n",
        "    # Load modalities\n",
        "    input_modalities = []\n",
        "    for mod in modalities:\n",
        "        file_path = patient_dir / f\"{patient_id}_{mod}.nii\"\n",
        "        if not file_path.exists():\n",
        "            print(f\"Missing: {file_path}\")\n",
        "            break\n",
        "        nii = nib.load(str(file_path))\n",
        "        data = nii.get_fdata()  # shape: (H, W, D)\n",
        "        data = np.transpose(data, (2, 0, 1))  # to shape: (D, H, W)\n",
        "        input_modalities.append(data)\n",
        "\n",
        "    if len(input_modalities) != 4:\n",
        "        print(f\"Skipping {patient_id} due to missing modality.\")\n",
        "        continue\n",
        "\n",
        "    input_array = np.stack(input_modalities)  # shape: (4, D, H, W)\n",
        "\n",
        "    # Try loading segmentation label (if exists)\n",
        "    label_path = patient_dir / f\"{patient_id}_seg.nii\"\n",
        "    if label_path.exists():\n",
        "        label_data = nib.load(str(label_path)).get_fdata()\n",
        "        label_data = np.transpose(label_data, (2, 0, 1))  # to shape: (D, H, W)\n",
        "        label_data = label_data.astype(np.uint8)\n",
        "    else:\n",
        "        # If no label, use zeros (or skip saving 'label' key)\n",
        "        label_data = np.zeros(input_array.shape[1:], dtype=np.uint8)\n",
        "\n",
        "    # Save as .npz\n",
        "    np.savez_compressed(validation_output_dir / f\"{patient_id}.npz\", input=input_array.astype(np.float32), label=label_data)\n",
        "    print(f\"Saved {patient_id}.npz\")\n",
        "\n",
        "print(\" All done.\")\n",
        "val_npz_files = sorted(list(Path(\"/kaggle/working/validate_data\").glob(\"*.npz\")))"
      ],
      "metadata": {
        "colab": {
          "base_uri": "https://localhost:8080/"
        },
        "id": "3REeK1OgWwat",
        "outputId": "e55125ee-e2da-42d1-9015-18c88e51ce47"
      },
      "execution_count": null,
      "outputs": [
        {
          "output_type": "stream",
          "name": "stdout",
          "text": [
            "Processing BraTS20_Validation_001...\n",
            "Saved BraTS20_Validation_001.npz\n",
            "Processing BraTS20_Validation_002...\n",
            "Saved BraTS20_Validation_002.npz\n",
            "Processing BraTS20_Validation_003...\n",
            "Saved BraTS20_Validation_003.npz\n",
            "Processing BraTS20_Validation_004...\n",
            "Saved BraTS20_Validation_004.npz\n",
            "Processing BraTS20_Validation_005...\n",
            "Saved BraTS20_Validation_005.npz\n",
            "Processing BraTS20_Validation_006...\n",
            "Saved BraTS20_Validation_006.npz\n",
            "Processing BraTS20_Validation_007...\n",
            "Saved BraTS20_Validation_007.npz\n",
            "Processing BraTS20_Validation_008...\n",
            "Saved BraTS20_Validation_008.npz\n",
            "Processing BraTS20_Validation_009...\n",
            "Saved BraTS20_Validation_009.npz\n",
            "Processing BraTS20_Validation_010...\n",
            "Saved BraTS20_Validation_010.npz\n",
            "Processing BraTS20_Validation_011...\n",
            "Saved BraTS20_Validation_011.npz\n",
            "Processing BraTS20_Validation_012...\n",
            "Saved BraTS20_Validation_012.npz\n",
            "Processing BraTS20_Validation_013...\n",
            "Saved BraTS20_Validation_013.npz\n",
            "Processing BraTS20_Validation_014...\n",
            "Saved BraTS20_Validation_014.npz\n",
            "Processing BraTS20_Validation_015...\n",
            "Saved BraTS20_Validation_015.npz\n",
            "Processing BraTS20_Validation_016...\n",
            "Saved BraTS20_Validation_016.npz\n",
            "Processing BraTS20_Validation_017...\n",
            "Saved BraTS20_Validation_017.npz\n",
            "Processing BraTS20_Validation_018...\n",
            "Saved BraTS20_Validation_018.npz\n",
            "Processing BraTS20_Validation_019...\n",
            "Saved BraTS20_Validation_019.npz\n",
            "Processing BraTS20_Validation_020...\n",
            "Saved BraTS20_Validation_020.npz\n",
            "Processing BraTS20_Validation_021...\n",
            "Saved BraTS20_Validation_021.npz\n",
            "Processing BraTS20_Validation_022...\n",
            "Saved BraTS20_Validation_022.npz\n",
            "Processing BraTS20_Validation_023...\n",
            "Saved BraTS20_Validation_023.npz\n",
            "Processing BraTS20_Validation_024...\n",
            "Saved BraTS20_Validation_024.npz\n",
            "Processing BraTS20_Validation_025...\n",
            "Saved BraTS20_Validation_025.npz\n",
            "Processing BraTS20_Validation_026...\n",
            "Saved BraTS20_Validation_026.npz\n",
            "Processing BraTS20_Validation_027...\n",
            "Saved BraTS20_Validation_027.npz\n",
            "Processing BraTS20_Validation_028...\n",
            "Saved BraTS20_Validation_028.npz\n",
            "Processing BraTS20_Validation_029...\n",
            "Saved BraTS20_Validation_029.npz\n",
            "Processing BraTS20_Validation_030...\n",
            "Saved BraTS20_Validation_030.npz\n",
            "Processing BraTS20_Validation_031...\n",
            "Saved BraTS20_Validation_031.npz\n",
            "Processing BraTS20_Validation_032...\n",
            "Saved BraTS20_Validation_032.npz\n",
            "Processing BraTS20_Validation_033...\n",
            "Saved BraTS20_Validation_033.npz\n",
            "Processing BraTS20_Validation_034...\n",
            "Saved BraTS20_Validation_034.npz\n",
            "Processing BraTS20_Validation_035...\n",
            "Saved BraTS20_Validation_035.npz\n",
            "Processing BraTS20_Validation_036...\n",
            "Saved BraTS20_Validation_036.npz\n",
            "Processing BraTS20_Validation_037...\n",
            "Saved BraTS20_Validation_037.npz\n",
            "Processing BraTS20_Validation_038...\n",
            "Saved BraTS20_Validation_038.npz\n",
            "Processing BraTS20_Validation_039...\n",
            "Saved BraTS20_Validation_039.npz\n",
            "Processing BraTS20_Validation_040...\n",
            "Saved BraTS20_Validation_040.npz\n",
            "Processing BraTS20_Validation_041...\n",
            "Saved BraTS20_Validation_041.npz\n",
            "Processing BraTS20_Validation_042...\n",
            "Saved BraTS20_Validation_042.npz\n",
            "Processing BraTS20_Validation_043...\n",
            "Saved BraTS20_Validation_043.npz\n",
            "Processing BraTS20_Validation_044...\n",
            "Saved BraTS20_Validation_044.npz\n",
            "Processing BraTS20_Validation_045...\n",
            "Saved BraTS20_Validation_045.npz\n",
            "Processing BraTS20_Validation_046...\n",
            "Saved BraTS20_Validation_046.npz\n",
            "Processing BraTS20_Validation_047...\n",
            "Saved BraTS20_Validation_047.npz\n",
            "Processing BraTS20_Validation_048...\n",
            "Saved BraTS20_Validation_048.npz\n",
            "Processing BraTS20_Validation_049...\n",
            "Saved BraTS20_Validation_049.npz\n",
            "Processing BraTS20_Validation_050...\n",
            "Saved BraTS20_Validation_050.npz\n",
            "Processing BraTS20_Validation_051...\n",
            "Saved BraTS20_Validation_051.npz\n",
            "Processing BraTS20_Validation_052...\n",
            "Saved BraTS20_Validation_052.npz\n",
            "Processing BraTS20_Validation_053...\n",
            "Saved BraTS20_Validation_053.npz\n",
            "Processing BraTS20_Validation_054...\n",
            "Saved BraTS20_Validation_054.npz\n",
            "Processing BraTS20_Validation_055...\n",
            "Saved BraTS20_Validation_055.npz\n",
            "Processing BraTS20_Validation_056...\n",
            "Saved BraTS20_Validation_056.npz\n",
            "Processing BraTS20_Validation_057...\n",
            "Saved BraTS20_Validation_057.npz\n",
            "Processing BraTS20_Validation_058...\n",
            "Saved BraTS20_Validation_058.npz\n",
            "Processing BraTS20_Validation_059...\n",
            "Saved BraTS20_Validation_059.npz\n",
            "Processing BraTS20_Validation_060...\n",
            "Saved BraTS20_Validation_060.npz\n",
            "Processing BraTS20_Validation_061...\n",
            "Saved BraTS20_Validation_061.npz\n",
            "Processing BraTS20_Validation_062...\n",
            "Saved BraTS20_Validation_062.npz\n",
            "Processing BraTS20_Validation_063...\n",
            "Saved BraTS20_Validation_063.npz\n",
            "Processing BraTS20_Validation_064...\n",
            "Saved BraTS20_Validation_064.npz\n",
            "Processing BraTS20_Validation_065...\n",
            "Saved BraTS20_Validation_065.npz\n",
            "Processing BraTS20_Validation_066...\n",
            "Saved BraTS20_Validation_066.npz\n",
            "Processing BraTS20_Validation_067...\n",
            "Saved BraTS20_Validation_067.npz\n",
            "Processing BraTS20_Validation_068...\n",
            "Saved BraTS20_Validation_068.npz\n",
            "Processing BraTS20_Validation_069...\n",
            "Saved BraTS20_Validation_069.npz\n",
            "Processing BraTS20_Validation_070...\n",
            "Saved BraTS20_Validation_070.npz\n",
            "Processing BraTS20_Validation_071...\n",
            "Saved BraTS20_Validation_071.npz\n",
            "Processing BraTS20_Validation_072...\n",
            "Saved BraTS20_Validation_072.npz\n",
            "Processing BraTS20_Validation_073...\n",
            "Saved BraTS20_Validation_073.npz\n",
            "Processing BraTS20_Validation_074...\n",
            "Saved BraTS20_Validation_074.npz\n",
            "Processing BraTS20_Validation_075...\n",
            "Saved BraTS20_Validation_075.npz\n",
            "Processing BraTS20_Validation_076...\n",
            "Saved BraTS20_Validation_076.npz\n",
            "Processing BraTS20_Validation_077...\n",
            "Saved BraTS20_Validation_077.npz\n",
            "Processing BraTS20_Validation_078...\n",
            "Saved BraTS20_Validation_078.npz\n",
            "Processing BraTS20_Validation_079...\n",
            "Saved BraTS20_Validation_079.npz\n",
            "Processing BraTS20_Validation_080...\n",
            "Saved BraTS20_Validation_080.npz\n",
            "Processing BraTS20_Validation_081...\n",
            "Saved BraTS20_Validation_081.npz\n",
            "Processing BraTS20_Validation_082...\n",
            "Saved BraTS20_Validation_082.npz\n",
            "Processing BraTS20_Validation_083...\n",
            "Saved BraTS20_Validation_083.npz\n",
            "Processing BraTS20_Validation_084...\n",
            "Saved BraTS20_Validation_084.npz\n",
            "Processing BraTS20_Validation_085...\n",
            "Saved BraTS20_Validation_085.npz\n",
            "Processing BraTS20_Validation_086...\n",
            "Saved BraTS20_Validation_086.npz\n",
            "Processing BraTS20_Validation_087...\n",
            "Saved BraTS20_Validation_087.npz\n",
            "Processing BraTS20_Validation_088...\n",
            "Saved BraTS20_Validation_088.npz\n",
            "Processing BraTS20_Validation_089...\n",
            "Saved BraTS20_Validation_089.npz\n",
            "Processing BraTS20_Validation_090...\n",
            "Saved BraTS20_Validation_090.npz\n",
            "Processing BraTS20_Validation_091...\n",
            "Saved BraTS20_Validation_091.npz\n",
            "Processing BraTS20_Validation_092...\n",
            "Saved BraTS20_Validation_092.npz\n",
            "Processing BraTS20_Validation_093...\n",
            "Saved BraTS20_Validation_093.npz\n",
            "Processing BraTS20_Validation_094...\n",
            "Saved BraTS20_Validation_094.npz\n",
            "Processing BraTS20_Validation_095...\n",
            "Saved BraTS20_Validation_095.npz\n",
            "Processing BraTS20_Validation_096...\n",
            "Saved BraTS20_Validation_096.npz\n",
            "Processing BraTS20_Validation_097...\n",
            "Saved BraTS20_Validation_097.npz\n",
            "Processing BraTS20_Validation_098...\n",
            "Saved BraTS20_Validation_098.npz\n",
            "Processing BraTS20_Validation_099...\n",
            "Saved BraTS20_Validation_099.npz\n",
            "Processing BraTS20_Validation_100...\n",
            "Saved BraTS20_Validation_100.npz\n",
            "Processing BraTS20_Validation_101...\n",
            "Saved BraTS20_Validation_101.npz\n",
            "Processing BraTS20_Validation_102...\n",
            "Saved BraTS20_Validation_102.npz\n",
            "Processing BraTS20_Validation_103...\n",
            "Saved BraTS20_Validation_103.npz\n",
            "Processing BraTS20_Validation_104...\n",
            "Saved BraTS20_Validation_104.npz\n",
            "Processing BraTS20_Validation_105...\n",
            "Saved BraTS20_Validation_105.npz\n",
            "Processing BraTS20_Validation_106...\n",
            "Saved BraTS20_Validation_106.npz\n",
            "Processing BraTS20_Validation_107...\n",
            "Saved BraTS20_Validation_107.npz\n",
            "Processing BraTS20_Validation_108...\n",
            "Saved BraTS20_Validation_108.npz\n",
            "Processing BraTS20_Validation_109...\n",
            "Saved BraTS20_Validation_109.npz\n",
            "Processing BraTS20_Validation_110...\n",
            "Saved BraTS20_Validation_110.npz\n",
            "Processing BraTS20_Validation_111...\n",
            "Saved BraTS20_Validation_111.npz\n",
            "Processing BraTS20_Validation_112...\n",
            "Saved BraTS20_Validation_112.npz\n",
            "Processing BraTS20_Validation_113...\n",
            "Saved BraTS20_Validation_113.npz\n",
            "Processing BraTS20_Validation_114...\n",
            "Saved BraTS20_Validation_114.npz\n",
            "Processing BraTS20_Validation_115...\n",
            "Saved BraTS20_Validation_115.npz\n",
            "Processing BraTS20_Validation_116...\n",
            "Saved BraTS20_Validation_116.npz\n",
            "Processing BraTS20_Validation_117...\n",
            "Saved BraTS20_Validation_117.npz\n",
            "Processing BraTS20_Validation_118...\n",
            "Saved BraTS20_Validation_118.npz\n",
            "Processing BraTS20_Validation_119...\n",
            "Saved BraTS20_Validation_119.npz\n",
            "Processing BraTS20_Validation_120...\n",
            "Saved BraTS20_Validation_120.npz\n",
            "Processing BraTS20_Validation_121...\n",
            "Saved BraTS20_Validation_121.npz\n",
            "Processing BraTS20_Validation_122...\n",
            "Saved BraTS20_Validation_122.npz\n",
            "Processing BraTS20_Validation_123...\n",
            "Saved BraTS20_Validation_123.npz\n",
            "Processing BraTS20_Validation_124...\n",
            "Saved BraTS20_Validation_124.npz\n",
            "Processing BraTS20_Validation_125...\n",
            "Saved BraTS20_Validation_125.npz\n",
            " All done.\n"
          ]
        }
      ]
    },
    {
      "cell_type": "code",
      "source": [
        "class BrainTumorRandomCropDataset(Dataset):\n",
        "    def __init__(self, npz_files, crop_size=(64, 64, 64), training=True):\n",
        "        self.npz_files = npz_files\n",
        "        self.crop_size = crop_size\n",
        "        self.training = training\n",
        "\n",
        "    def __len__(self):\n",
        "        return len(self.npz_files)\n",
        "\n",
        "    def crop_3d(self, img, label):\n",
        "        _, D, H, W = img.shape\n",
        "        cd, ch, cw = self.crop_size\n",
        "\n",
        "        if self.training:\n",
        "            d = random.randint(0, D - cd)\n",
        "            h = random.randint(0, H - ch)\n",
        "            w = random.randint(0, W - cw)\n",
        "        else:\n",
        "            d = (D - cd) // 2\n",
        "            h = (H - ch) // 2\n",
        "            w = (W - cw) // 2\n",
        "\n",
        "        return img[:, d:d+cd, h:h+ch, w:w+cw], label[d:d+cd, h:h+ch, w:w+cw]\n",
        "\n",
        "    def __getitem__(self, idx):\n",
        "        data = np.load(self.npz_files[idx])\n",
        "        image, label = data['input'], data['label']\n",
        "        image, label = self.crop_3d(image, label)\n",
        "        label = np.expand_dims(label, axis=0)\n",
        "        return torch.tensor(image, dtype=torch.float32), torch.tensor(label, dtype=torch.float32)\n"
      ],
      "metadata": {
        "id": "1c315sMEdD2U"
      },
      "execution_count": null,
      "outputs": []
    },
    {
      "cell_type": "code",
      "source": [
        "\n",
        "# Define UNet3D Model\n",
        "class UNet3D(nn.Module):\n",
        "    def __init__(self, in_channels=4, out_channels=1):\n",
        "        super(UNet3D, self).__init__()\n",
        "        self.encoder = nn.Sequential(\n",
        "            nn.Conv3d(in_channels, 8, kernel_size=3, padding=1),\n",
        "            nn.ReLU(),\n",
        "            nn.Conv3d(8, 16, kernel_size=3, padding=1),\n",
        "            nn.ReLU()\n",
        "        )\n",
        "        self.decoder = nn.Sequential(\n",
        "            nn.Conv3d(16, 8, kernel_size=3, padding=1),\n",
        "            nn.ReLU(),\n",
        "            nn.Conv3d(8, out_channels, kernel_size=1)\n",
        "        )\n",
        "\n",
        "    def forward(self, x):\n",
        "        x = self.encoder(x)\n",
        "        x = self.decoder(x)\n",
        "        return x\n",
        "\n",
        "\n"
      ],
      "metadata": {
        "id": "xb-qcXnsdotv"
      },
      "execution_count": null,
      "outputs": []
    },
    {
      "cell_type": "code",
      "source": [
        "import torch\n",
        "from torch.utils.data import DataLoader\n",
        "val_dataset = BrainTumorRandomCropDataset(val_npz_files, crop_size=(64, 64, 64), training=False)\n",
        "val_loader = DataLoader(val_dataset, batch_size=1, shuffle=False)\n"
      ],
      "metadata": {
        "id": "0LtBDZaVdEte"
      },
      "execution_count": null,
      "outputs": []
    },
    {
      "cell_type": "code",
      "source": [
        "def weights_init(m):\n",
        "    if isinstance(m, torch.nn.Conv3d):\n",
        "        torch.nn.init.kaiming_normal_(m.weight)\n",
        "        if m.bias is not None:\n",
        "            torch.nn.init.constant_(m.bias, 0)\n",
        "\n",
        "model.apply(weights_init)"
      ],
      "metadata": {
        "colab": {
          "base_uri": "https://localhost:8080/"
        },
        "id": "SMkjpCdx-DwK",
        "outputId": "cb377216-32f1-4891-c35f-b3a123c50558"
      },
      "execution_count": null,
      "outputs": [
        {
          "output_type": "execute_result",
          "data": {
            "text/plain": [
              "UNet3D(\n",
              "  (encoder): Sequential(\n",
              "    (0): Conv3d(4, 8, kernel_size=(3, 3, 3), stride=(1, 1, 1), padding=(1, 1, 1))\n",
              "    (1): ReLU()\n",
              "    (2): Conv3d(8, 16, kernel_size=(3, 3, 3), stride=(1, 1, 1), padding=(1, 1, 1))\n",
              "    (3): ReLU()\n",
              "  )\n",
              "  (decoder): Sequential(\n",
              "    (0): Conv3d(16, 8, kernel_size=(3, 3, 3), stride=(1, 1, 1), padding=(1, 1, 1))\n",
              "    (1): ReLU()\n",
              "    (2): Conv3d(8, 1, kernel_size=(1, 1, 1), stride=(1, 1, 1))\n",
              "  )\n",
              ")"
            ]
          },
          "metadata": {},
          "execution_count": 39
        }
      ]
    },
    {
      "cell_type": "code",
      "source": [
        "model.eval()\n",
        "with torch.no_grad():\n",
        "    for i,(images, labels) in enumerate(val_loader):\n",
        "        outputs = model(images)\n",
        "        print(f\"\\nBatch {i+1}\")\n",
        "        print(f\"Image shape: {images.shape}\")\n",
        "        print(f\"Label shape: {labels.shape}\")\n",
        "        print(f\"Output shape: {outputs.shape}\")\n",
        "        print(f\"Output stats - min: {outputs.min().item():.4f}, max: {outputs.max().item():.4f}, mean: {outputs.mean().item():.4f}\")\n",
        "\n",
        "        if i == 2:  # Check only first 3 batches\n",
        "            break\n",
        "        # Optional: Apply sigmoid if using BCEWithLogitsLoss\n",
        "        # outputs = torch.sigmoid(outputs)\n",
        "\n",
        "        # Add metric calculations here if needed\n"
      ],
      "metadata": {
        "colab": {
          "base_uri": "https://localhost:8080/"
        },
        "id": "D9zBGZ7fdMm9",
        "outputId": "1c61f99b-525e-4726-f136-78a23f3802ee"
      },
      "execution_count": null,
      "outputs": [
        {
          "output_type": "stream",
          "name": "stdout",
          "text": [
            "\n",
            "Batch 1\n",
            "Image shape: torch.Size([1, 4, 64, 64, 64])\n",
            "Label shape: torch.Size([1, 1, 64, 64, 64])\n",
            "Output shape: torch.Size([1, 1, 64, 64, 64])\n",
            "Output stats - min: -666.5145, max: 432.3740, mean: 7.8345\n",
            "\n",
            "Batch 2\n",
            "Image shape: torch.Size([1, 4, 64, 64, 64])\n",
            "Label shape: torch.Size([1, 1, 64, 64, 64])\n",
            "Output shape: torch.Size([1, 1, 64, 64, 64])\n",
            "Output stats - min: -1047.6973, max: 784.2171, mean: -5.2903\n",
            "\n",
            "Batch 3\n",
            "Image shape: torch.Size([1, 4, 64, 64, 64])\n",
            "Label shape: torch.Size([1, 1, 64, 64, 64])\n",
            "Output shape: torch.Size([1, 1, 64, 64, 64])\n",
            "Output stats - min: -1234.6504, max: 830.0245, mean: -6.4130\n"
          ]
        }
      ]
    },
    {
      "cell_type": "code",
      "source": [
        "print(\"Model loaded:\", model)  # Confirm layers\n",
        "for name, param in model.named_parameters():\n",
        "    print(name, param.mean().item(), param.std().item())\n",
        "outputs = torch.sigmoid(outputs)\n",
        "\n",
        "\n",
        "\n",
        "\n",
        "\n",
        "\n",
        "\n",
        "\n",
        "print(\"After sigmoid - min:\", outputs.min().item(), \"max:\", outputs.max().item(), \"mean:\", outputs.mean().item())\n",
        "for param_group in optimizer.param_groups:\n",
        "    print(\"Learning Rate:\", param_group['lr'])\n"
      ],
      "metadata": {
        "colab": {
          "base_uri": "https://localhost:8080/"
        },
        "id": "lGp7KvHq8v-K",
        "outputId": "c05e7f2e-b9ae-4eb0-a24d-e19a85f0b70f"
      },
      "execution_count": null,
      "outputs": [
        {
          "output_type": "stream",
          "name": "stdout",
          "text": [
            "Model loaded: UNet3D(\n",
            "  (encoder): Sequential(\n",
            "    (0): Conv3d(4, 8, kernel_size=(3, 3, 3), stride=(1, 1, 1), padding=(1, 1, 1))\n",
            "    (1): ReLU()\n",
            "    (2): Conv3d(8, 16, kernel_size=(3, 3, 3), stride=(1, 1, 1), padding=(1, 1, 1))\n",
            "    (3): ReLU()\n",
            "  )\n",
            "  (decoder): Sequential(\n",
            "    (0): Conv3d(16, 8, kernel_size=(3, 3, 3), stride=(1, 1, 1), padding=(1, 1, 1))\n",
            "    (1): ReLU()\n",
            "    (2): Conv3d(8, 1, kernel_size=(1, 1, 1), stride=(1, 1, 1))\n",
            "  )\n",
            ")\n",
            "encoder.0.weight 0.0008440327947027981 0.12822990119457245\n",
            "encoder.0.bias 0.0 0.0\n",
            "encoder.2.weight 0.0029967681039124727 0.09710142016410828\n",
            "encoder.2.bias 0.0 0.0\n",
            "decoder.0.weight -0.0020327523816376925 0.06947193294763565\n",
            "decoder.0.bias 0.0 0.0\n",
            "decoder.2.weight -0.06946735829114914 0.5678496360778809\n",
            "decoder.2.bias 0.0 nan\n",
            "After sigmoid - min: 0.5 max: 0.7310585975646973 mean: 0.6663309335708618\n",
            "Learning Rate: 0.0001\n"
          ]
        },
        {
          "output_type": "stream",
          "name": "stderr",
          "text": [
            "<ipython-input-44-9ee03540dc7c>:3: UserWarning: std(): degrees of freedom is <= 0. Correction should be strictly less than the reduction factor (input numel divided by output numel). (Triggered internally at /pytorch/aten/src/ATen/native/ReduceOps.cpp:1831.)\n",
            "  print(name, param.mean().item(), param.std().item())\n"
          ]
        }
      ]
    },
    {
      "cell_type": "code",
      "source": [
        "import matplotlib.pyplot as plt\n",
        "\n",
        "# Pick a central slice from the 3D volume\n",
        "slice_idx = outputs.shape[2] // 2\n",
        "\n",
        "# Convert tensors to numpy\n",
        "image_np = images[0, 0].cpu().numpy()  # One modality\n",
        "label_np = labels[0, 0, slice_idx].cpu().numpy()\n",
        "output_np = outputs[0, 0, slice_idx].cpu().numpy()\n",
        "\n",
        "plt.figure(figsize=(12, 4))\n",
        "plt.subplot(1, 3, 1)\n",
        "plt.imshow(image_np[slice_idx], cmap='gray')\n",
        "plt.title(\"Input (flair slice)\")\n",
        "\n",
        "plt.subplot(1, 3, 2)\n",
        "plt.imshow(label_np, cmap='gray')\n",
        "plt.title(\"Ground Truth\")\n",
        "\n",
        "plt.subplot(1, 3, 3)\n",
        "plt.imshow(output_np, cmap='gray')\n",
        "plt.title(\"Model Output\")\n",
        "\n",
        "plt.show()\n"
      ],
      "metadata": {
        "colab": {
          "base_uri": "https://localhost:8080/",
          "height": 276
        },
        "id": "DRExxQqX7j7P",
        "outputId": "19df0871-87f4-43e2-ffe3-9054b8a0d0c6"
      },
      "execution_count": null,
      "outputs": [
        {
          "output_type": "display_data",
          "data": {
            "text/plain": [
              "<Figure size 1200x400 with 3 Axes>"
            ],
            "image/png": "[encoded data removed]"
          },
          "metadata": {}
        }
      ]
    },
    {
      "cell_type": "code",
      "source": [
        "def dice_score(pred, target, threshold=0.5):\n",
        "    pred = (pred > threshold).float()\n",
        "    smooth = 1e-5\n",
        "    intersection = (pred * target).sum()\n",
        "    return (2. * intersection) / (pred.sum() + target.sum() + smooth)\n",
        "\n",
        "# Inside loop:\n",
        "dice = dice_score(outputs, labels)\n",
        "print(f\"Dice score: {dice.item():.4f}\")\n"
      ],
      "metadata": {
        "colab": {
          "base_uri": "https://localhost:8080/"
        },
        "id": "o3z3OiQO7my_",
        "outputId": "e9fe042f-c17d-4753-b65f-7abad4be4492"
      },
      "execution_count": null,
      "outputs": [
        {
          "output_type": "stream",
          "name": "stdout",
          "text": [
            "Dice score: 0.0000\n"
          ]
        }
      ]
    },
    {
      "source": [
        "'''import os, random, numpy as np, torch\n",
        "from torch.utils.data import Dataset\n",
        "import torch.nn as nn # Import torch.nn for neural network components\n",
        "\n",
        "class BrainTumorRandomCropDataset(Dataset):\n",
        "    def __init__(self, npz_files, crop_size=(64, 64, 64)):\n",
        "        self.npz_files = npz_files\n",
        "        self.crop_size = crop_size\n",
        "\n",
        "    def __len__(self):\n",
        "        return len(self.npz_files)\n",
        "\n",
        "    def random_crop_3d(self, img, label):\n",
        "        _, D, H, W = img.shape\n",
        "        cd, ch, cw = self.crop_size\n",
        "        d = random.randint(0, D - cd)\n",
        "        h = random.randint(0, H - ch)\n",
        "        w = random.randint(0, W - cw)\n",
        "        return img[:, d:d+cd, h:h+ch, w:w+cw], label[d:d+cd, h:h+ch, w:w+cw]\n",
        "\n",
        "    def __getitem__(self, idx):\n",
        "        data = np.load(self.npz_files[idx])\n",
        "        image, label = data['input'], data['label']\n",
        "        image, label = self.random_crop_3d(image, label)\n",
        "        return torch.tensor(image, dtype=torch.float32), torch.tensor(label, dtype=torch.float32)'''"
      ],
      "cell_type": "code",
      "metadata": {
        "id": "EufHN0CfYDxx"
      },
      "execution_count": null,
      "outputs": []
    },
    {
      "cell_type": "code",
      "source": [
        "\n",
        "'''# Training Loop\n",
        "for epoch in range(2):  # Just 2 epochs for now for testing\n",
        "    model.train()\n",
        "    total_loss = 0\n",
        "\n",
        "    for inputs, labels in train_loader:\n",
        "        inputs, labels = inputs.to(device), labels.unsqueeze(1).to(device)  # Ensure labels have correct shape\n",
        "\n",
        "        optimizer.zero_grad()\n",
        "        outputs = model(inputs)\n",
        "        loss = criterion(outputs, labels)\n",
        "        loss.backward()\n",
        "        optimizer.step()\n",
        "\n",
        "        total_loss += loss.item()\n",
        "\n",
        "    print(f\"Epoch {epoch+1} completed. Average Loss: {total_loss / len(train_loader):.4f}\")\n",
        "    torch.cuda.empty_cache()  # Only needed if using GPU\n",
        "'''"
      ],
      "metadata": {
        "id": "srenSy3y6H4E"
      },
      "execution_count": null,
      "outputs": []
    },
    {
      "source": [
        "'''import os, random, numpy as np, torch\n",
        "from torch.utils.data import Dataset, DataLoader # Import DataLoader\n",
        "import torch.nn as nn # Import torch.nn for neural network components\n",
        "\n",
        "# ... [Your BrainTumorRandomCropDataset class definition here] ...\n",
        "\n",
        "# Load file paths (limit to 3 for testing)\n",
        "npz_dir = \"/kaggle/working/processed_data\"\n",
        "npz_files = sorted([os.path.join(npz_dir, f) for f in os.listdir(npz_dir) if f.endswith(\".npz\")])[:3]  # load only 3 patients for testing\n",
        "\n",
        "# Initialize Dataset and DataLoader\n",
        "dataset = BrainTumorRandomCropDataset(npz_files, crop_size=(64, 64, 64)) # can change ()\n",
        "\n",
        "train_loader = DataLoader(\n",
        "    dataset,\n",
        "    batch_size=1,          # Low batch size to save memory\n",
        "    shuffle=True,          # Shuffle to improve training\n",
        "    num_workers=0,         # No extra workers to save memory\n",
        "    pin_memory=False       # No need for pinning memory as we are not using GPU\n",
        ")\n",
        "\n",
        "# ... [Your UNet3D class and model initialization here] ...\n",
        "\n",
        "# Training Loop\n",
        "for epoch in range(2):  # Just 2 epochs for now for testing\n",
        "    model.train()\n",
        "    total_loss = 0\n",
        "\n",
        "    for inputs, labels in train_loader:\n",
        "        inputs, labels = inputs.to(device), labels.unsqueeze(1).to(device)  # Ensure labels have correct shape\n",
        "\n",
        "        optimizer.zero_grad()\n",
        "        outputs = model(inputs)\n",
        "        loss = criterion(outputs, labels)\n",
        "        loss.backward()\n",
        "        optimizer.step()\n",
        "\n",
        "        total_loss += loss.item()\n",
        "\n",
        "    print(f\"Epoch {epoch+1} completed. Average Loss: {total_loss / len(train_loader):.4f}\")\n",
        "    torch.cuda.empty_cache()  # Only needed if using GPU'''"
      ],
      "cell_type": "code",
      "metadata": {
        "id": "OhxeJCR-Yx2k"
      },
      "execution_count": null,
      "outputs": []
    },
    {
      "source": [
        "'''import os\n",
        "import nibabel as nib\n",
        "import numpy as np\n",
        "from tqdm import tqdm\n",
        "import gc  # for memory cleanup\n",
        "\n",
        "# Base path to your dataset\n",
        "base_path = \"/kaggle/input/brats20-dataset-training-validation/BraTS2020_TrainingData/MICCAI_BraTS2020_TrainingData\"\n",
        "\n",
        "# Output directory to save processed .npz files\n",
        "save_dir = \"/kaggle/working/processed_data\"\n",
        "os.makedirs(save_dir, exist_ok=True)\n",
        "\n",
        "# List all patient folders\n",
        "patient_dirs = sorted(os.listdir(base_path))\n",
        "\n",
        "# Modalities you want to load\n",
        "modalities = ['flair', 't1', 't1ce', 't2']\n",
        "\n",
        "# Function to normalize MRI volume\n",
        "def normalize(volume):\n",
        "    mean = np.mean(volume)\n",
        "    std = np.std(volume)\n",
        "    if std == 0:\n",
        "        return volume  # avoid division by zero\n",
        "    return (volume - mean) / std\n",
        "\n",
        "# Loop through each patient folder\n",
        "for patient_id in tqdm(patient_dirs):\n",
        "    patient_path = os.path.join(base_path, patient_id)\n",
        "\n",
        "import os\n",
        "import nibabel as nib\n",
        "import numpy as np\n",
        "from tqdm import tqdm\n",
        "import gc  # for memory cleanup\n",
        "\n",
        "# Base path to your dataset\n",
        "base_path = \"/kaggle/input/brats20-dataset-training-validation/BraTS2020_TrainingData/MICCAI_BraTS2020_TrainingData\"\n",
        "\n",
        "# Output directory to save processed .npz files\n",
        "save_dir = \"/kaggle/working/processed_data\"\n",
        "os.makedirs(save_dir, exist_ok=True)\n",
        "\n",
        "# List all patient folders\n",
        "patient_dirs = sorted(os.listdir(base_path))\n",
        "\n",
        "# Modalities you want to load\n",
        "modalities = ['flair', 't1', 't1ce', 't2']\n",
        "\n",
        "# Function to normalize MRI volume\n",
        "def normalize(volume):\n",
        "    mean = np.mean(volume)\n",
        "    std = np.std(volume)\n",
        "    if std == 0:\n",
        "        return volume  # avoid division by zero\n",
        "    return (volume - mean) / std\n",
        "\n",
        "# Loop through each patient folder\n",
        "for patient_id in tqdm(patient_dirs):\n",
        "    patient_path = os.path.join(base_path, patient_id)\n",
        "\n",
        "    try:\n",
        "        volumes = []\n",
        "        for mod in modalities:\n",
        "            path = os.path.join(patient_path, f\"{patient_id}_{mod}.nii\")\n",
        "            img = nib.load(path)\n",
        "            volumes.append(normalize(img.get_fdata()))\n",
        "    except Exception as e:\n",
        "        print(f\"Error processing {patient_id}: {e}\")\n",
        "        continue\n",
        "from tqdm import tqdm\n",
        "import gc  # for memory cleanup\n",
        "\n",
        "# Base path to your dataset\n",
        "base_path = \"/kaggle/input/brats20-dataset-training-validation/BraTS2020_TrainingData/MICCAI_BraTS2020_TrainingData\"\n",
        "\n",
        "# Output directory to save processed .npz files\n",
        "save_dir = \"/kaggle/working/processed_data\"\n",
        "os.makedirs(save_dir, exist_ok=True)\n",
        "\n",
        "# List all patient folders\n",
        "patient_dirs = sorted(os.listdir(base_path))\n",
        "\n",
        "# Modalities you want to load\n",
        "modalities = ['flair', 't1', 't1ce', 't2']\n",
        "\n",
        "# Function to normalize MRI volume\n",
        "def normalize(volume):\n",
        "    mean = np.mean(volume)\n",
        "    std = np.std(volume)\n",
        "    if std == 0:\n",
        "        return volume  # avoid division by zero\n",
        "    return (volume - mean) / std\n",
        "\n",
        "# Loop through each patient folder\n",
        "for patient_id in tqdm(patient_dirs):\n",
        "    patient_path = os.path.join(base_path, patient_id)\n",
        "\n",
        "    try:\n",
        "        volumes = []\n",
        "        for mod in modalities:\n",
        "            path = os.path.join(patient_path, f\"{patient_id}_{mod}.nii\")\n",
        "            img = nib.load(path)'''"
      ],
      "cell_type": "code",
      "metadata": {
        "id": "PC6tEdF8Y7uB"
      },
      "execution_count": null,
      "outputs": []
    },
    {
      "cell_type": "code",
      "source": [],
      "metadata": {
        "id": "jgyS8tFvZgPh"
      },
      "execution_count": null,
      "outputs": []
    },
    {
      "cell_type": "markdown",
      "source": [],
      "metadata": {
        "id": "bQEnMwXrZfyZ"
      }
    }
  ]
}